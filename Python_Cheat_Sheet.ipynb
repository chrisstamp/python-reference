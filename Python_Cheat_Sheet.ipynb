{
  "nbformat": 4,
  "nbformat_minor": 0,
  "metadata": {
    "colab": {
      "name": "Python Cheat Sheet",
      "provenance": [],
      "collapsed_sections": [],
      "authorship_tag": "ABX9TyO3aqWwuNR0BHiraDQym69D"
    },
    "kernelspec": {
      "name": "python3",
      "display_name": "Python 3"
    },
    "language_info": {
      "name": "python"
    }
  },
  "cells": [
    {
      "cell_type": "markdown",
      "metadata": {
        "id": "uCf3J56uPCDE"
      },
      "source": [
        "# Python Cheat Sheet\n",
        "\n",
        "- [PEP 8 -- Style Guide for Python Code](https://www.python.org/dev/peps/pep-0008/)"
      ]
    },
    {
      "cell_type": "markdown",
      "metadata": {
        "id": "gZ-LVbUwQTv2"
      },
      "source": [
        "- https://docs.python.org/3/tutorial/interpreter.html\n",
        "- Supported codecs [https://docs.python.org/3/library/codecs.html#module-codecs]\n",
        "\n",
        "```python\n",
        "# supported codecs\n",
        "utf-8, utf-16, utf-32, utf-16-be, utf-16-le, utf-32-be, utf-32-le\n",
        "```"
      ]
    },
    {
      "cell_type": "code",
      "metadata": {
        "colab": {
          "base_uri": "https://localhost:8080/"
        },
        "id": "z8VuJTd-PAz7",
        "outputId": "f73915f5-8c8b-4ea3-cbd4-9dacc062b76c"
      },
      "source": [
        "#!/usr/bin/env python3\n",
        "# -*- coding: utf-8 -*-\n",
        "# supported codecs: utf-8, utf-16, utf-32, utf-16-be, utf-16-le, utf-32-be, utf-32-le\n",
        "\n",
        "import sys\n",
        "print(\"Python version:\", sys.version)\n",
        "print(\"Version info:\", sys.version_info)"
      ],
      "execution_count": null,
      "outputs": [
        {
          "output_type": "stream",
          "text": [
            "Python version: 3.7.10 (default, May  3 2021, 02:48:31) \n",
            "[GCC 7.5.0]\n",
            "Version info: sys.version_info(major=3, minor=7, micro=10, releaselevel='final', serial=0)\n"
          ],
          "name": "stdout"
        }
      ]
    },
    {
      "cell_type": "markdown",
      "metadata": {
        "id": "1r8c6X45LRYg"
      },
      "source": [
        "## Comments"
      ]
    },
    {
      "cell_type": "code",
      "metadata": {
        "colab": {
          "base_uri": "https://localhost:8080/",
          "height": 35
        },
        "id": "dQ-S0xE6LWos",
        "outputId": "6eb58ae1-2bf6-49c3-f51c-a9c3fb4c3cb9"
      },
      "source": [
        "# this is the first comment\n",
        "spam = 1  # and this is the second comment\n",
        "          # ... and now a third!\n",
        "text = \"# This is not a comment because it's inside quotes.\"\n",
        "\n",
        "\"\"\"this is a\n",
        "multi-line comment\"\"\""
      ],
      "execution_count": null,
      "outputs": [
        {
          "output_type": "execute_result",
          "data": {
            "application/vnd.google.colaboratory.intrinsic+json": {
              "type": "string"
            },
            "text/plain": [
              "'this is a\\nmulti-line comment'"
            ]
          },
          "metadata": {
            "tags": []
          },
          "execution_count": 114
        }
      ]
    },
    {
      "cell_type": "markdown",
      "metadata": {
        "id": "bBWGJUhoQtdM"
      },
      "source": [
        "## Strings"
      ]
    },
    {
      "cell_type": "code",
      "metadata": {
        "id": "mjshNc1cQwEq"
      },
      "source": [
        "# string definition\n",
        "my_string = \"double quotes\"\n",
        "another_string = 'single quotes'\n",
        "a_long_string = '''multi-line\n",
        "strings'''"
      ],
      "execution_count": null,
      "outputs": []
    },
    {
      "cell_type": "code",
      "metadata": {
        "colab": {
          "base_uri": "https://localhost:8080/",
          "height": 35
        },
        "id": "IEgOIPhyQVry",
        "outputId": "dda1cb6e-b303-4da3-d262-1b033d5696af"
      },
      "source": [
        "# \\ can be used to escape quotes:\n",
        "'doesn\\'t'  # use \\' to escape the single quote..."
      ],
      "execution_count": null,
      "outputs": [
        {
          "output_type": "execute_result",
          "data": {
            "application/vnd.google.colaboratory.intrinsic+json": {
              "type": "string"
            },
            "text/plain": [
              "\"doesn't\""
            ]
          },
          "metadata": {
            "tags": []
          },
          "execution_count": 150
        }
      ]
    },
    {
      "cell_type": "code",
      "metadata": {
        "colab": {
          "base_uri": "https://localhost:8080/",
          "height": 35
        },
        "id": "ppUC2PfeQ38a",
        "outputId": "dc069dfd-cbcb-4aff-d5ec-0341f07f1c4f"
      },
      "source": [
        "\"doesn't\"  # ...or use double quotes instead"
      ],
      "execution_count": null,
      "outputs": [
        {
          "output_type": "execute_result",
          "data": {
            "application/vnd.google.colaboratory.intrinsic+json": {
              "type": "string"
            },
            "text/plain": [
              "\"doesn't\""
            ]
          },
          "metadata": {
            "tags": []
          },
          "execution_count": 149
        }
      ]
    },
    {
      "cell_type": "code",
      "metadata": {
        "colab": {
          "base_uri": "https://localhost:8080/",
          "height": 35
        },
        "id": "gCtp8bwOQ5ga",
        "outputId": "325b8b67-cc50-4382-a3cf-cf27fc37b010"
      },
      "source": [
        "\"\\\"Yes\\\"\"  # use \\\" to escape the double quotes"
      ],
      "execution_count": null,
      "outputs": [
        {
          "output_type": "execute_result",
          "data": {
            "application/vnd.google.colaboratory.intrinsic+json": {
              "type": "string"
            },
            "text/plain": [
              "'\"Yes\"'"
            ]
          },
          "metadata": {
            "tags": []
          },
          "execution_count": 153
        }
      ]
    },
    {
      "cell_type": "code",
      "metadata": {
        "colab": {
          "base_uri": "https://localhost:8080/",
          "height": 35
        },
        "id": "BWqmf3KrQ9Tl",
        "outputId": "aeff6491-02b0-4138-b7e7-57f63ff98402"
      },
      "source": [
        "'\"Yes\"'  # or use single quotes instead"
      ],
      "execution_count": null,
      "outputs": [
        {
          "output_type": "execute_result",
          "data": {
            "application/vnd.google.colaboratory.intrinsic+json": {
              "type": "string"
            },
            "text/plain": [
              "'\"Yes\"'"
            ]
          },
          "metadata": {
            "tags": []
          },
          "execution_count": 152
        }
      ]
    },
    {
      "cell_type": "code",
      "metadata": {
        "colab": {
          "base_uri": "https://localhost:8080/"
        },
        "id": "EVhKlXOVU7zx",
        "outputId": "85034f42-9586-4e79-a519-14b350b008fd"
      },
      "source": [
        "print(\"Let’s print out a string!\")"
      ],
      "execution_count": null,
      "outputs": [
        {
          "output_type": "stream",
          "text": [
            "Let’s print out a string!\n"
          ],
          "name": "stdout"
        }
      ]
    },
    {
      "cell_type": "code",
      "metadata": {
        "colab": {
          "base_uri": "https://localhost:8080/",
          "height": 35
        },
        "id": "YcXKKCjeRRmW",
        "outputId": "ccb9ba7e-7f2c-4e2d-87cc-eb7edc729c3d"
      },
      "source": [
        "# \\ also escapes other special characters\n",
        "# \\n means newline\n",
        "# without print(), \\n is included in the output\n",
        "s = 'First line.\\nSecond line.'\n",
        "s"
      ],
      "execution_count": null,
      "outputs": [
        {
          "output_type": "execute_result",
          "data": {
            "application/vnd.google.colaboratory.intrinsic+json": {
              "type": "string"
            },
            "text/plain": [
              "'First line.\\nSecond line.'"
            ]
          },
          "metadata": {
            "tags": []
          },
          "execution_count": 155
        }
      ]
    },
    {
      "cell_type": "code",
      "metadata": {
        "colab": {
          "base_uri": "https://localhost:8080/"
        },
        "id": "1WSOGxIZRkD_",
        "outputId": "c7d22fd6-0011-430b-99a6-ce7c81547e1e"
      },
      "source": [
        "# \\n means newline\n",
        "# with print(), \\n produces a new line\n",
        "s = 'First line.\\nSecond line.'\n",
        "print(s)"
      ],
      "execution_count": null,
      "outputs": [
        {
          "output_type": "stream",
          "text": [
            "First line.\n",
            "Second line.\n"
          ],
          "name": "stdout"
        }
      ]
    },
    {
      "cell_type": "code",
      "metadata": {
        "colab": {
          "base_uri": "https://localhost:8080/"
        },
        "id": "oMknxsvaR3od",
        "outputId": "7cccb81e-2393-44b3-aff6-69cab77f76a1"
      },
      "source": [
        "# If you don’t want characters prefaced by \\ to be interpreted as special\n",
        "# characters, you can use raw strings by adding an r before the first quote:\n",
        "s = r'First line.\\nSecond line.'\n",
        "print(s)"
      ],
      "execution_count": null,
      "outputs": [
        {
          "output_type": "stream",
          "text": [
            "First line.\\nSecond line.\n"
          ],
          "name": "stdout"
        }
      ]
    },
    {
      "cell_type": "code",
      "metadata": {
        "colab": {
          "base_uri": "https://localhost:8080/"
        },
        "id": "_cdn-pK3SFBO",
        "outputId": "f5c430c3-09a6-41bc-fa11-b3aa621073d9"
      },
      "source": [
        "# String literals can span multiple lines using triple-quotes:\n",
        "# \"\"\"...\"\"\" or '''...'''\n",
        "# End of lines are automatically included in the string, but it’s possible to\n",
        "# prevent this by adding a \\ at the end of the line.\n",
        "\n",
        "print(\"\"\"\\\n",
        "Usage: thingy [OPTIONS]\n",
        "     -h                        Display this usage message\n",
        "     -H hostname               Hostname to connect to\n",
        "\"\"\")"
      ],
      "execution_count": null,
      "outputs": [
        {
          "output_type": "stream",
          "text": [
            "Usage: thingy [OPTIONS]\n",
            "     -h                        Display this usage message\n",
            "     -H hostname               Hostname to connect to\n",
            "\n"
          ],
          "name": "stdout"
        }
      ]
    },
    {
      "cell_type": "code",
      "metadata": {
        "colab": {
          "base_uri": "https://localhost:8080/",
          "height": 35
        },
        "id": "6UWCNyrtSgzb",
        "outputId": "252133e5-9a3d-43c1-c650-481cc9d03033"
      },
      "source": [
        "# Two or more string literals next to each other are automatically concatenated.\n",
        "# This only works with two literals though, not with variables or expressions.\n",
        "'Py' 'thon'"
      ],
      "execution_count": null,
      "outputs": [
        {
          "output_type": "execute_result",
          "data": {
            "application/vnd.google.colaboratory.intrinsic+json": {
              "type": "string"
            },
            "text/plain": [
              "'Python'"
            ]
          },
          "metadata": {
            "tags": []
          },
          "execution_count": 164
        }
      ]
    },
    {
      "cell_type": "code",
      "metadata": {
        "colab": {
          "base_uri": "https://localhost:8080/",
          "height": 35
        },
        "id": "5N3pITcKSowk",
        "outputId": "ea5f0494-4ec9-4b87-a658-33e9361663ca"
      },
      "source": [
        "# This feature is particularly useful when you want to break long strings:\n",
        "\n",
        "text = ('Put several strings within parentheses '\n",
        "         'to have them joined together.')\n",
        "\n",
        "text"
      ],
      "execution_count": null,
      "outputs": [
        {
          "output_type": "execute_result",
          "data": {
            "application/vnd.google.colaboratory.intrinsic+json": {
              "type": "string"
            },
            "text/plain": [
              "'Put several strings within parentheses to have them joined together.'"
            ]
          },
          "metadata": {
            "tags": []
          },
          "execution_count": 163
        }
      ]
    },
    {
      "cell_type": "code",
      "metadata": {
        "colab": {
          "base_uri": "https://localhost:8080/",
          "height": 35
        },
        "id": "8Q4O2jXaVA5g",
        "outputId": "86c715d6-d053-44e9-8e17-ed8a8e0e2784"
      },
      "source": [
        "# concatenation of strings with the + operator\n",
        "string_one = \"I'm learning \"\n",
        "string_two = \"python!\"\n",
        "string_one + string_two"
      ],
      "execution_count": null,
      "outputs": [
        {
          "output_type": "execute_result",
          "data": {
            "application/vnd.google.colaboratory.intrinsic+json": {
              "type": "string"
            },
            "text/plain": [
              "\"I'm learning python!\""
            ]
          },
          "metadata": {
            "tags": []
          },
          "execution_count": 159
        }
      ]
    },
    {
      "cell_type": "code",
      "metadata": {
        "colab": {
          "base_uri": "https://localhost:8080/"
        },
        "id": "13298lJAXRZQ",
        "outputId": "8e6c85e7-a734-4569-bdc3-594b9f142e5c"
      },
      "source": [
        "# concatenation of a numeric type must be cast to string\n",
        "print(\"Pi is \" + str(3.14))"
      ],
      "execution_count": null,
      "outputs": [
        {
          "output_type": "stream",
          "text": [
            "Pi is 3.14\n"
          ],
          "name": "stdout"
        }
      ]
    },
    {
      "cell_type": "code",
      "metadata": {
        "colab": {
          "base_uri": "https://localhost:8080/",
          "height": 35
        },
        "id": "KhvvaHSaVExV",
        "outputId": "58b21abe-ff94-433c-f06b-95454959feae"
      },
      "source": [
        "# string replication with the * operator\n",
        "'Python' * 5"
      ],
      "execution_count": null,
      "outputs": [
        {
          "output_type": "execute_result",
          "data": {
            "application/vnd.google.colaboratory.intrinsic+json": {
              "type": "string"
            },
            "text/plain": [
              "'PythonPythonPythonPythonPython'"
            ]
          },
          "metadata": {
            "tags": []
          },
          "execution_count": 160
        }
      ]
    },
    {
      "cell_type": "code",
      "metadata": {
        "colab": {
          "base_uri": "https://localhost:8080/"
        },
        "id": "9rU7vA8wVHz4",
        "outputId": "93a471e3-550b-4c44-e0fa-f315291df683"
      },
      "source": [
        "# string replication with print()\n",
        "print('Python' * 5)"
      ],
      "execution_count": null,
      "outputs": [
        {
          "output_type": "stream",
          "text": [
            "PythonPythonPythonPythonPython\n"
          ],
          "name": "stdout"
        }
      ]
    },
    {
      "cell_type": "code",
      "metadata": {
        "colab": {
          "base_uri": "https://localhost:8080/"
        },
        "id": "7eiIG2G_WmdB",
        "outputId": "9e84694b-7665-4a55-eda8-e3fb063fdef7"
      },
      "source": [
        "# string variable\n",
        "my_str = \"Hello World\"\n",
        "print(my_str)"
      ],
      "execution_count": null,
      "outputs": [
        {
          "output_type": "stream",
          "text": [
            "Hello World\n"
          ],
          "name": "stdout"
        }
      ]
    },
    {
      "cell_type": "code",
      "metadata": {
        "colab": {
          "base_uri": "https://localhost:8080/",
          "height": 35
        },
        "id": "QTz9sYz5S7KL",
        "outputId": "8656c83c-985c-44f9-d5b3-bf54943d9ca0"
      },
      "source": [
        "# Strings can be indexed (subscripted), with the first character having index 0.\n",
        "# There is no separate character type; a character is simply a string of size one:\n",
        "word = 'Python'\n",
        "word[0]  # character in position 0"
      ],
      "execution_count": null,
      "outputs": [
        {
          "output_type": "execute_result",
          "data": {
            "application/vnd.google.colaboratory.intrinsic+json": {
              "type": "string"
            },
            "text/plain": [
              "'P'"
            ]
          },
          "metadata": {
            "tags": []
          },
          "execution_count": 166
        }
      ]
    },
    {
      "cell_type": "code",
      "metadata": {
        "colab": {
          "base_uri": "https://localhost:8080/",
          "height": 35
        },
        "id": "2LcYOmzbTD6E",
        "outputId": "1a2923fa-438c-455a-c411-3843feb5cd1d"
      },
      "source": [
        "# Indices may also be negative numbers, to start counting from the right:\n",
        "word = 'Python'\n",
        "word[-2]"
      ],
      "execution_count": null,
      "outputs": [
        {
          "output_type": "execute_result",
          "data": {
            "application/vnd.google.colaboratory.intrinsic+json": {
              "type": "string"
            },
            "text/plain": [
              "'o'"
            ]
          },
          "metadata": {
            "tags": []
          },
          "execution_count": 183
        }
      ]
    },
    {
      "cell_type": "code",
      "metadata": {
        "colab": {
          "base_uri": "https://localhost:8080/",
          "height": 35
        },
        "id": "eiwG6P-dTNbU",
        "outputId": "e2ab4841-4b0c-4139-c1db-c28db68f7207"
      },
      "source": [
        "# Slicing is supported for obtaining substrings.\n",
        "word = 'Python'\n",
        "word[0:2]"
      ],
      "execution_count": null,
      "outputs": [
        {
          "output_type": "execute_result",
          "data": {
            "application/vnd.google.colaboratory.intrinsic+json": {
              "type": "string"
            },
            "text/plain": [
              "'Py'"
            ]
          },
          "metadata": {
            "tags": []
          },
          "execution_count": 168
        }
      ]
    },
    {
      "cell_type": "code",
      "metadata": {
        "colab": {
          "base_uri": "https://localhost:8080/",
          "height": 35
        },
        "id": "MDFvtrgETmv4",
        "outputId": "ed04e5cc-19fe-4784-d125-eb8dd62349e5"
      },
      "source": [
        "# The end index can be exluded to slice to the end of the string\n",
        "word = 'Python'\n",
        "word[2:]"
      ],
      "execution_count": null,
      "outputs": [
        {
          "output_type": "execute_result",
          "data": {
            "application/vnd.google.colaboratory.intrinsic+json": {
              "type": "string"
            },
            "text/plain": [
              "'thon'"
            ]
          },
          "metadata": {
            "tags": []
          },
          "execution_count": 169
        }
      ]
    },
    {
      "cell_type": "code",
      "metadata": {
        "colab": {
          "base_uri": "https://localhost:8080/",
          "height": 35
        },
        "id": "8cwBWCM5TxaY",
        "outputId": "fa4dbb25-7258-4e7c-c212-40970fd2902b"
      },
      "source": [
        "# The beginning can be excluded to slice from the start of the string\n",
        "word = 'Python'\n",
        "word[:4]"
      ],
      "execution_count": null,
      "outputs": [
        {
          "output_type": "execute_result",
          "data": {
            "application/vnd.google.colaboratory.intrinsic+json": {
              "type": "string"
            },
            "text/plain": [
              "'Pyth'"
            ]
          },
          "metadata": {
            "tags": []
          },
          "execution_count": 171
        }
      ]
    },
    {
      "cell_type": "code",
      "metadata": {
        "colab": {
          "base_uri": "https://localhost:8080/",
          "height": 35
        },
        "id": "MHAl_I7uUfQt",
        "outputId": "d2cdc20f-4a7c-43aa-d323-a00b6fcbab02"
      },
      "source": [
        "# Start and end indices can both be negative\n",
        "word = 'Python'\n",
        "word[:-2]"
      ],
      "execution_count": null,
      "outputs": [
        {
          "output_type": "execute_result",
          "data": {
            "application/vnd.google.colaboratory.intrinsic+json": {
              "type": "string"
            },
            "text/plain": [
              "'Pyth'"
            ]
          },
          "metadata": {
            "tags": []
          },
          "execution_count": 185
        }
      ]
    },
    {
      "cell_type": "code",
      "metadata": {
        "colab": {
          "base_uri": "https://localhost:8080/",
          "height": 197
        },
        "id": "QQPYeoXAU3_j",
        "outputId": "e639118f-1f8a-4545-f0ef-55a40c5e3b01"
      },
      "source": [
        "# Attempting to use an index that is too large will result in an error:\n",
        "word = 'Python'\n",
        "word[42]"
      ],
      "execution_count": null,
      "outputs": [
        {
          "output_type": "error",
          "ename": "IndexError",
          "evalue": "ignored",
          "traceback": [
            "\u001b[0;31m---------------------------------------------------------------------------\u001b[0m",
            "\u001b[0;31mIndexError\u001b[0m                                Traceback (most recent call last)",
            "\u001b[0;32m<ipython-input-192-926f59382ac2>\u001b[0m in \u001b[0;36m<module>\u001b[0;34m()\u001b[0m\n\u001b[1;32m      1\u001b[0m \u001b[0;31m# Attempting to use an index that is too large will result in an error:\u001b[0m\u001b[0;34m\u001b[0m\u001b[0;34m\u001b[0m\u001b[0;34m\u001b[0m\u001b[0m\n\u001b[1;32m      2\u001b[0m \u001b[0mword\u001b[0m \u001b[0;34m=\u001b[0m \u001b[0;34m'Python'\u001b[0m\u001b[0;34m\u001b[0m\u001b[0;34m\u001b[0m\u001b[0m\n\u001b[0;32m----> 3\u001b[0;31m \u001b[0mword\u001b[0m\u001b[0;34m[\u001b[0m\u001b[0;36m42\u001b[0m\u001b[0;34m]\u001b[0m\u001b[0;34m\u001b[0m\u001b[0;34m\u001b[0m\u001b[0m\n\u001b[0m",
            "\u001b[0;31mIndexError\u001b[0m: string index out of range"
          ]
        }
      ]
    },
    {
      "cell_type": "code",
      "metadata": {
        "colab": {
          "base_uri": "https://localhost:8080/",
          "height": 35
        },
        "id": "LwMrzzo6U_qN",
        "outputId": "dc644bf9-440d-4f1f-e8e6-cea84edf6c3a"
      },
      "source": [
        "# out of range slice indexes are handled gracefully when used for slicing:\n",
        "word = 'Python'\n",
        "word[42:]  # empty string"
      ],
      "execution_count": null,
      "outputs": [
        {
          "output_type": "execute_result",
          "data": {
            "application/vnd.google.colaboratory.intrinsic+json": {
              "type": "string"
            },
            "text/plain": [
              "''"
            ]
          },
          "metadata": {
            "tags": []
          },
          "execution_count": 191
        }
      ]
    },
    {
      "cell_type": "code",
      "metadata": {
        "colab": {
          "base_uri": "https://localhost:8080/",
          "height": 35
        },
        "id": "sbo11IRTT5EM",
        "outputId": "15cce15b-8200-4b27-f0a4-416a8124c331"
      },
      "source": [
        "# Using just [:] can be used to make a deep copy of a string\n",
        "word1 = 'Python'\n",
        "word2 = word1[:]\n",
        "\n",
        "word2"
      ],
      "execution_count": null,
      "outputs": [
        {
          "output_type": "execute_result",
          "data": {
            "application/vnd.google.colaboratory.intrinsic+json": {
              "type": "string"
            },
            "text/plain": [
              "'Python'"
            ]
          },
          "metadata": {
            "tags": []
          },
          "execution_count": 181
        }
      ]
    },
    {
      "cell_type": "code",
      "metadata": {
        "colab": {
          "base_uri": "https://localhost:8080/"
        },
        "id": "XaAU1HJbVPTo",
        "outputId": "afc68edb-f2e7-41c7-e732-3adb6e0d63eb"
      },
      "source": [
        "# len() returns the length of the string as an int\n",
        "word = 'Python'\n",
        "len(word)"
      ],
      "execution_count": null,
      "outputs": [
        {
          "output_type": "execute_result",
          "data": {
            "text/plain": [
              "6"
            ]
          },
          "metadata": {
            "tags": []
          },
          "execution_count": 194
        }
      ]
    },
    {
      "cell_type": "code",
      "metadata": {
        "colab": {
          "base_uri": "https://localhost:8080/",
          "height": 197
        },
        "id": "Li9nok86VdNp",
        "outputId": "e68a8c02-0f62-4b60-e450-000f70cb31ab"
      },
      "source": [
        "# Python strings are immutable.\n",
        "word = 'Python'\n",
        "word[0] = 'J'"
      ],
      "execution_count": null,
      "outputs": [
        {
          "output_type": "error",
          "ename": "TypeError",
          "evalue": "ignored",
          "traceback": [
            "\u001b[0;31m---------------------------------------------------------------------------\u001b[0m",
            "\u001b[0;31mTypeError\u001b[0m                                 Traceback (most recent call last)",
            "\u001b[0;32m<ipython-input-197-4bdec3d64315>\u001b[0m in \u001b[0;36m<module>\u001b[0;34m()\u001b[0m\n\u001b[1;32m      1\u001b[0m \u001b[0;31m# Python strings are immutable.\u001b[0m\u001b[0;34m\u001b[0m\u001b[0;34m\u001b[0m\u001b[0;34m\u001b[0m\u001b[0m\n\u001b[1;32m      2\u001b[0m \u001b[0mword\u001b[0m \u001b[0;34m=\u001b[0m \u001b[0;34m'Python'\u001b[0m\u001b[0;34m\u001b[0m\u001b[0;34m\u001b[0m\u001b[0m\n\u001b[0;32m----> 3\u001b[0;31m \u001b[0mword\u001b[0m\u001b[0;34m[\u001b[0m\u001b[0;36m0\u001b[0m\u001b[0;34m]\u001b[0m \u001b[0;34m=\u001b[0m \u001b[0;34m'J'\u001b[0m\u001b[0;34m\u001b[0m\u001b[0;34m\u001b[0m\u001b[0m\n\u001b[0m",
            "\u001b[0;31mTypeError\u001b[0m: 'str' object does not support item assignment"
          ]
        }
      ]
    },
    {
      "cell_type": "code",
      "metadata": {
        "colab": {
          "base_uri": "https://localhost:8080/",
          "height": 35
        },
        "id": "24ayitPFVsNP",
        "outputId": "14048ad6-4acc-414e-f041-9b6953fe2c1b"
      },
      "source": [
        "# Because strings are immutable, to change a string, create a new one.\n",
        "word1 = 'Python'\n",
        "word2 = 'J' + word1[1:]\n",
        "\n",
        "word2"
      ],
      "execution_count": null,
      "outputs": [
        {
          "output_type": "execute_result",
          "data": {
            "application/vnd.google.colaboratory.intrinsic+json": {
              "type": "string"
            },
            "text/plain": [
              "'Jython'"
            ]
          },
          "metadata": {
            "tags": []
          },
          "execution_count": 200
        }
      ]
    },
    {
      "cell_type": "markdown",
      "metadata": {
        "id": "6xEhQIEQVYL9"
      },
      "source": [
        "## Math"
      ]
    },
    {
      "cell_type": "code",
      "metadata": {
        "colab": {
          "base_uri": "https://localhost:8080/"
        },
        "id": "t1o3MbgyWHai",
        "outputId": "cae10857-79e2-4cbf-b0b6-35532726d253"
      },
      "source": [
        "# + -- addition\n",
        "2 + 2"
      ],
      "execution_count": null,
      "outputs": [
        {
          "output_type": "execute_result",
          "data": {
            "text/plain": [
              "4"
            ]
          },
          "metadata": {
            "tags": []
          },
          "execution_count": 114
        }
      ]
    },
    {
      "cell_type": "code",
      "metadata": {
        "colab": {
          "base_uri": "https://localhost:8080/"
        },
        "id": "sZX0gK2rWHYd",
        "outputId": "09507427-c7e2-4c2a-987e-d473a559c342"
      },
      "source": [
        "# - -- subtraction \n",
        "5 - 2"
      ],
      "execution_count": null,
      "outputs": [
        {
          "output_type": "execute_result",
          "data": {
            "text/plain": [
              "3"
            ]
          },
          "metadata": {
            "tags": []
          },
          "execution_count": 113
        }
      ]
    },
    {
      "cell_type": "code",
      "metadata": {
        "colab": {
          "base_uri": "https://localhost:8080/"
        },
        "id": "0rBO6SfVWHVs",
        "outputId": "e792d8ee-09b2-4453-ae9b-f8c60dd5b95c"
      },
      "source": [
        "# * -- multiplication \n",
        "3 * 3"
      ],
      "execution_count": null,
      "outputs": [
        {
          "output_type": "execute_result",
          "data": {
            "text/plain": [
              "9"
            ]
          },
          "metadata": {
            "tags": []
          },
          "execution_count": 112
        }
      ]
    },
    {
      "cell_type": "code",
      "metadata": {
        "colab": {
          "base_uri": "https://localhost:8080/"
        },
        "id": "-3viaU4hV5sI",
        "outputId": "408be0a0-bfd4-4522-ff0d-beada5ff34e8"
      },
      "source": [
        "# / -- division\n",
        "# division always returns a floating point number\n",
        "22 / 8"
      ],
      "execution_count": null,
      "outputs": [
        {
          "output_type": "execute_result",
          "data": {
            "text/plain": [
              "2.75"
            ]
          },
          "metadata": {
            "tags": []
          },
          "execution_count": 135
        }
      ]
    },
    {
      "cell_type": "code",
      "metadata": {
        "colab": {
          "base_uri": "https://localhost:8080/"
        },
        "id": "g8_1v1pJVu3j",
        "outputId": "a60784cf-2f58-457a-b6ad-10df005a1d5c"
      },
      "source": [
        "# // -- integer division / floor division\n",
        "# discards the decimal portion of a division operation and returns an int\n",
        "22 // 8"
      ],
      "execution_count": null,
      "outputs": [
        {
          "output_type": "execute_result",
          "data": {
            "text/plain": [
              "2"
            ]
          },
          "metadata": {
            "tags": []
          },
          "execution_count": 137
        }
      ]
    },
    {
      "cell_type": "code",
      "metadata": {
        "colab": {
          "base_uri": "https://localhost:8080/"
        },
        "id": "_B9OKzmCVpYX",
        "outputId": "1dc64d39-ef23-4dd0-c6a6-ec53fa4199ec"
      },
      "source": [
        "# %  -- modulus / remainder\n",
        "# returns the remainder of division as an int\n",
        "22 % 8"
      ],
      "execution_count": null,
      "outputs": [
        {
          "output_type": "execute_result",
          "data": {
            "text/plain": [
              "6"
            ]
          },
          "metadata": {
            "tags": []
          },
          "execution_count": 139
        }
      ]
    },
    {
      "cell_type": "code",
      "metadata": {
        "colab": {
          "base_uri": "https://localhost:8080/"
        },
        "id": "V6LRyN3oVZqT",
        "outputId": "95ee3576-b05e-4993-dec4-2c406a51aaea"
      },
      "source": [
        "# ** -- exponent\n",
        "2 ** 3"
      ],
      "execution_count": null,
      "outputs": [
        {
          "output_type": "execute_result",
          "data": {
            "text/plain": [
              "8"
            ]
          },
          "metadata": {
            "tags": []
          },
          "execution_count": 108
        }
      ]
    },
    {
      "cell_type": "code",
      "metadata": {
        "colab": {
          "base_uri": "https://localhost:8080/"
        },
        "id": "iG2sRusNaL0v",
        "outputId": "1d2d7601-df57-4c91-9a06-346b8e387f8a"
      },
      "source": [
        "# be careful with negative exponents\n",
        "# the following results in -9 becuase ** has a higher precedence than the negative\n",
        "-3 ** 2  "
      ],
      "execution_count": null,
      "outputs": [
        {
          "output_type": "execute_result",
          "data": {
            "text/plain": [
              "-9"
            ]
          },
          "metadata": {
            "tags": []
          },
          "execution_count": 247
        }
      ]
    },
    {
      "cell_type": "code",
      "metadata": {
        "colab": {
          "base_uri": "https://localhost:8080/"
        },
        "id": "UXT-XpBWa_Li",
        "outputId": "37fca1d9-e2fa-4317-accf-cf6bdfe4845e"
      },
      "source": [
        "# a fix for the above issue\n",
        "(-3) ** 2"
      ],
      "execution_count": null,
      "outputs": [
        {
          "output_type": "execute_result",
          "data": {
            "text/plain": [
              "9"
            ]
          },
          "metadata": {
            "tags": []
          },
          "execution_count": 251
        }
      ]
    },
    {
      "cell_type": "code",
      "metadata": {
        "colab": {
          "base_uri": "https://localhost:8080/"
        },
        "id": "syCW-z22aZSz",
        "outputId": "10d34736-402d-44a9-90d9-c9a25c59d37e"
      },
      "source": [
        "# however, variables don't have this problem because the - and 3 evaluate together\n",
        "x = -3\n",
        "x ** 2"
      ],
      "execution_count": null,
      "outputs": [
        {
          "output_type": "execute_result",
          "data": {
            "text/plain": [
              "9"
            ]
          },
          "metadata": {
            "tags": []
          },
          "execution_count": 252
        }
      ]
    },
    {
      "cell_type": "code",
      "metadata": {
        "colab": {
          "base_uri": "https://localhost:8080/"
        },
        "id": "NKofQZfnQGJY",
        "outputId": "720843d9-7187-4fd6-c6a0-784bfd966556"
      },
      "source": [
        "# operators with mixed type operands convert the integer operand to floating point\n",
        "4 * 3.75 - 1"
      ],
      "execution_count": null,
      "outputs": [
        {
          "output_type": "execute_result",
          "data": {
            "text/plain": [
              "14.0"
            ]
          },
          "metadata": {
            "tags": []
          },
          "execution_count": 147
        }
      ]
    },
    {
      "cell_type": "markdown",
      "metadata": {
        "id": "DzHros0QPhU3"
      },
      "source": [
        "## Variables"
      ]
    },
    {
      "cell_type": "code",
      "metadata": {
        "colab": {
          "base_uri": "https://localhost:8080/"
        },
        "id": "6AkysgxlPjMO",
        "outputId": "52fee619-daf2-4cf9-bfb7-c1712e61d73a"
      },
      "source": [
        "# equality assigns a value to a variable\n",
        "width = 20\n",
        "height = 5 * 9\n",
        "width * height"
      ],
      "execution_count": null,
      "outputs": [
        {
          "output_type": "execute_result",
          "data": {
            "text/plain": [
              "900"
            ]
          },
          "metadata": {
            "tags": []
          },
          "execution_count": 143
        }
      ]
    },
    {
      "cell_type": "code",
      "metadata": {
        "colab": {
          "base_uri": "https://localhost:8080/",
          "height": 180
        },
        "id": "8umaWAf8P4sM",
        "outputId": "0f241810-38fa-405e-e5ca-7c29dc9549b2"
      },
      "source": [
        "# try to access an undefined variable\n",
        "n"
      ],
      "execution_count": null,
      "outputs": [
        {
          "output_type": "error",
          "ename": "NameError",
          "evalue": "ignored",
          "traceback": [
            "\u001b[0;31m---------------------------------------------------------------------------\u001b[0m",
            "\u001b[0;31mNameError\u001b[0m                                 Traceback (most recent call last)",
            "\u001b[0;32m<ipython-input-145-2284bb652ed9>\u001b[0m in \u001b[0;36m<module>\u001b[0;34m()\u001b[0m\n\u001b[1;32m      1\u001b[0m \u001b[0;31m# try to access an undefined variable\u001b[0m\u001b[0;34m\u001b[0m\u001b[0;34m\u001b[0m\u001b[0;34m\u001b[0m\u001b[0m\n\u001b[0;32m----> 2\u001b[0;31m \u001b[0mn\u001b[0m\u001b[0;34m\u001b[0m\u001b[0;34m\u001b[0m\u001b[0m\n\u001b[0m",
            "\u001b[0;31mNameError\u001b[0m: name 'n' is not defined"
          ]
        }
      ]
    },
    {
      "cell_type": "code",
      "metadata": {
        "colab": {
          "base_uri": "https://localhost:8080/"
        },
        "id": "CGtd-ljWZBRk",
        "outputId": "31993df8-f6cb-42e8-eb29-466ebbfa7c90"
      },
      "source": [
        "# multiple variable assignment on one line\n",
        "a, b = 0, 1\n",
        "\n",
        "print(a)\n",
        "print(b)"
      ],
      "execution_count": null,
      "outputs": [
        {
          "output_type": "stream",
          "text": [
            "0\n",
            "1\n"
          ],
          "name": "stdout"
        }
      ]
    },
    {
      "cell_type": "markdown",
      "metadata": {
        "id": "D3pEWx2sWyFB"
      },
      "source": [
        "## Built-in Functions"
      ]
    },
    {
      "cell_type": "code",
      "metadata": {
        "colab": {
          "base_uri": "https://localhost:8080/"
        },
        "id": "UZc-HxEfW0Tb",
        "outputId": "d8048e91-ca1b-4359-f102-be2a9c39d11b"
      },
      "source": [
        "# input()\n",
        "# prompt for user input\n",
        "\n",
        "name = input(\"What is your name? \")\n",
        "\n",
        "print(\"You entered: \" + name )"
      ],
      "execution_count": null,
      "outputs": [
        {
          "output_type": "stream",
          "text": [
            "What is your name? Chris\n",
            "You entered: Chris\n"
          ],
          "name": "stdout"
        }
      ]
    },
    {
      "cell_type": "code",
      "metadata": {
        "colab": {
          "base_uri": "https://localhost:8080/"
        },
        "id": "_Q1R5i0LXDza",
        "outputId": "9a5353ba-2d47-4bb3-e341-c48841ca4662"
      },
      "source": [
        "# len()\n",
        "# find the length of any string, list, tuple, dictionary, or data type\n",
        "\n",
        "str1 = \"Python is the future!\"\n",
        "\n",
        "print(\"length =\", len(str1))"
      ],
      "execution_count": null,
      "outputs": [
        {
          "output_type": "stream",
          "text": [
            "length = 21\n"
          ],
          "name": "stdout"
        }
      ]
    },
    {
      "cell_type": "code",
      "metadata": {
        "colab": {
          "base_uri": "https://localhost:8080/"
        },
        "id": "c0a52HB2YJYw",
        "outputId": "f2fa2bef-3fb4-4aa6-cbe1-4d9403c9f81c"
      },
      "source": [
        "# filter()\n",
        "# excludes items in an iterable object: lists, tuples, dictionaries, etc.\n",
        "\n",
        "ages = [5, 12, 17, 18, 24, 32]\n",
        "\n",
        "def over_18(x):\n",
        "  if x < 18:\n",
        "    return False\n",
        "  else:\n",
        "    return True\n",
        "\n",
        "adults = filter(over_18, ages)\n",
        "\n",
        "for x in adults:\n",
        "  print(x)"
      ],
      "execution_count": null,
      "outputs": [
        {
          "output_type": "stream",
          "text": [
            "18\n",
            "24\n",
            "32\n"
          ],
          "name": "stdout"
        }
      ]
    },
    {
      "cell_type": "code",
      "metadata": {
        "colab": {
          "base_uri": "https://localhost:8080/"
        },
        "id": "w3W-wINYrfXg",
        "outputId": "3894aff2-8221-4ec4-f622-aa6f4e3f21ce"
      },
      "source": [
        "# range(n)\n",
        "# generates arithmetic progressions from 0 to n - 1 (the argument is non-inclusive)\n",
        "\n",
        "for i in range(5):\n",
        "  print(i)"
      ],
      "execution_count": null,
      "outputs": [
        {
          "output_type": "stream",
          "text": [
            "0\n",
            "1\n",
            "2\n",
            "3\n",
            "4\n"
          ],
          "name": "stdout"
        }
      ]
    },
    {
      "cell_type": "code",
      "metadata": {
        "colab": {
          "base_uri": "https://localhost:8080/"
        },
        "id": "gezYbrqZsnL4",
        "outputId": "ec41504e-7522-48e3-9df4-b2bf0d940b5a"
      },
      "source": [
        "# range(<start>, <stop>)\n",
        "\n",
        "for i in range(5, 10):\n",
        "  print(i)"
      ],
      "execution_count": null,
      "outputs": [
        {
          "output_type": "stream",
          "text": [
            "5\n",
            "6\n",
            "7\n",
            "8\n",
            "9\n"
          ],
          "name": "stdout"
        }
      ]
    },
    {
      "cell_type": "code",
      "metadata": {
        "colab": {
          "base_uri": "https://localhost:8080/"
        },
        "id": "mzKfSBresnuY",
        "outputId": "f7474347-5de2-438a-f96b-af6f79fea228"
      },
      "source": [
        "# range(<start>, <stop>, <step>)\n",
        "# increments of 3\n",
        "\n",
        "for i in range(0, 10, 3):\n",
        "  print(i)"
      ],
      "execution_count": null,
      "outputs": [
        {
          "output_type": "stream",
          "text": [
            "0\n",
            "3\n",
            "6\n",
            "9\n"
          ],
          "name": "stdout"
        }
      ]
    },
    {
      "cell_type": "code",
      "metadata": {
        "colab": {
          "base_uri": "https://localhost:8080/"
        },
        "id": "oWzeB_rfsnx7",
        "outputId": "438eccb7-4026-4ba9-feda-3216c666264c"
      },
      "source": [
        "# range(<start>, <stop>, <step>)\n",
        "# increments of -30\n",
        "\n",
        "for i in range(-10, -100, -30):\n",
        "  print(i)"
      ],
      "execution_count": null,
      "outputs": [
        {
          "output_type": "stream",
          "text": [
            "-10\n",
            "-40\n",
            "-70\n"
          ],
          "name": "stdout"
        }
      ]
    },
    {
      "cell_type": "code",
      "metadata": {
        "colab": {
          "base_uri": "https://localhost:8080/"
        },
        "id": "VrwSwnrvtEXS",
        "outputId": "a9fdcc5b-a379-4071-ef46-4055bae4c766"
      },
      "source": [
        "# len() and range()\n",
        "# Iterate over the indices of a sequence combining range() and len() as follows:\n",
        "\n",
        "a = ['Mary', 'had', 'a', 'little', 'lamb']\n",
        "\n",
        "for i in range(len(a)):\n",
        "  print(i, a[i])"
      ],
      "execution_count": null,
      "outputs": [
        {
          "output_type": "stream",
          "text": [
            "0 Mary\n",
            "1 had\n",
            "2 a\n",
            "3 little\n",
            "4 lamb\n"
          ],
          "name": "stdout"
        }
      ]
    },
    {
      "cell_type": "code",
      "metadata": {
        "colab": {
          "base_uri": "https://localhost:8080/"
        },
        "id": "5sUh00e2tcla",
        "outputId": "3337bca3-8952-4fd2-99d5-36212e8a6556"
      },
      "source": [
        "# range()\n",
        "# range is an iterable object: the string it returns does not display the\n",
        "# results of iteration\n",
        "\n",
        "print(range(10))"
      ],
      "execution_count": null,
      "outputs": [
        {
          "output_type": "stream",
          "text": [
            "range(0, 10)\n"
          ],
          "name": "stdout"
        }
      ]
    },
    {
      "cell_type": "code",
      "metadata": {
        "colab": {
          "base_uri": "https://localhost:8080/"
        },
        "id": "5f815JXXt1YD",
        "outputId": "a04a0034-e59d-475d-dd97-9dfc622da559"
      },
      "source": [
        "# range() and sum()\n",
        "\n",
        "sum(range(4))"
      ],
      "execution_count": null,
      "outputs": [
        {
          "output_type": "execute_result",
          "data": {
            "text/plain": [
              "6"
            ]
          },
          "metadata": {
            "tags": []
          },
          "execution_count": 13
        }
      ]
    },
    {
      "cell_type": "code",
      "metadata": {
        "colab": {
          "base_uri": "https://localhost:8080/"
        },
        "id": "haYrGMUYt-io",
        "outputId": "759a071e-4995-41a7-9d52-99d327252d88"
      },
      "source": [
        "# range(), list(), and tuple()\n",
        "\n",
        "# convert a range to a list\n",
        "r_list = list(range(4))\n",
        "print(r_list)\n",
        "\n",
        "# convert a range to a tuple\n",
        "r_tuple = tuple(range(4))\n",
        "print(r_tuple)"
      ],
      "execution_count": null,
      "outputs": [
        {
          "output_type": "stream",
          "text": [
            "[0, 1, 2, 3]\n",
            "(0, 1, 2, 3)\n"
          ],
          "name": "stdout"
        }
      ]
    },
    {
      "cell_type": "markdown",
      "metadata": {
        "id": "rkrfPIQIZZY9"
      },
      "source": [
        "## Functions"
      ]
    },
    {
      "cell_type": "code",
      "metadata": {
        "colab": {
          "base_uri": "https://localhost:8080/"
        },
        "id": "Uu05LLwMZFaJ",
        "outputId": "e1b3b7be-2a3a-4046-cdd1-b487ab46fda8"
      },
      "source": [
        "# def\n",
        "# def defines a function\n",
        "\n",
        "def hello():\n",
        "  print(\"Hello.\")\n",
        "\n",
        "# call it\n",
        "hello()"
      ],
      "execution_count": null,
      "outputs": [
        {
          "output_type": "stream",
          "text": [
            "Hello.\n"
          ],
          "name": "stdout"
        }
      ]
    },
    {
      "cell_type": "code",
      "metadata": {
        "colab": {
          "base_uri": "https://localhost:8080/"
        },
        "id": "ggRGp1CfZfPs",
        "outputId": "128a4742-1da8-4ae8-a2f4-483c4c26c117"
      },
      "source": [
        "# def\n",
        "# a function with arguments inputs\n",
        "\n",
        "def add_numbers(x, y, z):\n",
        "  a = x + y\n",
        "  b = x + z\n",
        "  c = y + z\n",
        "  print(a, b, c)\n",
        "\n",
        "# call it\n",
        "add_numbers(1, 2, 3)"
      ],
      "execution_count": null,
      "outputs": [
        {
          "output_type": "stream",
          "text": [
            "3 4 5\n"
          ],
          "name": "stdout"
        }
      ]
    },
    {
      "cell_type": "code",
      "metadata": {
        "colab": {
          "base_uri": "https://localhost:8080/"
        },
        "id": "TnfvqPPKZyxz",
        "outputId": "0c2e3091-5f03-4f5d-e688-ab1974b4b7dc"
      },
      "source": [
        "# function keyword arguments\n",
        "# specify the argument name when calling the function for clarity\n",
        "\n",
        "def add_numbers(x, y, z):\n",
        "  a = x + y\n",
        "  b = x + z\n",
        "  c = y + z\n",
        "  print(a, b, c)\n",
        "\n",
        "# call it with keyword paremeters\n",
        "add_numbers(x=1, y=2, z=3)"
      ],
      "execution_count": null,
      "outputs": [
        {
          "output_type": "stream",
          "text": [
            "3 4 5\n"
          ],
          "name": "stdout"
        }
      ]
    },
    {
      "cell_type": "code",
      "metadata": {
        "colab": {
          "base_uri": "https://localhost:8080/"
        },
        "id": "6m35xwct3z-A",
        "outputId": "a1b67bfe-e464-4e64-c18e-8e5665cfc2c7"
      },
      "source": [
        "# function default keyword arguments\n",
        "# a default keyword argument can be given a value in the the function definition\n",
        "# and are optional when calling it which uses the default.\n",
        "# arguments without a default are considered positional and are required.\n",
        "# positional arguments must precede default keyword arguments in the function\n",
        "# definition.\n",
        "\n",
        "# x here is required, y and z are optional\n",
        "def add_numbers(x, y=1, z=1):\n",
        "  a = x + y\n",
        "  b = x + z\n",
        "  c = y + z\n",
        "  print(a, b, c)\n",
        "\n",
        "# call it only supplying the required argument\n",
        "add_numbers(2)  # only x\n",
        "\n",
        "# call it without keyword arguments\n",
        "add_numbers(2, 3, 4)\n",
        "\n",
        "# call it with keyword arguments\n",
        "add_numbers(x=2, y=3, z=4)\n",
        "\n",
        "# call it with keyword arguments out-of-order\n",
        "# just because you can doesn't mean you should\n",
        "add_numbers(z=4, x=2)"
      ],
      "execution_count": null,
      "outputs": [
        {
          "output_type": "stream",
          "text": [
            "3 3 2\n",
            "5 6 7\n",
            "5 6 7\n",
            "3 6 5\n"
          ],
          "name": "stdout"
        }
      ]
    },
    {
      "cell_type": "code",
      "metadata": {
        "colab": {
          "base_uri": "https://localhost:8080/"
        },
        "id": "XFtLSQwn7cTc",
        "outputId": "4261c862-1b84-4eb3-bec3-7db85f6da025"
      },
      "source": [
        "# function default keyword arguments and lists\n",
        "# WARNING: The default value is evaluated only once.  If the default is a list,\n",
        "# subsequent calls reference the already initialized and possibly modified value\n",
        "\n",
        "# avoid this\n",
        "def f(a, L=[]):\n",
        "    L.append(a)\n",
        "    return L\n",
        "\n",
        "# this probably isn't what you want...\n",
        "print(f(1))\n",
        "print(f(2))\n",
        "print(f(3))\n",
        "\n",
        "# do this instead\n",
        "def f(a, L=None):\n",
        "    if L is None:\n",
        "        L = []\n",
        "    L.append(a)\n",
        "    return L\n",
        "\n",
        "print(f(1))\n",
        "print(f(2))\n",
        "print(f(3))"
      ],
      "execution_count": null,
      "outputs": [
        {
          "output_type": "stream",
          "text": [
            "[1]\n",
            "[1, 2]\n",
            "[1, 2, 3]\n",
            "[1]\n",
            "[2]\n",
            "[3]\n"
          ],
          "name": "stdout"
        }
      ]
    },
    {
      "cell_type": "code",
      "metadata": {
        "colab": {
          "base_uri": "https://localhost:8080/"
        },
        "id": "i7zpaGYy1fWw",
        "outputId": "eb88fdf7-165d-452d-9d50-dcd6bea685dc"
      },
      "source": [
        "# None\n",
        "# None is equivalant to null in other languages\n",
        "# functions that have no return value actually return None\n",
        "\n",
        "def a_void_function():\n",
        "  print('doing something with no return value')\n",
        "\n",
        "# you wouldn't do this since there is no return value...for demo purposes\n",
        "result = a_void_function()\n",
        "\n",
        "# prints None\n",
        "print(result)"
      ],
      "execution_count": null,
      "outputs": [
        {
          "output_type": "stream",
          "text": [
            "doing something with no return value\n",
            "None\n"
          ],
          "name": "stdout"
        }
      ]
    },
    {
      "cell_type": "code",
      "metadata": {
        "colab": {
          "base_uri": "https://localhost:8080/"
        },
        "id": "5z0wv1TE2QbB",
        "outputId": "6ca1d632-268b-449a-c934-d1f17046b647"
      },
      "source": [
        "# return\n",
        "# return some result of the function - value, sequence, object, etc.\n",
        "\n",
        "# this function constructs and returns a list\n",
        "# this is a common occurrence and you should always ask yourself whether\n",
        "# the result of a function might make sense to iterate over and return\n",
        "# a list instead of a single value\n",
        "\n",
        "def fib(n):\n",
        "  \"\"\"Return a list containing the Fibonacci series up to n.\"\"\"\n",
        "  result = []\n",
        "\n",
        "  a, b = 0, 1\n",
        "\n",
        "  while a < n:\n",
        "    result.append(a)    # see below\n",
        "    a, b = b, a+b\n",
        "\n",
        "  return result\n",
        "\n",
        "fib_list = fib(5)\n",
        "\n",
        "fib_list"
      ],
      "execution_count": null,
      "outputs": [
        {
          "output_type": "execute_result",
          "data": {
            "text/plain": [
              "[0, 1, 1, 2, 3]"
            ]
          },
          "metadata": {
            "tags": []
          },
          "execution_count": 58
        }
      ]
    },
    {
      "cell_type": "code",
      "metadata": {
        "colab": {
          "base_uri": "https://localhost:8080/"
        },
        "id": "wUVPWxtp8LfO",
        "outputId": "ca98333f-69c5-4dd7-9052-e97c57ea23b5"
      },
      "source": [
        "# * preceding an argument name, usualy *args, allow a variable number of positional arguments that are combined into a tuple\n",
        "# ** preceding an argument name, usualy **kwargs, allow a variable number of keyword arguments that are combined into a dictionary\n",
        "\n",
        "# these are ways of supplying a variable number of arguments that are typically\n",
        "# used with conditional statements when a large number of variants would cause\n",
        "# a corresponding explosion in the variants of the function.\n",
        "\n",
        "def cheeseshop_sketch(cheese_variety, *args, **kwargs):\n",
        "    print(\"-- Do you have any\", cheese_variety, \"?\")\n",
        "    print(\"-- I'm sorry, we're all out of\", cheese_variety)\n",
        "\n",
        "    # loop over the packed tuple of positional arguments\n",
        "    for arg in args:\n",
        "        print(\"  \", arg)\n",
        "\n",
        "    print(\"-\" * 40)\n",
        "\n",
        "    # loop over the packed dict of keyword arguments\n",
        "    for kw in kwargs:\n",
        "        print(kw, \":\", kwargs[kw])\n",
        "\n",
        "cheeseshop_sketch(\"Limburger\", \"It's very runny, sir.\",\n",
        "           \"It's really very, VERY runny, sir.\",\n",
        "           shopkeeper=\"Michael Palin\",\n",
        "           client=\"John Cleese\",\n",
        "           sketch=\"Cheese Shop Sketch\")\n",
        "\n",
        "print()\n",
        "\n",
        "# here the stars are necessary to unpack the tuple and dict when calling the function\n",
        "# this allows nesting because both a tuple and a  dictionary could also be a single argument\n",
        "# which is what happens if you don't use the stars when calling the function\n",
        "args = (\"It's very runny, sir.\", \"It's really very, VERY runny, sir.\")\n",
        "kwargs = {\n",
        "    \"shopkeeper\": \"Michael Palin\",\n",
        "    \"client\": \"John Cleese\",\n",
        "    \"sketch\": \"Cheese Shop Sketch\"\n",
        "}\n",
        "cheeseshop_sketch(\"Limburger\", *args, **kwargs)"
      ],
      "execution_count": null,
      "outputs": [
        {
          "output_type": "stream",
          "text": [
            "-- Do you have any Limburger ?\n",
            "-- I'm sorry, we're all out of Limburger\n",
            "   It's very runny, sir.\n",
            "   It's really very, VERY runny, sir.\n",
            "----------------------------------------\n",
            "shopkeeper : Michael Palin\n",
            "client : John Cleese\n",
            "sketch : Cheese Shop Sketch\n",
            "\n",
            "-- Do you have any Limburger ?\n",
            "-- I'm sorry, we're all out of Limburger\n",
            "   It's very runny, sir.\n",
            "   It's really very, VERY runny, sir.\n",
            "----------------------------------------\n",
            "shopkeeper : Michael Palin\n",
            "client : John Cleese\n",
            "sketch : Cheese Shop Sketch\n"
          ],
          "name": "stdout"
        }
      ]
    },
    {
      "cell_type": "code",
      "metadata": {
        "colab": {
          "base_uri": "https://localhost:8080/",
          "height": 129
        },
        "id": "HgSzYbXnAqz8",
        "outputId": "2164f6c2-dea6-4e68-a6de-8943eb77e9d3"
      },
      "source": [
        "# / can be placed in a function def to force all arguments that precede to be positional only\n",
        "# * can be placed alone in a function def to force all arguments that follow to be keyword only\n",
        "# If / and * are not present in the function definition, arguments may be passed to a function by position or by keyword.\n",
        "# keyword only - place an * in the arguments list just after the last position-only parameters\n",
        "# positional only - place a / in the arguments list just before the first keyword-only parameters\n",
        "\n",
        "# this fails because the python runtime isn't a high enough version\n",
        "# need to look up when this feature was introduced\n",
        "\n",
        "def standard_arg(arg):\n",
        "  print(arg)\n",
        "\n",
        "def pos_only_arg(arg, /):\n",
        "  print(arg)\n",
        "\n",
        "def kwd_only_arg(*, arg):\n",
        "  print(arg)\n",
        "\n",
        "def combined_example(pos_only, /, standard, *, kwd_only):\n",
        "  print(pos_only, standard, kwd_only)\n",
        "\n",
        "\n",
        "standard_arg(1)\n",
        "standard_arg(arg=1)\n",
        "\n",
        "pos_only_arg(1)\n",
        "\n",
        "kwd_only_arg(arg=1)\n",
        "\n",
        "combined_example(1, 2, kwd_only=3):\n",
        "combined_example(1, standard=2, kwd_only=3):\n"
      ],
      "execution_count": null,
      "outputs": [
        {
          "output_type": "error",
          "ename": "SyntaxError",
          "evalue": "ignored",
          "traceback": [
            "\u001b[0;36m  File \u001b[0;32m\"<ipython-input-105-ae38bff8bf03>\"\u001b[0;36m, line \u001b[0;32m12\u001b[0m\n\u001b[0;31m    def pos_only_arg(arg, /):\u001b[0m\n\u001b[0m                          ^\u001b[0m\n\u001b[0;31mSyntaxError\u001b[0m\u001b[0;31m:\u001b[0m invalid syntax\n"
          ]
        }
      ]
    },
    {
      "cell_type": "code",
      "metadata": {
        "colab": {
          "base_uri": "https://localhost:8080/"
        },
        "id": "_SCMzSbtA65T",
        "outputId": "515ad628-d3d6-47ce-9917-233349ef0c4f"
      },
      "source": [
        "# lambda\n",
        "# lambda expressions are small anonymous (unnamed) functions\n",
        "# lambda expressions can be used wherever function objects are required\n",
        "# they are syntactically restricted to a single expression: no other statements\n",
        "# they are just syntactic sugar for a normal function definition\n",
        "# lambda expressions can reference variables from the containing scope\n",
        "# lambdas support the same argument defintion options as regular functions\n",
        "# including keyword defaults, variable number arguments, variable number\n",
        "# keyword arguments, keyword only arguments, etc.\n",
        "\n",
        "# IIFE -- immeidately invoked function expression\n",
        "result = (lambda x: x + 1)(2)\n",
        "print(result)\n",
        "\n",
        "# assigning a lambda to a variable and then calling it\n",
        "add_one = lambda x: x + 1\n",
        "result = add_one(2)\n",
        "print(result)\n",
        "\n",
        "# multiple arguments\n",
        "full_name = lambda first, last: f'Full name: {first.title()} {last.title()}'\n",
        "result = full_name('Guido', 'Van Rossum')\n",
        "print(result)"
      ],
      "execution_count": null,
      "outputs": [
        {
          "output_type": "stream",
          "text": [
            "3\n",
            "3\n",
            "Full name: Guido Van Rossum\n"
          ],
          "name": "stdout"
        }
      ]
    },
    {
      "cell_type": "code",
      "metadata": {
        "colab": {
          "base_uri": "https://localhost:8080/"
        },
        "id": "jSkTH9w8SE7c",
        "outputId": "c4974deb-8eb1-4f16-f3d4-9e6c17ecd644"
      },
      "source": [
        "# lambda and map()\n",
        "\n",
        "# mapping the x.upper() function over the list\n",
        "lambda_caps = list(map(lambda x: x.upper(), ['cat', 'dog', 'cow']))\n",
        "\n",
        "# alternative with a list comprehension\n",
        "comprehension_caps = [x.upper() for x in['cat', 'dog', 'cow']]\n",
        "\n",
        "print(f\"lambda_caps={lambda_caps}\")\n",
        "print(f\"comprehension_caps={comprehension_caps}\")"
      ],
      "execution_count": null,
      "outputs": [
        {
          "output_type": "stream",
          "text": [
            "lambda_caps=['CAT', 'DOG', 'COW']\n",
            "comprehension_caps=['CAT', 'DOG', 'COW']\n"
          ],
          "name": "stdout"
        }
      ]
    },
    {
      "cell_type": "code",
      "metadata": {
        "colab": {
          "base_uri": "https://localhost:8080/"
        },
        "id": "kIP1WYGgSPfi",
        "outputId": "c8322e8c-aace-4797-ca6e-03e5dd8ee174"
      },
      "source": [
        "# lambda and filter()\n",
        "\n",
        "# filtering a list where 'o' is in each word\n",
        "lambda_ohs = list(filter(lambda x: 'o' in x, ['cat', 'dog', 'cow']))\n",
        "\n",
        "# alternative with a list comprehension\n",
        "comprehension_ohs = [x for x in['cat', 'dog', 'cow'] if 'o' in x]\n",
        "\n",
        "print(f\"lambda_ohs={lambda_ohs}\")\n",
        "print(f\"comprehension_ohs={comprehension_ohs}\")"
      ],
      "execution_count": null,
      "outputs": [
        {
          "output_type": "stream",
          "text": [
            "lambda_ohs=['dog', 'cow']\n",
            "comprehension_ohs=['dog', 'cow']\n"
          ],
          "name": "stdout"
        }
      ]
    },
    {
      "cell_type": "code",
      "metadata": {
        "colab": {
          "base_uri": "https://localhost:8080/",
          "height": 35
        },
        "id": "vbjq3bYnSXDh",
        "outputId": "f20e55c9-a5d7-465b-ea62-3fe428c59097"
      },
      "source": [
        "# lambda and reduce()\n",
        "from functools import reduce\n",
        "reduce(lambda acc, x: f'{acc} | {x}', ['cat', 'dog', 'cow'])"
      ],
      "execution_count": null,
      "outputs": [
        {
          "output_type": "execute_result",
          "data": {
            "application/vnd.google.colaboratory.intrinsic+json": {
              "type": "string"
            },
            "text/plain": [
              "'cat | dog | cow'"
            ]
          },
          "metadata": {
            "tags": []
          },
          "execution_count": 172
        }
      ]
    },
    {
      "cell_type": "code",
      "metadata": {
        "colab": {
          "base_uri": "https://localhost:8080/"
        },
        "id": "7zEiBKvHSyQp",
        "outputId": "06890cc9-3800-4783-d012-e8674380fd2e"
      },
      "source": [
        "# lambda and sorted()\n",
        "# key supplies a sorting function for a custom sorting algorithm\n",
        "\n",
        "ids = ['id1', 'id2', 'id30', 'id3', 'id22', 'id100']\n",
        "\n",
        "# sort alphanumerically\n",
        "alpha_sorted = sorted(ids)\n",
        "print(f\"alpha_sorted={alpha_sorted}\")\n",
        "\n",
        "# sort by the integer portion instead\n",
        "int_sorted = sorted(ids, key=lambda x: int(x[2:]))\n",
        "print(f\"int_sorted={int_sorted}\")"
      ],
      "execution_count": null,
      "outputs": [
        {
          "output_type": "stream",
          "text": [
            "alpha_sorted=['id1', 'id100', 'id2', 'id22', 'id3', 'id30']\n",
            "int_sorted=['id1', 'id2', 'id3', 'id22', 'id30', 'id100']\n"
          ],
          "name": "stdout"
        }
      ]
    },
    {
      "cell_type": "code",
      "metadata": {
        "colab": {
          "base_uri": "https://localhost:8080/"
        },
        "id": "d9dPjsGELozy",
        "outputId": "942fad95-0e8c-4f1e-be7c-3562df0a5af9"
      },
      "source": [
        "# decorators\n",
        "# decorators are preceded with an @ symbol and add behavior to a function or class\n",
        "\n",
        "def decorator(f):\n",
        "  # called when assigned to the function\n",
        "  print(f\"enter decorator(f={f})\")\n",
        "\n",
        "  def wrapper(*args, **kwargs):\n",
        "    # called before the function is called\n",
        "    print(f\"enter wrapper(args={args}, kwargs={kwargs})\")\n",
        "    \n",
        "    # call the decorated function\n",
        "    result = f(*args, **kwargs)\n",
        "\n",
        "    # called after the function is called\n",
        "    print(f\"exit wrapper(args={args}, kwargs={kwargs})\")\n",
        "    return result\n",
        "  \n",
        "  # called when assigned to the function\n",
        "  print(f\"exit decorator(f={f})\")\n",
        "\n",
        "  return wrapper\n",
        "\n",
        "@decorator\n",
        "def decorated_function(x):\n",
        "  # called when the function is called inside the wraps function\n",
        "  print(f\"  call decorated_function(x={x})\")\n",
        "  return x\n",
        "\n",
        "print()\n",
        "\n",
        "# note that only wraps() in decorator() is executed when called\n",
        "x = decorated_function(25)\n",
        "\n",
        "print()\n",
        "print(f\"x={x}\")\n",
        "print()\n",
        "\n",
        "# decorators can be used on lambdas but cannot use the @ symbol\n",
        "decorated_lambda = decorator(lambda x, y: x + y)\n",
        "\n",
        "print()\n",
        "\n",
        "y = decorated_lambda(2, 3)\n",
        "\n",
        "print()\n",
        "print(f\"y={y}\")\n",
        "print()"
      ],
      "execution_count": null,
      "outputs": [
        {
          "output_type": "stream",
          "text": [
            "enter decorator(f=<function decorated_function at 0x7fec01b4b050>)\n",
            "exit decorator(f=<function decorated_function at 0x7fec01b4b050>)\n",
            "\n",
            "enter wrapper(args=(25,), kwargs={})\n",
            "  call decorated_function(x=25)\n",
            "exit wrapper(args=(25,), kwargs={})\n",
            "\n",
            "x=25\n",
            "\n",
            "enter decorator(f=<function <lambda> at 0x7fec01b47dd0>)\n",
            "exit decorator(f=<function <lambda> at 0x7fec01b47dd0>)\n",
            "\n",
            "enter wrapper(args=(2, 3), kwargs={})\n",
            "exit wrapper(args=(2, 3), kwargs={})\n",
            "\n",
            "y=5\n",
            "\n"
          ],
          "name": "stdout"
        }
      ]
    },
    {
      "cell_type": "code",
      "metadata": {
        "colab": {
          "base_uri": "https://localhost:8080/"
        },
        "id": "JAe_JqvcTvmE",
        "outputId": "db5791c1-2ca6-4672-c982-1803936474cb"
      },
      "source": [
        "# decorators with arguments\n",
        "# decorators with arguments require another outer function\n",
        "\n",
        "def some_decorator(param1, param2, param3):\n",
        "  print(f\"enter some_decorator(param1={param1}, param2={param2}, param3={param3})\")\n",
        "\n",
        "  def decorator(f):\n",
        "    # called when assigned to the function\n",
        "    print(f\"enter decorator(f={f})\")\n",
        "\n",
        "    def wrapper(*args, **kwargs):\n",
        "      # called before the function is called\n",
        "      print(f\"enter wrapper(args={args}, kwargs={kwargs})\")\n",
        "\n",
        "      print(f\"  wrapper(args={args}, kwargs={kwargs}): param1={param1}, param2={param2}, param3={param3}\")\n",
        "    \n",
        "      # call the decorated function\n",
        "      result = f(*args, **kwargs)\n",
        "\n",
        "      # called after the function is called\n",
        "      print(f\"exit wrapper(args={args}, kwargs={kwargs})\")\n",
        "\n",
        "      return result\n",
        "  \n",
        "    # called when assigned to the function\n",
        "    print(f\"exit decorator(f={f})\")\n",
        "    return wrapper\n",
        "  \n",
        "  print(f\"exit some_decorator(param1={param1}, param2={param2}, param3={param3})\")\n",
        "  return decorator\n",
        "\n",
        "@some_decorator(param1='a', param2='b', param3='c')\n",
        "def decorated_function(x):\n",
        "  # called when the function is called inside the wraps function\n",
        "  print(f\"  call decorated_function(x={x})\")\n",
        "  return x\n",
        "\n",
        "print()\n",
        "\n",
        "# note that only wraps() in some_decorator() is executed when called\n",
        "x = decorated_function(25)\n",
        "\n",
        "print()\n",
        "print(f\"x={x}\")\n",
        "print()"
      ],
      "execution_count": null,
      "outputs": [
        {
          "output_type": "stream",
          "text": [
            "enter some_decorator(param1=a, param2=b, param3=c)\n",
            "exit some_decorator(param1=a, param2=b, param3=c)\n",
            "enter decorator(f=<function decorated_function at 0x7febfda71ef0>)\n",
            "exit decorator(f=<function decorated_function at 0x7febfda71ef0>)\n",
            "\n",
            "enter wrapper(args=(25,), kwargs={})\n",
            "  wrapper(args=(25,), kwargs={}): param1=a, param2=b, param3=c\n",
            "  call decorated_function(x=25)\n",
            "exit wrapper(args=(25,), kwargs={})\n",
            "\n",
            "x=25\n",
            "\n"
          ],
          "name": "stdout"
        }
      ]
    },
    {
      "cell_type": "code",
      "metadata": {
        "colab": {
          "base_uri": "https://localhost:8080/",
          "height": 69
        },
        "id": "Na-TUBySX85h",
        "outputId": "2d33027d-f855-443c-b09b-d296249293df"
      },
      "source": [
        "# function annotations\n",
        "\n",
        "# Function annotations are optional metadata about the types used in\n",
        "# user-defined functions.\n",
        "\n",
        "# Annotations are stored in the __annotations__ attribute of the function as a\n",
        "# dictionary and have no effect on any other part of the function.\n",
        "\n",
        "# Parameter annotations are defined by a colon after the parameter name,\n",
        "# followed by an expression evaluating to the value of the annotation.\n",
        "\n",
        "# Return annotations are defined by a literal ->, followed by an expression,\n",
        "# between the parameter list and the colon denoting the end of the def statement.\n",
        "\n",
        "# The following example has a required argument, an optional argument, and \n",
        "# return value annotated:\n",
        "def annotations_demo(ham: str, eggs: str='eggs') -> str:\n",
        "  print(\"Annotations:\", f.__annotations__)\n",
        "  print(\"Arguments:\", ham, eggs)\n",
        "  return ham + ' and ' + eggs\n",
        "\n",
        "annotations_demo('spam')"
      ],
      "execution_count": null,
      "outputs": [
        {
          "output_type": "stream",
          "text": [
            "Annotations: {'ham': <class 'str'>, 'eggs': <class 'str'>, 'return': <class 'str'>}\n",
            "Arguments: spam eggs\n"
          ],
          "name": "stdout"
        },
        {
          "output_type": "execute_result",
          "data": {
            "application/vnd.google.colaboratory.intrinsic+json": {
              "type": "string"
            },
            "text/plain": [
              "'spam and eggs'"
            ]
          },
          "metadata": {
            "tags": []
          },
          "execution_count": 188
        }
      ]
    },
    {
      "cell_type": "markdown",
      "metadata": {
        "id": "cAizMuORa8BS"
      },
      "source": [
        "## Lists\n",
        "\n",
        "- Lists are a mutable (can be changed) sequence of ordered elements.\n",
        "- Tuples are an immutable (cannot be changed) sequence of ordered elements.\n",
        "\n",
        "\n",
        "### List Methods:\n",
        "\n",
        "Because lists are mutable, methods that modify a list do no return a new list, they modify the existing list in-place.\n",
        "\n",
        "`list.append(x)`\n",
        "- Add an item to the end of the list.\n",
        "- Equivalent to `a[len(a):] = [x]`.\n",
        "\n",
        "`list.extend(iterable)`\n",
        "- Extend the list by appending all the items from the iterable.\n",
        "- Equivalent to `a[len(a):] = iterable`.\n",
        "\n",
        "`list.insert(i, x)`\n",
        "- Insert an item at a given position.\n",
        "- `i` is the index of the element before which to insert.\n",
        "- `a.insert(0, x)` inserts at the front of the list\n",
        "- `a.insert(len(a), x)` is equivalent to `a.append(x)`.\n",
        "\n",
        "`list.remove(x)`\n",
        "- Remove the first item from the list whose value is equal to x. \n",
        "- It raises a `ValueError` if there is no such item.\n",
        "\n",
        "`list.pop([i])`\n",
        "- Remove the item at the given position in the list, and return it.\n",
        "- If no index is specified, `a.pop()` removes and returns the last item in the list.\n",
        "\n",
        "`list.clear()`\n",
        "- Remove all items from the list.\n",
        "- Equivalent to `del a[:]`.\n",
        "\n",
        "`list.index(x[, start[, end]])`\n",
        "- Return zero-based index in the list of the first item whose value is equal to `x`.\n",
        "- Raises a `ValueError` if there is no such item.\n",
        "- The optional arguments `start` and `end` are interpreted as in the slice notation and are used to limit the search to a particular subsequence of the list.\n",
        "- The returned index is computed relative to the beginning of the full sequence rather than the start argument.\n",
        "\n",
        "`list.count(x)`\n",
        "- Return the number of times `x` appears in the list.\n",
        "\n",
        "`list.sort(*, key=None, reverse=False)`\n",
        "- Sort the items of the list in place (the arguments can be used for sort customization, see `sorted()` for their explanation).\n",
        "\n",
        "`list.reverse()`\n",
        "- Reverse the elements of the list in place.\n",
        "\n",
        "`list.copy()`\n",
        "- Return a shallow copy of the list. Equivalent to `a[:]`."
      ]
    },
    {
      "cell_type": "code",
      "metadata": {
        "colab": {
          "base_uri": "https://localhost:8080/"
        },
        "id": "G4Y-SuCJa9Po",
        "outputId": "eab1c389-0d9d-4bfb-d94f-8f95d04af2b2"
      },
      "source": [
        "# list_name = list()\n",
        "# empty list\n",
        "\n",
        "empty_list = list()\n",
        "\n",
        "empty_list"
      ],
      "execution_count": null,
      "outputs": [
        {
          "output_type": "execute_result",
          "data": {
            "text/plain": [
              "[]"
            ]
          },
          "metadata": {
            "tags": []
          },
          "execution_count": 121
        }
      ]
    },
    {
      "cell_type": "code",
      "metadata": {
        "colab": {
          "base_uri": "https://localhost:8080/"
        },
        "id": "1BsKMokhd1Ki",
        "outputId": "9163d15f-8551-484c-fe6a-696473abc26e"
      },
      "source": [
        "# list_name = []\n",
        "# empty list\n",
        "\n",
        "empty_list = []\n",
        "\n",
        "empty_list"
      ],
      "execution_count": null,
      "outputs": [
        {
          "output_type": "execute_result",
          "data": {
            "text/plain": [
              "[]"
            ]
          },
          "metadata": {
            "tags": []
          },
          "execution_count": 122
        }
      ]
    },
    {
      "cell_type": "code",
      "metadata": {
        "colab": {
          "base_uri": "https://localhost:8080/"
        },
        "id": "ix6FnL9ed6uX",
        "outputId": "4c493706-d7d2-4ddc-d563-6621463202a4"
      },
      "source": [
        "# list_name = list(<tuple>)\n",
        "# declare and initalize a list in one line with a tuple as an argument\n",
        "\n",
        "list_from_tuple = list((\"1\", \"2\", \"3\"))  \n",
        "\n",
        "list_from_tuple"
      ],
      "execution_count": null,
      "outputs": [
        {
          "output_type": "execute_result",
          "data": {
            "text/plain": [
              "['1', '2', '3']"
            ]
          },
          "metadata": {
            "tags": []
          },
          "execution_count": 119
        }
      ]
    },
    {
      "cell_type": "code",
      "metadata": {
        "colab": {
          "base_uri": "https://localhost:8080/"
        },
        "id": "hVKbfYJceNA3",
        "outputId": "20655ea3-b483-48e9-c9e5-3fa57d5bb982"
      },
      "source": [
        "# list declartation and initialization in one line with only ints\n",
        "\n",
        "int_list = [1, 2, 3]\n",
        "\n",
        "int_list"
      ],
      "execution_count": null,
      "outputs": [
        {
          "output_type": "execute_result",
          "data": {
            "text/plain": [
              "[1, 2, 3]"
            ]
          },
          "metadata": {
            "tags": []
          },
          "execution_count": 120
        }
      ]
    },
    {
      "cell_type": "code",
      "metadata": {
        "colab": {
          "base_uri": "https://localhost:8080/"
        },
        "id": "LtZ8GBYLeU1z",
        "outputId": "8c141c6a-3b79-4414-d99a-a94f0b4b9a2d"
      },
      "source": [
        "# list declartation and initialization in one line with only floats\n",
        "\n",
        "float_list = [1.2, 2.3, 3.4]\n",
        "\n",
        "float_list"
      ],
      "execution_count": null,
      "outputs": [
        {
          "output_type": "execute_result",
          "data": {
            "text/plain": [
              "[1.2, 2.3, 3.4]"
            ]
          },
          "metadata": {
            "tags": []
          },
          "execution_count": 121
        }
      ]
    },
    {
      "cell_type": "code",
      "metadata": {
        "colab": {
          "base_uri": "https://localhost:8080/"
        },
        "id": "iRgS4dYyeg0m",
        "outputId": "388d3fbd-0395-4285-ce4b-dbf5f19386bc"
      },
      "source": [
        "# list declartation and initialization in one line with only strings\n",
        "\n",
        "string_list= ['a', 'b', 'c']\n",
        "\n",
        "string_list"
      ],
      "execution_count": null,
      "outputs": [
        {
          "output_type": "execute_result",
          "data": {
            "text/plain": [
              "['a', 'b', 'c']"
            ]
          },
          "metadata": {
            "tags": []
          },
          "execution_count": 122
        }
      ]
    },
    {
      "cell_type": "code",
      "metadata": {
        "colab": {
          "base_uri": "https://localhost:8080/"
        },
        "id": "IYr4Xk3heiPu",
        "outputId": "069db312-8d4c-488e-f73d-aeab02a5eff4"
      },
      "source": [
        "# list of mixed types which can include objects and even functions\n",
        "\n",
        "def my_func():\n",
        "  pass\n",
        "\n",
        "my_str = 'a string variable'\n",
        "my_list = ['this', 'is', 'sub', 'list']\n",
        "my_dict = {'key1': 1, 'key2': 2, 'key3': 'this is a sub dictionary' }\n",
        "mixed_type_list = ['4', my_str, 'a string', 5, 3.14, my_list, my_dict, object(), my_func]\n",
        "\n",
        "mixed_type_list"
      ],
      "execution_count": null,
      "outputs": [
        {
          "output_type": "execute_result",
          "data": {
            "text/plain": [
              "['4',\n",
              " 'a string variable',\n",
              " 'a string',\n",
              " 5,\n",
              " 3.14,\n",
              " ['this', 'is', 'sub', 'list'],\n",
              " {'key1': 1, 'key2': 2, 'key3': 'this is a sub dictionary'},\n",
              " <object at 0x7ffa41271eb0>,\n",
              " <function __main__.my_func>]"
            ]
          },
          "metadata": {
            "tags": []
          },
          "execution_count": 5
        }
      ]
    },
    {
      "cell_type": "code",
      "metadata": {
        "colab": {
          "base_uri": "https://localhost:8080/"
        },
        "id": "wZPEOYbsU5E2",
        "outputId": "da4b349f-c8d5-40d3-debc-4408f12f5abc"
      },
      "source": [
        "# <list>[<i>] = <value>\n",
        "# change a list item's value\n",
        "\n",
        "fruits = [\"apple\", \"banana\", \"orange\"]\n",
        "fruits[1] = \"pear\"\n",
        "\n",
        "fruits"
      ],
      "execution_count": null,
      "outputs": [
        {
          "output_type": "execute_result",
          "data": {
            "text/plain": [
              "['apple', 'pear', 'orange']"
            ]
          },
          "metadata": {
            "tags": []
          },
          "execution_count": 134
        }
      ]
    },
    {
      "cell_type": "code",
      "metadata": {
        "colab": {
          "base_uri": "https://localhost:8080/"
        },
        "id": "rvKBetTYncn3",
        "outputId": "3a88fe7c-3887-4aed-8e0b-c40636d75d7e"
      },
      "source": [
        "# [i:j]\n",
        "# like strings, all other built-in sequence types can be indexed and sliced\n",
        "numbers = [34, 23, 67, 100, 88, 2]\n",
        "\n",
        "# positive and negative indices\n",
        "print(numbers[0])\n",
        "print(numbers[-1])\n",
        "\n",
        "# slice\n",
        "print(numbers[2:])\n",
        "print(numbers[-2:])\n",
        "print(numbers[:2])\n",
        "print(numbers[:-1])\n",
        "print(numbers[2:4])\n",
        "print(numbers[2:-1])"
      ],
      "execution_count": null,
      "outputs": [
        {
          "output_type": "stream",
          "text": [
            "34\n",
            "2\n",
            "[67, 100, 88, 2]\n",
            "[88, 2]\n",
            "[34, 23]\n",
            "[34, 23, 67, 100, 88]\n",
            "[67, 100]\n",
            "[67, 100, 88]\n"
          ],
          "name": "stdout"
        }
      ]
    },
    {
      "cell_type": "code",
      "metadata": {
        "colab": {
          "base_uri": "https://localhost:8080/"
        },
        "id": "810HkEevXBz_",
        "outputId": "a0197adf-ce33-4224-dd25-8f3b91d75339"
      },
      "source": [
        "# make a shallow copy\n",
        "numbers = [34, 23, 67, 100, 88, 2]\n",
        "\n",
        "numbers2 = numbers[:]\n",
        "\n",
        "numbers2"
      ],
      "execution_count": null,
      "outputs": [
        {
          "output_type": "execute_result",
          "data": {
            "text/plain": [
              "[34, 23, 67, 100, 88, 2]"
            ]
          },
          "metadata": {
            "tags": []
          },
          "execution_count": 221
        }
      ]
    },
    {
      "cell_type": "code",
      "metadata": {
        "colab": {
          "base_uri": "https://localhost:8080/"
        },
        "id": "UCFrsNZYX8H3",
        "outputId": "fabb10bb-6b71-4201-d68e-f1edb9848859"
      },
      "source": [
        "# assignment to slices is also possible, and this can even change the size of\n",
        "# the list or clear it entirely:\n",
        "letters = ['a', 'b', 'c', 'd', 'e', 'f', 'g']\n",
        "\n",
        "# replace some values\n",
        "letters[2:5] = ['C', 'D', 'E']\n",
        "\n",
        "letters"
      ],
      "execution_count": null,
      "outputs": [
        {
          "output_type": "execute_result",
          "data": {
            "text/plain": [
              "['a', 'b', 'C', 'D', 'E', 'f', 'g']"
            ]
          },
          "metadata": {
            "tags": []
          },
          "execution_count": 224
        }
      ]
    },
    {
      "cell_type": "code",
      "metadata": {
        "colab": {
          "base_uri": "https://localhost:8080/"
        },
        "id": "NLTbKloKYFR0",
        "outputId": "1ee5050e-5924-46bc-85dc-bd5d4cdcd6a3"
      },
      "source": [
        "# now remove them\n",
        "letters = ['a', 'b', 'C', 'D', 'E', 'f', 'g']\n",
        "\n",
        "letters[2:5] = []\n",
        "\n",
        "letters"
      ],
      "execution_count": null,
      "outputs": [
        {
          "output_type": "execute_result",
          "data": {
            "text/plain": [
              "['a', 'b', 'f', 'g']"
            ]
          },
          "metadata": {
            "tags": []
          },
          "execution_count": 230
        }
      ]
    },
    {
      "cell_type": "code",
      "metadata": {
        "colab": {
          "base_uri": "https://localhost:8080/"
        },
        "id": "LUXaympkYNOy",
        "outputId": "078061ae-2749-4de1-bdf3-f3a95c91afa8"
      },
      "source": [
        "# clear the list by replacing all the elements with an empty list\n",
        "letters = ['a', 'b', 'f', 'g']\n",
        "\n",
        "letters[:] = []\n",
        "\n",
        "letters"
      ],
      "execution_count": null,
      "outputs": [
        {
          "output_type": "execute_result",
          "data": {
            "text/plain": [
              "[]"
            ]
          },
          "metadata": {
            "tags": []
          },
          "execution_count": 229
        }
      ]
    },
    {
      "cell_type": "code",
      "metadata": {
        "colab": {
          "base_uri": "https://localhost:8080/"
        },
        "id": "vG9FIwjsYc2T",
        "outputId": "a39721b1-3ef0-48e6-cbf4-9f21759aed4b"
      },
      "source": [
        "# The built-in function len() also applies to lists:\n",
        "letters = ['a', 'b', 'c', 'd']\n",
        "\n",
        "len(letters)"
      ],
      "execution_count": null,
      "outputs": [
        {
          "output_type": "execute_result",
          "data": {
            "text/plain": [
              "4"
            ]
          },
          "metadata": {
            "tags": []
          },
          "execution_count": 231
        }
      ]
    },
    {
      "cell_type": "code",
      "metadata": {
        "colab": {
          "base_uri": "https://localhost:8080/"
        },
        "id": "D45Z9VaLYmxN",
        "outputId": "c2ca51fa-d8ef-46a2-e6f5-1829eda931c8"
      },
      "source": [
        "# It is possible to nest lists (create lists containing other lists)\n",
        "a = ['a', 'b', 'c']\n",
        "n = [1, 2, 3]\n",
        "x = [a, n]\n",
        "\n",
        "x"
      ],
      "execution_count": null,
      "outputs": [
        {
          "output_type": "execute_result",
          "data": {
            "text/plain": [
              "[['a', 'b', 'c'], [1, 2, 3]]"
            ]
          },
          "metadata": {
            "tags": []
          },
          "execution_count": 233
        }
      ]
    },
    {
      "cell_type": "code",
      "metadata": {
        "colab": {
          "base_uri": "https://localhost:8080/"
        },
        "id": "KnvVBRsM5a35",
        "outputId": "5c538fed-9b58-4b63-f7ac-60ccce6bd361"
      },
      "source": [
        "# in\n",
        "# determine if a value is contained in a list or other sequence\n",
        "\n",
        "print('Enter (Y)es or (N)o:')\n",
        "ok = None\n",
        "\n",
        "# determine if what was entered is in the list\n",
        "while True:\n",
        "  prompt = input()\n",
        "  print('{} was entered'.format(prompt))\n",
        "\n",
        "  if prompt.lower() in ('y', 'ye', 'yes'):\n",
        "    ok = True\n",
        "    break\n",
        "  elif prompt.lower() in ('n', 'no'):\n",
        "    ok = False\n",
        "    break\n",
        "  else:\n",
        "    print('invalid input')\n",
        "  \n",
        "ok"
      ],
      "execution_count": null,
      "outputs": [
        {
          "output_type": "stream",
          "text": [
            "Enter (Y)es or (N)o:\n",
            "Y\n",
            "Y was entered\n"
          ],
          "name": "stdout"
        },
        {
          "output_type": "execute_result",
          "data": {
            "text/plain": [
              "True"
            ]
          },
          "metadata": {
            "tags": []
          },
          "execution_count": 84
        }
      ]
    },
    {
      "cell_type": "code",
      "metadata": {
        "colab": {
          "base_uri": "https://localhost:8080/"
        },
        "id": "KrxFMFJee4kh",
        "outputId": "9038283d-7337-42cf-ec84-48c8954ff204"
      },
      "source": [
        "# <list>.append()\n",
        "# adds items to the end of a list\n",
        "\n",
        "fruits = [\"apple\", \"banana\", \"orange\"]\n",
        "fruits.append(\"grapes\")\n",
        "\n",
        "fruits"
      ],
      "execution_count": null,
      "outputs": [
        {
          "output_type": "execute_result",
          "data": {
            "text/plain": [
              "['apple', 'banana', 'orange', 'grapes']"
            ]
          },
          "metadata": {
            "tags": []
          },
          "execution_count": 124
        }
      ]
    },
    {
      "cell_type": "code",
      "metadata": {
        "colab": {
          "base_uri": "https://localhost:8080/"
        },
        "id": "8CG8MI24MI5K",
        "outputId": "ba866959-b04d-45a5-a954-2342c017c840"
      },
      "source": [
        "# <list>.extend(<iterable>)\n",
        "# adds all items from the supplied iterable to the end of a list\n",
        "\n",
        "fruits = [\"apple\", \"banana\", \"orange\"]\n",
        "fruits.extend([\"grapes\", \"kiwi\", \"pear\"])\n",
        "\n",
        "fruits"
      ],
      "execution_count": null,
      "outputs": [
        {
          "output_type": "execute_result",
          "data": {
            "text/plain": [
              "['apple', 'banana', 'orange', 'grapes', 'kiwi', 'pear']"
            ]
          },
          "metadata": {
            "tags": []
          },
          "execution_count": 2
        }
      ]
    },
    {
      "cell_type": "code",
      "metadata": {
        "colab": {
          "base_uri": "https://localhost:8080/"
        },
        "id": "-bxfvN8pfK9W",
        "outputId": "31e26386-090a-485c-d873-4df6d219c2eb"
      },
      "source": [
        "# <list>.insert()\n",
        "# adds items to a particular index position starting at 0\n",
        "\n",
        "fruits = [\"apple\", \"banana\", \"orange\"]\n",
        "fruits.insert(1, \"grapes\")\n",
        "\n",
        "fruits"
      ],
      "execution_count": null,
      "outputs": [
        {
          "output_type": "execute_result",
          "data": {
            "text/plain": [
              "['apple', 'grapes', 'banana', 'orange']"
            ]
          },
          "metadata": {
            "tags": []
          },
          "execution_count": 125
        }
      ]
    },
    {
      "cell_type": "code",
      "metadata": {
        "colab": {
          "base_uri": "https://localhost:8080/"
        },
        "id": "pECEFijDfhpP",
        "outputId": "0948a733-0be3-4c42-8b87-7f433c4e61dc"
      },
      "source": [
        "# <list>.remove()\n",
        "# removes / deletes the first occurence of an item from a list BY VALUE\n",
        "\n",
        "fruits = [\"apple\", \"banana\", \"orange\"]\n",
        "fruits.remove(\"banana\")  # remove the value \"banana\"\n",
        "\n",
        "fruits"
      ],
      "execution_count": null,
      "outputs": [
        {
          "output_type": "execute_result",
          "data": {
            "text/plain": [
              "['apple', 'orange']"
            ]
          },
          "metadata": {
            "tags": []
          },
          "execution_count": 126
        }
      ]
    },
    {
      "cell_type": "code",
      "metadata": {
        "colab": {
          "base_uri": "https://localhost:8080/"
        },
        "id": "tnmcjIX7fxrL",
        "outputId": "a17d2414-b1f4-4cd2-f018-a00b92e02f79"
      },
      "source": [
        "# <list>.pop()\n",
        "# removes an item from the end of the list and returns it - last in, first out (LIFO)\n",
        "\n",
        "fruits = [\"apple\", \"banana\", \"orange\"]\n",
        "print(fruits.pop())  # return the last item\n",
        "\n",
        "fruits"
      ],
      "execution_count": null,
      "outputs": [
        {
          "output_type": "stream",
          "text": [
            "orange\n"
          ],
          "name": "stdout"
        },
        {
          "output_type": "execute_result",
          "data": {
            "text/plain": [
              "['apple', 'banana']"
            ]
          },
          "metadata": {
            "tags": []
          },
          "execution_count": 127
        }
      ]
    },
    {
      "cell_type": "code",
      "metadata": {
        "colab": {
          "base_uri": "https://localhost:8080/"
        },
        "id": "BBznWaslgIN0",
        "outputId": "f9c2d73a-607e-4eda-b5a8-70769932ca36"
      },
      "source": [
        "# <list>.pop(i)\n",
        "# Removes an item from a specific index of the list and returns it\n",
        "\n",
        "fruits = [\"apple\", \"banana\", \"orange\"]\n",
        "fruit1 = fruits.pop(1)  # return item indexed 1\n",
        "\n",
        "print(fruit1)\n",
        "print(fruits)"
      ],
      "execution_count": null,
      "outputs": [
        {
          "output_type": "stream",
          "text": [
            "banana\n",
            "['apple', 'orange']\n"
          ],
          "name": "stdout"
        }
      ]
    },
    {
      "cell_type": "code",
      "metadata": {
        "colab": {
          "base_uri": "https://localhost:8080/"
        },
        "id": "U1f6AqcxMsDN",
        "outputId": "370b8229-79a5-425e-8fdc-13f5510033f5"
      },
      "source": [
        "# <list>.clear()\n",
        "# Remove all items from the list.  Equivalent to del a[:]\n",
        "\n",
        "fruits1 = [\"apple\", \"banana\", \"orange\"]\n",
        "fruits1.clear()\n",
        "\n",
        "fruits2 = [\"apple\", \"banana\", \"orange\"]\n",
        "del fruits2[:]\n",
        "\n",
        "print(f\"fruits1 = {fruits1}\")\n",
        "print(f\"fruits2 = {fruits2}\")"
      ],
      "execution_count": null,
      "outputs": [
        {
          "output_type": "stream",
          "text": [
            "fruits1 = []\n",
            "fruits2 = []\n"
          ],
          "name": "stdout"
        }
      ]
    },
    {
      "cell_type": "code",
      "metadata": {
        "colab": {
          "base_uri": "https://localhost:8080/"
        },
        "id": "eipWMm1BnD44",
        "outputId": "be098b72-2a9e-46db-c867-1cdafa48292a"
      },
      "source": [
        "# <list>.sort()\n",
        "# sort a list\n",
        "\n",
        "numbers = [34, 23, 67, 100, 88, 2]\n",
        "numbers.sort()\n",
        "\n",
        "numbers"
      ],
      "execution_count": null,
      "outputs": [
        {
          "output_type": "execute_result",
          "data": {
            "text/plain": [
              "[2, 23, 34, 67, 88, 100]"
            ]
          },
          "metadata": {
            "tags": []
          },
          "execution_count": 133
        }
      ]
    },
    {
      "cell_type": "code",
      "metadata": {
        "colab": {
          "base_uri": "https://localhost:8080/"
        },
        "id": "DUyJmcFfODCD",
        "outputId": "7a28b83b-c815-491a-96f7-431c7a47a793"
      },
      "source": [
        "# <list>.reverse()\n",
        "# reverse the order of a list\n",
        "\n",
        "numbers1 = [34, 23, 67, 100, 88, 2]\n",
        "numbers1.reverse()\n",
        "\n",
        "print(f\"numbers1 = {numbers1}\")\n",
        "\n",
        "numbers2 = [34, 23, 67, 100, 88, 2]\n",
        "numbers2.sort(reverse=True)\n",
        "\n",
        "print(f\"numbers2 = {numbers2}\")"
      ],
      "execution_count": null,
      "outputs": [
        {
          "output_type": "stream",
          "text": [
            "numbers1 = [2, 88, 100, 67, 23, 34]\n",
            "numbers2 = [100, 88, 67, 34, 23, 2]\n"
          ],
          "name": "stdout"
        }
      ]
    },
    {
      "cell_type": "code",
      "metadata": {
        "colab": {
          "base_uri": "https://localhost:8080/"
        },
        "id": "JJUmdsI_gYzT",
        "outputId": "b8c3d37c-fa03-44c1-90d4-05504ad33848"
      },
      "source": [
        "# del <list>[<i>]\n",
        "# removes / deletes an item from a list BY INDEX\n",
        "\n",
        "fruits = [\"apple\", \"banana\", \"orange\"]\n",
        "del fruits[1]  # delete index 1\n",
        "\n",
        "fruits"
      ],
      "execution_count": null,
      "outputs": [
        {
          "output_type": "execute_result",
          "data": {
            "text/plain": [
              "['apple', 'orange']"
            ]
          },
          "metadata": {
            "tags": []
          },
          "execution_count": 131
        }
      ]
    },
    {
      "cell_type": "code",
      "metadata": {
        "colab": {
          "base_uri": "https://localhost:8080/"
        },
        "id": "WQsVKYRghCYG",
        "outputId": "648da57b-e71e-4b88-c277-9327fb48ea64"
      },
      "source": [
        "# <list1> + <list2>\n",
        "# concatenates two or more lists\n",
        "\n",
        "list1 = [1, 2, 3]\n",
        "list2 = ['a', 'b', 'c']\n",
        "list3 = list1 + list2\n",
        "\n",
        "list3"
      ],
      "execution_count": null,
      "outputs": [
        {
          "output_type": "execute_result",
          "data": {
            "text/plain": [
              "[1, 2, 3, 'a', 'b', 'c']"
            ]
          },
          "metadata": {
            "tags": []
          },
          "execution_count": 132
        }
      ]
    },
    {
      "cell_type": "code",
      "metadata": {
        "colab": {
          "base_uri": "https://localhost:8080/"
        },
        "id": "5E4ydrZXVK9B",
        "outputId": "4199f83d-a05c-49c5-8eb4-edca2af99c55"
      },
      "source": [
        "# for...in with range(len(<list>))\n",
        "# loop over a list by index using range() and len()\n",
        "\n",
        "fruits = [\"apple\", \"banana\", \"orange\"]\n",
        "\n",
        "for i in range(len(fruits)):\n",
        "  print(fruits[i])"
      ],
      "execution_count": null,
      "outputs": [
        {
          "output_type": "stream",
          "text": [
            "apple\n",
            "banana\n",
            "orange\n"
          ],
          "name": "stdout"
        }
      ]
    },
    {
      "cell_type": "code",
      "metadata": {
        "colab": {
          "base_uri": "https://localhost:8080/"
        },
        "id": "vVZI3ERrVjzo",
        "outputId": "79a16e60-65be-4514-ae71-748cc897105c"
      },
      "source": [
        "# loop over a list with for...in\n",
        "\n",
        "fruits = [\"apple\", \"banana\", \"orange\"]\n",
        "\n",
        "for fruit in fruits:\n",
        "  print(fruit)"
      ],
      "execution_count": null,
      "outputs": [
        {
          "output_type": "stream",
          "text": [
            "apple\n",
            "banana\n",
            "orange\n"
          ],
          "name": "stdout"
        }
      ]
    },
    {
      "cell_type": "code",
      "metadata": {
        "colab": {
          "base_uri": "https://localhost:8080/",
          "height": 231
        },
        "id": "HaWOe_mSsBlc",
        "outputId": "7adf25be-87ec-4f06-8bb7-3527903d01d5"
      },
      "source": [
        "# modifying lists inside a loop is error-prone, instead make a copy or\n",
        "# create a new collection\n",
        "\n",
        "users = {{'tom', 'active'}, {'dick', 'inactive'), ('harry', 'active')}\n",
        "\n",
        "# iterate over a copy\n",
        "for user, status in users.copy().items():\n",
        "    if status == 'inactive':\n",
        "        del users[user]\n",
        "\n",
        "print(users)"
      ],
      "execution_count": null,
      "outputs": [
        {
          "output_type": "error",
          "ename": "AttributeError",
          "evalue": "ignored",
          "traceback": [
            "\u001b[0;31m---------------------------------------------------------------------------\u001b[0m",
            "\u001b[0;31mAttributeError\u001b[0m                            Traceback (most recent call last)",
            "\u001b[0;32m<ipython-input-253-91ee9cdfebe1>\u001b[0m in \u001b[0;36m<module>\u001b[0;34m()\u001b[0m\n\u001b[1;32m      5\u001b[0m \u001b[0;34m\u001b[0m\u001b[0m\n\u001b[1;32m      6\u001b[0m \u001b[0;31m# iterate over a copy\u001b[0m\u001b[0;34m\u001b[0m\u001b[0;34m\u001b[0m\u001b[0;34m\u001b[0m\u001b[0m\n\u001b[0;32m----> 7\u001b[0;31m \u001b[0;32mfor\u001b[0m \u001b[0muser\u001b[0m\u001b[0;34m,\u001b[0m \u001b[0mstatus\u001b[0m \u001b[0;32min\u001b[0m \u001b[0musers\u001b[0m\u001b[0;34m.\u001b[0m\u001b[0mcopy\u001b[0m\u001b[0;34m(\u001b[0m\u001b[0;34m)\u001b[0m\u001b[0;34m.\u001b[0m\u001b[0mitems\u001b[0m\u001b[0;34m(\u001b[0m\u001b[0;34m)\u001b[0m\u001b[0;34m:\u001b[0m\u001b[0;34m\u001b[0m\u001b[0;34m\u001b[0m\u001b[0m\n\u001b[0m\u001b[1;32m      8\u001b[0m     \u001b[0;32mif\u001b[0m \u001b[0mstatus\u001b[0m \u001b[0;34m==\u001b[0m \u001b[0;34m'inactive'\u001b[0m\u001b[0;34m:\u001b[0m\u001b[0;34m\u001b[0m\u001b[0;34m\u001b[0m\u001b[0m\n\u001b[1;32m      9\u001b[0m         \u001b[0;32mdel\u001b[0m \u001b[0musers\u001b[0m\u001b[0;34m[\u001b[0m\u001b[0muser\u001b[0m\u001b[0;34m]\u001b[0m\u001b[0;34m\u001b[0m\u001b[0;34m\u001b[0m\u001b[0m\n",
            "\u001b[0;31mAttributeError\u001b[0m: 'list' object has no attribute 'items'"
          ]
        }
      ]
    },
    {
      "cell_type": "code",
      "metadata": {
        "colab": {
          "base_uri": "https://localhost:8080/"
        },
        "id": "8muhZM_PVzOW",
        "outputId": "69b90c4d-91e5-4973-beea-f5b95eaaa563"
      },
      "source": [
        "# list_name.copy()\n",
        "# copy a list with list_name.copy()\n",
        "fruits2 = fruits.copy()\n",
        "\n",
        "fruits2"
      ],
      "execution_count": null,
      "outputs": [
        {
          "output_type": "execute_result",
          "data": {
            "text/plain": [
              "['apple', 'banana', 'orange']"
            ]
          },
          "metadata": {
            "tags": []
          },
          "execution_count": 11
        }
      ]
    },
    {
      "cell_type": "code",
      "metadata": {
        "colab": {
          "base_uri": "https://localhost:8080/"
        },
        "id": "uXGIxjJUWAqc",
        "outputId": "c8a14284-11ba-40ac-d780-9493ab13b911"
      },
      "source": [
        "# list(sequence_name)\n",
        "# copy a list with list()\n",
        "\n",
        "fruits2 = list(fruits)\n",
        "\n",
        "fruits2"
      ],
      "execution_count": null,
      "outputs": [
        {
          "output_type": "execute_result",
          "data": {
            "text/plain": [
              "['apple', 'banana', 'orange']"
            ]
          },
          "metadata": {
            "tags": []
          },
          "execution_count": 13
        }
      ]
    },
    {
      "cell_type": "code",
      "metadata": {
        "colab": {
          "base_uri": "https://localhost:8080/"
        },
        "id": "tVzY9i3lWOUM",
        "outputId": "6b056642-8af2-4128-bd20-5883219c3aaa"
      },
      "source": [
        "# list comprehension\n",
        "# list_variable = [x for x in iterable]\n",
        "\n",
        "squares = [x ** 2 for x in range(10)]\n",
        "\n",
        "squares"
      ],
      "execution_count": null,
      "outputs": [
        {
          "output_type": "execute_result",
          "data": {
            "text/plain": [
              "[0, 1, 4, 9, 16, 25, 36, 49, 64, 81]"
            ]
          },
          "metadata": {
            "tags": []
          },
          "execution_count": 15
        }
      ]
    },
    {
      "cell_type": "code",
      "metadata": {
        "colab": {
          "base_uri": "https://localhost:8080/"
        },
        "id": "SkeD4VEFWheX",
        "outputId": "375a2152-f097-4aa5-82c3-68da8409c859"
      },
      "source": [
        "# list comprehension with an if condition\n",
        "# [x for x in iterable if condition]\n",
        "# supports all 3: if...elif...else\n",
        "\n",
        "even_squares = [x ** 2 for x in range(10) if x % 2 == 0]\n",
        "\n",
        "even_squares\n"
      ],
      "execution_count": null,
      "outputs": [
        {
          "output_type": "execute_result",
          "data": {
            "text/plain": [
              "[0, 4, 16, 36, 64]"
            ]
          },
          "metadata": {
            "tags": []
          },
          "execution_count": 68
        }
      ]
    },
    {
      "cell_type": "markdown",
      "metadata": {
        "id": "sEK7vXeSUOe0"
      },
      "source": [
        "## Tuples\n",
        "\n",
        "- Tuples are an immutable (cannot be changed) sequence of ordered elements\n",
        "- Lists are a mutable (can be changed) sequence of ordered elements."
      ]
    },
    {
      "cell_type": "code",
      "metadata": {
        "colab": {
          "base_uri": "https://localhost:8080/"
        },
        "id": "bZr8hcIRURAj",
        "outputId": "b1f26302-6c9f-42dd-9911-83223f3adb49"
      },
      "source": [
        "my_tuple = (1, 2, 3, 4, 5)\n",
        "\n",
        "my_tuple[0:3]"
      ],
      "execution_count": null,
      "outputs": [
        {
          "output_type": "execute_result",
          "data": {
            "text/plain": [
              "(1, 2, 3)"
            ]
          },
          "metadata": {
            "tags": []
          },
          "execution_count": 1
        }
      ]
    },
    {
      "cell_type": "code",
      "metadata": {
        "colab": {
          "base_uri": "https://localhost:8080/"
        },
        "id": "_rYg06TOUkJq",
        "outputId": "5e898d39-7c55-46d1-911f-502a2edb3380"
      },
      "source": [
        "# sliding a tuple is similar to slicing a list\n",
        "numbers = (0, 1, 2, 3, 4, 5, 6, 7, 8, 9, 10, 11, 12)\n",
        "\n",
        "numbers[1:11:2]"
      ],
      "execution_count": null,
      "outputs": [
        {
          "output_type": "execute_result",
          "data": {
            "text/plain": [
              "(1, 3, 5, 7, 9)"
            ]
          },
          "metadata": {
            "tags": []
          },
          "execution_count": 2
        }
      ]
    },
    {
      "cell_type": "code",
      "metadata": {
        "colab": {
          "base_uri": "https://localhost:8080/"
        },
        "id": "4cGr3dI2UwC3",
        "outputId": "ecc63329-ea26-4831-dab8-9f2d8f376858"
      },
      "source": [
        "# converting a tuple to a list with list()\n",
        "fruits_tuple = (\"apple\", \"orange\", \"pear\")\n",
        "\n",
        "fruits_list = list(fruits_tuple)\n",
        "\n",
        "fruits_list"
      ],
      "execution_count": null,
      "outputs": [
        {
          "output_type": "execute_result",
          "data": {
            "text/plain": [
              "['apple', 'orange', 'pear']"
            ]
          },
          "metadata": {
            "tags": []
          },
          "execution_count": 4
        }
      ]
    },
    {
      "cell_type": "code",
      "metadata": {
        "colab": {
          "base_uri": "https://localhost:8080/"
        },
        "id": "ticZ1w0lUzB_",
        "outputId": "fe413281-1a52-4ddc-b8c9-c8962aec1057"
      },
      "source": [
        "# converting a list to a tuple with tuple()\n",
        "fruits_list = (\"apple\", \"orange\", \"pear\")\n",
        "\n",
        "fruits_tuple = tuple(fruits_list)\n",
        "\n",
        "fruits_tuple"
      ],
      "execution_count": null,
      "outputs": [
        {
          "output_type": "execute_result",
          "data": {
            "text/plain": [
              "('apple', 'orange', 'pear')"
            ]
          },
          "metadata": {
            "tags": []
          },
          "execution_count": 5
        }
      ]
    },
    {
      "cell_type": "markdown",
      "metadata": {
        "id": "wwint8-RVU0N"
      },
      "source": [
        "## Dictionaries\n",
        "\n",
        "- A dictionary is a mutable data structure that contains key-value pairs.\n",
        "- Keys can be a string, integer, or boolean (`True` / `False`)."
      ]
    },
    {
      "cell_type": "code",
      "metadata": {
        "colab": {
          "base_uri": "https://localhost:8080/"
        },
        "id": "rb0xI5QoVUEF",
        "outputId": "69713f40-88ea-491f-de5b-2a66cdc07cb8"
      },
      "source": [
        "# defining an empty dictionary with dict()\n",
        "my_dict = dict()\n",
        "\n",
        "my_dict"
      ],
      "execution_count": null,
      "outputs": [
        {
          "output_type": "execute_result",
          "data": {
            "text/plain": [
              "{}"
            ]
          },
          "metadata": {
            "tags": []
          },
          "execution_count": 8
        }
      ]
    },
    {
      "cell_type": "code",
      "metadata": {
        "colab": {
          "base_uri": "https://localhost:8080/"
        },
        "id": "mRvsB10WWRKm",
        "outputId": "adec81b6-82b7-4801-ef24-1af9d5439041"
      },
      "source": [
        "# defining an empty dictionary with {}\n",
        "my_dict = {}\n",
        "\n",
        "my_dict"
      ],
      "execution_count": null,
      "outputs": [
        {
          "output_type": "execute_result",
          "data": {
            "text/plain": [
              "{}"
            ]
          },
          "metadata": {
            "tags": []
          },
          "execution_count": 9
        }
      ]
    },
    {
      "cell_type": "code",
      "metadata": {
        "colab": {
          "base_uri": "https://localhost:8080/"
        },
        "id": "Cgh1LojoWADO",
        "outputId": "19e323fa-5c10-48aa-b8e5-17255fa7938d"
      },
      "source": [
        "# initializing a dictionary with {}\n",
        "cars = {\n",
        "  \"brand\": \"Chevrolet\",\n",
        "  \"model\": \"Corvette\",\n",
        "  \"year\": 2020\n",
        "}\n",
        "\n",
        "cars"
      ],
      "execution_count": null,
      "outputs": [
        {
          "output_type": "execute_result",
          "data": {
            "text/plain": [
              "{'brand': 'Chevrolet', 'model': 'Corvette', 'year': 2020}"
            ]
          },
          "metadata": {
            "tags": []
          },
          "execution_count": 13
        }
      ]
    },
    {
      "cell_type": "code",
      "metadata": {
        "colab": {
          "base_uri": "https://localhost:8080/",
          "height": 35
        },
        "id": "KfcMjVN9Wuh3",
        "outputId": "f48474f9-c75b-4d91-870e-ea04586978de"
      },
      "source": [
        "# accessing a dict value with its key\n",
        "cars = {\n",
        "  \"brand\": \"Chevrolet\",\n",
        "  \"model\": \"Corvette\",\n",
        "  \"year\": 2020\n",
        "}\n",
        " \n",
        "cars[\"model\"]"
      ],
      "execution_count": null,
      "outputs": [
        {
          "output_type": "execute_result",
          "data": {
            "application/vnd.google.colaboratory.intrinsic+json": {
              "type": "string"
            },
            "text/plain": [
              "'Corvette'"
            ]
          },
          "metadata": {
            "tags": []
          },
          "execution_count": 16
        }
      ]
    },
    {
      "cell_type": "code",
      "metadata": {
        "colab": {
          "base_uri": "https://localhost:8080/"
        },
        "id": "R-oJpuEYW-FP",
        "outputId": "ce8ed463-a78a-42cd-fb8c-4ff586fc769d"
      },
      "source": [
        "# dict.keys() returns just the keys of the dict - typically used in looping\n",
        "cars = {\n",
        "  \"brand\": \"Chevrolet\",\n",
        "  \"model\": \"Corvette\",\n",
        "  \"year\": 2020\n",
        "}\n",
        "\n",
        "cars.keys()"
      ],
      "execution_count": null,
      "outputs": [
        {
          "output_type": "execute_result",
          "data": {
            "text/plain": [
              "dict_keys(['brand', 'model', 'year'])"
            ]
          },
          "metadata": {
            "tags": []
          },
          "execution_count": 17
        }
      ]
    },
    {
      "cell_type": "code",
      "metadata": {
        "colab": {
          "base_uri": "https://localhost:8080/"
        },
        "id": "lENVgdC3XMhL",
        "outputId": "cebd15cc-f519-4537-b90a-3a8bfc4cae15"
      },
      "source": [
        "# dict.values() returns just the values of the dict - typically used in looping\n",
        "cars = {\n",
        "  \"brand\": \"Chevrolet\",\n",
        "  \"model\": \"Corvette\",\n",
        "  \"year\": 2020\n",
        "}\n",
        "\n",
        "cars.values()"
      ],
      "execution_count": null,
      "outputs": [
        {
          "output_type": "execute_result",
          "data": {
            "text/plain": [
              "dict_values(['Chevrolet', 'Corvette', 2020])"
            ]
          },
          "metadata": {
            "tags": []
          },
          "execution_count": 18
        }
      ]
    },
    {
      "cell_type": "code",
      "metadata": {
        "colab": {
          "base_uri": "https://localhost:8080/"
        },
        "id": "lJ6m2BBbXNt-",
        "outputId": "dceb2f24-b0a6-4e92-dac2-008612250b0d"
      },
      "source": [
        "# dict.items() returns a tuple in the format of (key, value) tuple pairs - typically used in looping\n",
        "cars = {\n",
        "  \"brand\": \"Chevrolet\",\n",
        "  \"model\": \"Corvette\",\n",
        "  \"year\": 2020\n",
        "}\n",
        "\n",
        "cars.items()"
      ],
      "execution_count": null,
      "outputs": [
        {
          "output_type": "execute_result",
          "data": {
            "text/plain": [
              "dict_items([('brand', 'Chevrolet'), ('model', 'Corvette'), ('year', 2020)])"
            ]
          },
          "metadata": {
            "tags": []
          },
          "execution_count": 19
        }
      ]
    },
    {
      "cell_type": "code",
      "metadata": {
        "colab": {
          "base_uri": "https://localhost:8080/"
        },
        "id": "GuhgfrRqXb80",
        "outputId": "5313431d-bf63-47c7-c8ad-52a6c3c2af45"
      },
      "source": [
        "# changing a dict item's value\n",
        "cars = {\n",
        "  \"brand\": \"Chevrolet\",\n",
        "  \"model\": \"Corvette\",\n",
        "  \"year\": 2020\n",
        "}\n",
        "\n",
        "cars[\"year\"] = 2021\n",
        "\n",
        "cars[\"year\"]"
      ],
      "execution_count": null,
      "outputs": [
        {
          "output_type": "execute_result",
          "data": {
            "text/plain": [
              "2021"
            ]
          },
          "metadata": {
            "tags": []
          },
          "execution_count": 21
        }
      ]
    },
    {
      "cell_type": "code",
      "metadata": {
        "colab": {
          "base_uri": "https://localhost:8080/"
        },
        "id": "e53fHKZXXlFW",
        "outputId": "e0a753aa-47f1-4739-ee0e-974787e10bf0"
      },
      "source": [
        "# looping over the keys in a dict\n",
        "cars = {\n",
        "  \"brand\": \"Chevrolet\",\n",
        "  \"model\": \"Corvette\",\n",
        "  \"year\": 2020\n",
        "}\n",
        "\n",
        "for key in cars:\n",
        "  print(\"cars['{}'] = {}\".format(key, cars[key]))"
      ],
      "execution_count": null,
      "outputs": [
        {
          "output_type": "stream",
          "text": [
            "cars['brand'] = Chevrolet\n",
            "cars['model'] = Corvette\n",
            "cars['year'] = 2020\n"
          ],
          "name": "stdout"
        }
      ]
    },
    {
      "cell_type": "code",
      "metadata": {
        "colab": {
          "base_uri": "https://localhost:8080/"
        },
        "id": "bMHqR9TaYJEb",
        "outputId": "cbea403d-0841-4ae4-d91a-1af5d19125a0"
      },
      "source": [
        "# loop over the keys of a dict\n",
        "cars = {\n",
        "  \"brand\": \"Chevrolet\",\n",
        "  \"model\": \"Corvette\",\n",
        "  \"year\": 2020\n",
        "}\n",
        "\n",
        "for key in cars.keys():\n",
        "  print(key)"
      ],
      "execution_count": null,
      "outputs": [
        {
          "output_type": "stream",
          "text": [
            "brand\n",
            "model\n",
            "year\n"
          ],
          "name": "stdout"
        }
      ]
    },
    {
      "cell_type": "code",
      "metadata": {
        "colab": {
          "base_uri": "https://localhost:8080/"
        },
        "id": "w4fpfH4_YUG9",
        "outputId": "8a352fec-09b5-4797-8e17-98fe68cebcb0"
      },
      "source": [
        "# loop over the values of a dict\n",
        "cars = {\n",
        "  \"brand\": \"Chevrolet\",\n",
        "  \"model\": \"Corvette\",\n",
        "  \"year\": 2020\n",
        "}\n",
        "\n",
        "for value in cars.values():\n",
        "  print(value)"
      ],
      "execution_count": null,
      "outputs": [
        {
          "output_type": "stream",
          "text": [
            "Chevrolet\n",
            "Corvette\n",
            "2020\n"
          ],
          "name": "stdout"
        }
      ]
    },
    {
      "cell_type": "code",
      "metadata": {
        "colab": {
          "base_uri": "https://localhost:8080/"
        },
        "id": "onENR92qYcQT",
        "outputId": "19782648-b7ba-4598-d227-0eef4fb85765"
      },
      "source": [
        "# loop over the tuple of items in a dict\n",
        "cars = {\n",
        "  \"brand\": \"Chevrolet\",\n",
        "  \"model\": \"Corvette\",\n",
        "  \"year\": 2020\n",
        "}\n",
        "\n",
        "for k, v in cars.items():\n",
        "  print(k, v)"
      ],
      "execution_count": null,
      "outputs": [
        {
          "output_type": "stream",
          "text": [
            "brand Chevrolet\n",
            "model Corvette\n",
            "year 2020\n"
          ],
          "name": "stdout"
        }
      ]
    },
    {
      "cell_type": "markdown",
      "metadata": {
        "id": "CS9K9THSYxgx"
      },
      "source": [
        "## If Statements\n",
        "\n",
        "- Each statement checks whether the condition is `True` and runs the block if so.\n",
        "- Must contain an `if` block\n",
        "- Can contain zero or more `if else` blocks\n",
        "- Can contain zero or one `else` blocks\n",
        "- `if` and `elif` statemnts can contain logical operators to determine whether or not to execute:\n",
        "  - `==` equals\n",
        "  - `!=` not equals\n",
        "  - `<` less than\n",
        "  - `>` greater than\n",
        "  - `<=` less than or equals\n",
        "  - `>=` greater than or equals\n",
        "  - `is` is the supplied value\n",
        "  - `not` not the supplied value\n",
        "- If statements and loops can be nested within one another for more complex logic."
      ]
    },
    {
      "cell_type": "code",
      "metadata": {
        "colab": {
          "base_uri": "https://localhost:8080/"
        },
        "id": "jFfcBx4mYtyx",
        "outputId": "3e32b0df-5130-4e41-f4a9-fdff3d0608f3"
      },
      "source": [
        "# if statement\n",
        "if 5 > 1:\n",
        "  print(\"True\")"
      ],
      "execution_count": null,
      "outputs": [
        {
          "output_type": "stream",
          "text": [
            "True\n"
          ],
          "name": "stdout"
        }
      ]
    },
    {
      "cell_type": "code",
      "metadata": {
        "colab": {
          "base_uri": "https://localhost:8080/"
        },
        "id": "uEWl24uDaMV0",
        "outputId": "98bfcd2f-0f68-4c40-fb8a-77e1a0c2e89a"
      },
      "source": [
        "# if...elif\n",
        "if 5 < 1:\n",
        "  print(\"if executed\")\n",
        "elif 5 > 1:\n",
        "  print(\"elif executed\")"
      ],
      "execution_count": null,
      "outputs": [
        {
          "output_type": "stream",
          "text": [
            "elif executed\n"
          ],
          "name": "stdout"
        }
      ]
    },
    {
      "cell_type": "code",
      "metadata": {
        "colab": {
          "base_uri": "https://localhost:8080/"
        },
        "id": "3eGMFW2RYwL0",
        "outputId": "bd97459e-bb43-47d4-8aa6-758eea10b887"
      },
      "source": [
        "# if...else\n",
        "if 5 < 1:\n",
        "  print(\"if executed\")\n",
        "else:\n",
        "  print(\"else executed\")"
      ],
      "execution_count": null,
      "outputs": [
        {
          "output_type": "stream",
          "text": [
            "else executed\n"
          ],
          "name": "stdout"
        }
      ]
    },
    {
      "cell_type": "code",
      "metadata": {
        "colab": {
          "base_uri": "https://localhost:8080/"
        },
        "id": "zWboOFPtafZt",
        "outputId": "19e4fae9-913d-4af0-c9d2-77e95a9c9558"
      },
      "source": [
        "# if...elif...else\n",
        "i = 10\n",
        "\n",
        "if i < 0:\n",
        "  print(\"negative\")\n",
        "elif i > 0:\n",
        "  print(\"positive\")\n",
        "else:\n",
        "  print(\"zero\")"
      ],
      "execution_count": null,
      "outputs": [
        {
          "output_type": "stream",
          "text": [
            "positive\n"
          ],
          "name": "stdout"
        }
      ]
    },
    {
      "cell_type": "code",
      "metadata": {
        "colab": {
          "base_uri": "https://localhost:8080/"
        },
        "id": "U-JWdu-RbCXe",
        "outputId": "5ac10b9f-1cfc-4741-c159-5152ea0496e5"
      },
      "source": [
        "# nested if statements\n",
        "i = 10\n",
        "\n",
        "if i < 0:\n",
        "  print(\"negative\")\n",
        "\n",
        "  if i < -10:\n",
        "    print(\"less than -10\")\n",
        "  else:\n",
        "    print(\"between -10 and 0\")\n",
        "elif i > 0:\n",
        "  print(\"positive\")\n",
        "\n",
        "  if i > 10:\n",
        "    print(\"10 or more\")  \n",
        "  else:\n",
        "    print(\"between 0 and 10\")\n",
        "else:\n",
        "  print(\"zero\")"
      ],
      "execution_count": null,
      "outputs": [
        {
          "output_type": "stream",
          "text": [
            "positive\n",
            "between 0 and 10\n"
          ],
          "name": "stdout"
        }
      ]
    },
    {
      "cell_type": "code",
      "metadata": {
        "colab": {
          "base_uri": "https://localhost:8080/"
        },
        "id": "4ADb7jbFcKNh",
        "outputId": "98e4720a-3eac-462c-aa13-a79a93406b9c"
      },
      "source": [
        "# in is used to check for list / tuple membership\n",
        "numbers = [1, 2, 3, 4]\n",
        "\n",
        "i = 3\n",
        "\n",
        "if i in numbers:\n",
        "  print(\"{} IS in the list\".format(i))"
      ],
      "execution_count": null,
      "outputs": [
        {
          "output_type": "stream",
          "text": [
            "3 IS in the list\n"
          ],
          "name": "stdout"
        }
      ]
    },
    {
      "cell_type": "code",
      "metadata": {
        "colab": {
          "base_uri": "https://localhost:8080/"
        },
        "id": "Qsci_sUyc6Q9",
        "outputId": "3492a90f-7e59-41a3-9b71-a1b14506cc11"
      },
      "source": [
        "# not used with in is used to check for lack of list / tuple membership\n",
        "numbers = (1, 2, 3, 4)\n",
        "\n",
        "i = 10\n",
        "\n",
        "if i not in numbers:\n",
        "  print(\"{} IS NOT in the tuple\".format(i))"
      ],
      "execution_count": null,
      "outputs": [
        {
          "output_type": "stream",
          "text": [
            "10 IS NOT in the tuple\n"
          ],
          "name": "stdout"
        }
      ]
    },
    {
      "cell_type": "code",
      "metadata": {
        "id": "J-t28YE_drm4"
      },
      "source": [
        "# pass\n",
        "\n",
        "# used in an empty if...elif...else, try...catch, or loop to prevent an\n",
        "# empty block from throwing an error.  Used to ignore expected errors which\n",
        "# shouldn't halt the program, keep a loop running for user input, etc.\n",
        "\n",
        "# Typically this shouldn't be used as in the example below the opposite\n",
        "# condition of a > b is probably what really needs to be checked.\n",
        "\n",
        "a = 10\n",
        "b = 100\n",
        "\n",
        "if b > a:\n",
        "  pass\n",
        "\n",
        "# stuff an expected failure\n",
        "# be careful doing this: you probably should log it\n",
        "try:\n",
        "  1 / 0\n",
        "except Exception as e:\n",
        "  pass\n",
        "\n",
        "# commonly used to create minimal classes\n",
        "class MyEmptyClass:\n",
        "  def my_empty_method():\n",
        "    pass\n",
        "\n",
        "# a placeholder for implementing something later\n",
        "def do_seomthing(*args):\n",
        "  # TODO\n",
        "  pass"
      ],
      "execution_count": null,
      "outputs": []
    },
    {
      "cell_type": "markdown",
      "metadata": {
        "id": "q1PW3mXqeAXn"
      },
      "source": [
        "## Loops"
      ]
    },
    {
      "cell_type": "code",
      "metadata": {
        "colab": {
          "base_uri": "https://localhost:8080/"
        },
        "id": "pV9P_TGneB5j",
        "outputId": "6e99e2b0-c537-47c7-a7c4-3d59fae22894"
      },
      "source": [
        "# while loops execute as long as the condition is True\n",
        "a, b = 0, 1\n",
        "\n",
        "# Fibonacci series: the sum of two elements defines the next\n",
        "while a < 10:\n",
        " print(a)\n",
        " a, b = b, a + b"
      ],
      "execution_count": null,
      "outputs": [
        {
          "output_type": "stream",
          "text": [
            "0\n",
            "1\n",
            "1\n",
            "2\n",
            "3\n",
            "5\n",
            "8\n"
          ],
          "name": "stdout"
        }
      ]
    },
    {
      "cell_type": "code",
      "metadata": {
        "colab": {
          "base_uri": "https://localhost:8080/"
        },
        "id": "hvfVrdvqZ20x",
        "outputId": "cc456b1c-7393-49dd-f3a5-0e12595ab914"
      },
      "source": [
        "# print() - The keyword argument end can be used to avoid the newline after the output, or end the output with a different string:\n",
        "a, b = 0, 1\n",
        "\n",
        "while a < 10:\n",
        " print(a, end=',')\n",
        " a, b = b, a + b"
      ],
      "execution_count": null,
      "outputs": [
        {
          "output_type": "stream",
          "text": [
            "0,1,1,2,3,5,8,"
          ],
          "name": "stdout"
        }
      ]
    },
    {
      "cell_type": "code",
      "metadata": {
        "colab": {
          "base_uri": "https://localhost:8080/"
        },
        "id": "GW7B6ROnef60",
        "outputId": "15661c4e-37f6-4890-bef3-70d5bb1ef713"
      },
      "source": [
        "# for loops can iterate over any sequence, usually lists, dictionaries, and tuples\n",
        "for a in \"abcde\":\n",
        "  print(a)"
      ],
      "execution_count": null,
      "outputs": [
        {
          "output_type": "stream",
          "text": [
            "a\n",
            "b\n",
            "c\n",
            "d\n",
            "e\n"
          ],
          "name": "stdout"
        }
      ]
    },
    {
      "cell_type": "code",
      "metadata": {
        "colab": {
          "base_uri": "https://localhost:8080/"
        },
        "id": "Vrb71uOggCNQ",
        "outputId": "57a046e4-e65f-4206-e702-7c6d6a215413"
      },
      "source": [
        "# break\n",
        "# stop processing the loop, usually when some condition is met\n",
        "\n",
        "i = 1\n",
        "\n",
        "while i < 8:\n",
        "  print(i)\n",
        "\n",
        "  if i == 4:\n",
        "    # stops the loop once i is equal to 4\n",
        "    break\n",
        "\n",
        "  i += 1"
      ],
      "execution_count": null,
      "outputs": [
        {
          "output_type": "stream",
          "text": [
            "1\n",
            "2\n",
            "3\n",
            "4\n"
          ],
          "name": "stdout"
        }
      ]
    },
    {
      "cell_type": "code",
      "metadata": {
        "colab": {
          "base_uri": "https://localhost:8080/"
        },
        "id": "9y9W4PCOxaYu",
        "outputId": "3529b5dd-eaa1-4146-ea3a-83b00c624752"
      },
      "source": [
        "# continue\n",
        "# stop process this iteration of the loop and go on to the next iteration\n",
        "\n",
        "for num in range(2, 10):\n",
        "  \n",
        "  if num % 2 == 0:\n",
        "    print(\"even:\", num)\n",
        "    # moves on to the next iteration when an even is found\n",
        "    continue\n",
        "  \n",
        "  # isn't processed when an even is found\n",
        "  print(\"odd:\", num)"
      ],
      "execution_count": null,
      "outputs": [
        {
          "output_type": "stream",
          "text": [
            "even: 2\n",
            "odd: 3\n",
            "even: 4\n",
            "odd: 5\n",
            "even: 6\n",
            "odd: 7\n",
            "even: 8\n",
            "odd: 9\n"
          ],
          "name": "stdout"
        }
      ]
    },
    {
      "cell_type": "code",
      "metadata": {
        "id": "lrHYSOLuxHQK"
      },
      "source": [
        ""
      ],
      "execution_count": null,
      "outputs": []
    },
    {
      "cell_type": "markdown",
      "metadata": {
        "id": "uzrXvflxgSYG"
      },
      "source": [
        "## Class\n",
        "\n",
        "- Class names are capitalized camel-case by convention.  This lets other developers know it's a class when reading your code.\n",
        "- Properties are variables defined inside a class but not inside a method and are accessed with the `self` keyword.\n",
        "- Methods are defined with the `def` keyword.\n",
        "  - They are fuctions inside a class and are accessed with a `.` operator.\n",
        "  - The first argument is always `self` which ties it to the instantiated object on creation.\n",
        "  - Methods can access other methods and properties of the object using `self.some_property` or `self.some_method()` for example.\n",
        "  - Methods otherwise act like functions in that they have their own variable scopes, can take zero or more arguments, and can return values.\n",
        "- `__init__` defines a class' constructor method which can take zero or more argument variables to initialize an object of the class."
      ]
    },
    {
      "cell_type": "code",
      "metadata": {
        "id": "7FWCoSr40atm"
      },
      "source": [
        "# class and pass\n",
        "# defining a mininal class with pass\n",
        "\n",
        "def BareMinimumClass(object):\n",
        "  pass"
      ],
      "execution_count": null,
      "outputs": []
    },
    {
      "cell_type": "code",
      "metadata": {
        "colab": {
          "base_uri": "https://localhost:8080/"
        },
        "id": "Zo5INav4gQ9n",
        "outputId": "d33fcf50-a69b-4f8f-bd1a-b2e46f87c913"
      },
      "source": [
        "# class\n",
        "\n",
        "# defining a class with a property defined that extends the base object class\n",
        "class MyClass(object):\n",
        "  z = 5\n",
        "\n",
        "# instantiating an object of the class type\n",
        "my_object = MyClass()\n",
        "\n",
        "# accessing the object's property\n",
        "my_object.z"
      ],
      "execution_count": null,
      "outputs": [
        {
          "output_type": "execute_result",
          "data": {
            "text/plain": [
              "5"
            ]
          },
          "metadata": {
            "tags": []
          },
          "execution_count": 82
        }
      ]
    },
    {
      "cell_type": "code",
      "metadata": {
        "colab": {
          "base_uri": "https://localhost:8080/"
        },
        "id": "x2t2SIbHir3e",
        "outputId": "7b91dc06-4359-4a82-d10b-c53faa2e7572"
      },
      "source": [
        "# class, def, self, and __init__\n",
        "# defining a class with a constructor and methods\n",
        "\n",
        "# class that extends python's base object type\n",
        "class Vehicle(object):\n",
        "\n",
        "  units = \"mph\"\n",
        "\n",
        "  # the constructor is always __init__\n",
        "  def __init__(self, make, model, color):\n",
        "    self.make = make\n",
        "    self.model = model\n",
        "    self.color = color\n",
        "\n",
        "  # def method_name(self)\n",
        "  # a method with no parameters\n",
        "  def brake(self):\n",
        "    return \"Braking\"\n",
        "\n",
        "  # def method_name(self, param1, param2, ...)\n",
        "  # a method with one parameter and accessing a property with self.property_name\n",
        "  def accelerate(self, mph):\n",
        "    # accessing self.units\n",
        "    return \"Accelerating to {} {}\".format(mph, self.units)\n",
        "\n",
        "\n",
        "# var_name = ClassName(params)\n",
        "# instantiating an object of the Vehicle class type\n",
        "corvette = Vehicle(\"Chevrolet\", \"Corvette\", \"Red\")\n",
        "\n",
        "# object_name.property_name\n",
        "# accessing the object's properties with \n",
        "print(corvette.make)\n",
        "print(corvette.model)\n",
        "print(corvette.color)\n",
        "\n",
        "# object_name.method_name(params)\n",
        "# accessing the object's methods\n",
        "print(corvette.accelerate(65))\n",
        "print(corvette.brake())"
      ],
      "execution_count": null,
      "outputs": [
        {
          "output_type": "stream",
          "text": [
            "Chevrolet\n",
            "Corvette\n",
            "Red\n",
            "Accelerating to 65 mph\n",
            "Braking\n"
          ],
          "name": "stdout"
        }
      ]
    },
    {
      "cell_type": "code",
      "metadata": {
        "colab": {
          "base_uri": "https://localhost:8080/"
        },
        "id": "FlYzqVuAlzAq",
        "outputId": "caf8a4d6-ec21-4e6b-a615-d6acb8d842ba"
      },
      "source": [
        "# subclasses extend a parent class and can replace and/or add properties and\n",
        "# methods of the parent, including constructors\n",
        "class ElectricVehicle(Vehicle):\n",
        "\n",
        "  # a new method that only applies to ElectricVehicle objects\n",
        "  def charge(self):\n",
        "    return \"Charging\"\n",
        "\n",
        "\n",
        "# instantiating an object of the class type\n",
        "tesla = ElectricVehicle(\"Tesla\", \"Model S\", \"White\")\n",
        "\n",
        "# accessing the object's properties\n",
        "print(tesla.make)\n",
        "print(tesla.model)\n",
        "print(tesla.color)\n",
        "\n",
        "# accessing the object's methods\n",
        "print(tesla.accelerate(65))\n",
        "print(tesla.brake())\n",
        "print(tesla.charge())"
      ],
      "execution_count": null,
      "outputs": [
        {
          "output_type": "stream",
          "text": [
            "Tesla\n",
            "Model S\n",
            "White\n",
            "Accelerating to 65 mph\n",
            "Braking\n",
            "Charging\n"
          ],
          "name": "stdout"
        }
      ]
    },
    {
      "cell_type": "markdown",
      "metadata": {
        "id": "l8cs7lBSnLh8"
      },
      "source": [
        "## Exceptions\n",
        "\n",
        "### Common Built-in Exceptions\n",
        "\n",
        "- `AttributeError` — raised when an attribute reference or assignment fails.\n",
        "- `IOError` — raised when an I/O operation fails like opening a file: \"file not found\" or \"disk full\".\n",
        "- `ImportError` — raised when an import statement cannot locate the\n",
        "module or name definition.\n",
        "- `IndexError` — raised when a sequence index isn't found in the range of existing indexes.\n",
        "- `KeyError` — raised when a dictionary key isn't found in the set of existing keys.\n",
        "- `KeyboardInterrupt` — rasied when the user hits the interrupt key (such\n",
        "as Control-C or Delete).\n",
        "- `NameError` — raised when a local or global name can't be found.\n",
        "- `OSError` — rasied by  a system-related error.\n",
        "- `SyntaxError` — rasied when a parser encounters a syntax error.\n",
        "- `TypeError` — raised when an operation or function is applied to an object\n",
        "of an incorrect type.\n",
        "- `ValueError` — raised when a built-in operation / function receives an argument that has the right type but not an appropriate value, and the situation is not described by a more precise exception such as `IndexError`.\n",
        "- `ZeroDivisionError` — raised when the second argument of a division or\n",
        "modulo operation is zero."
      ]
    },
    {
      "cell_type": "code",
      "metadata": {
        "colab": {
          "base_uri": "https://localhost:8080/"
        },
        "id": "opt3ixjp1pke",
        "outputId": "a711f44d-6326-424b-f07f-998a4bfa5166"
      },
      "source": [
        "# catching exceptions with try...except\n",
        "\n",
        "my_dict = {\"a\": 1, \"b\": 2, \"c\": 3}\n",
        "\n",
        "try:\n",
        "  value = my_dict[\"d\"]\n",
        "except KeyError as e:\n",
        "  print(\"That key doesn't exist.\")"
      ],
      "execution_count": null,
      "outputs": [
        {
          "output_type": "stream",
          "text": [
            "That key doesn't exist.\n"
          ],
          "name": "stdout"
        }
      ]
    },
    {
      "cell_type": "code",
      "metadata": {
        "colab": {
          "base_uri": "https://localhost:8080/"
        },
        "id": "J9-13GLGKX_j",
        "outputId": "7236b6b9-f13b-4154-c2b0-7dabf716920f"
      },
      "source": [
        "# detecting multiple exceptions\n",
        "my_dict = {\"a\": 1, \"b\": 2, \"c\": 3}\n",
        "\n",
        "try:\n",
        "  value = my_dict[\"d\"]\n",
        "except IndexError as e:\n",
        "  print(\"That index does't exist.\")\n",
        "except KeyError as e:\n",
        "  print(\"That key doesn't exist.\")  \n",
        "except Error as e:\n",
        "  print(\"Another error occurred.\")"
      ],
      "execution_count": null,
      "outputs": [
        {
          "output_type": "stream",
          "text": [
            "That key doesn't exist.\n"
          ],
          "name": "stdout"
        }
      ]
    },
    {
      "cell_type": "code",
      "metadata": {
        "colab": {
          "base_uri": "https://localhost:8080/"
        },
        "id": "PExTqXorK4l7",
        "outputId": "4c941016-d936-4bd5-90bd-6d5b87eb35ca"
      },
      "source": [
        "# try...except...else -- optional else clause that executes if no errors are found\n",
        "my_dict = {\"a\": 1, \"b\": 2, \"c\": 3}\n",
        "\n",
        "try:\n",
        "  value = my_dict[\"a\"]\n",
        "except KeyError as e:\n",
        "  print(\"That key doesn't exist.\")\n",
        "else:\n",
        "  print(\"No errors detected.\")"
      ],
      "execution_count": null,
      "outputs": [
        {
          "output_type": "stream",
          "text": [
            "No errors detected.\n"
          ],
          "name": "stdout"
        }
      ]
    },
    {
      "cell_type": "code",
      "metadata": {
        "colab": {
          "base_uri": "https://localhost:8080/"
        },
        "id": "aQVVUMsXfKLf",
        "outputId": "f61e37c7-f6cb-42fd-fe98-23c686c1f4bd"
      },
      "source": [
        "# method chaining\n",
        "\n",
        "class Policies(object):\n",
        "  policyList = []\n",
        "\n",
        "  def require(self, claim):\n",
        "    self.policyList.append(claim)\n",
        "    return self\n",
        "  \n",
        "  def __repr__(self):\n",
        "    return f\"policies={self.policyList}\"\n",
        "\n",
        "policies = Policies().require('add').require('update').require('remove')\n",
        "policies"
      ],
      "execution_count": null,
      "outputs": [
        {
          "output_type": "execute_result",
          "data": {
            "text/plain": [
              "policies=['add', 'update', 'remove']"
            ]
          },
          "metadata": {
            "tags": []
          },
          "execution_count": 18
        }
      ]
    }
  ]
}