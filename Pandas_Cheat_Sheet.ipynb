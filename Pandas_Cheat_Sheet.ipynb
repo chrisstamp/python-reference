{
  "nbformat": 4,
  "nbformat_minor": 0,
  "metadata": {
    "colab": {
      "name": "Pandas Cheat Sheet.ipynb",
      "provenance": [],
      "collapsed_sections": [],
      "authorship_tag": "ABX9TyOobum/QbVlD7l19sVGUyUf"
    },
    "kernelspec": {
      "name": "python3",
      "display_name": "Python 3"
    },
    "language_info": {
      "name": "python"
    }
  },
  "cells": [
    {
      "cell_type": "markdown",
      "metadata": {
        "id": "WHBMqGffwZyO"
      },
      "source": [
        "# Pandas Cheat Sheet"
      ]
    },
    {
      "cell_type": "code",
      "metadata": {
        "id": "6NtsJ0OvwTUT"
      },
      "source": [
        "import numpy as np\n",
        "import pandas as pd\n",
        "import matplotlib.pyplot as plt"
      ],
      "execution_count": 292,
      "outputs": []
    },
    {
      "cell_type": "markdown",
      "metadata": {
        "id": "hz3kyyF1wq4p"
      },
      "source": [
        "## Object Creation\n",
        "\n",
        "See the [Data Structure Intro](https://pandas.pydata.org/pandas-docs/stable/user_guide/dsintro.html#dsintro) section.\n",
        "\n",
        "Creating a `Series by passing a list of values, letting pandas create a default integer index:\n"
      ]
    },
    {
      "cell_type": "code",
      "metadata": {
        "colab": {
          "base_uri": "https://localhost:8080/"
        },
        "id": "C7E6jDcTwhLC",
        "outputId": "02c1738a-f496-4007-eef9-b933a51c79b4"
      },
      "source": [
        "# create a Series with the supplied values\n",
        "pd.Series([1, 3, 5, np.nan, 6, 8])"
      ],
      "execution_count": 105,
      "outputs": [
        {
          "output_type": "execute_result",
          "data": {
            "text/plain": [
              "0    1.0\n",
              "1    3.0\n",
              "2    5.0\n",
              "3    NaN\n",
              "4    6.0\n",
              "5    8.0\n",
              "dtype: float64"
            ]
          },
          "metadata": {
            "tags": []
          },
          "execution_count": 105
        }
      ]
    },
    {
      "cell_type": "markdown",
      "metadata": {
        "id": "LPtSeWJYw0Mc"
      },
      "source": [
        "Creating a `DataFrame` by passing a NumPy array, with a datetime index and labeled columns:\n",
        "\n"
      ]
    },
    {
      "cell_type": "code",
      "metadata": {
        "colab": {
          "base_uri": "https://localhost:8080/"
        },
        "id": "zSFXCWWqw5w0",
        "outputId": "0047c2a0-71b2-4bc5-d19b-6c22de2b155b"
      },
      "source": [
        "# create a DatetimeIndex with the given range of dates as row label indexes\n",
        "dates = pd.date_range(\"20130101\", periods=6)\n",
        "dates"
      ],
      "execution_count": 106,
      "outputs": [
        {
          "output_type": "execute_result",
          "data": {
            "text/plain": [
              "DatetimeIndex(['2013-01-01', '2013-01-02', '2013-01-03', '2013-01-04',\n",
              "               '2013-01-05', '2013-01-06'],\n",
              "              dtype='datetime64[ns]', freq='D')"
            ]
          },
          "metadata": {
            "tags": []
          },
          "execution_count": 106
        }
      ]
    },
    {
      "cell_type": "code",
      "metadata": {
        "colab": {
          "base_uri": "https://localhost:8080/",
          "height": 235
        },
        "id": "bcfJ4W1vw-3n",
        "outputId": "21b7fda2-33d6-4cfd-c677-02adfbd8594e"
      },
      "source": [
        "# supply random numbers with the NumPy random normal distribution function, index set to the DatetimeIndex from above, and columns A-D\n",
        "df = pd.DataFrame(np.random.randn(6, 4), index=dates, columns=list(\"ABCD\"))\n",
        "df"
      ],
      "execution_count": 107,
      "outputs": [
        {
          "output_type": "execute_result",
          "data": {
            "text/html": [
              "<div>\n",
              "<style scoped>\n",
              "    .dataframe tbody tr th:only-of-type {\n",
              "        vertical-align: middle;\n",
              "    }\n",
              "\n",
              "    .dataframe tbody tr th {\n",
              "        vertical-align: top;\n",
              "    }\n",
              "\n",
              "    .dataframe thead th {\n",
              "        text-align: right;\n",
              "    }\n",
              "</style>\n",
              "<table border=\"1\" class=\"dataframe\">\n",
              "  <thead>\n",
              "    <tr style=\"text-align: right;\">\n",
              "      <th></th>\n",
              "      <th>A</th>\n",
              "      <th>B</th>\n",
              "      <th>C</th>\n",
              "      <th>D</th>\n",
              "    </tr>\n",
              "  </thead>\n",
              "  <tbody>\n",
              "    <tr>\n",
              "      <th>2013-01-01</th>\n",
              "      <td>1.614908</td>\n",
              "      <td>-0.417070</td>\n",
              "      <td>-0.464239</td>\n",
              "      <td>-0.141099</td>\n",
              "    </tr>\n",
              "    <tr>\n",
              "      <th>2013-01-02</th>\n",
              "      <td>1.928151</td>\n",
              "      <td>0.762022</td>\n",
              "      <td>2.204658</td>\n",
              "      <td>1.073671</td>\n",
              "    </tr>\n",
              "    <tr>\n",
              "      <th>2013-01-03</th>\n",
              "      <td>-0.431913</td>\n",
              "      <td>-2.505308</td>\n",
              "      <td>-2.038591</td>\n",
              "      <td>1.740540</td>\n",
              "    </tr>\n",
              "    <tr>\n",
              "      <th>2013-01-04</th>\n",
              "      <td>-0.598335</td>\n",
              "      <td>-1.962574</td>\n",
              "      <td>-0.291399</td>\n",
              "      <td>-1.153775</td>\n",
              "    </tr>\n",
              "    <tr>\n",
              "      <th>2013-01-05</th>\n",
              "      <td>-0.209602</td>\n",
              "      <td>0.037394</td>\n",
              "      <td>-1.090891</td>\n",
              "      <td>0.639756</td>\n",
              "    </tr>\n",
              "    <tr>\n",
              "      <th>2013-01-06</th>\n",
              "      <td>0.685055</td>\n",
              "      <td>0.010440</td>\n",
              "      <td>-0.765548</td>\n",
              "      <td>0.419550</td>\n",
              "    </tr>\n",
              "  </tbody>\n",
              "</table>\n",
              "</div>"
            ],
            "text/plain": [
              "                   A         B         C         D\n",
              "2013-01-01  1.614908 -0.417070 -0.464239 -0.141099\n",
              "2013-01-02  1.928151  0.762022  2.204658  1.073671\n",
              "2013-01-03 -0.431913 -2.505308 -2.038591  1.740540\n",
              "2013-01-04 -0.598335 -1.962574 -0.291399 -1.153775\n",
              "2013-01-05 -0.209602  0.037394 -1.090891  0.639756\n",
              "2013-01-06  0.685055  0.010440 -0.765548  0.419550"
            ]
          },
          "metadata": {
            "tags": []
          },
          "execution_count": 107
        }
      ]
    },
    {
      "cell_type": "markdown",
      "metadata": {
        "id": "pHbFwmPww4pH"
      },
      "source": [
        "Creating a `DataFrame` by passing a dict of objects that can be converted to series-like.\n",
        "\n"
      ]
    },
    {
      "cell_type": "code",
      "metadata": {
        "colab": {
          "base_uri": "https://localhost:8080/",
          "height": 173
        },
        "id": "x-aBTZ64xFXI",
        "outputId": "1cb7d37c-1d99-464d-b7f3-b68aff1d3a0b"
      },
      "source": [
        "# create a DataFrame from a dictionary\n",
        "#   column A is populated with all 1's\n",
        "#   column B is populatated with the Timestamp 20130102\n",
        "#   column C is populated with a Series of 1's, indexed to the range 0-4, and the dtype is specified as float32\n",
        "#   column D is poplulated with a NumPy array of 4 length with 3's as an int32\n",
        "#   column E is populated with a Categorical list of strings\n",
        "#   column F is populated with the string \"foo\" for all rows\n",
        "df2 = pd.DataFrame(\n",
        "        {\n",
        "          \"A\": 1.0,\n",
        "          \"B\": pd.Timestamp(\"20130102\"),\n",
        "          \"C\": pd.Series(1, index=list(range(4)), dtype=\"float32\"),\n",
        "          \"D\": np.array([3] * 4, dtype=\"int32\"),\n",
        "          \"E\": pd.Categorical([\"test\", \"train\", \"test\", \"train\"]),\n",
        "          \"F\": \"foo\",\n",
        "        }\n",
        "      )\n",
        "df2"
      ],
      "execution_count": 108,
      "outputs": [
        {
          "output_type": "execute_result",
          "data": {
            "text/html": [
              "<div>\n",
              "<style scoped>\n",
              "    .dataframe tbody tr th:only-of-type {\n",
              "        vertical-align: middle;\n",
              "    }\n",
              "\n",
              "    .dataframe tbody tr th {\n",
              "        vertical-align: top;\n",
              "    }\n",
              "\n",
              "    .dataframe thead th {\n",
              "        text-align: right;\n",
              "    }\n",
              "</style>\n",
              "<table border=\"1\" class=\"dataframe\">\n",
              "  <thead>\n",
              "    <tr style=\"text-align: right;\">\n",
              "      <th></th>\n",
              "      <th>A</th>\n",
              "      <th>B</th>\n",
              "      <th>C</th>\n",
              "      <th>D</th>\n",
              "      <th>E</th>\n",
              "      <th>F</th>\n",
              "    </tr>\n",
              "  </thead>\n",
              "  <tbody>\n",
              "    <tr>\n",
              "      <th>0</th>\n",
              "      <td>1.0</td>\n",
              "      <td>2013-01-02</td>\n",
              "      <td>1.0</td>\n",
              "      <td>3</td>\n",
              "      <td>test</td>\n",
              "      <td>foo</td>\n",
              "    </tr>\n",
              "    <tr>\n",
              "      <th>1</th>\n",
              "      <td>1.0</td>\n",
              "      <td>2013-01-02</td>\n",
              "      <td>1.0</td>\n",
              "      <td>3</td>\n",
              "      <td>train</td>\n",
              "      <td>foo</td>\n",
              "    </tr>\n",
              "    <tr>\n",
              "      <th>2</th>\n",
              "      <td>1.0</td>\n",
              "      <td>2013-01-02</td>\n",
              "      <td>1.0</td>\n",
              "      <td>3</td>\n",
              "      <td>test</td>\n",
              "      <td>foo</td>\n",
              "    </tr>\n",
              "    <tr>\n",
              "      <th>3</th>\n",
              "      <td>1.0</td>\n",
              "      <td>2013-01-02</td>\n",
              "      <td>1.0</td>\n",
              "      <td>3</td>\n",
              "      <td>train</td>\n",
              "      <td>foo</td>\n",
              "    </tr>\n",
              "  </tbody>\n",
              "</table>\n",
              "</div>"
            ],
            "text/plain": [
              "     A          B    C  D      E    F\n",
              "0  1.0 2013-01-02  1.0  3   test  foo\n",
              "1  1.0 2013-01-02  1.0  3  train  foo\n",
              "2  1.0 2013-01-02  1.0  3   test  foo\n",
              "3  1.0 2013-01-02  1.0  3  train  foo"
            ]
          },
          "metadata": {
            "tags": []
          },
          "execution_count": 108
        }
      ]
    },
    {
      "cell_type": "markdown",
      "metadata": {
        "id": "zhtjow1LxWc3"
      },
      "source": [
        "The columns of the resulting `DataFrame` have different dtypes."
      ]
    },
    {
      "cell_type": "code",
      "metadata": {
        "colab": {
          "base_uri": "https://localhost:8080/"
        },
        "id": "VoLiMuLLxaN-",
        "outputId": "d0af6528-ae42-448c-be64-78b278022a65"
      },
      "source": [
        "# display the datatypes of the columns for the DataFrame\n",
        "df2.dtypes"
      ],
      "execution_count": 109,
      "outputs": [
        {
          "output_type": "execute_result",
          "data": {
            "text/plain": [
              "A           float64\n",
              "B    datetime64[ns]\n",
              "C           float32\n",
              "D             int32\n",
              "E          category\n",
              "F            object\n",
              "dtype: object"
            ]
          },
          "metadata": {
            "tags": []
          },
          "execution_count": 109
        }
      ]
    },
    {
      "cell_type": "markdown",
      "metadata": {
        "id": "hNQ6yJAAxjUz"
      },
      "source": [
        "## Viewing data\n",
        "\n",
        "See the [Basics](https://pandas.pydata.org/pandas-docs/stable/user_guide/basics.html#basics) section.\n",
        "\n",
        "Here is how to view the top and bottom rows of the frame:"
      ]
    },
    {
      "cell_type": "code",
      "metadata": {
        "colab": {
          "base_uri": "https://localhost:8080/",
          "height": 204
        },
        "id": "RKJNW5aOxjgK",
        "outputId": "550c67be-e85e-4edd-c9a5-0f7b5781ad5e"
      },
      "source": [
        "# display the top rows of the DataFrame for insepection\n",
        "df.head()"
      ],
      "execution_count": 110,
      "outputs": [
        {
          "output_type": "execute_result",
          "data": {
            "text/html": [
              "<div>\n",
              "<style scoped>\n",
              "    .dataframe tbody tr th:only-of-type {\n",
              "        vertical-align: middle;\n",
              "    }\n",
              "\n",
              "    .dataframe tbody tr th {\n",
              "        vertical-align: top;\n",
              "    }\n",
              "\n",
              "    .dataframe thead th {\n",
              "        text-align: right;\n",
              "    }\n",
              "</style>\n",
              "<table border=\"1\" class=\"dataframe\">\n",
              "  <thead>\n",
              "    <tr style=\"text-align: right;\">\n",
              "      <th></th>\n",
              "      <th>A</th>\n",
              "      <th>B</th>\n",
              "      <th>C</th>\n",
              "      <th>D</th>\n",
              "    </tr>\n",
              "  </thead>\n",
              "  <tbody>\n",
              "    <tr>\n",
              "      <th>2013-01-01</th>\n",
              "      <td>1.614908</td>\n",
              "      <td>-0.417070</td>\n",
              "      <td>-0.464239</td>\n",
              "      <td>-0.141099</td>\n",
              "    </tr>\n",
              "    <tr>\n",
              "      <th>2013-01-02</th>\n",
              "      <td>1.928151</td>\n",
              "      <td>0.762022</td>\n",
              "      <td>2.204658</td>\n",
              "      <td>1.073671</td>\n",
              "    </tr>\n",
              "    <tr>\n",
              "      <th>2013-01-03</th>\n",
              "      <td>-0.431913</td>\n",
              "      <td>-2.505308</td>\n",
              "      <td>-2.038591</td>\n",
              "      <td>1.740540</td>\n",
              "    </tr>\n",
              "    <tr>\n",
              "      <th>2013-01-04</th>\n",
              "      <td>-0.598335</td>\n",
              "      <td>-1.962574</td>\n",
              "      <td>-0.291399</td>\n",
              "      <td>-1.153775</td>\n",
              "    </tr>\n",
              "    <tr>\n",
              "      <th>2013-01-05</th>\n",
              "      <td>-0.209602</td>\n",
              "      <td>0.037394</td>\n",
              "      <td>-1.090891</td>\n",
              "      <td>0.639756</td>\n",
              "    </tr>\n",
              "  </tbody>\n",
              "</table>\n",
              "</div>"
            ],
            "text/plain": [
              "                   A         B         C         D\n",
              "2013-01-01  1.614908 -0.417070 -0.464239 -0.141099\n",
              "2013-01-02  1.928151  0.762022  2.204658  1.073671\n",
              "2013-01-03 -0.431913 -2.505308 -2.038591  1.740540\n",
              "2013-01-04 -0.598335 -1.962574 -0.291399 -1.153775\n",
              "2013-01-05 -0.209602  0.037394 -1.090891  0.639756"
            ]
          },
          "metadata": {
            "tags": []
          },
          "execution_count": 110
        }
      ]
    },
    {
      "cell_type": "code",
      "metadata": {
        "colab": {
          "base_uri": "https://localhost:8080/",
          "height": 142
        },
        "id": "wsR6akuLxuRB",
        "outputId": "91f8c274-273f-4c1d-d157-9c31787add2f"
      },
      "source": [
        "# display the bottom rows of the DataFrame for inspection\n",
        "df.tail(3)"
      ],
      "execution_count": 111,
      "outputs": [
        {
          "output_type": "execute_result",
          "data": {
            "text/html": [
              "<div>\n",
              "<style scoped>\n",
              "    .dataframe tbody tr th:only-of-type {\n",
              "        vertical-align: middle;\n",
              "    }\n",
              "\n",
              "    .dataframe tbody tr th {\n",
              "        vertical-align: top;\n",
              "    }\n",
              "\n",
              "    .dataframe thead th {\n",
              "        text-align: right;\n",
              "    }\n",
              "</style>\n",
              "<table border=\"1\" class=\"dataframe\">\n",
              "  <thead>\n",
              "    <tr style=\"text-align: right;\">\n",
              "      <th></th>\n",
              "      <th>A</th>\n",
              "      <th>B</th>\n",
              "      <th>C</th>\n",
              "      <th>D</th>\n",
              "    </tr>\n",
              "  </thead>\n",
              "  <tbody>\n",
              "    <tr>\n",
              "      <th>2013-01-04</th>\n",
              "      <td>-0.598335</td>\n",
              "      <td>-1.962574</td>\n",
              "      <td>-0.291399</td>\n",
              "      <td>-1.153775</td>\n",
              "    </tr>\n",
              "    <tr>\n",
              "      <th>2013-01-05</th>\n",
              "      <td>-0.209602</td>\n",
              "      <td>0.037394</td>\n",
              "      <td>-1.090891</td>\n",
              "      <td>0.639756</td>\n",
              "    </tr>\n",
              "    <tr>\n",
              "      <th>2013-01-06</th>\n",
              "      <td>0.685055</td>\n",
              "      <td>0.010440</td>\n",
              "      <td>-0.765548</td>\n",
              "      <td>0.419550</td>\n",
              "    </tr>\n",
              "  </tbody>\n",
              "</table>\n",
              "</div>"
            ],
            "text/plain": [
              "                   A         B         C         D\n",
              "2013-01-04 -0.598335 -1.962574 -0.291399 -1.153775\n",
              "2013-01-05 -0.209602  0.037394 -1.090891  0.639756\n",
              "2013-01-06  0.685055  0.010440 -0.765548  0.419550"
            ]
          },
          "metadata": {
            "tags": []
          },
          "execution_count": 111
        }
      ]
    },
    {
      "cell_type": "markdown",
      "metadata": {
        "id": "kckA1Mh5xyZ4"
      },
      "source": [
        "Display the index, columns:"
      ]
    },
    {
      "cell_type": "code",
      "metadata": {
        "colab": {
          "base_uri": "https://localhost:8080/"
        },
        "id": "bMFHeEqAx0L7",
        "outputId": "1e63abc9-4a35-420b-8d27-27ad3ac07604"
      },
      "source": [
        "# get the label indexes of the columns\n",
        "df.index"
      ],
      "execution_count": 112,
      "outputs": [
        {
          "output_type": "execute_result",
          "data": {
            "text/plain": [
              "DatetimeIndex(['2013-01-01', '2013-01-02', '2013-01-03', '2013-01-04',\n",
              "               '2013-01-05', '2013-01-06'],\n",
              "              dtype='datetime64[ns]', freq='D')"
            ]
          },
          "metadata": {
            "tags": []
          },
          "execution_count": 112
        }
      ]
    },
    {
      "cell_type": "code",
      "metadata": {
        "colab": {
          "base_uri": "https://localhost:8080/"
        },
        "id": "MMmhLOFix2Np",
        "outputId": "21666b2c-21f8-4b26-823c-46f38dec658e"
      },
      "source": [
        "# get the Index object for the columns\n",
        "df.columns"
      ],
      "execution_count": 113,
      "outputs": [
        {
          "output_type": "execute_result",
          "data": {
            "text/plain": [
              "Index(['A', 'B', 'C', 'D'], dtype='object')"
            ]
          },
          "metadata": {
            "tags": []
          },
          "execution_count": 113
        }
      ]
    },
    {
      "cell_type": "markdown",
      "metadata": {
        "id": "IN8wI6kwx_Iq"
      },
      "source": [
        "`DataFrame.to_numpy()` gives a NumPy representation of the underlying data. Note that this can be an expensive operation when your `DataFrame` has columns with different data types, which comes down to a fundamental difference between pandas and NumPy: **NumPy arrays have one dtype for the entire array, while pandas DataFrames have one dtype per column.** When you call `DataFrame.to_numpy()`, pandas will find the NumPy dtype that can hold all of the dtypes in the DataFrame. This may end up being `object`, which requires casting every value to a Python object.\n",
        "\n",
        "For `df`, our `DataFrame` of all floating-point values, `DataFrame.to_numpy()` is fast and doesn’t require copying data."
      ]
    },
    {
      "cell_type": "code",
      "metadata": {
        "colab": {
          "base_uri": "https://localhost:8080/"
        },
        "id": "B8Cj6ZysyO-v",
        "outputId": "9a85260c-4301-4003-b606-31c0b05d9650"
      },
      "source": [
        "# convert a DataFrame to a NumPy array\n",
        "df.to_numpy()"
      ],
      "execution_count": 114,
      "outputs": [
        {
          "output_type": "execute_result",
          "data": {
            "text/plain": [
              "array([[ 1.61490758, -0.41706979, -0.4642393 , -0.14109893],\n",
              "       [ 1.92815098,  0.76202186,  2.20465782,  1.07367121],\n",
              "       [-0.43191341, -2.50530795, -2.03859069,  1.7405398 ],\n",
              "       [-0.59833533, -1.96257365, -0.29139904, -1.15377463],\n",
              "       [-0.20960166,  0.03739396, -1.09089123,  0.63975605],\n",
              "       [ 0.68505482,  0.01044043, -0.76554773,  0.41954986]])"
            ]
          },
          "metadata": {
            "tags": []
          },
          "execution_count": 114
        }
      ]
    },
    {
      "cell_type": "markdown",
      "metadata": {
        "id": "n7imfa1SyRFh"
      },
      "source": [
        "For `df2`, the `DataFrame` with multiple dtypes, `DataFrame.to_numpy()` is relatively expensive.\n",
        "\n",
        "**Note:** `DataFrame.to_numpy()` does not include the index or column labels in the output."
      ]
    },
    {
      "cell_type": "code",
      "metadata": {
        "colab": {
          "base_uri": "https://localhost:8080/"
        },
        "id": "QS6V_X70yabB",
        "outputId": "5dfe5009-4cbb-4ea4-ba15-f0a8d764cc5f"
      },
      "source": [
        "# convert a DataFrame to a NumPy array; note due to the mixed data types, all data types are cast to object\n",
        "df2.to_numpy()"
      ],
      "execution_count": 115,
      "outputs": [
        {
          "output_type": "execute_result",
          "data": {
            "text/plain": [
              "array([[1.0, Timestamp('2013-01-02 00:00:00'), 1.0, 3, 'test', 'foo'],\n",
              "       [1.0, Timestamp('2013-01-02 00:00:00'), 1.0, 3, 'train', 'foo'],\n",
              "       [1.0, Timestamp('2013-01-02 00:00:00'), 1.0, 3, 'test', 'foo'],\n",
              "       [1.0, Timestamp('2013-01-02 00:00:00'), 1.0, 3, 'train', 'foo']],\n",
              "      dtype=object)"
            ]
          },
          "metadata": {
            "tags": []
          },
          "execution_count": 115
        }
      ]
    },
    {
      "cell_type": "markdown",
      "metadata": {
        "id": "a-FnEi6Wyk8n"
      },
      "source": [
        "`describe()` shows a quick statistic summary of your data:"
      ]
    },
    {
      "cell_type": "code",
      "metadata": {
        "colab": {
          "base_uri": "https://localhost:8080/",
          "height": 297
        },
        "id": "oPLZklzDykJG",
        "outputId": "626cb7bb-8bca-45ae-9750-5313d0a36e51"
      },
      "source": [
        "# display a statistical summary of the DataFrame data\n",
        "df.describe()"
      ],
      "execution_count": 116,
      "outputs": [
        {
          "output_type": "execute_result",
          "data": {
            "text/html": [
              "<div>\n",
              "<style scoped>\n",
              "    .dataframe tbody tr th:only-of-type {\n",
              "        vertical-align: middle;\n",
              "    }\n",
              "\n",
              "    .dataframe tbody tr th {\n",
              "        vertical-align: top;\n",
              "    }\n",
              "\n",
              "    .dataframe thead th {\n",
              "        text-align: right;\n",
              "    }\n",
              "</style>\n",
              "<table border=\"1\" class=\"dataframe\">\n",
              "  <thead>\n",
              "    <tr style=\"text-align: right;\">\n",
              "      <th></th>\n",
              "      <th>A</th>\n",
              "      <th>B</th>\n",
              "      <th>C</th>\n",
              "      <th>D</th>\n",
              "    </tr>\n",
              "  </thead>\n",
              "  <tbody>\n",
              "    <tr>\n",
              "      <th>count</th>\n",
              "      <td>6.000000</td>\n",
              "      <td>6.000000</td>\n",
              "      <td>6.000000</td>\n",
              "      <td>6.000000</td>\n",
              "    </tr>\n",
              "    <tr>\n",
              "      <th>mean</th>\n",
              "      <td>0.498044</td>\n",
              "      <td>-0.679183</td>\n",
              "      <td>-0.407668</td>\n",
              "      <td>0.429774</td>\n",
              "    </tr>\n",
              "    <tr>\n",
              "      <th>std</th>\n",
              "      <td>1.085836</td>\n",
              "      <td>1.274101</td>\n",
              "      <td>1.420968</td>\n",
              "      <td>1.001042</td>\n",
              "    </tr>\n",
              "    <tr>\n",
              "      <th>min</th>\n",
              "      <td>-0.598335</td>\n",
              "      <td>-2.505308</td>\n",
              "      <td>-2.038591</td>\n",
              "      <td>-1.153775</td>\n",
              "    </tr>\n",
              "    <tr>\n",
              "      <th>25%</th>\n",
              "      <td>-0.376335</td>\n",
              "      <td>-1.576198</td>\n",
              "      <td>-1.009555</td>\n",
              "      <td>-0.000937</td>\n",
              "    </tr>\n",
              "    <tr>\n",
              "      <th>50%</th>\n",
              "      <td>0.237727</td>\n",
              "      <td>-0.203315</td>\n",
              "      <td>-0.614894</td>\n",
              "      <td>0.529653</td>\n",
              "    </tr>\n",
              "    <tr>\n",
              "      <th>75%</th>\n",
              "      <td>1.382444</td>\n",
              "      <td>0.030656</td>\n",
              "      <td>-0.334609</td>\n",
              "      <td>0.965192</td>\n",
              "    </tr>\n",
              "    <tr>\n",
              "      <th>max</th>\n",
              "      <td>1.928151</td>\n",
              "      <td>0.762022</td>\n",
              "      <td>2.204658</td>\n",
              "      <td>1.740540</td>\n",
              "    </tr>\n",
              "  </tbody>\n",
              "</table>\n",
              "</div>"
            ],
            "text/plain": [
              "              A         B         C         D\n",
              "count  6.000000  6.000000  6.000000  6.000000\n",
              "mean   0.498044 -0.679183 -0.407668  0.429774\n",
              "std    1.085836  1.274101  1.420968  1.001042\n",
              "min   -0.598335 -2.505308 -2.038591 -1.153775\n",
              "25%   -0.376335 -1.576198 -1.009555 -0.000937\n",
              "50%    0.237727 -0.203315 -0.614894  0.529653\n",
              "75%    1.382444  0.030656 -0.334609  0.965192\n",
              "max    1.928151  0.762022  2.204658  1.740540"
            ]
          },
          "metadata": {
            "tags": []
          },
          "execution_count": 116
        }
      ]
    },
    {
      "cell_type": "markdown",
      "metadata": {
        "id": "pqC9wz29yrPD"
      },
      "source": [
        "Transposing your data:"
      ]
    },
    {
      "cell_type": "code",
      "metadata": {
        "colab": {
          "base_uri": "https://localhost:8080/",
          "height": 173
        },
        "id": "-afYheBPyswT",
        "outputId": "881e6870-9aa9-4e7d-daa4-cbb8d564e175"
      },
      "source": [
        "# transpose the data and index labels\n",
        "df.T"
      ],
      "execution_count": 117,
      "outputs": [
        {
          "output_type": "execute_result",
          "data": {
            "text/html": [
              "<div>\n",
              "<style scoped>\n",
              "    .dataframe tbody tr th:only-of-type {\n",
              "        vertical-align: middle;\n",
              "    }\n",
              "\n",
              "    .dataframe tbody tr th {\n",
              "        vertical-align: top;\n",
              "    }\n",
              "\n",
              "    .dataframe thead th {\n",
              "        text-align: right;\n",
              "    }\n",
              "</style>\n",
              "<table border=\"1\" class=\"dataframe\">\n",
              "  <thead>\n",
              "    <tr style=\"text-align: right;\">\n",
              "      <th></th>\n",
              "      <th>2013-01-01</th>\n",
              "      <th>2013-01-02</th>\n",
              "      <th>2013-01-03</th>\n",
              "      <th>2013-01-04</th>\n",
              "      <th>2013-01-05</th>\n",
              "      <th>2013-01-06</th>\n",
              "    </tr>\n",
              "  </thead>\n",
              "  <tbody>\n",
              "    <tr>\n",
              "      <th>A</th>\n",
              "      <td>1.614908</td>\n",
              "      <td>1.928151</td>\n",
              "      <td>-0.431913</td>\n",
              "      <td>-0.598335</td>\n",
              "      <td>-0.209602</td>\n",
              "      <td>0.685055</td>\n",
              "    </tr>\n",
              "    <tr>\n",
              "      <th>B</th>\n",
              "      <td>-0.417070</td>\n",
              "      <td>0.762022</td>\n",
              "      <td>-2.505308</td>\n",
              "      <td>-1.962574</td>\n",
              "      <td>0.037394</td>\n",
              "      <td>0.010440</td>\n",
              "    </tr>\n",
              "    <tr>\n",
              "      <th>C</th>\n",
              "      <td>-0.464239</td>\n",
              "      <td>2.204658</td>\n",
              "      <td>-2.038591</td>\n",
              "      <td>-0.291399</td>\n",
              "      <td>-1.090891</td>\n",
              "      <td>-0.765548</td>\n",
              "    </tr>\n",
              "    <tr>\n",
              "      <th>D</th>\n",
              "      <td>-0.141099</td>\n",
              "      <td>1.073671</td>\n",
              "      <td>1.740540</td>\n",
              "      <td>-1.153775</td>\n",
              "      <td>0.639756</td>\n",
              "      <td>0.419550</td>\n",
              "    </tr>\n",
              "  </tbody>\n",
              "</table>\n",
              "</div>"
            ],
            "text/plain": [
              "   2013-01-01  2013-01-02  2013-01-03  2013-01-04  2013-01-05  2013-01-06\n",
              "A    1.614908    1.928151   -0.431913   -0.598335   -0.209602    0.685055\n",
              "B   -0.417070    0.762022   -2.505308   -1.962574    0.037394    0.010440\n",
              "C   -0.464239    2.204658   -2.038591   -0.291399   -1.090891   -0.765548\n",
              "D   -0.141099    1.073671    1.740540   -1.153775    0.639756    0.419550"
            ]
          },
          "metadata": {
            "tags": []
          },
          "execution_count": 117
        }
      ]
    },
    {
      "cell_type": "markdown",
      "metadata": {
        "id": "9Dn6w9TMyvp2"
      },
      "source": [
        "Sorting by an axis (0=rows, 1=columns):"
      ]
    },
    {
      "cell_type": "code",
      "metadata": {
        "colab": {
          "base_uri": "https://localhost:8080/",
          "height": 235
        },
        "id": "kW4GzPmVyujw",
        "outputId": "fa4a2cc5-79ff-4b5d-b702-ee9bb4e5e7cb"
      },
      "source": [
        "# sort based on row (axis 0) descending\n",
        "# results in sorting the rows by the date label index\n",
        "df.sort_index(axis=0, ascending=False)"
      ],
      "execution_count": 118,
      "outputs": [
        {
          "output_type": "execute_result",
          "data": {
            "text/html": [
              "<div>\n",
              "<style scoped>\n",
              "    .dataframe tbody tr th:only-of-type {\n",
              "        vertical-align: middle;\n",
              "    }\n",
              "\n",
              "    .dataframe tbody tr th {\n",
              "        vertical-align: top;\n",
              "    }\n",
              "\n",
              "    .dataframe thead th {\n",
              "        text-align: right;\n",
              "    }\n",
              "</style>\n",
              "<table border=\"1\" class=\"dataframe\">\n",
              "  <thead>\n",
              "    <tr style=\"text-align: right;\">\n",
              "      <th></th>\n",
              "      <th>A</th>\n",
              "      <th>B</th>\n",
              "      <th>C</th>\n",
              "      <th>D</th>\n",
              "    </tr>\n",
              "  </thead>\n",
              "  <tbody>\n",
              "    <tr>\n",
              "      <th>2013-01-06</th>\n",
              "      <td>0.685055</td>\n",
              "      <td>0.010440</td>\n",
              "      <td>-0.765548</td>\n",
              "      <td>0.419550</td>\n",
              "    </tr>\n",
              "    <tr>\n",
              "      <th>2013-01-05</th>\n",
              "      <td>-0.209602</td>\n",
              "      <td>0.037394</td>\n",
              "      <td>-1.090891</td>\n",
              "      <td>0.639756</td>\n",
              "    </tr>\n",
              "    <tr>\n",
              "      <th>2013-01-04</th>\n",
              "      <td>-0.598335</td>\n",
              "      <td>-1.962574</td>\n",
              "      <td>-0.291399</td>\n",
              "      <td>-1.153775</td>\n",
              "    </tr>\n",
              "    <tr>\n",
              "      <th>2013-01-03</th>\n",
              "      <td>-0.431913</td>\n",
              "      <td>-2.505308</td>\n",
              "      <td>-2.038591</td>\n",
              "      <td>1.740540</td>\n",
              "    </tr>\n",
              "    <tr>\n",
              "      <th>2013-01-02</th>\n",
              "      <td>1.928151</td>\n",
              "      <td>0.762022</td>\n",
              "      <td>2.204658</td>\n",
              "      <td>1.073671</td>\n",
              "    </tr>\n",
              "    <tr>\n",
              "      <th>2013-01-01</th>\n",
              "      <td>1.614908</td>\n",
              "      <td>-0.417070</td>\n",
              "      <td>-0.464239</td>\n",
              "      <td>-0.141099</td>\n",
              "    </tr>\n",
              "  </tbody>\n",
              "</table>\n",
              "</div>"
            ],
            "text/plain": [
              "                   A         B         C         D\n",
              "2013-01-06  0.685055  0.010440 -0.765548  0.419550\n",
              "2013-01-05 -0.209602  0.037394 -1.090891  0.639756\n",
              "2013-01-04 -0.598335 -1.962574 -0.291399 -1.153775\n",
              "2013-01-03 -0.431913 -2.505308 -2.038591  1.740540\n",
              "2013-01-02  1.928151  0.762022  2.204658  1.073671\n",
              "2013-01-01  1.614908 -0.417070 -0.464239 -0.141099"
            ]
          },
          "metadata": {
            "tags": []
          },
          "execution_count": 118
        }
      ]
    },
    {
      "cell_type": "code",
      "metadata": {
        "colab": {
          "base_uri": "https://localhost:8080/",
          "height": 235
        },
        "id": "BbAxV0iJ6vw_",
        "outputId": "71445546-08ca-4047-d826-ad693e601069"
      },
      "source": [
        "# sort based on column (axis 1) descending\n",
        "# results in column F becoming the first column label index\n",
        "df.sort_index(axis=1, ascending=False)"
      ],
      "execution_count": 119,
      "outputs": [
        {
          "output_type": "execute_result",
          "data": {
            "text/html": [
              "<div>\n",
              "<style scoped>\n",
              "    .dataframe tbody tr th:only-of-type {\n",
              "        vertical-align: middle;\n",
              "    }\n",
              "\n",
              "    .dataframe tbody tr th {\n",
              "        vertical-align: top;\n",
              "    }\n",
              "\n",
              "    .dataframe thead th {\n",
              "        text-align: right;\n",
              "    }\n",
              "</style>\n",
              "<table border=\"1\" class=\"dataframe\">\n",
              "  <thead>\n",
              "    <tr style=\"text-align: right;\">\n",
              "      <th></th>\n",
              "      <th>D</th>\n",
              "      <th>C</th>\n",
              "      <th>B</th>\n",
              "      <th>A</th>\n",
              "    </tr>\n",
              "  </thead>\n",
              "  <tbody>\n",
              "    <tr>\n",
              "      <th>2013-01-01</th>\n",
              "      <td>-0.141099</td>\n",
              "      <td>-0.464239</td>\n",
              "      <td>-0.417070</td>\n",
              "      <td>1.614908</td>\n",
              "    </tr>\n",
              "    <tr>\n",
              "      <th>2013-01-02</th>\n",
              "      <td>1.073671</td>\n",
              "      <td>2.204658</td>\n",
              "      <td>0.762022</td>\n",
              "      <td>1.928151</td>\n",
              "    </tr>\n",
              "    <tr>\n",
              "      <th>2013-01-03</th>\n",
              "      <td>1.740540</td>\n",
              "      <td>-2.038591</td>\n",
              "      <td>-2.505308</td>\n",
              "      <td>-0.431913</td>\n",
              "    </tr>\n",
              "    <tr>\n",
              "      <th>2013-01-04</th>\n",
              "      <td>-1.153775</td>\n",
              "      <td>-0.291399</td>\n",
              "      <td>-1.962574</td>\n",
              "      <td>-0.598335</td>\n",
              "    </tr>\n",
              "    <tr>\n",
              "      <th>2013-01-05</th>\n",
              "      <td>0.639756</td>\n",
              "      <td>-1.090891</td>\n",
              "      <td>0.037394</td>\n",
              "      <td>-0.209602</td>\n",
              "    </tr>\n",
              "    <tr>\n",
              "      <th>2013-01-06</th>\n",
              "      <td>0.419550</td>\n",
              "      <td>-0.765548</td>\n",
              "      <td>0.010440</td>\n",
              "      <td>0.685055</td>\n",
              "    </tr>\n",
              "  </tbody>\n",
              "</table>\n",
              "</div>"
            ],
            "text/plain": [
              "                   D         C         B         A\n",
              "2013-01-01 -0.141099 -0.464239 -0.417070  1.614908\n",
              "2013-01-02  1.073671  2.204658  0.762022  1.928151\n",
              "2013-01-03  1.740540 -2.038591 -2.505308 -0.431913\n",
              "2013-01-04 -1.153775 -0.291399 -1.962574 -0.598335\n",
              "2013-01-05  0.639756 -1.090891  0.037394 -0.209602\n",
              "2013-01-06  0.419550 -0.765548  0.010440  0.685055"
            ]
          },
          "metadata": {
            "tags": []
          },
          "execution_count": 119
        }
      ]
    },
    {
      "cell_type": "markdown",
      "metadata": {
        "id": "KxMN8qxFy01T"
      },
      "source": [
        "Sorting by values in a column:"
      ]
    },
    {
      "cell_type": "code",
      "metadata": {
        "colab": {
          "base_uri": "https://localhost:8080/",
          "height": 235
        },
        "id": "KpxZ-apgy28g",
        "outputId": "284bdf74-15c4-426c-9f71-81b8e0574f43"
      },
      "source": [
        "# sort the DataFrame by values in column B\n",
        "df.sort_values(by=\"B\")"
      ],
      "execution_count": 120,
      "outputs": [
        {
          "output_type": "execute_result",
          "data": {
            "text/html": [
              "<div>\n",
              "<style scoped>\n",
              "    .dataframe tbody tr th:only-of-type {\n",
              "        vertical-align: middle;\n",
              "    }\n",
              "\n",
              "    .dataframe tbody tr th {\n",
              "        vertical-align: top;\n",
              "    }\n",
              "\n",
              "    .dataframe thead th {\n",
              "        text-align: right;\n",
              "    }\n",
              "</style>\n",
              "<table border=\"1\" class=\"dataframe\">\n",
              "  <thead>\n",
              "    <tr style=\"text-align: right;\">\n",
              "      <th></th>\n",
              "      <th>A</th>\n",
              "      <th>B</th>\n",
              "      <th>C</th>\n",
              "      <th>D</th>\n",
              "    </tr>\n",
              "  </thead>\n",
              "  <tbody>\n",
              "    <tr>\n",
              "      <th>2013-01-03</th>\n",
              "      <td>-0.431913</td>\n",
              "      <td>-2.505308</td>\n",
              "      <td>-2.038591</td>\n",
              "      <td>1.740540</td>\n",
              "    </tr>\n",
              "    <tr>\n",
              "      <th>2013-01-04</th>\n",
              "      <td>-0.598335</td>\n",
              "      <td>-1.962574</td>\n",
              "      <td>-0.291399</td>\n",
              "      <td>-1.153775</td>\n",
              "    </tr>\n",
              "    <tr>\n",
              "      <th>2013-01-01</th>\n",
              "      <td>1.614908</td>\n",
              "      <td>-0.417070</td>\n",
              "      <td>-0.464239</td>\n",
              "      <td>-0.141099</td>\n",
              "    </tr>\n",
              "    <tr>\n",
              "      <th>2013-01-06</th>\n",
              "      <td>0.685055</td>\n",
              "      <td>0.010440</td>\n",
              "      <td>-0.765548</td>\n",
              "      <td>0.419550</td>\n",
              "    </tr>\n",
              "    <tr>\n",
              "      <th>2013-01-05</th>\n",
              "      <td>-0.209602</td>\n",
              "      <td>0.037394</td>\n",
              "      <td>-1.090891</td>\n",
              "      <td>0.639756</td>\n",
              "    </tr>\n",
              "    <tr>\n",
              "      <th>2013-01-02</th>\n",
              "      <td>1.928151</td>\n",
              "      <td>0.762022</td>\n",
              "      <td>2.204658</td>\n",
              "      <td>1.073671</td>\n",
              "    </tr>\n",
              "  </tbody>\n",
              "</table>\n",
              "</div>"
            ],
            "text/plain": [
              "                   A         B         C         D\n",
              "2013-01-03 -0.431913 -2.505308 -2.038591  1.740540\n",
              "2013-01-04 -0.598335 -1.962574 -0.291399 -1.153775\n",
              "2013-01-01  1.614908 -0.417070 -0.464239 -0.141099\n",
              "2013-01-06  0.685055  0.010440 -0.765548  0.419550\n",
              "2013-01-05 -0.209602  0.037394 -1.090891  0.639756\n",
              "2013-01-02  1.928151  0.762022  2.204658  1.073671"
            ]
          },
          "metadata": {
            "tags": []
          },
          "execution_count": 120
        }
      ]
    },
    {
      "cell_type": "markdown",
      "metadata": {
        "id": "_Vrd-Mzzy6vr"
      },
      "source": [
        "## Selection\n",
        "\n",
        "**Note**\n",
        "\n",
        "While standard Python / NumPy expressions for selecting and setting are intuitive and come in handy for interactive work, for production code, we recommend the optimized pandas data access methods, `.at`, `.iat`, `.loc` and `.iloc`.\n",
        "\n",
        "See the indexing documentation [Indexing and Selecting Data](https://pandas.pydata.org/pandas-docs/stable/user_guide/indexing.html#indexing) and [MultiIndex / Advanced Indexing](https://pandas.pydata.org/pandas-docs/stable/user_guide/advanced.html#advanced)."
      ]
    },
    {
      "cell_type": "markdown",
      "metadata": {
        "id": "zWU9rzA5zFHn"
      },
      "source": [
        "### Getting\n",
        "\n",
        "Selecting a single column, which yields a `Series`, equivalent to `df.A`:"
      ]
    },
    {
      "cell_type": "code",
      "metadata": {
        "colab": {
          "base_uri": "https://localhost:8080/"
        },
        "id": "M4kYspoEy5Qc",
        "outputId": "f80fff19-d326-48d3-f324-4619f8ee2246"
      },
      "source": [
        "# select the Series of data from column A by key\n",
        "df[\"A\"]"
      ],
      "execution_count": 121,
      "outputs": [
        {
          "output_type": "execute_result",
          "data": {
            "text/plain": [
              "2013-01-01    1.614908\n",
              "2013-01-02    1.928151\n",
              "2013-01-03   -0.431913\n",
              "2013-01-04   -0.598335\n",
              "2013-01-05   -0.209602\n",
              "2013-01-06    0.685055\n",
              "Freq: D, Name: A, dtype: float64"
            ]
          },
          "metadata": {
            "tags": []
          },
          "execution_count": 121
        }
      ]
    },
    {
      "cell_type": "code",
      "metadata": {
        "colab": {
          "base_uri": "https://localhost:8080/"
        },
        "id": "WvOGEFOYzOTF",
        "outputId": "764e5e1b-70be-48a4-a339-72a501da34fb"
      },
      "source": [
        "# select the Series of data from column A by property\n",
        "df.A"
      ],
      "execution_count": 122,
      "outputs": [
        {
          "output_type": "execute_result",
          "data": {
            "text/plain": [
              "2013-01-01    1.614908\n",
              "2013-01-02    1.928151\n",
              "2013-01-03   -0.431913\n",
              "2013-01-04   -0.598335\n",
              "2013-01-05   -0.209602\n",
              "2013-01-06    0.685055\n",
              "Freq: D, Name: A, dtype: float64"
            ]
          },
          "metadata": {
            "tags": []
          },
          "execution_count": 122
        }
      ]
    },
    {
      "cell_type": "markdown",
      "metadata": {
        "id": "GkoleCOKzRnZ"
      },
      "source": [
        "Selecting via `[]`, which slices the rows."
      ]
    },
    {
      "cell_type": "code",
      "metadata": {
        "colab": {
          "base_uri": "https://localhost:8080/",
          "height": 142
        },
        "id": "0RgtgJ38zT-S",
        "outputId": "87a9848b-b97c-464d-90d5-1a99d478601e"
      },
      "source": [
        "# slice the data based on the row index 0 to 3 non-inclusive\n",
        "df[0:3]"
      ],
      "execution_count": 123,
      "outputs": [
        {
          "output_type": "execute_result",
          "data": {
            "text/html": [
              "<div>\n",
              "<style scoped>\n",
              "    .dataframe tbody tr th:only-of-type {\n",
              "        vertical-align: middle;\n",
              "    }\n",
              "\n",
              "    .dataframe tbody tr th {\n",
              "        vertical-align: top;\n",
              "    }\n",
              "\n",
              "    .dataframe thead th {\n",
              "        text-align: right;\n",
              "    }\n",
              "</style>\n",
              "<table border=\"1\" class=\"dataframe\">\n",
              "  <thead>\n",
              "    <tr style=\"text-align: right;\">\n",
              "      <th></th>\n",
              "      <th>A</th>\n",
              "      <th>B</th>\n",
              "      <th>C</th>\n",
              "      <th>D</th>\n",
              "    </tr>\n",
              "  </thead>\n",
              "  <tbody>\n",
              "    <tr>\n",
              "      <th>2013-01-01</th>\n",
              "      <td>1.614908</td>\n",
              "      <td>-0.417070</td>\n",
              "      <td>-0.464239</td>\n",
              "      <td>-0.141099</td>\n",
              "    </tr>\n",
              "    <tr>\n",
              "      <th>2013-01-02</th>\n",
              "      <td>1.928151</td>\n",
              "      <td>0.762022</td>\n",
              "      <td>2.204658</td>\n",
              "      <td>1.073671</td>\n",
              "    </tr>\n",
              "    <tr>\n",
              "      <th>2013-01-03</th>\n",
              "      <td>-0.431913</td>\n",
              "      <td>-2.505308</td>\n",
              "      <td>-2.038591</td>\n",
              "      <td>1.740540</td>\n",
              "    </tr>\n",
              "  </tbody>\n",
              "</table>\n",
              "</div>"
            ],
            "text/plain": [
              "                   A         B         C         D\n",
              "2013-01-01  1.614908 -0.417070 -0.464239 -0.141099\n",
              "2013-01-02  1.928151  0.762022  2.204658  1.073671\n",
              "2013-01-03 -0.431913 -2.505308 -2.038591  1.740540"
            ]
          },
          "metadata": {
            "tags": []
          },
          "execution_count": 123
        }
      ]
    },
    {
      "cell_type": "code",
      "metadata": {
        "colab": {
          "base_uri": "https://localhost:8080/",
          "height": 142
        },
        "id": "hagUYPiSzWSM",
        "outputId": "2a6ab119-87ad-4322-9201-c941ce526ad2"
      },
      "source": [
        "# slice the data based on the row index labels inclusive\n",
        "df[\"20130102\":\"20130104\"]"
      ],
      "execution_count": 124,
      "outputs": [
        {
          "output_type": "execute_result",
          "data": {
            "text/html": [
              "<div>\n",
              "<style scoped>\n",
              "    .dataframe tbody tr th:only-of-type {\n",
              "        vertical-align: middle;\n",
              "    }\n",
              "\n",
              "    .dataframe tbody tr th {\n",
              "        vertical-align: top;\n",
              "    }\n",
              "\n",
              "    .dataframe thead th {\n",
              "        text-align: right;\n",
              "    }\n",
              "</style>\n",
              "<table border=\"1\" class=\"dataframe\">\n",
              "  <thead>\n",
              "    <tr style=\"text-align: right;\">\n",
              "      <th></th>\n",
              "      <th>A</th>\n",
              "      <th>B</th>\n",
              "      <th>C</th>\n",
              "      <th>D</th>\n",
              "    </tr>\n",
              "  </thead>\n",
              "  <tbody>\n",
              "    <tr>\n",
              "      <th>2013-01-02</th>\n",
              "      <td>1.928151</td>\n",
              "      <td>0.762022</td>\n",
              "      <td>2.204658</td>\n",
              "      <td>1.073671</td>\n",
              "    </tr>\n",
              "    <tr>\n",
              "      <th>2013-01-03</th>\n",
              "      <td>-0.431913</td>\n",
              "      <td>-2.505308</td>\n",
              "      <td>-2.038591</td>\n",
              "      <td>1.740540</td>\n",
              "    </tr>\n",
              "    <tr>\n",
              "      <th>2013-01-04</th>\n",
              "      <td>-0.598335</td>\n",
              "      <td>-1.962574</td>\n",
              "      <td>-0.291399</td>\n",
              "      <td>-1.153775</td>\n",
              "    </tr>\n",
              "  </tbody>\n",
              "</table>\n",
              "</div>"
            ],
            "text/plain": [
              "                   A         B         C         D\n",
              "2013-01-02  1.928151  0.762022  2.204658  1.073671\n",
              "2013-01-03 -0.431913 -2.505308 -2.038591  1.740540\n",
              "2013-01-04 -0.598335 -1.962574 -0.291399 -1.153775"
            ]
          },
          "metadata": {
            "tags": []
          },
          "execution_count": 124
        }
      ]
    },
    {
      "cell_type": "markdown",
      "metadata": {
        "id": "CMtMhShqzcLh"
      },
      "source": [
        "### Selection by label\n",
        "\n",
        "For getting a cross section using a label:\n",
        "\n",
        "See more in [Selection by Label](https://pandas.pydata.org/pandas-docs/stable/user_guide/indexing.html#indexing-label)."
      ]
    },
    {
      "cell_type": "code",
      "metadata": {
        "colab": {
          "base_uri": "https://localhost:8080/"
        },
        "id": "bfuIL-BxzhNw",
        "outputId": "79280638-c769-49c4-9dd3-7a5087759e67"
      },
      "source": [
        "# get the data for a row from a label index\n",
        "df.loc[\"2013-01-01\"]"
      ],
      "execution_count": 125,
      "outputs": [
        {
          "output_type": "execute_result",
          "data": {
            "text/plain": [
              "A    1.614908\n",
              "B   -0.417070\n",
              "C   -0.464239\n",
              "D   -0.141099\n",
              "Name: 2013-01-01 00:00:00, dtype: float64"
            ]
          },
          "metadata": {
            "tags": []
          },
          "execution_count": 125
        }
      ]
    },
    {
      "cell_type": "code",
      "metadata": {
        "colab": {
          "base_uri": "https://localhost:8080/"
        },
        "id": "mWafIA-X75L9",
        "outputId": "2daaca8c-4f19-4ec5-8285-b40d31d066a5"
      },
      "source": [
        "# get the data for a row from a label index\n",
        "df.loc[dates[0]]"
      ],
      "execution_count": 126,
      "outputs": [
        {
          "output_type": "execute_result",
          "data": {
            "text/plain": [
              "A    1.614908\n",
              "B   -0.417070\n",
              "C   -0.464239\n",
              "D   -0.141099\n",
              "Name: 2013-01-01 00:00:00, dtype: float64"
            ]
          },
          "metadata": {
            "tags": []
          },
          "execution_count": 126
        }
      ]
    },
    {
      "cell_type": "markdown",
      "metadata": {
        "id": "wKebGeRhzmjC"
      },
      "source": [
        "Selecting on a multi-axis by label:"
      ]
    },
    {
      "cell_type": "code",
      "metadata": {
        "colab": {
          "base_uri": "https://localhost:8080/",
          "height": 235
        },
        "id": "Wkt55i70znaA",
        "outputId": "1d620c07-023c-4b91-b265-a087110c2874"
      },
      "source": [
        "# get the data from all rows and columns A and B\n",
        "df.loc[:, [\"A\", \"B\"]]"
      ],
      "execution_count": 127,
      "outputs": [
        {
          "output_type": "execute_result",
          "data": {
            "text/html": [
              "<div>\n",
              "<style scoped>\n",
              "    .dataframe tbody tr th:only-of-type {\n",
              "        vertical-align: middle;\n",
              "    }\n",
              "\n",
              "    .dataframe tbody tr th {\n",
              "        vertical-align: top;\n",
              "    }\n",
              "\n",
              "    .dataframe thead th {\n",
              "        text-align: right;\n",
              "    }\n",
              "</style>\n",
              "<table border=\"1\" class=\"dataframe\">\n",
              "  <thead>\n",
              "    <tr style=\"text-align: right;\">\n",
              "      <th></th>\n",
              "      <th>A</th>\n",
              "      <th>B</th>\n",
              "    </tr>\n",
              "  </thead>\n",
              "  <tbody>\n",
              "    <tr>\n",
              "      <th>2013-01-01</th>\n",
              "      <td>1.614908</td>\n",
              "      <td>-0.417070</td>\n",
              "    </tr>\n",
              "    <tr>\n",
              "      <th>2013-01-02</th>\n",
              "      <td>1.928151</td>\n",
              "      <td>0.762022</td>\n",
              "    </tr>\n",
              "    <tr>\n",
              "      <th>2013-01-03</th>\n",
              "      <td>-0.431913</td>\n",
              "      <td>-2.505308</td>\n",
              "    </tr>\n",
              "    <tr>\n",
              "      <th>2013-01-04</th>\n",
              "      <td>-0.598335</td>\n",
              "      <td>-1.962574</td>\n",
              "    </tr>\n",
              "    <tr>\n",
              "      <th>2013-01-05</th>\n",
              "      <td>-0.209602</td>\n",
              "      <td>0.037394</td>\n",
              "    </tr>\n",
              "    <tr>\n",
              "      <th>2013-01-06</th>\n",
              "      <td>0.685055</td>\n",
              "      <td>0.010440</td>\n",
              "    </tr>\n",
              "  </tbody>\n",
              "</table>\n",
              "</div>"
            ],
            "text/plain": [
              "                   A         B\n",
              "2013-01-01  1.614908 -0.417070\n",
              "2013-01-02  1.928151  0.762022\n",
              "2013-01-03 -0.431913 -2.505308\n",
              "2013-01-04 -0.598335 -1.962574\n",
              "2013-01-05 -0.209602  0.037394\n",
              "2013-01-06  0.685055  0.010440"
            ]
          },
          "metadata": {
            "tags": []
          },
          "execution_count": 127
        }
      ]
    },
    {
      "cell_type": "markdown",
      "metadata": {
        "id": "W61VS0n2zqHS"
      },
      "source": [
        "Showing label slicing, both endpoints are *included*:"
      ]
    },
    {
      "cell_type": "code",
      "metadata": {
        "colab": {
          "base_uri": "https://localhost:8080/",
          "height": 142
        },
        "id": "ZUDzr7WkzuEP",
        "outputId": "186b6547-10dd-4433-a704-c0a4e16028af"
      },
      "source": [
        "# get the data from rows 20130102 through 20130104 and columns A and B\n",
        "df.loc[\"20130102\":\"20130104\", [\"A\", \"B\"]]"
      ],
      "execution_count": 128,
      "outputs": [
        {
          "output_type": "execute_result",
          "data": {
            "text/html": [
              "<div>\n",
              "<style scoped>\n",
              "    .dataframe tbody tr th:only-of-type {\n",
              "        vertical-align: middle;\n",
              "    }\n",
              "\n",
              "    .dataframe tbody tr th {\n",
              "        vertical-align: top;\n",
              "    }\n",
              "\n",
              "    .dataframe thead th {\n",
              "        text-align: right;\n",
              "    }\n",
              "</style>\n",
              "<table border=\"1\" class=\"dataframe\">\n",
              "  <thead>\n",
              "    <tr style=\"text-align: right;\">\n",
              "      <th></th>\n",
              "      <th>A</th>\n",
              "      <th>B</th>\n",
              "    </tr>\n",
              "  </thead>\n",
              "  <tbody>\n",
              "    <tr>\n",
              "      <th>2013-01-02</th>\n",
              "      <td>1.928151</td>\n",
              "      <td>0.762022</td>\n",
              "    </tr>\n",
              "    <tr>\n",
              "      <th>2013-01-03</th>\n",
              "      <td>-0.431913</td>\n",
              "      <td>-2.505308</td>\n",
              "    </tr>\n",
              "    <tr>\n",
              "      <th>2013-01-04</th>\n",
              "      <td>-0.598335</td>\n",
              "      <td>-1.962574</td>\n",
              "    </tr>\n",
              "  </tbody>\n",
              "</table>\n",
              "</div>"
            ],
            "text/plain": [
              "                   A         B\n",
              "2013-01-02  1.928151  0.762022\n",
              "2013-01-03 -0.431913 -2.505308\n",
              "2013-01-04 -0.598335 -1.962574"
            ]
          },
          "metadata": {
            "tags": []
          },
          "execution_count": 128
        }
      ]
    },
    {
      "cell_type": "markdown",
      "metadata": {
        "id": "wJLQ8nc9z2At"
      },
      "source": [
        "Reduction in the dimensions of the returned object:"
      ]
    },
    {
      "cell_type": "code",
      "metadata": {
        "colab": {
          "base_uri": "https://localhost:8080/"
        },
        "id": "GfD_0Lj_z4it",
        "outputId": "c7af99a2-b101-48e8-f382-dbd8f595f607"
      },
      "source": [
        "# get a Series of a single row based on label index and specific columns A and B\n",
        "df.loc[\"20130102\", [\"A\", \"B\"]]"
      ],
      "execution_count": 129,
      "outputs": [
        {
          "output_type": "execute_result",
          "data": {
            "text/plain": [
              "A    1.928151\n",
              "B    0.762022\n",
              "Name: 2013-01-02 00:00:00, dtype: float64"
            ]
          },
          "metadata": {
            "tags": []
          },
          "execution_count": 129
        }
      ]
    },
    {
      "cell_type": "markdown",
      "metadata": {
        "id": "iRyQCOd7z6Lz"
      },
      "source": [
        "For getting a scalar value:"
      ]
    },
    {
      "cell_type": "code",
      "metadata": {
        "colab": {
          "base_uri": "https://localhost:8080/"
        },
        "id": "AJcwIxTcz8A_",
        "outputId": "8eef9ab7-2ed9-45a2-f12c-68abaa11e33a"
      },
      "source": [
        "# get a single scalar value from a row label index and column label index\n",
        "df.loc[dates[0], \"A\"]"
      ],
      "execution_count": 130,
      "outputs": [
        {
          "output_type": "execute_result",
          "data": {
            "text/plain": [
              "1.614907578185836"
            ]
          },
          "metadata": {
            "tags": []
          },
          "execution_count": 130
        }
      ]
    },
    {
      "cell_type": "markdown",
      "metadata": {
        "id": "_qC62M9oz-EK"
      },
      "source": [
        "For getting fast access to a scalar (equivalent to the prior method):"
      ]
    },
    {
      "cell_type": "code",
      "metadata": {
        "colab": {
          "base_uri": "https://localhost:8080/"
        },
        "id": "lKTwLRdPz_md",
        "outputId": "974a10df-d664-46a6-ed67-8f7b73969a07"
      },
      "source": [
        "# get a single scalar value from a row label index and column label index\n",
        "df.at[dates[0], \"A\"]"
      ],
      "execution_count": 131,
      "outputs": [
        {
          "output_type": "execute_result",
          "data": {
            "text/plain": [
              "1.614907578185836"
            ]
          },
          "metadata": {
            "tags": []
          },
          "execution_count": 131
        }
      ]
    },
    {
      "cell_type": "markdown",
      "metadata": {
        "id": "VjXZrNWU0DIw"
      },
      "source": [
        "### Selection by position\n",
        "\n",
        "Select via the position of the passed integers:"
      ]
    },
    {
      "cell_type": "code",
      "metadata": {
        "colab": {
          "base_uri": "https://localhost:8080/"
        },
        "id": "zih6MHPW0HOS",
        "outputId": "3db50979-5668-4a2d-b444-cf4641c30f3e"
      },
      "source": [
        "# get a Series of the data for the given row index\n",
        "df.iloc[3]"
      ],
      "execution_count": 132,
      "outputs": [
        {
          "output_type": "execute_result",
          "data": {
            "text/plain": [
              "A   -0.598335\n",
              "B   -1.962574\n",
              "C   -0.291399\n",
              "D   -1.153775\n",
              "Name: 2013-01-04 00:00:00, dtype: float64"
            ]
          },
          "metadata": {
            "tags": []
          },
          "execution_count": 132
        }
      ]
    },
    {
      "cell_type": "markdown",
      "metadata": {
        "id": "i5Cgt_io0GU8"
      },
      "source": [
        "By integer slices, acting similar to NumPy/Python:"
      ]
    },
    {
      "cell_type": "code",
      "metadata": {
        "colab": {
          "base_uri": "https://localhost:8080/",
          "height": 111
        },
        "id": "xJQquieQ0M-D",
        "outputId": "d40bada4-73fa-4aad-a072-e62b50bc8eba"
      },
      "source": [
        "# slice the DataFrame by a range of row indexes and column indexes\n",
        "df.iloc[3:5, 0:2]"
      ],
      "execution_count": 133,
      "outputs": [
        {
          "output_type": "execute_result",
          "data": {
            "text/html": [
              "<div>\n",
              "<style scoped>\n",
              "    .dataframe tbody tr th:only-of-type {\n",
              "        vertical-align: middle;\n",
              "    }\n",
              "\n",
              "    .dataframe tbody tr th {\n",
              "        vertical-align: top;\n",
              "    }\n",
              "\n",
              "    .dataframe thead th {\n",
              "        text-align: right;\n",
              "    }\n",
              "</style>\n",
              "<table border=\"1\" class=\"dataframe\">\n",
              "  <thead>\n",
              "    <tr style=\"text-align: right;\">\n",
              "      <th></th>\n",
              "      <th>A</th>\n",
              "      <th>B</th>\n",
              "    </tr>\n",
              "  </thead>\n",
              "  <tbody>\n",
              "    <tr>\n",
              "      <th>2013-01-04</th>\n",
              "      <td>-0.598335</td>\n",
              "      <td>-1.962574</td>\n",
              "    </tr>\n",
              "    <tr>\n",
              "      <th>2013-01-05</th>\n",
              "      <td>-0.209602</td>\n",
              "      <td>0.037394</td>\n",
              "    </tr>\n",
              "  </tbody>\n",
              "</table>\n",
              "</div>"
            ],
            "text/plain": [
              "                   A         B\n",
              "2013-01-04 -0.598335 -1.962574\n",
              "2013-01-05 -0.209602  0.037394"
            ]
          },
          "metadata": {
            "tags": []
          },
          "execution_count": 133
        }
      ]
    },
    {
      "cell_type": "markdown",
      "metadata": {
        "id": "g7eCj3vs0Ooe"
      },
      "source": [
        "By lists of integer position locations, similar to the NumPy/Python style:"
      ]
    },
    {
      "cell_type": "code",
      "metadata": {
        "colab": {
          "base_uri": "https://localhost:8080/",
          "height": 142
        },
        "id": "1xphPf0X0RtH",
        "outputId": "03c6bfcf-c034-4e83-a500-0060918af8e2"
      },
      "source": [
        "# slice the DataFrame by specific row indexes and column indexes\n",
        "df.iloc[[1, 2, 4], [0, 2]]"
      ],
      "execution_count": 134,
      "outputs": [
        {
          "output_type": "execute_result",
          "data": {
            "text/html": [
              "<div>\n",
              "<style scoped>\n",
              "    .dataframe tbody tr th:only-of-type {\n",
              "        vertical-align: middle;\n",
              "    }\n",
              "\n",
              "    .dataframe tbody tr th {\n",
              "        vertical-align: top;\n",
              "    }\n",
              "\n",
              "    .dataframe thead th {\n",
              "        text-align: right;\n",
              "    }\n",
              "</style>\n",
              "<table border=\"1\" class=\"dataframe\">\n",
              "  <thead>\n",
              "    <tr style=\"text-align: right;\">\n",
              "      <th></th>\n",
              "      <th>A</th>\n",
              "      <th>C</th>\n",
              "    </tr>\n",
              "  </thead>\n",
              "  <tbody>\n",
              "    <tr>\n",
              "      <th>2013-01-02</th>\n",
              "      <td>1.928151</td>\n",
              "      <td>2.204658</td>\n",
              "    </tr>\n",
              "    <tr>\n",
              "      <th>2013-01-03</th>\n",
              "      <td>-0.431913</td>\n",
              "      <td>-2.038591</td>\n",
              "    </tr>\n",
              "    <tr>\n",
              "      <th>2013-01-05</th>\n",
              "      <td>-0.209602</td>\n",
              "      <td>-1.090891</td>\n",
              "    </tr>\n",
              "  </tbody>\n",
              "</table>\n",
              "</div>"
            ],
            "text/plain": [
              "                   A         C\n",
              "2013-01-02  1.928151  2.204658\n",
              "2013-01-03 -0.431913 -2.038591\n",
              "2013-01-05 -0.209602 -1.090891"
            ]
          },
          "metadata": {
            "tags": []
          },
          "execution_count": 134
        }
      ]
    },
    {
      "cell_type": "markdown",
      "metadata": {
        "id": "GspgoOgF0VEo"
      },
      "source": [
        "For slicing rows explicitly:"
      ]
    },
    {
      "cell_type": "code",
      "metadata": {
        "colab": {
          "base_uri": "https://localhost:8080/",
          "height": 111
        },
        "id": "WsP651vh0Xis",
        "outputId": "aca6f955-5999-40f8-dc89-b39efe3b463d"
      },
      "source": [
        "# slice by a range or row indexes and all columns\n",
        "df.iloc[1:3, :]"
      ],
      "execution_count": 135,
      "outputs": [
        {
          "output_type": "execute_result",
          "data": {
            "text/html": [
              "<div>\n",
              "<style scoped>\n",
              "    .dataframe tbody tr th:only-of-type {\n",
              "        vertical-align: middle;\n",
              "    }\n",
              "\n",
              "    .dataframe tbody tr th {\n",
              "        vertical-align: top;\n",
              "    }\n",
              "\n",
              "    .dataframe thead th {\n",
              "        text-align: right;\n",
              "    }\n",
              "</style>\n",
              "<table border=\"1\" class=\"dataframe\">\n",
              "  <thead>\n",
              "    <tr style=\"text-align: right;\">\n",
              "      <th></th>\n",
              "      <th>A</th>\n",
              "      <th>B</th>\n",
              "      <th>C</th>\n",
              "      <th>D</th>\n",
              "    </tr>\n",
              "  </thead>\n",
              "  <tbody>\n",
              "    <tr>\n",
              "      <th>2013-01-02</th>\n",
              "      <td>1.928151</td>\n",
              "      <td>0.762022</td>\n",
              "      <td>2.204658</td>\n",
              "      <td>1.073671</td>\n",
              "    </tr>\n",
              "    <tr>\n",
              "      <th>2013-01-03</th>\n",
              "      <td>-0.431913</td>\n",
              "      <td>-2.505308</td>\n",
              "      <td>-2.038591</td>\n",
              "      <td>1.740540</td>\n",
              "    </tr>\n",
              "  </tbody>\n",
              "</table>\n",
              "</div>"
            ],
            "text/plain": [
              "                   A         B         C         D\n",
              "2013-01-02  1.928151  0.762022  2.204658  1.073671\n",
              "2013-01-03 -0.431913 -2.505308 -2.038591  1.740540"
            ]
          },
          "metadata": {
            "tags": []
          },
          "execution_count": 135
        }
      ]
    },
    {
      "cell_type": "markdown",
      "metadata": {
        "id": "Xm6F6O0l0acs"
      },
      "source": [
        "For slicing columns explicitly:"
      ]
    },
    {
      "cell_type": "code",
      "metadata": {
        "colab": {
          "base_uri": "https://localhost:8080/",
          "height": 235
        },
        "id": "aRxflsGS0b9c",
        "outputId": "00c1ea9d-5d03-4b74-fe5d-fdc50cec67fb"
      },
      "source": [
        "# slice by all rows and a range of columns\n",
        "df.iloc[:, 1:3]"
      ],
      "execution_count": 136,
      "outputs": [
        {
          "output_type": "execute_result",
          "data": {
            "text/html": [
              "<div>\n",
              "<style scoped>\n",
              "    .dataframe tbody tr th:only-of-type {\n",
              "        vertical-align: middle;\n",
              "    }\n",
              "\n",
              "    .dataframe tbody tr th {\n",
              "        vertical-align: top;\n",
              "    }\n",
              "\n",
              "    .dataframe thead th {\n",
              "        text-align: right;\n",
              "    }\n",
              "</style>\n",
              "<table border=\"1\" class=\"dataframe\">\n",
              "  <thead>\n",
              "    <tr style=\"text-align: right;\">\n",
              "      <th></th>\n",
              "      <th>B</th>\n",
              "      <th>C</th>\n",
              "    </tr>\n",
              "  </thead>\n",
              "  <tbody>\n",
              "    <tr>\n",
              "      <th>2013-01-01</th>\n",
              "      <td>-0.417070</td>\n",
              "      <td>-0.464239</td>\n",
              "    </tr>\n",
              "    <tr>\n",
              "      <th>2013-01-02</th>\n",
              "      <td>0.762022</td>\n",
              "      <td>2.204658</td>\n",
              "    </tr>\n",
              "    <tr>\n",
              "      <th>2013-01-03</th>\n",
              "      <td>-2.505308</td>\n",
              "      <td>-2.038591</td>\n",
              "    </tr>\n",
              "    <tr>\n",
              "      <th>2013-01-04</th>\n",
              "      <td>-1.962574</td>\n",
              "      <td>-0.291399</td>\n",
              "    </tr>\n",
              "    <tr>\n",
              "      <th>2013-01-05</th>\n",
              "      <td>0.037394</td>\n",
              "      <td>-1.090891</td>\n",
              "    </tr>\n",
              "    <tr>\n",
              "      <th>2013-01-06</th>\n",
              "      <td>0.010440</td>\n",
              "      <td>-0.765548</td>\n",
              "    </tr>\n",
              "  </tbody>\n",
              "</table>\n",
              "</div>"
            ],
            "text/plain": [
              "                   B         C\n",
              "2013-01-01 -0.417070 -0.464239\n",
              "2013-01-02  0.762022  2.204658\n",
              "2013-01-03 -2.505308 -2.038591\n",
              "2013-01-04 -1.962574 -0.291399\n",
              "2013-01-05  0.037394 -1.090891\n",
              "2013-01-06  0.010440 -0.765548"
            ]
          },
          "metadata": {
            "tags": []
          },
          "execution_count": 136
        }
      ]
    },
    {
      "cell_type": "markdown",
      "metadata": {
        "id": "5OM_N7gb0dhc"
      },
      "source": [
        "For getting a value explicitly:"
      ]
    },
    {
      "cell_type": "code",
      "metadata": {
        "colab": {
          "base_uri": "https://localhost:8080/"
        },
        "id": "rWO-YTMz0f3q",
        "outputId": "09e42279-b612-4eb0-f8ec-ff58cb1e325a"
      },
      "source": [
        "# get a specfic value by index\n",
        "df.iloc[1, 1]"
      ],
      "execution_count": 137,
      "outputs": [
        {
          "output_type": "execute_result",
          "data": {
            "text/plain": [
              "0.762021861308557"
            ]
          },
          "metadata": {
            "tags": []
          },
          "execution_count": 137
        }
      ]
    },
    {
      "cell_type": "markdown",
      "metadata": {
        "id": "hlShBoOg0iDq"
      },
      "source": [
        "For getting fast access to a scalar (equivalent to the prior method):"
      ]
    },
    {
      "cell_type": "code",
      "metadata": {
        "colab": {
          "base_uri": "https://localhost:8080/"
        },
        "id": "V2HpgX2C0jsC",
        "outputId": "c24988a4-ba52-48b8-b2c7-1c3690ca7963"
      },
      "source": [
        "# get a specfic value by index\n",
        "df.iat[1, 1]"
      ],
      "execution_count": 138,
      "outputs": [
        {
          "output_type": "execute_result",
          "data": {
            "text/plain": [
              "0.762021861308557"
            ]
          },
          "metadata": {
            "tags": []
          },
          "execution_count": 138
        }
      ]
    },
    {
      "cell_type": "markdown",
      "metadata": {
        "id": "VoODGB2w0jCM"
      },
      "source": [
        "### Boolean indexing\n",
        "\n",
        "Using a single column’s values to select data."
      ]
    },
    {
      "cell_type": "code",
      "metadata": {
        "colab": {
          "base_uri": "https://localhost:8080/",
          "height": 142
        },
        "id": "Ou68mPaz0o6z",
        "outputId": "89f51d65-7718-42e5-c56e-e859d965e40a"
      },
      "source": [
        "# filter the DataFrame by a column's values\n",
        "df[df[\"A\"] > 0]"
      ],
      "execution_count": 139,
      "outputs": [
        {
          "output_type": "execute_result",
          "data": {
            "text/html": [
              "<div>\n",
              "<style scoped>\n",
              "    .dataframe tbody tr th:only-of-type {\n",
              "        vertical-align: middle;\n",
              "    }\n",
              "\n",
              "    .dataframe tbody tr th {\n",
              "        vertical-align: top;\n",
              "    }\n",
              "\n",
              "    .dataframe thead th {\n",
              "        text-align: right;\n",
              "    }\n",
              "</style>\n",
              "<table border=\"1\" class=\"dataframe\">\n",
              "  <thead>\n",
              "    <tr style=\"text-align: right;\">\n",
              "      <th></th>\n",
              "      <th>A</th>\n",
              "      <th>B</th>\n",
              "      <th>C</th>\n",
              "      <th>D</th>\n",
              "    </tr>\n",
              "  </thead>\n",
              "  <tbody>\n",
              "    <tr>\n",
              "      <th>2013-01-01</th>\n",
              "      <td>1.614908</td>\n",
              "      <td>-0.417070</td>\n",
              "      <td>-0.464239</td>\n",
              "      <td>-0.141099</td>\n",
              "    </tr>\n",
              "    <tr>\n",
              "      <th>2013-01-02</th>\n",
              "      <td>1.928151</td>\n",
              "      <td>0.762022</td>\n",
              "      <td>2.204658</td>\n",
              "      <td>1.073671</td>\n",
              "    </tr>\n",
              "    <tr>\n",
              "      <th>2013-01-06</th>\n",
              "      <td>0.685055</td>\n",
              "      <td>0.010440</td>\n",
              "      <td>-0.765548</td>\n",
              "      <td>0.419550</td>\n",
              "    </tr>\n",
              "  </tbody>\n",
              "</table>\n",
              "</div>"
            ],
            "text/plain": [
              "                   A         B         C         D\n",
              "2013-01-01  1.614908 -0.417070 -0.464239 -0.141099\n",
              "2013-01-02  1.928151  0.762022  2.204658  1.073671\n",
              "2013-01-06  0.685055  0.010440 -0.765548  0.419550"
            ]
          },
          "metadata": {
            "tags": []
          },
          "execution_count": 139
        }
      ]
    },
    {
      "cell_type": "markdown",
      "metadata": {
        "id": "br2JPh290sEO"
      },
      "source": [
        "Selecting values from a DataFrame where a boolean condition is met."
      ]
    },
    {
      "cell_type": "code",
      "metadata": {
        "colab": {
          "base_uri": "https://localhost:8080/",
          "height": 235
        },
        "id": "f79P7BCy0u-5",
        "outputId": "7b7eb66e-a9e9-4aff-a79e-f699abeca7be"
      },
      "source": [
        "# filter the DataFrame by the values of all columns\n",
        "df[df > 0]"
      ],
      "execution_count": 140,
      "outputs": [
        {
          "output_type": "execute_result",
          "data": {
            "text/html": [
              "<div>\n",
              "<style scoped>\n",
              "    .dataframe tbody tr th:only-of-type {\n",
              "        vertical-align: middle;\n",
              "    }\n",
              "\n",
              "    .dataframe tbody tr th {\n",
              "        vertical-align: top;\n",
              "    }\n",
              "\n",
              "    .dataframe thead th {\n",
              "        text-align: right;\n",
              "    }\n",
              "</style>\n",
              "<table border=\"1\" class=\"dataframe\">\n",
              "  <thead>\n",
              "    <tr style=\"text-align: right;\">\n",
              "      <th></th>\n",
              "      <th>A</th>\n",
              "      <th>B</th>\n",
              "      <th>C</th>\n",
              "      <th>D</th>\n",
              "    </tr>\n",
              "  </thead>\n",
              "  <tbody>\n",
              "    <tr>\n",
              "      <th>2013-01-01</th>\n",
              "      <td>1.614908</td>\n",
              "      <td>NaN</td>\n",
              "      <td>NaN</td>\n",
              "      <td>NaN</td>\n",
              "    </tr>\n",
              "    <tr>\n",
              "      <th>2013-01-02</th>\n",
              "      <td>1.928151</td>\n",
              "      <td>0.762022</td>\n",
              "      <td>2.204658</td>\n",
              "      <td>1.073671</td>\n",
              "    </tr>\n",
              "    <tr>\n",
              "      <th>2013-01-03</th>\n",
              "      <td>NaN</td>\n",
              "      <td>NaN</td>\n",
              "      <td>NaN</td>\n",
              "      <td>1.740540</td>\n",
              "    </tr>\n",
              "    <tr>\n",
              "      <th>2013-01-04</th>\n",
              "      <td>NaN</td>\n",
              "      <td>NaN</td>\n",
              "      <td>NaN</td>\n",
              "      <td>NaN</td>\n",
              "    </tr>\n",
              "    <tr>\n",
              "      <th>2013-01-05</th>\n",
              "      <td>NaN</td>\n",
              "      <td>0.037394</td>\n",
              "      <td>NaN</td>\n",
              "      <td>0.639756</td>\n",
              "    </tr>\n",
              "    <tr>\n",
              "      <th>2013-01-06</th>\n",
              "      <td>0.685055</td>\n",
              "      <td>0.010440</td>\n",
              "      <td>NaN</td>\n",
              "      <td>0.419550</td>\n",
              "    </tr>\n",
              "  </tbody>\n",
              "</table>\n",
              "</div>"
            ],
            "text/plain": [
              "                   A         B         C         D\n",
              "2013-01-01  1.614908       NaN       NaN       NaN\n",
              "2013-01-02  1.928151  0.762022  2.204658  1.073671\n",
              "2013-01-03       NaN       NaN       NaN  1.740540\n",
              "2013-01-04       NaN       NaN       NaN       NaN\n",
              "2013-01-05       NaN  0.037394       NaN  0.639756\n",
              "2013-01-06  0.685055  0.010440       NaN  0.419550"
            ]
          },
          "metadata": {
            "tags": []
          },
          "execution_count": 140
        }
      ]
    },
    {
      "cell_type": "markdown",
      "metadata": {
        "id": "gxg5dGKL0xGc"
      },
      "source": [
        "Using the `isin()` method for filtering:"
      ]
    },
    {
      "cell_type": "code",
      "metadata": {
        "colab": {
          "base_uri": "https://localhost:8080/",
          "height": 235
        },
        "id": "oQU9BBty0zpI",
        "outputId": "6356a9d5-1da7-4ada-f3ae-df8464e036cc"
      },
      "source": [
        "df2 = df.copy()\n",
        "\n",
        "df2[\"E\"] = [\"one\", \"one\", \"two\", \"three\", \"four\", \"three\"]\n",
        "\n",
        "df2"
      ],
      "execution_count": 141,
      "outputs": [
        {
          "output_type": "execute_result",
          "data": {
            "text/html": [
              "<div>\n",
              "<style scoped>\n",
              "    .dataframe tbody tr th:only-of-type {\n",
              "        vertical-align: middle;\n",
              "    }\n",
              "\n",
              "    .dataframe tbody tr th {\n",
              "        vertical-align: top;\n",
              "    }\n",
              "\n",
              "    .dataframe thead th {\n",
              "        text-align: right;\n",
              "    }\n",
              "</style>\n",
              "<table border=\"1\" class=\"dataframe\">\n",
              "  <thead>\n",
              "    <tr style=\"text-align: right;\">\n",
              "      <th></th>\n",
              "      <th>A</th>\n",
              "      <th>B</th>\n",
              "      <th>C</th>\n",
              "      <th>D</th>\n",
              "      <th>E</th>\n",
              "    </tr>\n",
              "  </thead>\n",
              "  <tbody>\n",
              "    <tr>\n",
              "      <th>2013-01-01</th>\n",
              "      <td>1.614908</td>\n",
              "      <td>-0.417070</td>\n",
              "      <td>-0.464239</td>\n",
              "      <td>-0.141099</td>\n",
              "      <td>one</td>\n",
              "    </tr>\n",
              "    <tr>\n",
              "      <th>2013-01-02</th>\n",
              "      <td>1.928151</td>\n",
              "      <td>0.762022</td>\n",
              "      <td>2.204658</td>\n",
              "      <td>1.073671</td>\n",
              "      <td>one</td>\n",
              "    </tr>\n",
              "    <tr>\n",
              "      <th>2013-01-03</th>\n",
              "      <td>-0.431913</td>\n",
              "      <td>-2.505308</td>\n",
              "      <td>-2.038591</td>\n",
              "      <td>1.740540</td>\n",
              "      <td>two</td>\n",
              "    </tr>\n",
              "    <tr>\n",
              "      <th>2013-01-04</th>\n",
              "      <td>-0.598335</td>\n",
              "      <td>-1.962574</td>\n",
              "      <td>-0.291399</td>\n",
              "      <td>-1.153775</td>\n",
              "      <td>three</td>\n",
              "    </tr>\n",
              "    <tr>\n",
              "      <th>2013-01-05</th>\n",
              "      <td>-0.209602</td>\n",
              "      <td>0.037394</td>\n",
              "      <td>-1.090891</td>\n",
              "      <td>0.639756</td>\n",
              "      <td>four</td>\n",
              "    </tr>\n",
              "    <tr>\n",
              "      <th>2013-01-06</th>\n",
              "      <td>0.685055</td>\n",
              "      <td>0.010440</td>\n",
              "      <td>-0.765548</td>\n",
              "      <td>0.419550</td>\n",
              "      <td>three</td>\n",
              "    </tr>\n",
              "  </tbody>\n",
              "</table>\n",
              "</div>"
            ],
            "text/plain": [
              "                   A         B         C         D      E\n",
              "2013-01-01  1.614908 -0.417070 -0.464239 -0.141099    one\n",
              "2013-01-02  1.928151  0.762022  2.204658  1.073671    one\n",
              "2013-01-03 -0.431913 -2.505308 -2.038591  1.740540    two\n",
              "2013-01-04 -0.598335 -1.962574 -0.291399 -1.153775  three\n",
              "2013-01-05 -0.209602  0.037394 -1.090891  0.639756   four\n",
              "2013-01-06  0.685055  0.010440 -0.765548  0.419550  three"
            ]
          },
          "metadata": {
            "tags": []
          },
          "execution_count": 141
        }
      ]
    },
    {
      "cell_type": "code",
      "metadata": {
        "colab": {
          "base_uri": "https://localhost:8080/",
          "height": 111
        },
        "id": "wp2f2fEn05vY",
        "outputId": "09a2acad-2a60-4b2c-cf91-defa9d32729f"
      },
      "source": [
        "# filter the DataFrame by a list of column values\n",
        "df2[df2[\"E\"].isin([\"two\", \"four\"])]"
      ],
      "execution_count": 142,
      "outputs": [
        {
          "output_type": "execute_result",
          "data": {
            "text/html": [
              "<div>\n",
              "<style scoped>\n",
              "    .dataframe tbody tr th:only-of-type {\n",
              "        vertical-align: middle;\n",
              "    }\n",
              "\n",
              "    .dataframe tbody tr th {\n",
              "        vertical-align: top;\n",
              "    }\n",
              "\n",
              "    .dataframe thead th {\n",
              "        text-align: right;\n",
              "    }\n",
              "</style>\n",
              "<table border=\"1\" class=\"dataframe\">\n",
              "  <thead>\n",
              "    <tr style=\"text-align: right;\">\n",
              "      <th></th>\n",
              "      <th>A</th>\n",
              "      <th>B</th>\n",
              "      <th>C</th>\n",
              "      <th>D</th>\n",
              "      <th>E</th>\n",
              "    </tr>\n",
              "  </thead>\n",
              "  <tbody>\n",
              "    <tr>\n",
              "      <th>2013-01-03</th>\n",
              "      <td>-0.431913</td>\n",
              "      <td>-2.505308</td>\n",
              "      <td>-2.038591</td>\n",
              "      <td>1.740540</td>\n",
              "      <td>two</td>\n",
              "    </tr>\n",
              "    <tr>\n",
              "      <th>2013-01-05</th>\n",
              "      <td>-0.209602</td>\n",
              "      <td>0.037394</td>\n",
              "      <td>-1.090891</td>\n",
              "      <td>0.639756</td>\n",
              "      <td>four</td>\n",
              "    </tr>\n",
              "  </tbody>\n",
              "</table>\n",
              "</div>"
            ],
            "text/plain": [
              "                   A         B         C         D     E\n",
              "2013-01-03 -0.431913 -2.505308 -2.038591  1.740540   two\n",
              "2013-01-05 -0.209602  0.037394 -1.090891  0.639756  four"
            ]
          },
          "metadata": {
            "tags": []
          },
          "execution_count": 142
        }
      ]
    },
    {
      "cell_type": "markdown",
      "metadata": {
        "id": "PRtoyTHE09E2"
      },
      "source": [
        "### Setting\n",
        "\n",
        "Setting a new column automatically aligns the data by the indexes."
      ]
    },
    {
      "cell_type": "code",
      "metadata": {
        "colab": {
          "base_uri": "https://localhost:8080/"
        },
        "id": "OBF6EIeE1AAh",
        "outputId": "207c3b35-07b2-4e67-f84b-ce9a6cd95492"
      },
      "source": [
        "# create a series indexed from 1-6 with 6 dates starting at 20130102\n",
        "s1 = pd.Series([1, 2, 3, 4, 5, 6], index=pd.date_range(\"20130102\", periods=6))\n",
        "s1"
      ],
      "execution_count": 143,
      "outputs": [
        {
          "output_type": "execute_result",
          "data": {
            "text/plain": [
              "2013-01-02    1\n",
              "2013-01-03    2\n",
              "2013-01-04    3\n",
              "2013-01-05    4\n",
              "2013-01-06    5\n",
              "2013-01-07    6\n",
              "Freq: D, dtype: int64"
            ]
          },
          "metadata": {
            "tags": []
          },
          "execution_count": 143
        }
      ]
    },
    {
      "cell_type": "code",
      "metadata": {
        "colab": {
          "base_uri": "https://localhost:8080/",
          "height": 235
        },
        "id": "eJqqDOUt1FYE",
        "outputId": "e28747e6-33ab-4cc7-ba3a-5897494ce6df"
      },
      "source": [
        "# set column F to the series values; note the supplied series starts at index 1 resulting in NaN for row 0\n",
        "df[\"F\"] = s1\n",
        "df"
      ],
      "execution_count": 144,
      "outputs": [
        {
          "output_type": "execute_result",
          "data": {
            "text/html": [
              "<div>\n",
              "<style scoped>\n",
              "    .dataframe tbody tr th:only-of-type {\n",
              "        vertical-align: middle;\n",
              "    }\n",
              "\n",
              "    .dataframe tbody tr th {\n",
              "        vertical-align: top;\n",
              "    }\n",
              "\n",
              "    .dataframe thead th {\n",
              "        text-align: right;\n",
              "    }\n",
              "</style>\n",
              "<table border=\"1\" class=\"dataframe\">\n",
              "  <thead>\n",
              "    <tr style=\"text-align: right;\">\n",
              "      <th></th>\n",
              "      <th>A</th>\n",
              "      <th>B</th>\n",
              "      <th>C</th>\n",
              "      <th>D</th>\n",
              "      <th>F</th>\n",
              "    </tr>\n",
              "  </thead>\n",
              "  <tbody>\n",
              "    <tr>\n",
              "      <th>2013-01-01</th>\n",
              "      <td>1.614908</td>\n",
              "      <td>-0.417070</td>\n",
              "      <td>-0.464239</td>\n",
              "      <td>-0.141099</td>\n",
              "      <td>NaN</td>\n",
              "    </tr>\n",
              "    <tr>\n",
              "      <th>2013-01-02</th>\n",
              "      <td>1.928151</td>\n",
              "      <td>0.762022</td>\n",
              "      <td>2.204658</td>\n",
              "      <td>1.073671</td>\n",
              "      <td>1.0</td>\n",
              "    </tr>\n",
              "    <tr>\n",
              "      <th>2013-01-03</th>\n",
              "      <td>-0.431913</td>\n",
              "      <td>-2.505308</td>\n",
              "      <td>-2.038591</td>\n",
              "      <td>1.740540</td>\n",
              "      <td>2.0</td>\n",
              "    </tr>\n",
              "    <tr>\n",
              "      <th>2013-01-04</th>\n",
              "      <td>-0.598335</td>\n",
              "      <td>-1.962574</td>\n",
              "      <td>-0.291399</td>\n",
              "      <td>-1.153775</td>\n",
              "      <td>3.0</td>\n",
              "    </tr>\n",
              "    <tr>\n",
              "      <th>2013-01-05</th>\n",
              "      <td>-0.209602</td>\n",
              "      <td>0.037394</td>\n",
              "      <td>-1.090891</td>\n",
              "      <td>0.639756</td>\n",
              "      <td>4.0</td>\n",
              "    </tr>\n",
              "    <tr>\n",
              "      <th>2013-01-06</th>\n",
              "      <td>0.685055</td>\n",
              "      <td>0.010440</td>\n",
              "      <td>-0.765548</td>\n",
              "      <td>0.419550</td>\n",
              "      <td>5.0</td>\n",
              "    </tr>\n",
              "  </tbody>\n",
              "</table>\n",
              "</div>"
            ],
            "text/plain": [
              "                   A         B         C         D    F\n",
              "2013-01-01  1.614908 -0.417070 -0.464239 -0.141099  NaN\n",
              "2013-01-02  1.928151  0.762022  2.204658  1.073671  1.0\n",
              "2013-01-03 -0.431913 -2.505308 -2.038591  1.740540  2.0\n",
              "2013-01-04 -0.598335 -1.962574 -0.291399 -1.153775  3.0\n",
              "2013-01-05 -0.209602  0.037394 -1.090891  0.639756  4.0\n",
              "2013-01-06  0.685055  0.010440 -0.765548  0.419550  5.0"
            ]
          },
          "metadata": {
            "tags": []
          },
          "execution_count": 144
        }
      ]
    },
    {
      "cell_type": "markdown",
      "metadata": {
        "id": "OUo01pwM1Pz6"
      },
      "source": [
        "Setting values by label:"
      ]
    },
    {
      "cell_type": "code",
      "metadata": {
        "colab": {
          "base_uri": "https://localhost:8080/",
          "height": 235
        },
        "id": "VPZ_EmEU1Q16",
        "outputId": "ba785d2e-9c52-4fad-9f06-22b4ad5dab43"
      },
      "source": [
        "# set row 0 based on the date label, column A to 0\n",
        "df.at[dates[0], \"A\"] = 0\n",
        "df"
      ],
      "execution_count": 145,
      "outputs": [
        {
          "output_type": "execute_result",
          "data": {
            "text/html": [
              "<div>\n",
              "<style scoped>\n",
              "    .dataframe tbody tr th:only-of-type {\n",
              "        vertical-align: middle;\n",
              "    }\n",
              "\n",
              "    .dataframe tbody tr th {\n",
              "        vertical-align: top;\n",
              "    }\n",
              "\n",
              "    .dataframe thead th {\n",
              "        text-align: right;\n",
              "    }\n",
              "</style>\n",
              "<table border=\"1\" class=\"dataframe\">\n",
              "  <thead>\n",
              "    <tr style=\"text-align: right;\">\n",
              "      <th></th>\n",
              "      <th>A</th>\n",
              "      <th>B</th>\n",
              "      <th>C</th>\n",
              "      <th>D</th>\n",
              "      <th>F</th>\n",
              "    </tr>\n",
              "  </thead>\n",
              "  <tbody>\n",
              "    <tr>\n",
              "      <th>2013-01-01</th>\n",
              "      <td>0.000000</td>\n",
              "      <td>-0.417070</td>\n",
              "      <td>-0.464239</td>\n",
              "      <td>-0.141099</td>\n",
              "      <td>NaN</td>\n",
              "    </tr>\n",
              "    <tr>\n",
              "      <th>2013-01-02</th>\n",
              "      <td>1.928151</td>\n",
              "      <td>0.762022</td>\n",
              "      <td>2.204658</td>\n",
              "      <td>1.073671</td>\n",
              "      <td>1.0</td>\n",
              "    </tr>\n",
              "    <tr>\n",
              "      <th>2013-01-03</th>\n",
              "      <td>-0.431913</td>\n",
              "      <td>-2.505308</td>\n",
              "      <td>-2.038591</td>\n",
              "      <td>1.740540</td>\n",
              "      <td>2.0</td>\n",
              "    </tr>\n",
              "    <tr>\n",
              "      <th>2013-01-04</th>\n",
              "      <td>-0.598335</td>\n",
              "      <td>-1.962574</td>\n",
              "      <td>-0.291399</td>\n",
              "      <td>-1.153775</td>\n",
              "      <td>3.0</td>\n",
              "    </tr>\n",
              "    <tr>\n",
              "      <th>2013-01-05</th>\n",
              "      <td>-0.209602</td>\n",
              "      <td>0.037394</td>\n",
              "      <td>-1.090891</td>\n",
              "      <td>0.639756</td>\n",
              "      <td>4.0</td>\n",
              "    </tr>\n",
              "    <tr>\n",
              "      <th>2013-01-06</th>\n",
              "      <td>0.685055</td>\n",
              "      <td>0.010440</td>\n",
              "      <td>-0.765548</td>\n",
              "      <td>0.419550</td>\n",
              "      <td>5.0</td>\n",
              "    </tr>\n",
              "  </tbody>\n",
              "</table>\n",
              "</div>"
            ],
            "text/plain": [
              "                   A         B         C         D    F\n",
              "2013-01-01  0.000000 -0.417070 -0.464239 -0.141099  NaN\n",
              "2013-01-02  1.928151  0.762022  2.204658  1.073671  1.0\n",
              "2013-01-03 -0.431913 -2.505308 -2.038591  1.740540  2.0\n",
              "2013-01-04 -0.598335 -1.962574 -0.291399 -1.153775  3.0\n",
              "2013-01-05 -0.209602  0.037394 -1.090891  0.639756  4.0\n",
              "2013-01-06  0.685055  0.010440 -0.765548  0.419550  5.0"
            ]
          },
          "metadata": {
            "tags": []
          },
          "execution_count": 145
        }
      ]
    },
    {
      "cell_type": "markdown",
      "metadata": {
        "id": "LmT1qyqs1ZZz"
      },
      "source": [
        "Setting values by position:"
      ]
    },
    {
      "cell_type": "code",
      "metadata": {
        "colab": {
          "base_uri": "https://localhost:8080/",
          "height": 235
        },
        "id": "8I2zzC3S1aWi",
        "outputId": "914258cb-4fc4-4270-9f59-934f01d2fc5f"
      },
      "source": [
        "# set row 0, column 1 to 0\n",
        "df.iat[0, 1] = 0\n",
        "df"
      ],
      "execution_count": 146,
      "outputs": [
        {
          "output_type": "execute_result",
          "data": {
            "text/html": [
              "<div>\n",
              "<style scoped>\n",
              "    .dataframe tbody tr th:only-of-type {\n",
              "        vertical-align: middle;\n",
              "    }\n",
              "\n",
              "    .dataframe tbody tr th {\n",
              "        vertical-align: top;\n",
              "    }\n",
              "\n",
              "    .dataframe thead th {\n",
              "        text-align: right;\n",
              "    }\n",
              "</style>\n",
              "<table border=\"1\" class=\"dataframe\">\n",
              "  <thead>\n",
              "    <tr style=\"text-align: right;\">\n",
              "      <th></th>\n",
              "      <th>A</th>\n",
              "      <th>B</th>\n",
              "      <th>C</th>\n",
              "      <th>D</th>\n",
              "      <th>F</th>\n",
              "    </tr>\n",
              "  </thead>\n",
              "  <tbody>\n",
              "    <tr>\n",
              "      <th>2013-01-01</th>\n",
              "      <td>0.000000</td>\n",
              "      <td>0.000000</td>\n",
              "      <td>-0.464239</td>\n",
              "      <td>-0.141099</td>\n",
              "      <td>NaN</td>\n",
              "    </tr>\n",
              "    <tr>\n",
              "      <th>2013-01-02</th>\n",
              "      <td>1.928151</td>\n",
              "      <td>0.762022</td>\n",
              "      <td>2.204658</td>\n",
              "      <td>1.073671</td>\n",
              "      <td>1.0</td>\n",
              "    </tr>\n",
              "    <tr>\n",
              "      <th>2013-01-03</th>\n",
              "      <td>-0.431913</td>\n",
              "      <td>-2.505308</td>\n",
              "      <td>-2.038591</td>\n",
              "      <td>1.740540</td>\n",
              "      <td>2.0</td>\n",
              "    </tr>\n",
              "    <tr>\n",
              "      <th>2013-01-04</th>\n",
              "      <td>-0.598335</td>\n",
              "      <td>-1.962574</td>\n",
              "      <td>-0.291399</td>\n",
              "      <td>-1.153775</td>\n",
              "      <td>3.0</td>\n",
              "    </tr>\n",
              "    <tr>\n",
              "      <th>2013-01-05</th>\n",
              "      <td>-0.209602</td>\n",
              "      <td>0.037394</td>\n",
              "      <td>-1.090891</td>\n",
              "      <td>0.639756</td>\n",
              "      <td>4.0</td>\n",
              "    </tr>\n",
              "    <tr>\n",
              "      <th>2013-01-06</th>\n",
              "      <td>0.685055</td>\n",
              "      <td>0.010440</td>\n",
              "      <td>-0.765548</td>\n",
              "      <td>0.419550</td>\n",
              "      <td>5.0</td>\n",
              "    </tr>\n",
              "  </tbody>\n",
              "</table>\n",
              "</div>"
            ],
            "text/plain": [
              "                   A         B         C         D    F\n",
              "2013-01-01  0.000000  0.000000 -0.464239 -0.141099  NaN\n",
              "2013-01-02  1.928151  0.762022  2.204658  1.073671  1.0\n",
              "2013-01-03 -0.431913 -2.505308 -2.038591  1.740540  2.0\n",
              "2013-01-04 -0.598335 -1.962574 -0.291399 -1.153775  3.0\n",
              "2013-01-05 -0.209602  0.037394 -1.090891  0.639756  4.0\n",
              "2013-01-06  0.685055  0.010440 -0.765548  0.419550  5.0"
            ]
          },
          "metadata": {
            "tags": []
          },
          "execution_count": 146
        }
      ]
    },
    {
      "cell_type": "markdown",
      "metadata": {
        "id": "f0BWGefb1etM"
      },
      "source": [
        "Setting by assigning with a NumPy array:"
      ]
    },
    {
      "cell_type": "code",
      "metadata": {
        "colab": {
          "base_uri": "https://localhost:8080/",
          "height": 235
        },
        "id": "q1_Xi2kX1fnW",
        "outputId": "ff4f57cf-f9a9-400a-fff6-79559d74580e"
      },
      "source": [
        "# set all rows, column D to 5\n",
        "df.loc[:, \"D\"] = np.array([5] * len(df))\n",
        "df"
      ],
      "execution_count": 147,
      "outputs": [
        {
          "output_type": "execute_result",
          "data": {
            "text/html": [
              "<div>\n",
              "<style scoped>\n",
              "    .dataframe tbody tr th:only-of-type {\n",
              "        vertical-align: middle;\n",
              "    }\n",
              "\n",
              "    .dataframe tbody tr th {\n",
              "        vertical-align: top;\n",
              "    }\n",
              "\n",
              "    .dataframe thead th {\n",
              "        text-align: right;\n",
              "    }\n",
              "</style>\n",
              "<table border=\"1\" class=\"dataframe\">\n",
              "  <thead>\n",
              "    <tr style=\"text-align: right;\">\n",
              "      <th></th>\n",
              "      <th>A</th>\n",
              "      <th>B</th>\n",
              "      <th>C</th>\n",
              "      <th>D</th>\n",
              "      <th>F</th>\n",
              "    </tr>\n",
              "  </thead>\n",
              "  <tbody>\n",
              "    <tr>\n",
              "      <th>2013-01-01</th>\n",
              "      <td>0.000000</td>\n",
              "      <td>0.000000</td>\n",
              "      <td>-0.464239</td>\n",
              "      <td>5</td>\n",
              "      <td>NaN</td>\n",
              "    </tr>\n",
              "    <tr>\n",
              "      <th>2013-01-02</th>\n",
              "      <td>1.928151</td>\n",
              "      <td>0.762022</td>\n",
              "      <td>2.204658</td>\n",
              "      <td>5</td>\n",
              "      <td>1.0</td>\n",
              "    </tr>\n",
              "    <tr>\n",
              "      <th>2013-01-03</th>\n",
              "      <td>-0.431913</td>\n",
              "      <td>-2.505308</td>\n",
              "      <td>-2.038591</td>\n",
              "      <td>5</td>\n",
              "      <td>2.0</td>\n",
              "    </tr>\n",
              "    <tr>\n",
              "      <th>2013-01-04</th>\n",
              "      <td>-0.598335</td>\n",
              "      <td>-1.962574</td>\n",
              "      <td>-0.291399</td>\n",
              "      <td>5</td>\n",
              "      <td>3.0</td>\n",
              "    </tr>\n",
              "    <tr>\n",
              "      <th>2013-01-05</th>\n",
              "      <td>-0.209602</td>\n",
              "      <td>0.037394</td>\n",
              "      <td>-1.090891</td>\n",
              "      <td>5</td>\n",
              "      <td>4.0</td>\n",
              "    </tr>\n",
              "    <tr>\n",
              "      <th>2013-01-06</th>\n",
              "      <td>0.685055</td>\n",
              "      <td>0.010440</td>\n",
              "      <td>-0.765548</td>\n",
              "      <td>5</td>\n",
              "      <td>5.0</td>\n",
              "    </tr>\n",
              "  </tbody>\n",
              "</table>\n",
              "</div>"
            ],
            "text/plain": [
              "                   A         B         C  D    F\n",
              "2013-01-01  0.000000  0.000000 -0.464239  5  NaN\n",
              "2013-01-02  1.928151  0.762022  2.204658  5  1.0\n",
              "2013-01-03 -0.431913 -2.505308 -2.038591  5  2.0\n",
              "2013-01-04 -0.598335 -1.962574 -0.291399  5  3.0\n",
              "2013-01-05 -0.209602  0.037394 -1.090891  5  4.0\n",
              "2013-01-06  0.685055  0.010440 -0.765548  5  5.0"
            ]
          },
          "metadata": {
            "tags": []
          },
          "execution_count": 147
        }
      ]
    },
    {
      "cell_type": "markdown",
      "metadata": {
        "id": "Px9eQiis1l55"
      },
      "source": [
        "A `where` operation with setting."
      ]
    },
    {
      "cell_type": "code",
      "metadata": {
        "colab": {
          "base_uri": "https://localhost:8080/",
          "height": 235
        },
        "id": "NGvKPN451oQD",
        "outputId": "d2450f03-13c4-4dcb-b426-f7dc59475081"
      },
      "source": [
        "df2 = df.copy()\n",
        "# set values greater than 0 to their negative value\n",
        "df2[df2 > 0] = -df2\n",
        "df2"
      ],
      "execution_count": 148,
      "outputs": [
        {
          "output_type": "execute_result",
          "data": {
            "text/html": [
              "<div>\n",
              "<style scoped>\n",
              "    .dataframe tbody tr th:only-of-type {\n",
              "        vertical-align: middle;\n",
              "    }\n",
              "\n",
              "    .dataframe tbody tr th {\n",
              "        vertical-align: top;\n",
              "    }\n",
              "\n",
              "    .dataframe thead th {\n",
              "        text-align: right;\n",
              "    }\n",
              "</style>\n",
              "<table border=\"1\" class=\"dataframe\">\n",
              "  <thead>\n",
              "    <tr style=\"text-align: right;\">\n",
              "      <th></th>\n",
              "      <th>A</th>\n",
              "      <th>B</th>\n",
              "      <th>C</th>\n",
              "      <th>D</th>\n",
              "      <th>F</th>\n",
              "    </tr>\n",
              "  </thead>\n",
              "  <tbody>\n",
              "    <tr>\n",
              "      <th>2013-01-01</th>\n",
              "      <td>0.000000</td>\n",
              "      <td>0.000000</td>\n",
              "      <td>-0.464239</td>\n",
              "      <td>-5</td>\n",
              "      <td>NaN</td>\n",
              "    </tr>\n",
              "    <tr>\n",
              "      <th>2013-01-02</th>\n",
              "      <td>-1.928151</td>\n",
              "      <td>-0.762022</td>\n",
              "      <td>-2.204658</td>\n",
              "      <td>-5</td>\n",
              "      <td>-1.0</td>\n",
              "    </tr>\n",
              "    <tr>\n",
              "      <th>2013-01-03</th>\n",
              "      <td>-0.431913</td>\n",
              "      <td>-2.505308</td>\n",
              "      <td>-2.038591</td>\n",
              "      <td>-5</td>\n",
              "      <td>-2.0</td>\n",
              "    </tr>\n",
              "    <tr>\n",
              "      <th>2013-01-04</th>\n",
              "      <td>-0.598335</td>\n",
              "      <td>-1.962574</td>\n",
              "      <td>-0.291399</td>\n",
              "      <td>-5</td>\n",
              "      <td>-3.0</td>\n",
              "    </tr>\n",
              "    <tr>\n",
              "      <th>2013-01-05</th>\n",
              "      <td>-0.209602</td>\n",
              "      <td>-0.037394</td>\n",
              "      <td>-1.090891</td>\n",
              "      <td>-5</td>\n",
              "      <td>-4.0</td>\n",
              "    </tr>\n",
              "    <tr>\n",
              "      <th>2013-01-06</th>\n",
              "      <td>-0.685055</td>\n",
              "      <td>-0.010440</td>\n",
              "      <td>-0.765548</td>\n",
              "      <td>-5</td>\n",
              "      <td>-5.0</td>\n",
              "    </tr>\n",
              "  </tbody>\n",
              "</table>\n",
              "</div>"
            ],
            "text/plain": [
              "                   A         B         C  D    F\n",
              "2013-01-01  0.000000  0.000000 -0.464239 -5  NaN\n",
              "2013-01-02 -1.928151 -0.762022 -2.204658 -5 -1.0\n",
              "2013-01-03 -0.431913 -2.505308 -2.038591 -5 -2.0\n",
              "2013-01-04 -0.598335 -1.962574 -0.291399 -5 -3.0\n",
              "2013-01-05 -0.209602 -0.037394 -1.090891 -5 -4.0\n",
              "2013-01-06 -0.685055 -0.010440 -0.765548 -5 -5.0"
            ]
          },
          "metadata": {
            "tags": []
          },
          "execution_count": 148
        }
      ]
    },
    {
      "cell_type": "markdown",
      "metadata": {
        "id": "cE9x7xHu1wQn"
      },
      "source": [
        "## Missing data\n",
        "\n",
        "pandas primarily uses the value `np.nan` to represent missing data. It is by default not included in computations.\n",
        "\n",
        "Reindexing allows you to change/add/delete the index on a specified axis. This returns a copy of the data.\n",
        "\n",
        "See the [Missing Data](https://pandas.pydata.org/pandas-docs/stable/user_guide/missing_data.html#missing-data) section."
      ]
    },
    {
      "cell_type": "code",
      "metadata": {
        "colab": {
          "base_uri": "https://localhost:8080/",
          "height": 235
        },
        "id": "s_2PEQr42NDm",
        "outputId": "69b1cfdd-5928-4a32-f0a4-91f15dd32681"
      },
      "source": [
        "df"
      ],
      "execution_count": 149,
      "outputs": [
        {
          "output_type": "execute_result",
          "data": {
            "text/html": [
              "<div>\n",
              "<style scoped>\n",
              "    .dataframe tbody tr th:only-of-type {\n",
              "        vertical-align: middle;\n",
              "    }\n",
              "\n",
              "    .dataframe tbody tr th {\n",
              "        vertical-align: top;\n",
              "    }\n",
              "\n",
              "    .dataframe thead th {\n",
              "        text-align: right;\n",
              "    }\n",
              "</style>\n",
              "<table border=\"1\" class=\"dataframe\">\n",
              "  <thead>\n",
              "    <tr style=\"text-align: right;\">\n",
              "      <th></th>\n",
              "      <th>A</th>\n",
              "      <th>B</th>\n",
              "      <th>C</th>\n",
              "      <th>D</th>\n",
              "      <th>F</th>\n",
              "    </tr>\n",
              "  </thead>\n",
              "  <tbody>\n",
              "    <tr>\n",
              "      <th>2013-01-01</th>\n",
              "      <td>0.000000</td>\n",
              "      <td>0.000000</td>\n",
              "      <td>-0.464239</td>\n",
              "      <td>5</td>\n",
              "      <td>NaN</td>\n",
              "    </tr>\n",
              "    <tr>\n",
              "      <th>2013-01-02</th>\n",
              "      <td>1.928151</td>\n",
              "      <td>0.762022</td>\n",
              "      <td>2.204658</td>\n",
              "      <td>5</td>\n",
              "      <td>1.0</td>\n",
              "    </tr>\n",
              "    <tr>\n",
              "      <th>2013-01-03</th>\n",
              "      <td>-0.431913</td>\n",
              "      <td>-2.505308</td>\n",
              "      <td>-2.038591</td>\n",
              "      <td>5</td>\n",
              "      <td>2.0</td>\n",
              "    </tr>\n",
              "    <tr>\n",
              "      <th>2013-01-04</th>\n",
              "      <td>-0.598335</td>\n",
              "      <td>-1.962574</td>\n",
              "      <td>-0.291399</td>\n",
              "      <td>5</td>\n",
              "      <td>3.0</td>\n",
              "    </tr>\n",
              "    <tr>\n",
              "      <th>2013-01-05</th>\n",
              "      <td>-0.209602</td>\n",
              "      <td>0.037394</td>\n",
              "      <td>-1.090891</td>\n",
              "      <td>5</td>\n",
              "      <td>4.0</td>\n",
              "    </tr>\n",
              "    <tr>\n",
              "      <th>2013-01-06</th>\n",
              "      <td>0.685055</td>\n",
              "      <td>0.010440</td>\n",
              "      <td>-0.765548</td>\n",
              "      <td>5</td>\n",
              "      <td>5.0</td>\n",
              "    </tr>\n",
              "  </tbody>\n",
              "</table>\n",
              "</div>"
            ],
            "text/plain": [
              "                   A         B         C  D    F\n",
              "2013-01-01  0.000000  0.000000 -0.464239  5  NaN\n",
              "2013-01-02  1.928151  0.762022  2.204658  5  1.0\n",
              "2013-01-03 -0.431913 -2.505308 -2.038591  5  2.0\n",
              "2013-01-04 -0.598335 -1.962574 -0.291399  5  3.0\n",
              "2013-01-05 -0.209602  0.037394 -1.090891  5  4.0\n",
              "2013-01-06  0.685055  0.010440 -0.765548  5  5.0"
            ]
          },
          "metadata": {
            "tags": []
          },
          "execution_count": 149
        }
      ]
    },
    {
      "cell_type": "code",
      "metadata": {
        "colab": {
          "base_uri": "https://localhost:8080/",
          "height": 173
        },
        "id": "AG7bzbxT12MO",
        "outputId": "e4082f16-e902-4e8d-a0f4-1c72c21c1c35"
      },
      "source": [
        "# add column E to the end\n",
        "df1 = df.reindex(index=dates[0:4], columns=list(df.columns) + [\"E\"])\n",
        "# set rows 0 and 1 to 1\n",
        "df1.loc[dates[0] : dates[1], \"E\"] = 1  \n",
        "df1"
      ],
      "execution_count": 150,
      "outputs": [
        {
          "output_type": "execute_result",
          "data": {
            "text/html": [
              "<div>\n",
              "<style scoped>\n",
              "    .dataframe tbody tr th:only-of-type {\n",
              "        vertical-align: middle;\n",
              "    }\n",
              "\n",
              "    .dataframe tbody tr th {\n",
              "        vertical-align: top;\n",
              "    }\n",
              "\n",
              "    .dataframe thead th {\n",
              "        text-align: right;\n",
              "    }\n",
              "</style>\n",
              "<table border=\"1\" class=\"dataframe\">\n",
              "  <thead>\n",
              "    <tr style=\"text-align: right;\">\n",
              "      <th></th>\n",
              "      <th>A</th>\n",
              "      <th>B</th>\n",
              "      <th>C</th>\n",
              "      <th>D</th>\n",
              "      <th>F</th>\n",
              "      <th>E</th>\n",
              "    </tr>\n",
              "  </thead>\n",
              "  <tbody>\n",
              "    <tr>\n",
              "      <th>2013-01-01</th>\n",
              "      <td>0.000000</td>\n",
              "      <td>0.000000</td>\n",
              "      <td>-0.464239</td>\n",
              "      <td>5</td>\n",
              "      <td>NaN</td>\n",
              "      <td>1.0</td>\n",
              "    </tr>\n",
              "    <tr>\n",
              "      <th>2013-01-02</th>\n",
              "      <td>1.928151</td>\n",
              "      <td>0.762022</td>\n",
              "      <td>2.204658</td>\n",
              "      <td>5</td>\n",
              "      <td>1.0</td>\n",
              "      <td>1.0</td>\n",
              "    </tr>\n",
              "    <tr>\n",
              "      <th>2013-01-03</th>\n",
              "      <td>-0.431913</td>\n",
              "      <td>-2.505308</td>\n",
              "      <td>-2.038591</td>\n",
              "      <td>5</td>\n",
              "      <td>2.0</td>\n",
              "      <td>NaN</td>\n",
              "    </tr>\n",
              "    <tr>\n",
              "      <th>2013-01-04</th>\n",
              "      <td>-0.598335</td>\n",
              "      <td>-1.962574</td>\n",
              "      <td>-0.291399</td>\n",
              "      <td>5</td>\n",
              "      <td>3.0</td>\n",
              "      <td>NaN</td>\n",
              "    </tr>\n",
              "  </tbody>\n",
              "</table>\n",
              "</div>"
            ],
            "text/plain": [
              "                   A         B         C  D    F    E\n",
              "2013-01-01  0.000000  0.000000 -0.464239  5  NaN  1.0\n",
              "2013-01-02  1.928151  0.762022  2.204658  5  1.0  1.0\n",
              "2013-01-03 -0.431913 -2.505308 -2.038591  5  2.0  NaN\n",
              "2013-01-04 -0.598335 -1.962574 -0.291399  5  3.0  NaN"
            ]
          },
          "metadata": {
            "tags": []
          },
          "execution_count": 150
        }
      ]
    },
    {
      "cell_type": "markdown",
      "metadata": {
        "id": "aVP7hzpF13Nh"
      },
      "source": [
        "To drop any rows that have missing data."
      ]
    },
    {
      "cell_type": "code",
      "metadata": {
        "colab": {
          "base_uri": "https://localhost:8080/",
          "height": 80
        },
        "id": "K9eRdeI212R8",
        "outputId": "db8f086d-886c-4cdb-c723-8c11d7fd3284"
      },
      "source": [
        "# drop rows that have NaN values in any column\n",
        "df1.dropna(how=\"any\")"
      ],
      "execution_count": 151,
      "outputs": [
        {
          "output_type": "execute_result",
          "data": {
            "text/html": [
              "<div>\n",
              "<style scoped>\n",
              "    .dataframe tbody tr th:only-of-type {\n",
              "        vertical-align: middle;\n",
              "    }\n",
              "\n",
              "    .dataframe tbody tr th {\n",
              "        vertical-align: top;\n",
              "    }\n",
              "\n",
              "    .dataframe thead th {\n",
              "        text-align: right;\n",
              "    }\n",
              "</style>\n",
              "<table border=\"1\" class=\"dataframe\">\n",
              "  <thead>\n",
              "    <tr style=\"text-align: right;\">\n",
              "      <th></th>\n",
              "      <th>A</th>\n",
              "      <th>B</th>\n",
              "      <th>C</th>\n",
              "      <th>D</th>\n",
              "      <th>F</th>\n",
              "      <th>E</th>\n",
              "    </tr>\n",
              "  </thead>\n",
              "  <tbody>\n",
              "    <tr>\n",
              "      <th>2013-01-02</th>\n",
              "      <td>1.928151</td>\n",
              "      <td>0.762022</td>\n",
              "      <td>2.204658</td>\n",
              "      <td>5</td>\n",
              "      <td>1.0</td>\n",
              "      <td>1.0</td>\n",
              "    </tr>\n",
              "  </tbody>\n",
              "</table>\n",
              "</div>"
            ],
            "text/plain": [
              "                   A         B         C  D    F    E\n",
              "2013-01-02  1.928151  0.762022  2.204658  5  1.0  1.0"
            ]
          },
          "metadata": {
            "tags": []
          },
          "execution_count": 151
        }
      ]
    },
    {
      "cell_type": "markdown",
      "metadata": {
        "id": "DtdHfj6sM6Rw"
      },
      "source": [
        "Filling missing data."
      ]
    },
    {
      "cell_type": "code",
      "metadata": {
        "colab": {
          "base_uri": "https://localhost:8080/",
          "height": 173
        },
        "id": "oy7_BDtxM8B-",
        "outputId": "eeba15c5-a5b7-4c18-96bf-d04d9016dfc3"
      },
      "source": [
        "# fill any NaN value with the number 5\n",
        "df1.fillna(value=5)"
      ],
      "execution_count": 152,
      "outputs": [
        {
          "output_type": "execute_result",
          "data": {
            "text/html": [
              "<div>\n",
              "<style scoped>\n",
              "    .dataframe tbody tr th:only-of-type {\n",
              "        vertical-align: middle;\n",
              "    }\n",
              "\n",
              "    .dataframe tbody tr th {\n",
              "        vertical-align: top;\n",
              "    }\n",
              "\n",
              "    .dataframe thead th {\n",
              "        text-align: right;\n",
              "    }\n",
              "</style>\n",
              "<table border=\"1\" class=\"dataframe\">\n",
              "  <thead>\n",
              "    <tr style=\"text-align: right;\">\n",
              "      <th></th>\n",
              "      <th>A</th>\n",
              "      <th>B</th>\n",
              "      <th>C</th>\n",
              "      <th>D</th>\n",
              "      <th>F</th>\n",
              "      <th>E</th>\n",
              "    </tr>\n",
              "  </thead>\n",
              "  <tbody>\n",
              "    <tr>\n",
              "      <th>2013-01-01</th>\n",
              "      <td>0.000000</td>\n",
              "      <td>0.000000</td>\n",
              "      <td>-0.464239</td>\n",
              "      <td>5</td>\n",
              "      <td>5.0</td>\n",
              "      <td>1.0</td>\n",
              "    </tr>\n",
              "    <tr>\n",
              "      <th>2013-01-02</th>\n",
              "      <td>1.928151</td>\n",
              "      <td>0.762022</td>\n",
              "      <td>2.204658</td>\n",
              "      <td>5</td>\n",
              "      <td>1.0</td>\n",
              "      <td>1.0</td>\n",
              "    </tr>\n",
              "    <tr>\n",
              "      <th>2013-01-03</th>\n",
              "      <td>-0.431913</td>\n",
              "      <td>-2.505308</td>\n",
              "      <td>-2.038591</td>\n",
              "      <td>5</td>\n",
              "      <td>2.0</td>\n",
              "      <td>5.0</td>\n",
              "    </tr>\n",
              "    <tr>\n",
              "      <th>2013-01-04</th>\n",
              "      <td>-0.598335</td>\n",
              "      <td>-1.962574</td>\n",
              "      <td>-0.291399</td>\n",
              "      <td>5</td>\n",
              "      <td>3.0</td>\n",
              "      <td>5.0</td>\n",
              "    </tr>\n",
              "  </tbody>\n",
              "</table>\n",
              "</div>"
            ],
            "text/plain": [
              "                   A         B         C  D    F    E\n",
              "2013-01-01  0.000000  0.000000 -0.464239  5  5.0  1.0\n",
              "2013-01-02  1.928151  0.762022  2.204658  5  1.0  1.0\n",
              "2013-01-03 -0.431913 -2.505308 -2.038591  5  2.0  5.0\n",
              "2013-01-04 -0.598335 -1.962574 -0.291399  5  3.0  5.0"
            ]
          },
          "metadata": {
            "tags": []
          },
          "execution_count": 152
        }
      ]
    },
    {
      "cell_type": "markdown",
      "metadata": {
        "id": "6CSbsmVcM94E"
      },
      "source": [
        "To get the boolean mask where values are `nan`."
      ]
    },
    {
      "cell_type": "code",
      "metadata": {
        "colab": {
          "base_uri": "https://localhost:8080/",
          "height": 173
        },
        "id": "c2axMJoINAk7",
        "outputId": "2eb507f0-4599-46b1-a389-b9618de4cf30"
      },
      "source": [
        "# get a mask of values that are NaN\n",
        "pd.isna(df1)"
      ],
      "execution_count": 153,
      "outputs": [
        {
          "output_type": "execute_result",
          "data": {
            "text/html": [
              "<div>\n",
              "<style scoped>\n",
              "    .dataframe tbody tr th:only-of-type {\n",
              "        vertical-align: middle;\n",
              "    }\n",
              "\n",
              "    .dataframe tbody tr th {\n",
              "        vertical-align: top;\n",
              "    }\n",
              "\n",
              "    .dataframe thead th {\n",
              "        text-align: right;\n",
              "    }\n",
              "</style>\n",
              "<table border=\"1\" class=\"dataframe\">\n",
              "  <thead>\n",
              "    <tr style=\"text-align: right;\">\n",
              "      <th></th>\n",
              "      <th>A</th>\n",
              "      <th>B</th>\n",
              "      <th>C</th>\n",
              "      <th>D</th>\n",
              "      <th>F</th>\n",
              "      <th>E</th>\n",
              "    </tr>\n",
              "  </thead>\n",
              "  <tbody>\n",
              "    <tr>\n",
              "      <th>2013-01-01</th>\n",
              "      <td>False</td>\n",
              "      <td>False</td>\n",
              "      <td>False</td>\n",
              "      <td>False</td>\n",
              "      <td>True</td>\n",
              "      <td>False</td>\n",
              "    </tr>\n",
              "    <tr>\n",
              "      <th>2013-01-02</th>\n",
              "      <td>False</td>\n",
              "      <td>False</td>\n",
              "      <td>False</td>\n",
              "      <td>False</td>\n",
              "      <td>False</td>\n",
              "      <td>False</td>\n",
              "    </tr>\n",
              "    <tr>\n",
              "      <th>2013-01-03</th>\n",
              "      <td>False</td>\n",
              "      <td>False</td>\n",
              "      <td>False</td>\n",
              "      <td>False</td>\n",
              "      <td>False</td>\n",
              "      <td>True</td>\n",
              "    </tr>\n",
              "    <tr>\n",
              "      <th>2013-01-04</th>\n",
              "      <td>False</td>\n",
              "      <td>False</td>\n",
              "      <td>False</td>\n",
              "      <td>False</td>\n",
              "      <td>False</td>\n",
              "      <td>True</td>\n",
              "    </tr>\n",
              "  </tbody>\n",
              "</table>\n",
              "</div>"
            ],
            "text/plain": [
              "                A      B      C      D      F      E\n",
              "2013-01-01  False  False  False  False   True  False\n",
              "2013-01-02  False  False  False  False  False  False\n",
              "2013-01-03  False  False  False  False  False   True\n",
              "2013-01-04  False  False  False  False  False   True"
            ]
          },
          "metadata": {
            "tags": []
          },
          "execution_count": 153
        }
      ]
    },
    {
      "cell_type": "markdown",
      "metadata": {
        "id": "KLw51wJPNF6_"
      },
      "source": [
        "## Operations\n",
        "\n",
        "See the [Basic section on Binary Ops](https://pandas.pydata.org/pandas-docs/stable/user_guide/basics.html#basics-binop)."
      ]
    },
    {
      "cell_type": "markdown",
      "metadata": {
        "id": "PQFHUOK2NLDl"
      },
      "source": [
        "### Stats\n",
        "\n",
        "Operations in general *exclude* missing data.\n",
        "\n",
        "Performing a descriptive statistic:"
      ]
    },
    {
      "cell_type": "code",
      "metadata": {
        "colab": {
          "base_uri": "https://localhost:8080/"
        },
        "id": "7LCzWnNcNG5t",
        "outputId": "cacc88f9-b91a-4599-d288-66cf6fd6e8bc"
      },
      "source": [
        "# perform a mean calculation on the 0 axis (row) to average each column of data\n",
        "df.mean()"
      ],
      "execution_count": 154,
      "outputs": [
        {
          "output_type": "execute_result",
          "data": {
            "text/plain": [
              "A    0.228893\n",
              "B   -0.609671\n",
              "C   -0.407668\n",
              "D    5.000000\n",
              "F    3.000000\n",
              "dtype: float64"
            ]
          },
          "metadata": {
            "tags": []
          },
          "execution_count": 154
        }
      ]
    },
    {
      "cell_type": "code",
      "metadata": {
        "colab": {
          "base_uri": "https://localhost:8080/"
        },
        "id": "pxX0W_cJNz2U",
        "outputId": "769fde81-be28-4d71-8a0f-c8d966153a1e"
      },
      "source": [
        "# the same as\n",
        "df.mean(0)"
      ],
      "execution_count": 155,
      "outputs": [
        {
          "output_type": "execute_result",
          "data": {
            "text/plain": [
              "A    0.228893\n",
              "B   -0.609671\n",
              "C   -0.407668\n",
              "D    5.000000\n",
              "F    3.000000\n",
              "dtype: float64"
            ]
          },
          "metadata": {
            "tags": []
          },
          "execution_count": 155
        }
      ]
    },
    {
      "cell_type": "markdown",
      "metadata": {
        "id": "TWUj4CZfNTQb"
      },
      "source": [
        "Same operation on the other axis:"
      ]
    },
    {
      "cell_type": "code",
      "metadata": {
        "colab": {
          "base_uri": "https://localhost:8080/"
        },
        "id": "DdNKr8y_NVtj",
        "outputId": "21e44661-1259-44e2-ce82-f83cb606b786"
      },
      "source": [
        "# perform a mean calculation on the 1 axis (column) to average each row of data\n",
        "df.mean(1)"
      ],
      "execution_count": 156,
      "outputs": [
        {
          "output_type": "execute_result",
          "data": {
            "text/plain": [
              "2013-01-01    1.133940\n",
              "2013-01-02    2.178966\n",
              "2013-01-03    0.404838\n",
              "2013-01-04    1.029538\n",
              "2013-01-05    1.547380\n",
              "2013-01-06    1.985990\n",
              "Freq: D, dtype: float64"
            ]
          },
          "metadata": {
            "tags": []
          },
          "execution_count": 156
        }
      ]
    },
    {
      "cell_type": "markdown",
      "metadata": {
        "id": "oIzkmBX9OEm0"
      },
      "source": [
        "Operating with objects that have different dimensionality and need alignment. In addition, pandas automatically broadcasts along the specified dimension."
      ]
    },
    {
      "cell_type": "code",
      "metadata": {
        "colab": {
          "base_uri": "https://localhost:8080/",
          "height": 235
        },
        "id": "QjKyXXFrOHtB",
        "outputId": "f21fbf29-23bf-452f-ee0b-8eef3cdd8925"
      },
      "source": [
        "s = pd.Series([1, 3, 5, np.nan, 6, 8], index=dates).shift(2)\n",
        "s\n",
        "df"
      ],
      "execution_count": 157,
      "outputs": [
        {
          "output_type": "execute_result",
          "data": {
            "text/html": [
              "<div>\n",
              "<style scoped>\n",
              "    .dataframe tbody tr th:only-of-type {\n",
              "        vertical-align: middle;\n",
              "    }\n",
              "\n",
              "    .dataframe tbody tr th {\n",
              "        vertical-align: top;\n",
              "    }\n",
              "\n",
              "    .dataframe thead th {\n",
              "        text-align: right;\n",
              "    }\n",
              "</style>\n",
              "<table border=\"1\" class=\"dataframe\">\n",
              "  <thead>\n",
              "    <tr style=\"text-align: right;\">\n",
              "      <th></th>\n",
              "      <th>A</th>\n",
              "      <th>B</th>\n",
              "      <th>C</th>\n",
              "      <th>D</th>\n",
              "      <th>F</th>\n",
              "    </tr>\n",
              "  </thead>\n",
              "  <tbody>\n",
              "    <tr>\n",
              "      <th>2013-01-01</th>\n",
              "      <td>0.000000</td>\n",
              "      <td>0.000000</td>\n",
              "      <td>-0.464239</td>\n",
              "      <td>5</td>\n",
              "      <td>NaN</td>\n",
              "    </tr>\n",
              "    <tr>\n",
              "      <th>2013-01-02</th>\n",
              "      <td>1.928151</td>\n",
              "      <td>0.762022</td>\n",
              "      <td>2.204658</td>\n",
              "      <td>5</td>\n",
              "      <td>1.0</td>\n",
              "    </tr>\n",
              "    <tr>\n",
              "      <th>2013-01-03</th>\n",
              "      <td>-0.431913</td>\n",
              "      <td>-2.505308</td>\n",
              "      <td>-2.038591</td>\n",
              "      <td>5</td>\n",
              "      <td>2.0</td>\n",
              "    </tr>\n",
              "    <tr>\n",
              "      <th>2013-01-04</th>\n",
              "      <td>-0.598335</td>\n",
              "      <td>-1.962574</td>\n",
              "      <td>-0.291399</td>\n",
              "      <td>5</td>\n",
              "      <td>3.0</td>\n",
              "    </tr>\n",
              "    <tr>\n",
              "      <th>2013-01-05</th>\n",
              "      <td>-0.209602</td>\n",
              "      <td>0.037394</td>\n",
              "      <td>-1.090891</td>\n",
              "      <td>5</td>\n",
              "      <td>4.0</td>\n",
              "    </tr>\n",
              "    <tr>\n",
              "      <th>2013-01-06</th>\n",
              "      <td>0.685055</td>\n",
              "      <td>0.010440</td>\n",
              "      <td>-0.765548</td>\n",
              "      <td>5</td>\n",
              "      <td>5.0</td>\n",
              "    </tr>\n",
              "  </tbody>\n",
              "</table>\n",
              "</div>"
            ],
            "text/plain": [
              "                   A         B         C  D    F\n",
              "2013-01-01  0.000000  0.000000 -0.464239  5  NaN\n",
              "2013-01-02  1.928151  0.762022  2.204658  5  1.0\n",
              "2013-01-03 -0.431913 -2.505308 -2.038591  5  2.0\n",
              "2013-01-04 -0.598335 -1.962574 -0.291399  5  3.0\n",
              "2013-01-05 -0.209602  0.037394 -1.090891  5  4.0\n",
              "2013-01-06  0.685055  0.010440 -0.765548  5  5.0"
            ]
          },
          "metadata": {
            "tags": []
          },
          "execution_count": 157
        }
      ]
    },
    {
      "cell_type": "code",
      "metadata": {
        "colab": {
          "base_uri": "https://localhost:8080/",
          "height": 235
        },
        "id": "h6yD9UULOgrB",
        "outputId": "0d48f050-7861-4600-979e-0b5263981fc6"
      },
      "source": [
        "df.sub(s, axis=\"index\")\n",
        "df"
      ],
      "execution_count": 159,
      "outputs": [
        {
          "output_type": "execute_result",
          "data": {
            "text/html": [
              "<div>\n",
              "<style scoped>\n",
              "    .dataframe tbody tr th:only-of-type {\n",
              "        vertical-align: middle;\n",
              "    }\n",
              "\n",
              "    .dataframe tbody tr th {\n",
              "        vertical-align: top;\n",
              "    }\n",
              "\n",
              "    .dataframe thead th {\n",
              "        text-align: right;\n",
              "    }\n",
              "</style>\n",
              "<table border=\"1\" class=\"dataframe\">\n",
              "  <thead>\n",
              "    <tr style=\"text-align: right;\">\n",
              "      <th></th>\n",
              "      <th>A</th>\n",
              "      <th>B</th>\n",
              "      <th>C</th>\n",
              "      <th>D</th>\n",
              "      <th>F</th>\n",
              "    </tr>\n",
              "  </thead>\n",
              "  <tbody>\n",
              "    <tr>\n",
              "      <th>2013-01-01</th>\n",
              "      <td>0.000000</td>\n",
              "      <td>0.000000</td>\n",
              "      <td>-0.464239</td>\n",
              "      <td>5</td>\n",
              "      <td>NaN</td>\n",
              "    </tr>\n",
              "    <tr>\n",
              "      <th>2013-01-02</th>\n",
              "      <td>1.928151</td>\n",
              "      <td>0.762022</td>\n",
              "      <td>2.204658</td>\n",
              "      <td>5</td>\n",
              "      <td>1.0</td>\n",
              "    </tr>\n",
              "    <tr>\n",
              "      <th>2013-01-03</th>\n",
              "      <td>-0.431913</td>\n",
              "      <td>-2.505308</td>\n",
              "      <td>-2.038591</td>\n",
              "      <td>5</td>\n",
              "      <td>2.0</td>\n",
              "    </tr>\n",
              "    <tr>\n",
              "      <th>2013-01-04</th>\n",
              "      <td>-0.598335</td>\n",
              "      <td>-1.962574</td>\n",
              "      <td>-0.291399</td>\n",
              "      <td>5</td>\n",
              "      <td>3.0</td>\n",
              "    </tr>\n",
              "    <tr>\n",
              "      <th>2013-01-05</th>\n",
              "      <td>-0.209602</td>\n",
              "      <td>0.037394</td>\n",
              "      <td>-1.090891</td>\n",
              "      <td>5</td>\n",
              "      <td>4.0</td>\n",
              "    </tr>\n",
              "    <tr>\n",
              "      <th>2013-01-06</th>\n",
              "      <td>0.685055</td>\n",
              "      <td>0.010440</td>\n",
              "      <td>-0.765548</td>\n",
              "      <td>5</td>\n",
              "      <td>5.0</td>\n",
              "    </tr>\n",
              "  </tbody>\n",
              "</table>\n",
              "</div>"
            ],
            "text/plain": [
              "                   A         B         C  D    F\n",
              "2013-01-01  0.000000  0.000000 -0.464239  5  NaN\n",
              "2013-01-02  1.928151  0.762022  2.204658  5  1.0\n",
              "2013-01-03 -0.431913 -2.505308 -2.038591  5  2.0\n",
              "2013-01-04 -0.598335 -1.962574 -0.291399  5  3.0\n",
              "2013-01-05 -0.209602  0.037394 -1.090891  5  4.0\n",
              "2013-01-06  0.685055  0.010440 -0.765548  5  5.0"
            ]
          },
          "metadata": {
            "tags": []
          },
          "execution_count": 159
        }
      ]
    },
    {
      "cell_type": "markdown",
      "metadata": {
        "id": "g5kzGzhQPBYr"
      },
      "source": [
        "### Apply\n",
        "\n",
        "Applying functions to the data:"
      ]
    },
    {
      "cell_type": "code",
      "metadata": {
        "colab": {
          "base_uri": "https://localhost:8080/",
          "height": 235
        },
        "id": "SK_EWU1DPHFT",
        "outputId": "fec6682d-83db-40b2-f67b-ebfda3c9943e"
      },
      "source": [
        "# apply NumPy cumulative sum to the columns\n",
        "df.apply(np.cumsum)"
      ],
      "execution_count": 164,
      "outputs": [
        {
          "output_type": "execute_result",
          "data": {
            "text/html": [
              "<div>\n",
              "<style scoped>\n",
              "    .dataframe tbody tr th:only-of-type {\n",
              "        vertical-align: middle;\n",
              "    }\n",
              "\n",
              "    .dataframe tbody tr th {\n",
              "        vertical-align: top;\n",
              "    }\n",
              "\n",
              "    .dataframe thead th {\n",
              "        text-align: right;\n",
              "    }\n",
              "</style>\n",
              "<table border=\"1\" class=\"dataframe\">\n",
              "  <thead>\n",
              "    <tr style=\"text-align: right;\">\n",
              "      <th></th>\n",
              "      <th>A</th>\n",
              "      <th>B</th>\n",
              "      <th>C</th>\n",
              "      <th>D</th>\n",
              "      <th>F</th>\n",
              "    </tr>\n",
              "  </thead>\n",
              "  <tbody>\n",
              "    <tr>\n",
              "      <th>2013-01-01</th>\n",
              "      <td>0.000000</td>\n",
              "      <td>0.000000</td>\n",
              "      <td>-0.464239</td>\n",
              "      <td>5</td>\n",
              "      <td>NaN</td>\n",
              "    </tr>\n",
              "    <tr>\n",
              "      <th>2013-01-02</th>\n",
              "      <td>1.928151</td>\n",
              "      <td>0.762022</td>\n",
              "      <td>1.740419</td>\n",
              "      <td>10</td>\n",
              "      <td>1.0</td>\n",
              "    </tr>\n",
              "    <tr>\n",
              "      <th>2013-01-03</th>\n",
              "      <td>1.496238</td>\n",
              "      <td>-1.743286</td>\n",
              "      <td>-0.298172</td>\n",
              "      <td>15</td>\n",
              "      <td>3.0</td>\n",
              "    </tr>\n",
              "    <tr>\n",
              "      <th>2013-01-04</th>\n",
              "      <td>0.897902</td>\n",
              "      <td>-3.705860</td>\n",
              "      <td>-0.589571</td>\n",
              "      <td>20</td>\n",
              "      <td>6.0</td>\n",
              "    </tr>\n",
              "    <tr>\n",
              "      <th>2013-01-05</th>\n",
              "      <td>0.688301</td>\n",
              "      <td>-3.668466</td>\n",
              "      <td>-1.680462</td>\n",
              "      <td>25</td>\n",
              "      <td>10.0</td>\n",
              "    </tr>\n",
              "    <tr>\n",
              "      <th>2013-01-06</th>\n",
              "      <td>1.373355</td>\n",
              "      <td>-3.658025</td>\n",
              "      <td>-2.446010</td>\n",
              "      <td>30</td>\n",
              "      <td>15.0</td>\n",
              "    </tr>\n",
              "  </tbody>\n",
              "</table>\n",
              "</div>"
            ],
            "text/plain": [
              "                   A         B         C   D     F\n",
              "2013-01-01  0.000000  0.000000 -0.464239   5   NaN\n",
              "2013-01-02  1.928151  0.762022  1.740419  10   1.0\n",
              "2013-01-03  1.496238 -1.743286 -0.298172  15   3.0\n",
              "2013-01-04  0.897902 -3.705860 -0.589571  20   6.0\n",
              "2013-01-05  0.688301 -3.668466 -1.680462  25  10.0\n",
              "2013-01-06  1.373355 -3.658025 -2.446010  30  15.0"
            ]
          },
          "metadata": {
            "tags": []
          },
          "execution_count": 164
        }
      ]
    },
    {
      "cell_type": "code",
      "metadata": {
        "colab": {
          "base_uri": "https://localhost:8080/"
        },
        "id": "Xx3imwqnPNgr",
        "outputId": "d8ed341b-2212-47b3-c981-4f80a9121cf4"
      },
      "source": [
        "# apply a lambda function to the columns returning a Series\n",
        "df.apply(lambda x: x.max() - x.min())"
      ],
      "execution_count": 165,
      "outputs": [
        {
          "output_type": "execute_result",
          "data": {
            "text/plain": [
              "A    2.526486\n",
              "B    3.267330\n",
              "C    4.243249\n",
              "D    0.000000\n",
              "F    4.000000\n",
              "dtype: float64"
            ]
          },
          "metadata": {
            "tags": []
          },
          "execution_count": 165
        }
      ]
    },
    {
      "cell_type": "markdown",
      "metadata": {
        "id": "g6js5lbSPP2W"
      },
      "source": [
        "### Histogramming\n",
        "\n",
        "See more at [Histogramming and Discretization](https://pandas.pydata.org/pandas-docs/stable/user_guide/basics.html#basics-discretization)."
      ]
    },
    {
      "cell_type": "code",
      "metadata": {
        "colab": {
          "base_uri": "https://localhost:8080/"
        },
        "id": "_wWMbR_1PTuH",
        "outputId": "4d15de5d-9d1b-47aa-dc11-e2504b062822"
      },
      "source": [
        "s = pd.Series(np.random.randint(0, 7, size=10))\n",
        "s"
      ],
      "execution_count": 167,
      "outputs": [
        {
          "output_type": "execute_result",
          "data": {
            "text/plain": [
              "0    0\n",
              "1    0\n",
              "2    3\n",
              "3    1\n",
              "4    2\n",
              "5    0\n",
              "6    6\n",
              "7    1\n",
              "8    5\n",
              "9    6\n",
              "dtype: int64"
            ]
          },
          "metadata": {
            "tags": []
          },
          "execution_count": 167
        }
      ]
    },
    {
      "cell_type": "code",
      "metadata": {
        "colab": {
          "base_uri": "https://localhost:8080/"
        },
        "id": "Ms3r5_zRPu0G",
        "outputId": "6eedd056-2690-4c40-9877-765b204ddcaf"
      },
      "source": [
        "# create buckets of the values\n",
        "s.value_counts()"
      ],
      "execution_count": 168,
      "outputs": [
        {
          "output_type": "execute_result",
          "data": {
            "text/plain": [
              "0    3\n",
              "6    2\n",
              "1    2\n",
              "5    1\n",
              "3    1\n",
              "2    1\n",
              "dtype: int64"
            ]
          },
          "metadata": {
            "tags": []
          },
          "execution_count": 168
        }
      ]
    },
    {
      "cell_type": "markdown",
      "metadata": {
        "id": "E4wyAspIP4VN"
      },
      "source": [
        "### String Methods\n",
        "\n",
        "`Series` is equipped with a set of string processing methods in the `str` attribute that make it easy to operate on each element of the array, as in the code snippet below. Note that pattern-matching in `str` generally uses regular expressions by default (and in some cases always uses them).\n",
        "\n",
        "See more at [Vectorized String Methods](https://pandas.pydata.org/pandas-docs/stable/user_guide/text.html#text-string-methods)."
      ]
    },
    {
      "cell_type": "code",
      "metadata": {
        "colab": {
          "base_uri": "https://localhost:8080/"
        },
        "id": "85FbnVatPwpD",
        "outputId": "13505c9a-55af-4b84-87da-3f4666a69eaf"
      },
      "source": [
        "s = pd.Series([\"A\", \"B\", \"C\", \"Aaba\", \"Baca\", np.nan, \"CABA\", \"dog\", \"cat\"])\n",
        "s"
      ],
      "execution_count": 169,
      "outputs": [
        {
          "output_type": "execute_result",
          "data": {
            "text/plain": [
              "0       A\n",
              "1       B\n",
              "2       C\n",
              "3    Aaba\n",
              "4    Baca\n",
              "5     NaN\n",
              "6    CABA\n",
              "7     dog\n",
              "8     cat\n",
              "dtype: object"
            ]
          },
          "metadata": {
            "tags": []
          },
          "execution_count": 169
        }
      ]
    },
    {
      "cell_type": "code",
      "metadata": {
        "colab": {
          "base_uri": "https://localhost:8080/"
        },
        "id": "Mb9fFJzjQD_P",
        "outputId": "0d7f2fbb-91b2-461a-dc33-0748f8e682b7"
      },
      "source": [
        "# make all strings in the Series lowercase\n",
        "s.str.lower()"
      ],
      "execution_count": 171,
      "outputs": [
        {
          "output_type": "execute_result",
          "data": {
            "text/plain": [
              "0       a\n",
              "1       b\n",
              "2       c\n",
              "3    aaba\n",
              "4    baca\n",
              "5     NaN\n",
              "6    caba\n",
              "7     dog\n",
              "8     cat\n",
              "dtype: object"
            ]
          },
          "metadata": {
            "tags": []
          },
          "execution_count": 171
        }
      ]
    },
    {
      "cell_type": "markdown",
      "metadata": {
        "id": "bsITInFaQOFI"
      },
      "source": [
        "## Merge"
      ]
    },
    {
      "cell_type": "markdown",
      "metadata": {
        "id": "tUccWxHUQh6U"
      },
      "source": [
        "### Concat\n",
        "\n",
        "pandas provides various facilities for easily combining together `Series` and `DataFrame` objects with various kinds of set logic for the indexes and relational algebra functionality in the case of join / merge-type operations.\n",
        "\n",
        "See the [Merging](https://pandas.pydata.org/pandas-docs/stable/user_guide/merging.html#merging) section.\n",
        "\n",
        "Concatenating pandas objects together with `concat()`:"
      ]
    },
    {
      "cell_type": "code",
      "metadata": {
        "colab": {
          "base_uri": "https://localhost:8080/",
          "height": 359
        },
        "id": "PaXT-H4SQjAT",
        "outputId": "9f50c7ab-69ba-42a0-f7b2-4b6dbbb666dd"
      },
      "source": [
        "df = pd.DataFrame(np.random.randn(10, 4))\n",
        "df"
      ],
      "execution_count": 172,
      "outputs": [
        {
          "output_type": "execute_result",
          "data": {
            "text/html": [
              "<div>\n",
              "<style scoped>\n",
              "    .dataframe tbody tr th:only-of-type {\n",
              "        vertical-align: middle;\n",
              "    }\n",
              "\n",
              "    .dataframe tbody tr th {\n",
              "        vertical-align: top;\n",
              "    }\n",
              "\n",
              "    .dataframe thead th {\n",
              "        text-align: right;\n",
              "    }\n",
              "</style>\n",
              "<table border=\"1\" class=\"dataframe\">\n",
              "  <thead>\n",
              "    <tr style=\"text-align: right;\">\n",
              "      <th></th>\n",
              "      <th>0</th>\n",
              "      <th>1</th>\n",
              "      <th>2</th>\n",
              "      <th>3</th>\n",
              "    </tr>\n",
              "  </thead>\n",
              "  <tbody>\n",
              "    <tr>\n",
              "      <th>0</th>\n",
              "      <td>-0.426269</td>\n",
              "      <td>-0.408367</td>\n",
              "      <td>-0.440000</td>\n",
              "      <td>0.890453</td>\n",
              "    </tr>\n",
              "    <tr>\n",
              "      <th>1</th>\n",
              "      <td>0.387026</td>\n",
              "      <td>1.641651</td>\n",
              "      <td>1.530934</td>\n",
              "      <td>0.206884</td>\n",
              "    </tr>\n",
              "    <tr>\n",
              "      <th>2</th>\n",
              "      <td>0.741626</td>\n",
              "      <td>-0.452272</td>\n",
              "      <td>-0.783003</td>\n",
              "      <td>-0.732855</td>\n",
              "    </tr>\n",
              "    <tr>\n",
              "      <th>3</th>\n",
              "      <td>0.909643</td>\n",
              "      <td>0.358714</td>\n",
              "      <td>-0.986895</td>\n",
              "      <td>-0.245933</td>\n",
              "    </tr>\n",
              "    <tr>\n",
              "      <th>4</th>\n",
              "      <td>1.212373</td>\n",
              "      <td>0.245885</td>\n",
              "      <td>-0.093402</td>\n",
              "      <td>1.182077</td>\n",
              "    </tr>\n",
              "    <tr>\n",
              "      <th>5</th>\n",
              "      <td>-0.147330</td>\n",
              "      <td>-1.248439</td>\n",
              "      <td>-2.158860</td>\n",
              "      <td>2.003070</td>\n",
              "    </tr>\n",
              "    <tr>\n",
              "      <th>6</th>\n",
              "      <td>-0.169865</td>\n",
              "      <td>-0.471359</td>\n",
              "      <td>-1.132935</td>\n",
              "      <td>-1.465736</td>\n",
              "    </tr>\n",
              "    <tr>\n",
              "      <th>7</th>\n",
              "      <td>-1.309191</td>\n",
              "      <td>0.862864</td>\n",
              "      <td>0.006279</td>\n",
              "      <td>1.152279</td>\n",
              "    </tr>\n",
              "    <tr>\n",
              "      <th>8</th>\n",
              "      <td>0.610998</td>\n",
              "      <td>0.480770</td>\n",
              "      <td>1.364421</td>\n",
              "      <td>-0.621715</td>\n",
              "    </tr>\n",
              "    <tr>\n",
              "      <th>9</th>\n",
              "      <td>-0.667273</td>\n",
              "      <td>-0.740175</td>\n",
              "      <td>0.313529</td>\n",
              "      <td>-0.965676</td>\n",
              "    </tr>\n",
              "  </tbody>\n",
              "</table>\n",
              "</div>"
            ],
            "text/plain": [
              "          0         1         2         3\n",
              "0 -0.426269 -0.408367 -0.440000  0.890453\n",
              "1  0.387026  1.641651  1.530934  0.206884\n",
              "2  0.741626 -0.452272 -0.783003 -0.732855\n",
              "3  0.909643  0.358714 -0.986895 -0.245933\n",
              "4  1.212373  0.245885 -0.093402  1.182077\n",
              "5 -0.147330 -1.248439 -2.158860  2.003070\n",
              "6 -0.169865 -0.471359 -1.132935 -1.465736\n",
              "7 -1.309191  0.862864  0.006279  1.152279\n",
              "8  0.610998  0.480770  1.364421 -0.621715\n",
              "9 -0.667273 -0.740175  0.313529 -0.965676"
            ]
          },
          "metadata": {
            "tags": []
          },
          "execution_count": 172
        }
      ]
    },
    {
      "cell_type": "code",
      "metadata": {
        "colab": {
          "base_uri": "https://localhost:8080/"
        },
        "id": "_sAHoGIiRGPa",
        "outputId": "60748ca5-415c-4e6b-ad64-cae8a1b8e127"
      },
      "source": [
        "# break it into pieces: 3 DataFrames in a list\n",
        "pieces = [df[:3], df[3:7], df[7:]]\n",
        "pieces"
      ],
      "execution_count": 173,
      "outputs": [
        {
          "output_type": "execute_result",
          "data": {
            "text/plain": [
              "[          0         1         2         3\n",
              " 0 -0.426269 -0.408367 -0.440000  0.890453\n",
              " 1  0.387026  1.641651  1.530934  0.206884\n",
              " 2  0.741626 -0.452272 -0.783003 -0.732855,\n",
              "           0         1         2         3\n",
              " 3  0.909643  0.358714 -0.986895 -0.245933\n",
              " 4  1.212373  0.245885 -0.093402  1.182077\n",
              " 5 -0.147330 -1.248439 -2.158860  2.003070\n",
              " 6 -0.169865 -0.471359 -1.132935 -1.465736,\n",
              "           0         1         2         3\n",
              " 7 -1.309191  0.862864  0.006279  1.152279\n",
              " 8  0.610998  0.480770  1.364421 -0.621715\n",
              " 9 -0.667273 -0.740175  0.313529 -0.965676]"
            ]
          },
          "metadata": {
            "tags": []
          },
          "execution_count": 173
        }
      ]
    },
    {
      "cell_type": "code",
      "metadata": {
        "colab": {
          "base_uri": "https://localhost:8080/",
          "height": 359
        },
        "id": "D3Z_zFZhRKRJ",
        "outputId": "73bdb993-abc9-4c7b-dfc1-f6c42e7e45d1"
      },
      "source": [
        "# join the list of 3 DataFrames back together\n",
        "pd.concat(pieces)"
      ],
      "execution_count": 174,
      "outputs": [
        {
          "output_type": "execute_result",
          "data": {
            "text/html": [
              "<div>\n",
              "<style scoped>\n",
              "    .dataframe tbody tr th:only-of-type {\n",
              "        vertical-align: middle;\n",
              "    }\n",
              "\n",
              "    .dataframe tbody tr th {\n",
              "        vertical-align: top;\n",
              "    }\n",
              "\n",
              "    .dataframe thead th {\n",
              "        text-align: right;\n",
              "    }\n",
              "</style>\n",
              "<table border=\"1\" class=\"dataframe\">\n",
              "  <thead>\n",
              "    <tr style=\"text-align: right;\">\n",
              "      <th></th>\n",
              "      <th>0</th>\n",
              "      <th>1</th>\n",
              "      <th>2</th>\n",
              "      <th>3</th>\n",
              "    </tr>\n",
              "  </thead>\n",
              "  <tbody>\n",
              "    <tr>\n",
              "      <th>0</th>\n",
              "      <td>-0.426269</td>\n",
              "      <td>-0.408367</td>\n",
              "      <td>-0.440000</td>\n",
              "      <td>0.890453</td>\n",
              "    </tr>\n",
              "    <tr>\n",
              "      <th>1</th>\n",
              "      <td>0.387026</td>\n",
              "      <td>1.641651</td>\n",
              "      <td>1.530934</td>\n",
              "      <td>0.206884</td>\n",
              "    </tr>\n",
              "    <tr>\n",
              "      <th>2</th>\n",
              "      <td>0.741626</td>\n",
              "      <td>-0.452272</td>\n",
              "      <td>-0.783003</td>\n",
              "      <td>-0.732855</td>\n",
              "    </tr>\n",
              "    <tr>\n",
              "      <th>3</th>\n",
              "      <td>0.909643</td>\n",
              "      <td>0.358714</td>\n",
              "      <td>-0.986895</td>\n",
              "      <td>-0.245933</td>\n",
              "    </tr>\n",
              "    <tr>\n",
              "      <th>4</th>\n",
              "      <td>1.212373</td>\n",
              "      <td>0.245885</td>\n",
              "      <td>-0.093402</td>\n",
              "      <td>1.182077</td>\n",
              "    </tr>\n",
              "    <tr>\n",
              "      <th>5</th>\n",
              "      <td>-0.147330</td>\n",
              "      <td>-1.248439</td>\n",
              "      <td>-2.158860</td>\n",
              "      <td>2.003070</td>\n",
              "    </tr>\n",
              "    <tr>\n",
              "      <th>6</th>\n",
              "      <td>-0.169865</td>\n",
              "      <td>-0.471359</td>\n",
              "      <td>-1.132935</td>\n",
              "      <td>-1.465736</td>\n",
              "    </tr>\n",
              "    <tr>\n",
              "      <th>7</th>\n",
              "      <td>-1.309191</td>\n",
              "      <td>0.862864</td>\n",
              "      <td>0.006279</td>\n",
              "      <td>1.152279</td>\n",
              "    </tr>\n",
              "    <tr>\n",
              "      <th>8</th>\n",
              "      <td>0.610998</td>\n",
              "      <td>0.480770</td>\n",
              "      <td>1.364421</td>\n",
              "      <td>-0.621715</td>\n",
              "    </tr>\n",
              "    <tr>\n",
              "      <th>9</th>\n",
              "      <td>-0.667273</td>\n",
              "      <td>-0.740175</td>\n",
              "      <td>0.313529</td>\n",
              "      <td>-0.965676</td>\n",
              "    </tr>\n",
              "  </tbody>\n",
              "</table>\n",
              "</div>"
            ],
            "text/plain": [
              "          0         1         2         3\n",
              "0 -0.426269 -0.408367 -0.440000  0.890453\n",
              "1  0.387026  1.641651  1.530934  0.206884\n",
              "2  0.741626 -0.452272 -0.783003 -0.732855\n",
              "3  0.909643  0.358714 -0.986895 -0.245933\n",
              "4  1.212373  0.245885 -0.093402  1.182077\n",
              "5 -0.147330 -1.248439 -2.158860  2.003070\n",
              "6 -0.169865 -0.471359 -1.132935 -1.465736\n",
              "7 -1.309191  0.862864  0.006279  1.152279\n",
              "8  0.610998  0.480770  1.364421 -0.621715\n",
              "9 -0.667273 -0.740175  0.313529 -0.965676"
            ]
          },
          "metadata": {
            "tags": []
          },
          "execution_count": 174
        }
      ]
    },
    {
      "cell_type": "markdown",
      "metadata": {
        "id": "fTGTGFRERdN_"
      },
      "source": [
        "**Note**\n",
        "\n",
        "Adding a column to a `DataFrame` is relatively fast. However, adding a row requires a copy, and may be expensive. We recommend passing a pre-built list of records to the `DataFrame` constructor instead of building a `DataFrame` by iteratively appending records to it.\n",
        "\n",
        "See [Appending to dataframe](https://pandas.pydata.org/pandas-docs/stable/user_guide/merging.html#merging-concatenation) for more."
      ]
    },
    {
      "cell_type": "markdown",
      "metadata": {
        "id": "5Nhm6k61QjOG"
      },
      "source": [
        "### Join\n",
        "\n",
        "SQL style merges.\n",
        "\n",
        "See the [Database style joining](https://pandas.pydata.org/pandas-docs/stable/user_guide/merging.html#merging-join) section."
      ]
    },
    {
      "cell_type": "code",
      "metadata": {
        "colab": {
          "base_uri": "https://localhost:8080/",
          "height": 111
        },
        "id": "iNL6LIndQSFA",
        "outputId": "32414663-d123-4024-cd03-20c864560ee8"
      },
      "source": [
        "left = pd.DataFrame({\"key\": [\"foo\", \"foo\"], \"lval\": [1, 2]})\n",
        "left"
      ],
      "execution_count": 175,
      "outputs": [
        {
          "output_type": "execute_result",
          "data": {
            "text/html": [
              "<div>\n",
              "<style scoped>\n",
              "    .dataframe tbody tr th:only-of-type {\n",
              "        vertical-align: middle;\n",
              "    }\n",
              "\n",
              "    .dataframe tbody tr th {\n",
              "        vertical-align: top;\n",
              "    }\n",
              "\n",
              "    .dataframe thead th {\n",
              "        text-align: right;\n",
              "    }\n",
              "</style>\n",
              "<table border=\"1\" class=\"dataframe\">\n",
              "  <thead>\n",
              "    <tr style=\"text-align: right;\">\n",
              "      <th></th>\n",
              "      <th>key</th>\n",
              "      <th>lval</th>\n",
              "    </tr>\n",
              "  </thead>\n",
              "  <tbody>\n",
              "    <tr>\n",
              "      <th>0</th>\n",
              "      <td>foo</td>\n",
              "      <td>1</td>\n",
              "    </tr>\n",
              "    <tr>\n",
              "      <th>1</th>\n",
              "      <td>foo</td>\n",
              "      <td>2</td>\n",
              "    </tr>\n",
              "  </tbody>\n",
              "</table>\n",
              "</div>"
            ],
            "text/plain": [
              "   key  lval\n",
              "0  foo     1\n",
              "1  foo     2"
            ]
          },
          "metadata": {
            "tags": []
          },
          "execution_count": 175
        }
      ]
    },
    {
      "cell_type": "code",
      "metadata": {
        "colab": {
          "base_uri": "https://localhost:8080/",
          "height": 111
        },
        "id": "bjWFeQvRRtjT",
        "outputId": "cdf63db6-d98b-47de-89dd-8c5fb1c37daa"
      },
      "source": [
        "right = pd.DataFrame({\"key\": [\"foo\", \"foo\"], \"rval\": [4, 5]})\n",
        "right"
      ],
      "execution_count": 176,
      "outputs": [
        {
          "output_type": "execute_result",
          "data": {
            "text/html": [
              "<div>\n",
              "<style scoped>\n",
              "    .dataframe tbody tr th:only-of-type {\n",
              "        vertical-align: middle;\n",
              "    }\n",
              "\n",
              "    .dataframe tbody tr th {\n",
              "        vertical-align: top;\n",
              "    }\n",
              "\n",
              "    .dataframe thead th {\n",
              "        text-align: right;\n",
              "    }\n",
              "</style>\n",
              "<table border=\"1\" class=\"dataframe\">\n",
              "  <thead>\n",
              "    <tr style=\"text-align: right;\">\n",
              "      <th></th>\n",
              "      <th>key</th>\n",
              "      <th>rval</th>\n",
              "    </tr>\n",
              "  </thead>\n",
              "  <tbody>\n",
              "    <tr>\n",
              "      <th>0</th>\n",
              "      <td>foo</td>\n",
              "      <td>4</td>\n",
              "    </tr>\n",
              "    <tr>\n",
              "      <th>1</th>\n",
              "      <td>foo</td>\n",
              "      <td>5</td>\n",
              "    </tr>\n",
              "  </tbody>\n",
              "</table>\n",
              "</div>"
            ],
            "text/plain": [
              "   key  rval\n",
              "0  foo     4\n",
              "1  foo     5"
            ]
          },
          "metadata": {
            "tags": []
          },
          "execution_count": 176
        }
      ]
    },
    {
      "cell_type": "code",
      "metadata": {
        "colab": {
          "base_uri": "https://localhost:8080/",
          "height": 173
        },
        "id": "8f02qbOCRxGg",
        "outputId": "d62f6c2b-de88-4cce-999c-e82a75d25589"
      },
      "source": [
        "# merge the DataFrames on the \"key\" columne\n",
        "pd.merge(left, right, on=\"key\")"
      ],
      "execution_count": 177,
      "outputs": [
        {
          "output_type": "execute_result",
          "data": {
            "text/html": [
              "<div>\n",
              "<style scoped>\n",
              "    .dataframe tbody tr th:only-of-type {\n",
              "        vertical-align: middle;\n",
              "    }\n",
              "\n",
              "    .dataframe tbody tr th {\n",
              "        vertical-align: top;\n",
              "    }\n",
              "\n",
              "    .dataframe thead th {\n",
              "        text-align: right;\n",
              "    }\n",
              "</style>\n",
              "<table border=\"1\" class=\"dataframe\">\n",
              "  <thead>\n",
              "    <tr style=\"text-align: right;\">\n",
              "      <th></th>\n",
              "      <th>key</th>\n",
              "      <th>lval</th>\n",
              "      <th>rval</th>\n",
              "    </tr>\n",
              "  </thead>\n",
              "  <tbody>\n",
              "    <tr>\n",
              "      <th>0</th>\n",
              "      <td>foo</td>\n",
              "      <td>1</td>\n",
              "      <td>4</td>\n",
              "    </tr>\n",
              "    <tr>\n",
              "      <th>1</th>\n",
              "      <td>foo</td>\n",
              "      <td>1</td>\n",
              "      <td>5</td>\n",
              "    </tr>\n",
              "    <tr>\n",
              "      <th>2</th>\n",
              "      <td>foo</td>\n",
              "      <td>2</td>\n",
              "      <td>4</td>\n",
              "    </tr>\n",
              "    <tr>\n",
              "      <th>3</th>\n",
              "      <td>foo</td>\n",
              "      <td>2</td>\n",
              "      <td>5</td>\n",
              "    </tr>\n",
              "  </tbody>\n",
              "</table>\n",
              "</div>"
            ],
            "text/plain": [
              "   key  lval  rval\n",
              "0  foo     1     4\n",
              "1  foo     1     5\n",
              "2  foo     2     4\n",
              "3  foo     2     5"
            ]
          },
          "metadata": {
            "tags": []
          },
          "execution_count": 177
        }
      ]
    },
    {
      "cell_type": "markdown",
      "metadata": {
        "id": "msMmU1wNSIE9"
      },
      "source": [
        "Another example that can be given is:"
      ]
    },
    {
      "cell_type": "code",
      "metadata": {
        "colab": {
          "base_uri": "https://localhost:8080/",
          "height": 111
        },
        "id": "W-4Is2llSIfK",
        "outputId": "16136b66-fdc9-4c50-f400-0c9daa1d19f6"
      },
      "source": [
        "left = pd.DataFrame({\"key\": [\"foo\", \"bar\"], \"lval\": [1, 2]})\n",
        "left"
      ],
      "execution_count": 178,
      "outputs": [
        {
          "output_type": "execute_result",
          "data": {
            "text/html": [
              "<div>\n",
              "<style scoped>\n",
              "    .dataframe tbody tr th:only-of-type {\n",
              "        vertical-align: middle;\n",
              "    }\n",
              "\n",
              "    .dataframe tbody tr th {\n",
              "        vertical-align: top;\n",
              "    }\n",
              "\n",
              "    .dataframe thead th {\n",
              "        text-align: right;\n",
              "    }\n",
              "</style>\n",
              "<table border=\"1\" class=\"dataframe\">\n",
              "  <thead>\n",
              "    <tr style=\"text-align: right;\">\n",
              "      <th></th>\n",
              "      <th>key</th>\n",
              "      <th>lval</th>\n",
              "    </tr>\n",
              "  </thead>\n",
              "  <tbody>\n",
              "    <tr>\n",
              "      <th>0</th>\n",
              "      <td>foo</td>\n",
              "      <td>1</td>\n",
              "    </tr>\n",
              "    <tr>\n",
              "      <th>1</th>\n",
              "      <td>bar</td>\n",
              "      <td>2</td>\n",
              "    </tr>\n",
              "  </tbody>\n",
              "</table>\n",
              "</div>"
            ],
            "text/plain": [
              "   key  lval\n",
              "0  foo     1\n",
              "1  bar     2"
            ]
          },
          "metadata": {
            "tags": []
          },
          "execution_count": 178
        }
      ]
    },
    {
      "cell_type": "code",
      "metadata": {
        "colab": {
          "base_uri": "https://localhost:8080/",
          "height": 111
        },
        "id": "l5AvnrBqSM5f",
        "outputId": "701b89aa-38ef-40d9-fab4-adbde89798f0"
      },
      "source": [
        "right = pd.DataFrame({\"key\": [\"foo\", \"bar\"], \"rval\": [4, 5]})\n",
        "right"
      ],
      "execution_count": 179,
      "outputs": [
        {
          "output_type": "execute_result",
          "data": {
            "text/html": [
              "<div>\n",
              "<style scoped>\n",
              "    .dataframe tbody tr th:only-of-type {\n",
              "        vertical-align: middle;\n",
              "    }\n",
              "\n",
              "    .dataframe tbody tr th {\n",
              "        vertical-align: top;\n",
              "    }\n",
              "\n",
              "    .dataframe thead th {\n",
              "        text-align: right;\n",
              "    }\n",
              "</style>\n",
              "<table border=\"1\" class=\"dataframe\">\n",
              "  <thead>\n",
              "    <tr style=\"text-align: right;\">\n",
              "      <th></th>\n",
              "      <th>key</th>\n",
              "      <th>rval</th>\n",
              "    </tr>\n",
              "  </thead>\n",
              "  <tbody>\n",
              "    <tr>\n",
              "      <th>0</th>\n",
              "      <td>foo</td>\n",
              "      <td>4</td>\n",
              "    </tr>\n",
              "    <tr>\n",
              "      <th>1</th>\n",
              "      <td>bar</td>\n",
              "      <td>5</td>\n",
              "    </tr>\n",
              "  </tbody>\n",
              "</table>\n",
              "</div>"
            ],
            "text/plain": [
              "   key  rval\n",
              "0  foo     4\n",
              "1  bar     5"
            ]
          },
          "metadata": {
            "tags": []
          },
          "execution_count": 179
        }
      ]
    },
    {
      "cell_type": "code",
      "metadata": {
        "colab": {
          "base_uri": "https://localhost:8080/",
          "height": 111
        },
        "id": "2qCtg2_JSN93",
        "outputId": "997f9dfc-8999-4bdf-9707-18c07e3512f7"
      },
      "source": [
        "pd.merge(left, right, on=\"key\")"
      ],
      "execution_count": 180,
      "outputs": [
        {
          "output_type": "execute_result",
          "data": {
            "text/html": [
              "<div>\n",
              "<style scoped>\n",
              "    .dataframe tbody tr th:only-of-type {\n",
              "        vertical-align: middle;\n",
              "    }\n",
              "\n",
              "    .dataframe tbody tr th {\n",
              "        vertical-align: top;\n",
              "    }\n",
              "\n",
              "    .dataframe thead th {\n",
              "        text-align: right;\n",
              "    }\n",
              "</style>\n",
              "<table border=\"1\" class=\"dataframe\">\n",
              "  <thead>\n",
              "    <tr style=\"text-align: right;\">\n",
              "      <th></th>\n",
              "      <th>key</th>\n",
              "      <th>lval</th>\n",
              "      <th>rval</th>\n",
              "    </tr>\n",
              "  </thead>\n",
              "  <tbody>\n",
              "    <tr>\n",
              "      <th>0</th>\n",
              "      <td>foo</td>\n",
              "      <td>1</td>\n",
              "      <td>4</td>\n",
              "    </tr>\n",
              "    <tr>\n",
              "      <th>1</th>\n",
              "      <td>bar</td>\n",
              "      <td>2</td>\n",
              "      <td>5</td>\n",
              "    </tr>\n",
              "  </tbody>\n",
              "</table>\n",
              "</div>"
            ],
            "text/plain": [
              "   key  lval  rval\n",
              "0  foo     1     4\n",
              "1  bar     2     5"
            ]
          },
          "metadata": {
            "tags": []
          },
          "execution_count": 180
        }
      ]
    },
    {
      "cell_type": "markdown",
      "metadata": {
        "id": "u9oIRcOfQSSn"
      },
      "source": [
        "## Grouping\n",
        "\n",
        "By “group by” we are referring to a process involving one or more of the following steps:\n",
        "\n",
        "- Splitting the data into groups based on some criteria\n",
        "- Applying a function to each group independently\n",
        "- Combining the results into a data structure\n",
        "\n",
        "See the [Grouping](https://pandas.pydata.org/pandas-docs/stable/user_guide/groupby.html#groupby) section."
      ]
    },
    {
      "cell_type": "code",
      "metadata": {
        "colab": {
          "base_uri": "https://localhost:8080/",
          "height": 297
        },
        "id": "rQCLJLvDQTt1",
        "outputId": "b39bcb71-3eff-4abd-d45a-ac87bfa479ee"
      },
      "source": [
        "df = pd.DataFrame(\n",
        "        {\n",
        "            \"A\": [\"foo\", \"bar\", \"foo\", \"bar\", \"foo\", \"bar\", \"foo\", \"foo\"],\n",
        "            \"B\": [\"one\", \"one\", \"two\", \"three\", \"two\", \"two\", \"one\", \"three\"],\n",
        "            \"C\": np.random.randn(8),\n",
        "            \"D\": np.random.randn(8),\n",
        "        }\n",
        "    )\n",
        "df"
      ],
      "execution_count": 182,
      "outputs": [
        {
          "output_type": "execute_result",
          "data": {
            "text/html": [
              "<div>\n",
              "<style scoped>\n",
              "    .dataframe tbody tr th:only-of-type {\n",
              "        vertical-align: middle;\n",
              "    }\n",
              "\n",
              "    .dataframe tbody tr th {\n",
              "        vertical-align: top;\n",
              "    }\n",
              "\n",
              "    .dataframe thead th {\n",
              "        text-align: right;\n",
              "    }\n",
              "</style>\n",
              "<table border=\"1\" class=\"dataframe\">\n",
              "  <thead>\n",
              "    <tr style=\"text-align: right;\">\n",
              "      <th></th>\n",
              "      <th>A</th>\n",
              "      <th>B</th>\n",
              "      <th>C</th>\n",
              "      <th>D</th>\n",
              "    </tr>\n",
              "  </thead>\n",
              "  <tbody>\n",
              "    <tr>\n",
              "      <th>0</th>\n",
              "      <td>foo</td>\n",
              "      <td>one</td>\n",
              "      <td>0.765261</td>\n",
              "      <td>1.024023</td>\n",
              "    </tr>\n",
              "    <tr>\n",
              "      <th>1</th>\n",
              "      <td>bar</td>\n",
              "      <td>one</td>\n",
              "      <td>0.738095</td>\n",
              "      <td>-1.879883</td>\n",
              "    </tr>\n",
              "    <tr>\n",
              "      <th>2</th>\n",
              "      <td>foo</td>\n",
              "      <td>two</td>\n",
              "      <td>0.367825</td>\n",
              "      <td>1.717250</td>\n",
              "    </tr>\n",
              "    <tr>\n",
              "      <th>3</th>\n",
              "      <td>bar</td>\n",
              "      <td>three</td>\n",
              "      <td>1.122295</td>\n",
              "      <td>-1.208392</td>\n",
              "    </tr>\n",
              "    <tr>\n",
              "      <th>4</th>\n",
              "      <td>foo</td>\n",
              "      <td>two</td>\n",
              "      <td>0.028273</td>\n",
              "      <td>-0.760766</td>\n",
              "    </tr>\n",
              "    <tr>\n",
              "      <th>5</th>\n",
              "      <td>bar</td>\n",
              "      <td>two</td>\n",
              "      <td>1.398235</td>\n",
              "      <td>-1.751888</td>\n",
              "    </tr>\n",
              "    <tr>\n",
              "      <th>6</th>\n",
              "      <td>foo</td>\n",
              "      <td>one</td>\n",
              "      <td>-0.831490</td>\n",
              "      <td>0.543210</td>\n",
              "    </tr>\n",
              "    <tr>\n",
              "      <th>7</th>\n",
              "      <td>foo</td>\n",
              "      <td>three</td>\n",
              "      <td>0.801806</td>\n",
              "      <td>-0.672274</td>\n",
              "    </tr>\n",
              "  </tbody>\n",
              "</table>\n",
              "</div>"
            ],
            "text/plain": [
              "     A      B         C         D\n",
              "0  foo    one  0.765261  1.024023\n",
              "1  bar    one  0.738095 -1.879883\n",
              "2  foo    two  0.367825  1.717250\n",
              "3  bar  three  1.122295 -1.208392\n",
              "4  foo    two  0.028273 -0.760766\n",
              "5  bar    two  1.398235 -1.751888\n",
              "6  foo    one -0.831490  0.543210\n",
              "7  foo  three  0.801806 -0.672274"
            ]
          },
          "metadata": {
            "tags": []
          },
          "execution_count": 182
        }
      ]
    },
    {
      "cell_type": "markdown",
      "metadata": {
        "id": "-zkEbfy_SkR5"
      },
      "source": [
        "Grouping and then applying the `sum()` function to the resulting groups."
      ]
    },
    {
      "cell_type": "code",
      "metadata": {
        "colab": {
          "base_uri": "https://localhost:8080/",
          "height": 142
        },
        "id": "pxqrKXqUSiQd",
        "outputId": "2f4af75f-c5ac-48ed-d973-d63aac047052"
      },
      "source": [
        "df.groupby(\"A\").sum()"
      ],
      "execution_count": 183,
      "outputs": [
        {
          "output_type": "execute_result",
          "data": {
            "text/html": [
              "<div>\n",
              "<style scoped>\n",
              "    .dataframe tbody tr th:only-of-type {\n",
              "        vertical-align: middle;\n",
              "    }\n",
              "\n",
              "    .dataframe tbody tr th {\n",
              "        vertical-align: top;\n",
              "    }\n",
              "\n",
              "    .dataframe thead th {\n",
              "        text-align: right;\n",
              "    }\n",
              "</style>\n",
              "<table border=\"1\" class=\"dataframe\">\n",
              "  <thead>\n",
              "    <tr style=\"text-align: right;\">\n",
              "      <th></th>\n",
              "      <th>C</th>\n",
              "      <th>D</th>\n",
              "    </tr>\n",
              "    <tr>\n",
              "      <th>A</th>\n",
              "      <th></th>\n",
              "      <th></th>\n",
              "    </tr>\n",
              "  </thead>\n",
              "  <tbody>\n",
              "    <tr>\n",
              "      <th>bar</th>\n",
              "      <td>3.258624</td>\n",
              "      <td>-4.840164</td>\n",
              "    </tr>\n",
              "    <tr>\n",
              "      <th>foo</th>\n",
              "      <td>1.131675</td>\n",
              "      <td>1.851443</td>\n",
              "    </tr>\n",
              "  </tbody>\n",
              "</table>\n",
              "</div>"
            ],
            "text/plain": [
              "            C         D\n",
              "A                      \n",
              "bar  3.258624 -4.840164\n",
              "foo  1.131675  1.851443"
            ]
          },
          "metadata": {
            "tags": []
          },
          "execution_count": 183
        }
      ]
    },
    {
      "cell_type": "markdown",
      "metadata": {
        "id": "yoyg2aPgSrle"
      },
      "source": [
        "Grouping by multiple columns forms a hierarchical index, and again we can apply the `sum()` function."
      ]
    },
    {
      "cell_type": "code",
      "metadata": {
        "colab": {
          "base_uri": "https://localhost:8080/",
          "height": 266
        },
        "id": "6YlBx1laSuA8",
        "outputId": "b4aa9f9a-a08a-4018-f83b-000a4b760eda"
      },
      "source": [
        "df.groupby([\"A\", \"B\"]).sum()"
      ],
      "execution_count": 184,
      "outputs": [
        {
          "output_type": "execute_result",
          "data": {
            "text/html": [
              "<div>\n",
              "<style scoped>\n",
              "    .dataframe tbody tr th:only-of-type {\n",
              "        vertical-align: middle;\n",
              "    }\n",
              "\n",
              "    .dataframe tbody tr th {\n",
              "        vertical-align: top;\n",
              "    }\n",
              "\n",
              "    .dataframe thead th {\n",
              "        text-align: right;\n",
              "    }\n",
              "</style>\n",
              "<table border=\"1\" class=\"dataframe\">\n",
              "  <thead>\n",
              "    <tr style=\"text-align: right;\">\n",
              "      <th></th>\n",
              "      <th></th>\n",
              "      <th>C</th>\n",
              "      <th>D</th>\n",
              "    </tr>\n",
              "    <tr>\n",
              "      <th>A</th>\n",
              "      <th>B</th>\n",
              "      <th></th>\n",
              "      <th></th>\n",
              "    </tr>\n",
              "  </thead>\n",
              "  <tbody>\n",
              "    <tr>\n",
              "      <th rowspan=\"3\" valign=\"top\">bar</th>\n",
              "      <th>one</th>\n",
              "      <td>0.738095</td>\n",
              "      <td>-1.879883</td>\n",
              "    </tr>\n",
              "    <tr>\n",
              "      <th>three</th>\n",
              "      <td>1.122295</td>\n",
              "      <td>-1.208392</td>\n",
              "    </tr>\n",
              "    <tr>\n",
              "      <th>two</th>\n",
              "      <td>1.398235</td>\n",
              "      <td>-1.751888</td>\n",
              "    </tr>\n",
              "    <tr>\n",
              "      <th rowspan=\"3\" valign=\"top\">foo</th>\n",
              "      <th>one</th>\n",
              "      <td>-0.066229</td>\n",
              "      <td>1.567233</td>\n",
              "    </tr>\n",
              "    <tr>\n",
              "      <th>three</th>\n",
              "      <td>0.801806</td>\n",
              "      <td>-0.672274</td>\n",
              "    </tr>\n",
              "    <tr>\n",
              "      <th>two</th>\n",
              "      <td>0.396098</td>\n",
              "      <td>0.956484</td>\n",
              "    </tr>\n",
              "  </tbody>\n",
              "</table>\n",
              "</div>"
            ],
            "text/plain": [
              "                  C         D\n",
              "A   B                        \n",
              "bar one    0.738095 -1.879883\n",
              "    three  1.122295 -1.208392\n",
              "    two    1.398235 -1.751888\n",
              "foo one   -0.066229  1.567233\n",
              "    three  0.801806 -0.672274\n",
              "    two    0.396098  0.956484"
            ]
          },
          "metadata": {
            "tags": []
          },
          "execution_count": 184
        }
      ]
    },
    {
      "cell_type": "markdown",
      "metadata": {
        "id": "D-T23oqLQT1Y"
      },
      "source": [
        "## Reshaping\n",
        "\n",
        "See the sections on [Hierarchical Indexing](https://pandas.pydata.org/pandas-docs/stable/user_guide/advanced.html#advanced-hierarchical) and [Reshaping](https://pandas.pydata.org/pandas-docs/stable/user_guide/reshaping.html#reshaping-stacking)."
      ]
    },
    {
      "cell_type": "markdown",
      "metadata": {
        "id": "Scm6rLCnQoES"
      },
      "source": [
        "### Stack"
      ]
    },
    {
      "cell_type": "code",
      "metadata": {
        "colab": {
          "base_uri": "https://localhost:8080/"
        },
        "id": "BZiZpCCfQVeN",
        "outputId": "025210da-6e47-4f24-adc1-e4b3ad343eab"
      },
      "source": [
        "# zip together a list of two tuples into pairs of tupples\n",
        "tuples = list(\n",
        "        zip(\n",
        "            *[\n",
        "                [\"bar\", \"bar\", \"baz\", \"baz\", \"foo\", \"foo\", \"qux\", \"qux\"],\n",
        "                [\"one\", \"two\", \"one\", \"two\", \"one\", \"two\", \"one\", \"two\"],\n",
        "            ]\n",
        "        )\n",
        "    )\n",
        "tuples "
      ],
      "execution_count": 284,
      "outputs": [
        {
          "output_type": "execute_result",
          "data": {
            "text/plain": [
              "[('bar', 'one'),\n",
              " ('bar', 'two'),\n",
              " ('baz', 'one'),\n",
              " ('baz', 'two'),\n",
              " ('foo', 'one'),\n",
              " ('foo', 'two'),\n",
              " ('qux', 'one'),\n",
              " ('qux', 'two')]"
            ]
          },
          "metadata": {
            "tags": []
          },
          "execution_count": 284
        }
      ]
    },
    {
      "cell_type": "code",
      "metadata": {
        "colab": {
          "base_uri": "https://localhost:8080/"
        },
        "id": "vdLZDghwS6FA",
        "outputId": "62bd17c5-2488-4266-f57b-efeb5d19e998"
      },
      "source": [
        "# create a MultiIndex from the tuples\n",
        "index = pd.MultiIndex.from_tuples(tuples, names=[\"first\", \"second\"])\n",
        "index"
      ],
      "execution_count": 285,
      "outputs": [
        {
          "output_type": "execute_result",
          "data": {
            "text/plain": [
              "MultiIndex([('bar', 'one'),\n",
              "            ('bar', 'two'),\n",
              "            ('baz', 'one'),\n",
              "            ('baz', 'two'),\n",
              "            ('foo', 'one'),\n",
              "            ('foo', 'two'),\n",
              "            ('qux', 'one'),\n",
              "            ('qux', 'two')],\n",
              "           names=['first', 'second'])"
            ]
          },
          "metadata": {
            "tags": []
          },
          "execution_count": 285
        }
      ]
    },
    {
      "cell_type": "code",
      "metadata": {
        "colab": {
          "base_uri": "https://localhost:8080/",
          "height": 328
        },
        "id": "nXC_VMCeS9UG",
        "outputId": "16a4249e-4379-4dd6-d4bd-7823f3c1fe03"
      },
      "source": [
        "# create a DataFrame from the MultiIndex and columns\n",
        "df = pd.DataFrame(np.random.randn(8, 2), index=index, columns=[\"A\", \"B\"])\n",
        "df"
      ],
      "execution_count": 286,
      "outputs": [
        {
          "output_type": "execute_result",
          "data": {
            "text/html": [
              "<div>\n",
              "<style scoped>\n",
              "    .dataframe tbody tr th:only-of-type {\n",
              "        vertical-align: middle;\n",
              "    }\n",
              "\n",
              "    .dataframe tbody tr th {\n",
              "        vertical-align: top;\n",
              "    }\n",
              "\n",
              "    .dataframe thead th {\n",
              "        text-align: right;\n",
              "    }\n",
              "</style>\n",
              "<table border=\"1\" class=\"dataframe\">\n",
              "  <thead>\n",
              "    <tr style=\"text-align: right;\">\n",
              "      <th></th>\n",
              "      <th></th>\n",
              "      <th>A</th>\n",
              "      <th>B</th>\n",
              "    </tr>\n",
              "    <tr>\n",
              "      <th>first</th>\n",
              "      <th>second</th>\n",
              "      <th></th>\n",
              "      <th></th>\n",
              "    </tr>\n",
              "  </thead>\n",
              "  <tbody>\n",
              "    <tr>\n",
              "      <th rowspan=\"2\" valign=\"top\">bar</th>\n",
              "      <th>one</th>\n",
              "      <td>-1.823795</td>\n",
              "      <td>-0.706159</td>\n",
              "    </tr>\n",
              "    <tr>\n",
              "      <th>two</th>\n",
              "      <td>0.091749</td>\n",
              "      <td>-0.741372</td>\n",
              "    </tr>\n",
              "    <tr>\n",
              "      <th rowspan=\"2\" valign=\"top\">baz</th>\n",
              "      <th>one</th>\n",
              "      <td>0.984080</td>\n",
              "      <td>-0.456105</td>\n",
              "    </tr>\n",
              "    <tr>\n",
              "      <th>two</th>\n",
              "      <td>0.023068</td>\n",
              "      <td>0.511763</td>\n",
              "    </tr>\n",
              "    <tr>\n",
              "      <th rowspan=\"2\" valign=\"top\">foo</th>\n",
              "      <th>one</th>\n",
              "      <td>-0.107551</td>\n",
              "      <td>0.517616</td>\n",
              "    </tr>\n",
              "    <tr>\n",
              "      <th>two</th>\n",
              "      <td>-1.070700</td>\n",
              "      <td>-1.000182</td>\n",
              "    </tr>\n",
              "    <tr>\n",
              "      <th rowspan=\"2\" valign=\"top\">qux</th>\n",
              "      <th>one</th>\n",
              "      <td>-0.178101</td>\n",
              "      <td>0.671515</td>\n",
              "    </tr>\n",
              "    <tr>\n",
              "      <th>two</th>\n",
              "      <td>-0.130793</td>\n",
              "      <td>-0.853544</td>\n",
              "    </tr>\n",
              "  </tbody>\n",
              "</table>\n",
              "</div>"
            ],
            "text/plain": [
              "                     A         B\n",
              "first second                    \n",
              "bar   one    -1.823795 -0.706159\n",
              "      two     0.091749 -0.741372\n",
              "baz   one     0.984080 -0.456105\n",
              "      two     0.023068  0.511763\n",
              "foo   one    -0.107551  0.517616\n",
              "      two    -1.070700 -1.000182\n",
              "qux   one    -0.178101  0.671515\n",
              "      two    -0.130793 -0.853544"
            ]
          },
          "metadata": {
            "tags": []
          },
          "execution_count": 286
        }
      ]
    },
    {
      "cell_type": "code",
      "metadata": {
        "colab": {
          "base_uri": "https://localhost:8080/",
          "height": 204
        },
        "id": "ubsH-_kYTAGn",
        "outputId": "56c5e2f6-16d9-4c38-a867-aab682530fc5"
      },
      "source": [
        "# slice from 0 to 4\n",
        "df2 = df[:4]\n",
        "df2"
      ],
      "execution_count": 287,
      "outputs": [
        {
          "output_type": "execute_result",
          "data": {
            "text/html": [
              "<div>\n",
              "<style scoped>\n",
              "    .dataframe tbody tr th:only-of-type {\n",
              "        vertical-align: middle;\n",
              "    }\n",
              "\n",
              "    .dataframe tbody tr th {\n",
              "        vertical-align: top;\n",
              "    }\n",
              "\n",
              "    .dataframe thead th {\n",
              "        text-align: right;\n",
              "    }\n",
              "</style>\n",
              "<table border=\"1\" class=\"dataframe\">\n",
              "  <thead>\n",
              "    <tr style=\"text-align: right;\">\n",
              "      <th></th>\n",
              "      <th></th>\n",
              "      <th>A</th>\n",
              "      <th>B</th>\n",
              "    </tr>\n",
              "    <tr>\n",
              "      <th>first</th>\n",
              "      <th>second</th>\n",
              "      <th></th>\n",
              "      <th></th>\n",
              "    </tr>\n",
              "  </thead>\n",
              "  <tbody>\n",
              "    <tr>\n",
              "      <th rowspan=\"2\" valign=\"top\">bar</th>\n",
              "      <th>one</th>\n",
              "      <td>-1.823795</td>\n",
              "      <td>-0.706159</td>\n",
              "    </tr>\n",
              "    <tr>\n",
              "      <th>two</th>\n",
              "      <td>0.091749</td>\n",
              "      <td>-0.741372</td>\n",
              "    </tr>\n",
              "    <tr>\n",
              "      <th rowspan=\"2\" valign=\"top\">baz</th>\n",
              "      <th>one</th>\n",
              "      <td>0.984080</td>\n",
              "      <td>-0.456105</td>\n",
              "    </tr>\n",
              "    <tr>\n",
              "      <th>two</th>\n",
              "      <td>0.023068</td>\n",
              "      <td>0.511763</td>\n",
              "    </tr>\n",
              "  </tbody>\n",
              "</table>\n",
              "</div>"
            ],
            "text/plain": [
              "                     A         B\n",
              "first second                    \n",
              "bar   one    -1.823795 -0.706159\n",
              "      two     0.091749 -0.741372\n",
              "baz   one     0.984080 -0.456105\n",
              "      two     0.023068  0.511763"
            ]
          },
          "metadata": {
            "tags": []
          },
          "execution_count": 287
        }
      ]
    },
    {
      "cell_type": "markdown",
      "metadata": {
        "id": "XThST5PTTeLG"
      },
      "source": [
        "The `stack()` method “compresses” a level in the DataFrame’s columns."
      ]
    },
    {
      "cell_type": "code",
      "metadata": {
        "colab": {
          "base_uri": "https://localhost:8080/"
        },
        "id": "x1x-a0sBTgin",
        "outputId": "9e660e13-4948-4f40-bc02-368660ba2414"
      },
      "source": [
        "stacked = df2.stack()\n",
        "stacked"
      ],
      "execution_count": 288,
      "outputs": [
        {
          "output_type": "execute_result",
          "data": {
            "text/plain": [
              "first  second   \n",
              "bar    one     A   -1.823795\n",
              "               B   -0.706159\n",
              "       two     A    0.091749\n",
              "               B   -0.741372\n",
              "baz    one     A    0.984080\n",
              "               B   -0.456105\n",
              "       two     A    0.023068\n",
              "               B    0.511763\n",
              "dtype: float64"
            ]
          },
          "metadata": {
            "tags": []
          },
          "execution_count": 288
        }
      ]
    },
    {
      "cell_type": "markdown",
      "metadata": {
        "id": "n_twF2vZTlcd"
      },
      "source": [
        "With a “stacked” `DataFrame` or `Series` (having a `MultiIndex` as the `index`), the inverse operation of `stack()` is `unstack()`, which by default unstacks the last level:"
      ]
    },
    {
      "cell_type": "code",
      "metadata": {
        "colab": {
          "base_uri": "https://localhost:8080/",
          "height": 204
        },
        "id": "r-B2O7rSTqtE",
        "outputId": "5cbe5a4e-71b5-4cbb-b3ce-0682faf86c71"
      },
      "source": [
        "stacked.unstack()"
      ],
      "execution_count": 289,
      "outputs": [
        {
          "output_type": "execute_result",
          "data": {
            "text/html": [
              "<div>\n",
              "<style scoped>\n",
              "    .dataframe tbody tr th:only-of-type {\n",
              "        vertical-align: middle;\n",
              "    }\n",
              "\n",
              "    .dataframe tbody tr th {\n",
              "        vertical-align: top;\n",
              "    }\n",
              "\n",
              "    .dataframe thead th {\n",
              "        text-align: right;\n",
              "    }\n",
              "</style>\n",
              "<table border=\"1\" class=\"dataframe\">\n",
              "  <thead>\n",
              "    <tr style=\"text-align: right;\">\n",
              "      <th></th>\n",
              "      <th></th>\n",
              "      <th>A</th>\n",
              "      <th>B</th>\n",
              "    </tr>\n",
              "    <tr>\n",
              "      <th>first</th>\n",
              "      <th>second</th>\n",
              "      <th></th>\n",
              "      <th></th>\n",
              "    </tr>\n",
              "  </thead>\n",
              "  <tbody>\n",
              "    <tr>\n",
              "      <th rowspan=\"2\" valign=\"top\">bar</th>\n",
              "      <th>one</th>\n",
              "      <td>-1.823795</td>\n",
              "      <td>-0.706159</td>\n",
              "    </tr>\n",
              "    <tr>\n",
              "      <th>two</th>\n",
              "      <td>0.091749</td>\n",
              "      <td>-0.741372</td>\n",
              "    </tr>\n",
              "    <tr>\n",
              "      <th rowspan=\"2\" valign=\"top\">baz</th>\n",
              "      <th>one</th>\n",
              "      <td>0.984080</td>\n",
              "      <td>-0.456105</td>\n",
              "    </tr>\n",
              "    <tr>\n",
              "      <th>two</th>\n",
              "      <td>0.023068</td>\n",
              "      <td>0.511763</td>\n",
              "    </tr>\n",
              "  </tbody>\n",
              "</table>\n",
              "</div>"
            ],
            "text/plain": [
              "                     A         B\n",
              "first second                    \n",
              "bar   one    -1.823795 -0.706159\n",
              "      two     0.091749 -0.741372\n",
              "baz   one     0.984080 -0.456105\n",
              "      two     0.023068  0.511763"
            ]
          },
          "metadata": {
            "tags": []
          },
          "execution_count": 289
        }
      ]
    },
    {
      "cell_type": "code",
      "metadata": {
        "colab": {
          "base_uri": "https://localhost:8080/",
          "height": 204
        },
        "id": "pJPrMwKfT9Sc",
        "outputId": "1f4c04bc-1d21-4fab-f500-b80f4eff529f"
      },
      "source": [
        "stacked.unstack(1)"
      ],
      "execution_count": 290,
      "outputs": [
        {
          "output_type": "execute_result",
          "data": {
            "text/html": [
              "<div>\n",
              "<style scoped>\n",
              "    .dataframe tbody tr th:only-of-type {\n",
              "        vertical-align: middle;\n",
              "    }\n",
              "\n",
              "    .dataframe tbody tr th {\n",
              "        vertical-align: top;\n",
              "    }\n",
              "\n",
              "    .dataframe thead th {\n",
              "        text-align: right;\n",
              "    }\n",
              "</style>\n",
              "<table border=\"1\" class=\"dataframe\">\n",
              "  <thead>\n",
              "    <tr style=\"text-align: right;\">\n",
              "      <th></th>\n",
              "      <th>second</th>\n",
              "      <th>one</th>\n",
              "      <th>two</th>\n",
              "    </tr>\n",
              "    <tr>\n",
              "      <th>first</th>\n",
              "      <th></th>\n",
              "      <th></th>\n",
              "      <th></th>\n",
              "    </tr>\n",
              "  </thead>\n",
              "  <tbody>\n",
              "    <tr>\n",
              "      <th rowspan=\"2\" valign=\"top\">bar</th>\n",
              "      <th>A</th>\n",
              "      <td>-1.823795</td>\n",
              "      <td>0.091749</td>\n",
              "    </tr>\n",
              "    <tr>\n",
              "      <th>B</th>\n",
              "      <td>-0.706159</td>\n",
              "      <td>-0.741372</td>\n",
              "    </tr>\n",
              "    <tr>\n",
              "      <th rowspan=\"2\" valign=\"top\">baz</th>\n",
              "      <th>A</th>\n",
              "      <td>0.984080</td>\n",
              "      <td>0.023068</td>\n",
              "    </tr>\n",
              "    <tr>\n",
              "      <th>B</th>\n",
              "      <td>-0.456105</td>\n",
              "      <td>0.511763</td>\n",
              "    </tr>\n",
              "  </tbody>\n",
              "</table>\n",
              "</div>"
            ],
            "text/plain": [
              "second        one       two\n",
              "first                      \n",
              "bar   A -1.823795  0.091749\n",
              "      B -0.706159 -0.741372\n",
              "baz   A  0.984080  0.023068\n",
              "      B -0.456105  0.511763"
            ]
          },
          "metadata": {
            "tags": []
          },
          "execution_count": 290
        }
      ]
    },
    {
      "cell_type": "code",
      "metadata": {
        "colab": {
          "base_uri": "https://localhost:8080/",
          "height": 204
        },
        "id": "9jA9wfZoUAsV",
        "outputId": "9d65d8da-51d2-4486-8441-3bb51f17f14e"
      },
      "source": [
        "stacked.unstack(0)"
      ],
      "execution_count": 291,
      "outputs": [
        {
          "output_type": "execute_result",
          "data": {
            "text/html": [
              "<div>\n",
              "<style scoped>\n",
              "    .dataframe tbody tr th:only-of-type {\n",
              "        vertical-align: middle;\n",
              "    }\n",
              "\n",
              "    .dataframe tbody tr th {\n",
              "        vertical-align: top;\n",
              "    }\n",
              "\n",
              "    .dataframe thead th {\n",
              "        text-align: right;\n",
              "    }\n",
              "</style>\n",
              "<table border=\"1\" class=\"dataframe\">\n",
              "  <thead>\n",
              "    <tr style=\"text-align: right;\">\n",
              "      <th></th>\n",
              "      <th>first</th>\n",
              "      <th>bar</th>\n",
              "      <th>baz</th>\n",
              "    </tr>\n",
              "    <tr>\n",
              "      <th>second</th>\n",
              "      <th></th>\n",
              "      <th></th>\n",
              "      <th></th>\n",
              "    </tr>\n",
              "  </thead>\n",
              "  <tbody>\n",
              "    <tr>\n",
              "      <th rowspan=\"2\" valign=\"top\">one</th>\n",
              "      <th>A</th>\n",
              "      <td>-1.823795</td>\n",
              "      <td>0.984080</td>\n",
              "    </tr>\n",
              "    <tr>\n",
              "      <th>B</th>\n",
              "      <td>-0.706159</td>\n",
              "      <td>-0.456105</td>\n",
              "    </tr>\n",
              "    <tr>\n",
              "      <th rowspan=\"2\" valign=\"top\">two</th>\n",
              "      <th>A</th>\n",
              "      <td>0.091749</td>\n",
              "      <td>0.023068</td>\n",
              "    </tr>\n",
              "    <tr>\n",
              "      <th>B</th>\n",
              "      <td>-0.741372</td>\n",
              "      <td>0.511763</td>\n",
              "    </tr>\n",
              "  </tbody>\n",
              "</table>\n",
              "</div>"
            ],
            "text/plain": [
              "first          bar       baz\n",
              "second                      \n",
              "one    A -1.823795  0.984080\n",
              "       B -0.706159 -0.456105\n",
              "two    A  0.091749  0.023068\n",
              "       B -0.741372  0.511763"
            ]
          },
          "metadata": {
            "tags": []
          },
          "execution_count": 291
        }
      ]
    },
    {
      "cell_type": "markdown",
      "metadata": {
        "id": "OGNbZ1u9Qpo3"
      },
      "source": [
        "### Pivot tables\n",
        "\n",
        "See the section on [Pivot Tables](https://pandas.pydata.org/pandas-docs/stable/user_guide/reshaping.html#reshaping-pivot)."
      ]
    },
    {
      "cell_type": "code",
      "metadata": {
        "colab": {
          "base_uri": "https://localhost:8080/",
          "height": 421
        },
        "id": "as8ncFx_Qpvc",
        "outputId": "dad3964c-97a1-4e1d-d2c0-556a5201a1a5"
      },
      "source": [
        "df = pd.DataFrame(\n",
        "        {\n",
        "            \"A\": [\"one\", \"one\", \"two\", \"three\"] * 3,\n",
        "            \"B\": [\"A\", \"B\", \"C\"] * 4,\n",
        "            \"C\": [\"foo\", \"foo\", \"foo\", \"bar\", \"bar\", \"bar\"] * 2,\n",
        "            \"D\": np.random.randn(12),\n",
        "            \"E\": np.random.randn(12),\n",
        "        }\n",
        "    )\n",
        "\n",
        "df"
      ],
      "execution_count": 196,
      "outputs": [
        {
          "output_type": "execute_result",
          "data": {
            "text/html": [
              "<div>\n",
              "<style scoped>\n",
              "    .dataframe tbody tr th:only-of-type {\n",
              "        vertical-align: middle;\n",
              "    }\n",
              "\n",
              "    .dataframe tbody tr th {\n",
              "        vertical-align: top;\n",
              "    }\n",
              "\n",
              "    .dataframe thead th {\n",
              "        text-align: right;\n",
              "    }\n",
              "</style>\n",
              "<table border=\"1\" class=\"dataframe\">\n",
              "  <thead>\n",
              "    <tr style=\"text-align: right;\">\n",
              "      <th></th>\n",
              "      <th>A</th>\n",
              "      <th>B</th>\n",
              "      <th>C</th>\n",
              "      <th>D</th>\n",
              "      <th>E</th>\n",
              "    </tr>\n",
              "  </thead>\n",
              "  <tbody>\n",
              "    <tr>\n",
              "      <th>0</th>\n",
              "      <td>one</td>\n",
              "      <td>A</td>\n",
              "      <td>foo</td>\n",
              "      <td>0.812740</td>\n",
              "      <td>-0.491342</td>\n",
              "    </tr>\n",
              "    <tr>\n",
              "      <th>1</th>\n",
              "      <td>one</td>\n",
              "      <td>B</td>\n",
              "      <td>foo</td>\n",
              "      <td>-0.041880</td>\n",
              "      <td>-0.199250</td>\n",
              "    </tr>\n",
              "    <tr>\n",
              "      <th>2</th>\n",
              "      <td>two</td>\n",
              "      <td>C</td>\n",
              "      <td>foo</td>\n",
              "      <td>0.480654</td>\n",
              "      <td>-1.989997</td>\n",
              "    </tr>\n",
              "    <tr>\n",
              "      <th>3</th>\n",
              "      <td>three</td>\n",
              "      <td>A</td>\n",
              "      <td>bar</td>\n",
              "      <td>1.131973</td>\n",
              "      <td>1.654545</td>\n",
              "    </tr>\n",
              "    <tr>\n",
              "      <th>4</th>\n",
              "      <td>one</td>\n",
              "      <td>B</td>\n",
              "      <td>bar</td>\n",
              "      <td>0.431302</td>\n",
              "      <td>-0.102980</td>\n",
              "    </tr>\n",
              "    <tr>\n",
              "      <th>5</th>\n",
              "      <td>one</td>\n",
              "      <td>C</td>\n",
              "      <td>bar</td>\n",
              "      <td>-1.050730</td>\n",
              "      <td>1.897030</td>\n",
              "    </tr>\n",
              "    <tr>\n",
              "      <th>6</th>\n",
              "      <td>two</td>\n",
              "      <td>A</td>\n",
              "      <td>foo</td>\n",
              "      <td>-1.368979</td>\n",
              "      <td>-0.660010</td>\n",
              "    </tr>\n",
              "    <tr>\n",
              "      <th>7</th>\n",
              "      <td>three</td>\n",
              "      <td>B</td>\n",
              "      <td>foo</td>\n",
              "      <td>-1.502691</td>\n",
              "      <td>0.738455</td>\n",
              "    </tr>\n",
              "    <tr>\n",
              "      <th>8</th>\n",
              "      <td>one</td>\n",
              "      <td>C</td>\n",
              "      <td>foo</td>\n",
              "      <td>-0.713089</td>\n",
              "      <td>0.809919</td>\n",
              "    </tr>\n",
              "    <tr>\n",
              "      <th>9</th>\n",
              "      <td>one</td>\n",
              "      <td>A</td>\n",
              "      <td>bar</td>\n",
              "      <td>0.324458</td>\n",
              "      <td>1.000715</td>\n",
              "    </tr>\n",
              "    <tr>\n",
              "      <th>10</th>\n",
              "      <td>two</td>\n",
              "      <td>B</td>\n",
              "      <td>bar</td>\n",
              "      <td>-1.805054</td>\n",
              "      <td>1.660623</td>\n",
              "    </tr>\n",
              "    <tr>\n",
              "      <th>11</th>\n",
              "      <td>three</td>\n",
              "      <td>C</td>\n",
              "      <td>bar</td>\n",
              "      <td>-0.613598</td>\n",
              "      <td>1.845489</td>\n",
              "    </tr>\n",
              "  </tbody>\n",
              "</table>\n",
              "</div>"
            ],
            "text/plain": [
              "        A  B    C         D         E\n",
              "0     one  A  foo  0.812740 -0.491342\n",
              "1     one  B  foo -0.041880 -0.199250\n",
              "2     two  C  foo  0.480654 -1.989997\n",
              "3   three  A  bar  1.131973  1.654545\n",
              "4     one  B  bar  0.431302 -0.102980\n",
              "5     one  C  bar -1.050730  1.897030\n",
              "6     two  A  foo -1.368979 -0.660010\n",
              "7   three  B  foo -1.502691  0.738455\n",
              "8     one  C  foo -0.713089  0.809919\n",
              "9     one  A  bar  0.324458  1.000715\n",
              "10    two  B  bar -1.805054  1.660623\n",
              "11  three  C  bar -0.613598  1.845489"
            ]
          },
          "metadata": {
            "tags": []
          },
          "execution_count": 196
        }
      ]
    },
    {
      "cell_type": "markdown",
      "metadata": {
        "id": "cEb2H5bFUOO0"
      },
      "source": [
        "We can produce pivot tables from this data very easily:"
      ]
    },
    {
      "cell_type": "code",
      "metadata": {
        "colab": {
          "base_uri": "https://localhost:8080/",
          "height": 359
        },
        "id": "1xUUojJPUPhj",
        "outputId": "02170cb2-a607-46a0-c83e-83d82ba438e2"
      },
      "source": [
        "pd.pivot_table(df, values=\"D\", index=[\"A\", \"B\"], columns=[\"C\"])"
      ],
      "execution_count": 197,
      "outputs": [
        {
          "output_type": "execute_result",
          "data": {
            "text/html": [
              "<div>\n",
              "<style scoped>\n",
              "    .dataframe tbody tr th:only-of-type {\n",
              "        vertical-align: middle;\n",
              "    }\n",
              "\n",
              "    .dataframe tbody tr th {\n",
              "        vertical-align: top;\n",
              "    }\n",
              "\n",
              "    .dataframe thead th {\n",
              "        text-align: right;\n",
              "    }\n",
              "</style>\n",
              "<table border=\"1\" class=\"dataframe\">\n",
              "  <thead>\n",
              "    <tr style=\"text-align: right;\">\n",
              "      <th></th>\n",
              "      <th>C</th>\n",
              "      <th>bar</th>\n",
              "      <th>foo</th>\n",
              "    </tr>\n",
              "    <tr>\n",
              "      <th>A</th>\n",
              "      <th>B</th>\n",
              "      <th></th>\n",
              "      <th></th>\n",
              "    </tr>\n",
              "  </thead>\n",
              "  <tbody>\n",
              "    <tr>\n",
              "      <th rowspan=\"3\" valign=\"top\">one</th>\n",
              "      <th>A</th>\n",
              "      <td>0.324458</td>\n",
              "      <td>0.812740</td>\n",
              "    </tr>\n",
              "    <tr>\n",
              "      <th>B</th>\n",
              "      <td>0.431302</td>\n",
              "      <td>-0.041880</td>\n",
              "    </tr>\n",
              "    <tr>\n",
              "      <th>C</th>\n",
              "      <td>-1.050730</td>\n",
              "      <td>-0.713089</td>\n",
              "    </tr>\n",
              "    <tr>\n",
              "      <th rowspan=\"3\" valign=\"top\">three</th>\n",
              "      <th>A</th>\n",
              "      <td>1.131973</td>\n",
              "      <td>NaN</td>\n",
              "    </tr>\n",
              "    <tr>\n",
              "      <th>B</th>\n",
              "      <td>NaN</td>\n",
              "      <td>-1.502691</td>\n",
              "    </tr>\n",
              "    <tr>\n",
              "      <th>C</th>\n",
              "      <td>-0.613598</td>\n",
              "      <td>NaN</td>\n",
              "    </tr>\n",
              "    <tr>\n",
              "      <th rowspan=\"3\" valign=\"top\">two</th>\n",
              "      <th>A</th>\n",
              "      <td>NaN</td>\n",
              "      <td>-1.368979</td>\n",
              "    </tr>\n",
              "    <tr>\n",
              "      <th>B</th>\n",
              "      <td>-1.805054</td>\n",
              "      <td>NaN</td>\n",
              "    </tr>\n",
              "    <tr>\n",
              "      <th>C</th>\n",
              "      <td>NaN</td>\n",
              "      <td>0.480654</td>\n",
              "    </tr>\n",
              "  </tbody>\n",
              "</table>\n",
              "</div>"
            ],
            "text/plain": [
              "C             bar       foo\n",
              "A     B                    \n",
              "one   A  0.324458  0.812740\n",
              "      B  0.431302 -0.041880\n",
              "      C -1.050730 -0.713089\n",
              "three A  1.131973       NaN\n",
              "      B       NaN -1.502691\n",
              "      C -0.613598       NaN\n",
              "two   A       NaN -1.368979\n",
              "      B -1.805054       NaN\n",
              "      C       NaN  0.480654"
            ]
          },
          "metadata": {
            "tags": []
          },
          "execution_count": 197
        }
      ]
    },
    {
      "cell_type": "markdown",
      "metadata": {
        "id": "arYX9USUQVnq"
      },
      "source": [
        "## Time series\n",
        "\n",
        "pandas has simple, powerful, and efficient functionality for performing resampling operations during frequency conversion (e.g., converting secondly data into 5-minutely data). This is extremely common in, but not limited to, financial applications.\n",
        "\n",
        "See the [Time Series](https://pandas.pydata.org/pandas-docs/stable/user_guide/timeseries.html#timeseries) section."
      ]
    },
    {
      "cell_type": "code",
      "metadata": {
        "colab": {
          "base_uri": "https://localhost:8080/"
        },
        "id": "YZPntolJQXR_",
        "outputId": "24d8bf6a-4d6c-492d-f876-6d77e6670f8b"
      },
      "source": [
        "# create a DateTimeIndex with a date range of 100 dates on 1/1/2012 at 1 second resolution\n",
        "rng = pd.date_range(\"1/1/2012\", periods=100, freq=\"S\")\n",
        "rng"
      ],
      "execution_count": 206,
      "outputs": [
        {
          "output_type": "execute_result",
          "data": {
            "text/plain": [
              "DatetimeIndex(['2012-01-01 00:00:00', '2012-01-01 00:00:01',\n",
              "               '2012-01-01 00:00:02', '2012-01-01 00:00:03',\n",
              "               '2012-01-01 00:00:04', '2012-01-01 00:00:05',\n",
              "               '2012-01-01 00:00:06', '2012-01-01 00:00:07',\n",
              "               '2012-01-01 00:00:08', '2012-01-01 00:00:09',\n",
              "               '2012-01-01 00:00:10', '2012-01-01 00:00:11',\n",
              "               '2012-01-01 00:00:12', '2012-01-01 00:00:13',\n",
              "               '2012-01-01 00:00:14', '2012-01-01 00:00:15',\n",
              "               '2012-01-01 00:00:16', '2012-01-01 00:00:17',\n",
              "               '2012-01-01 00:00:18', '2012-01-01 00:00:19',\n",
              "               '2012-01-01 00:00:20', '2012-01-01 00:00:21',\n",
              "               '2012-01-01 00:00:22', '2012-01-01 00:00:23',\n",
              "               '2012-01-01 00:00:24', '2012-01-01 00:00:25',\n",
              "               '2012-01-01 00:00:26', '2012-01-01 00:00:27',\n",
              "               '2012-01-01 00:00:28', '2012-01-01 00:00:29',\n",
              "               '2012-01-01 00:00:30', '2012-01-01 00:00:31',\n",
              "               '2012-01-01 00:00:32', '2012-01-01 00:00:33',\n",
              "               '2012-01-01 00:00:34', '2012-01-01 00:00:35',\n",
              "               '2012-01-01 00:00:36', '2012-01-01 00:00:37',\n",
              "               '2012-01-01 00:00:38', '2012-01-01 00:00:39',\n",
              "               '2012-01-01 00:00:40', '2012-01-01 00:00:41',\n",
              "               '2012-01-01 00:00:42', '2012-01-01 00:00:43',\n",
              "               '2012-01-01 00:00:44', '2012-01-01 00:00:45',\n",
              "               '2012-01-01 00:00:46', '2012-01-01 00:00:47',\n",
              "               '2012-01-01 00:00:48', '2012-01-01 00:00:49',\n",
              "               '2012-01-01 00:00:50', '2012-01-01 00:00:51',\n",
              "               '2012-01-01 00:00:52', '2012-01-01 00:00:53',\n",
              "               '2012-01-01 00:00:54', '2012-01-01 00:00:55',\n",
              "               '2012-01-01 00:00:56', '2012-01-01 00:00:57',\n",
              "               '2012-01-01 00:00:58', '2012-01-01 00:00:59',\n",
              "               '2012-01-01 00:01:00', '2012-01-01 00:01:01',\n",
              "               '2012-01-01 00:01:02', '2012-01-01 00:01:03',\n",
              "               '2012-01-01 00:01:04', '2012-01-01 00:01:05',\n",
              "               '2012-01-01 00:01:06', '2012-01-01 00:01:07',\n",
              "               '2012-01-01 00:01:08', '2012-01-01 00:01:09',\n",
              "               '2012-01-01 00:01:10', '2012-01-01 00:01:11',\n",
              "               '2012-01-01 00:01:12', '2012-01-01 00:01:13',\n",
              "               '2012-01-01 00:01:14', '2012-01-01 00:01:15',\n",
              "               '2012-01-01 00:01:16', '2012-01-01 00:01:17',\n",
              "               '2012-01-01 00:01:18', '2012-01-01 00:01:19',\n",
              "               '2012-01-01 00:01:20', '2012-01-01 00:01:21',\n",
              "               '2012-01-01 00:01:22', '2012-01-01 00:01:23',\n",
              "               '2012-01-01 00:01:24', '2012-01-01 00:01:25',\n",
              "               '2012-01-01 00:01:26', '2012-01-01 00:01:27',\n",
              "               '2012-01-01 00:01:28', '2012-01-01 00:01:29',\n",
              "               '2012-01-01 00:01:30', '2012-01-01 00:01:31',\n",
              "               '2012-01-01 00:01:32', '2012-01-01 00:01:33',\n",
              "               '2012-01-01 00:01:34', '2012-01-01 00:01:35',\n",
              "               '2012-01-01 00:01:36', '2012-01-01 00:01:37',\n",
              "               '2012-01-01 00:01:38', '2012-01-01 00:01:39'],\n",
              "              dtype='datetime64[ns]', freq='S')"
            ]
          },
          "metadata": {
            "tags": []
          },
          "execution_count": 206
        }
      ]
    },
    {
      "cell_type": "code",
      "metadata": {
        "colab": {
          "base_uri": "https://localhost:8080/"
        },
        "id": "_cViSmDfUjMb",
        "outputId": "bce1d927-0ba1-465e-a9cb-dde6574431b9"
      },
      "source": [
        "# create a Series from the date range with values\n",
        "ts = pd.Series(np.random.randint(0, 500, len(rng)), index=rng)\n",
        "ts"
      ],
      "execution_count": 207,
      "outputs": [
        {
          "output_type": "execute_result",
          "data": {
            "text/plain": [
              "2012-01-01 00:00:00    256\n",
              "2012-01-01 00:00:01    318\n",
              "2012-01-01 00:00:02     11\n",
              "2012-01-01 00:00:03    464\n",
              "2012-01-01 00:00:04     63\n",
              "                      ... \n",
              "2012-01-01 00:01:35    322\n",
              "2012-01-01 00:01:36     47\n",
              "2012-01-01 00:01:37    454\n",
              "2012-01-01 00:01:38    322\n",
              "2012-01-01 00:01:39    190\n",
              "Freq: S, Length: 100, dtype: int64"
            ]
          },
          "metadata": {
            "tags": []
          },
          "execution_count": 207
        }
      ]
    },
    {
      "cell_type": "code",
      "metadata": {
        "colab": {
          "base_uri": "https://localhost:8080/"
        },
        "id": "3-RUWvtAUoho",
        "outputId": "5bc16676-db73-44e5-9b52-4614f5915d74"
      },
      "source": [
        "# resample the Series to 5 minutes and sum the values\n",
        "ts.resample(\"5Min\").sum()"
      ],
      "execution_count": 208,
      "outputs": [
        {
          "output_type": "execute_result",
          "data": {
            "text/plain": [
              "2012-01-01    25070\n",
              "Freq: 5T, dtype: int64"
            ]
          },
          "metadata": {
            "tags": []
          },
          "execution_count": 208
        }
      ]
    },
    {
      "cell_type": "markdown",
      "metadata": {
        "id": "Ebup2gI8VDpO"
      },
      "source": [
        "Time zone representation:"
      ]
    },
    {
      "cell_type": "code",
      "metadata": {
        "colab": {
          "base_uri": "https://localhost:8080/"
        },
        "id": "zeFtMgb0VEy4",
        "outputId": "dd1d5ab1-7203-4aa9-8962-0e72b6d197fb"
      },
      "source": [
        "# create a DatetimeIndex with a date range of 5 days starting at 3/6/2012\n",
        "rng = pd.date_range(\"3/6/2012 00:00\", periods=5, freq=\"D\")\n",
        "rng"
      ],
      "execution_count": 210,
      "outputs": [
        {
          "output_type": "execute_result",
          "data": {
            "text/plain": [
              "DatetimeIndex(['2012-03-06', '2012-03-07', '2012-03-08', '2012-03-09',\n",
              "               '2012-03-10'],\n",
              "              dtype='datetime64[ns]', freq='D')"
            ]
          },
          "metadata": {
            "tags": []
          },
          "execution_count": 210
        }
      ]
    },
    {
      "cell_type": "code",
      "metadata": {
        "colab": {
          "base_uri": "https://localhost:8080/"
        },
        "id": "8jtgmpFIVUCB",
        "outputId": "da2f6539-86ef-4660-96c8-83287e86016a"
      },
      "source": [
        "# create random data with the DatetimeIndex as the index\n",
        "ts = pd.Series(np.random.randn(len(rng)), rng)\n",
        "# same as:\n",
        "ts = pd.Series(np.random.randn(len(rng)), index=rng)\n",
        "ts"
      ],
      "execution_count": 217,
      "outputs": [
        {
          "output_type": "execute_result",
          "data": {
            "text/plain": [
              "2012-03-06    0.587724\n",
              "2012-03-07   -1.071750\n",
              "2012-03-08   -0.634575\n",
              "2012-03-09    0.243247\n",
              "2012-03-10    0.936468\n",
              "Freq: D, dtype: float64"
            ]
          },
          "metadata": {
            "tags": []
          },
          "execution_count": 217
        }
      ]
    },
    {
      "cell_type": "code",
      "metadata": {
        "colab": {
          "base_uri": "https://localhost:8080/"
        },
        "id": "L7C9WbdvVjhv",
        "outputId": "0f62aec3-1942-4107-cfab-178c80b63c25"
      },
      "source": [
        "# make the dates UTC\n",
        "ts_utc = ts.tz_localize(\"UTC\")\n",
        "ts_utc"
      ],
      "execution_count": 219,
      "outputs": [
        {
          "output_type": "execute_result",
          "data": {
            "text/plain": [
              "2012-03-06 00:00:00+00:00    0.587724\n",
              "2012-03-07 00:00:00+00:00   -1.071750\n",
              "2012-03-08 00:00:00+00:00   -0.634575\n",
              "2012-03-09 00:00:00+00:00    0.243247\n",
              "2012-03-10 00:00:00+00:00    0.936468\n",
              "Freq: D, dtype: float64"
            ]
          },
          "metadata": {
            "tags": []
          },
          "execution_count": 219
        }
      ]
    },
    {
      "cell_type": "markdown",
      "metadata": {
        "id": "8dGp-0LUVrHQ"
      },
      "source": [
        "Converting to another time zone:"
      ]
    },
    {
      "cell_type": "code",
      "metadata": {
        "colab": {
          "base_uri": "https://localhost:8080/"
        },
        "id": "qhaD5j0cVtm2",
        "outputId": "a2308a4b-473f-438e-c934-8882bbce35cc"
      },
      "source": [
        "ts_utc.tz_convert(\"US/Eastern\")"
      ],
      "execution_count": 220,
      "outputs": [
        {
          "output_type": "execute_result",
          "data": {
            "text/plain": [
              "2012-03-05 19:00:00-05:00    0.587724\n",
              "2012-03-06 19:00:00-05:00   -1.071750\n",
              "2012-03-07 19:00:00-05:00   -0.634575\n",
              "2012-03-08 19:00:00-05:00    0.243247\n",
              "2012-03-09 19:00:00-05:00    0.936468\n",
              "Freq: D, dtype: float64"
            ]
          },
          "metadata": {
            "tags": []
          },
          "execution_count": 220
        }
      ]
    },
    {
      "cell_type": "markdown",
      "metadata": {
        "id": "UxZRa41OVwBA"
      },
      "source": [
        "Converting between time span representations:"
      ]
    },
    {
      "cell_type": "code",
      "metadata": {
        "colab": {
          "base_uri": "https://localhost:8080/"
        },
        "id": "CZj3rK7iVzhc",
        "outputId": "8ecc4ab6-31b9-41ff-c74a-531fe2689c83"
      },
      "source": [
        "# create a DatetimeIndex of 5 months starting at 1/1/2012\n",
        "rng = pd.date_range(\"1/1/2012\", periods=5, freq=\"M\")\n",
        "rng"
      ],
      "execution_count": 221,
      "outputs": [
        {
          "output_type": "execute_result",
          "data": {
            "text/plain": [
              "DatetimeIndex(['2012-01-31', '2012-02-29', '2012-03-31', '2012-04-30',\n",
              "               '2012-05-31'],\n",
              "              dtype='datetime64[ns]', freq='M')"
            ]
          },
          "metadata": {
            "tags": []
          },
          "execution_count": 221
        }
      ]
    },
    {
      "cell_type": "code",
      "metadata": {
        "colab": {
          "base_uri": "https://localhost:8080/"
        },
        "id": "Kaeb6cf4V6-a",
        "outputId": "ecace07c-9f28-4249-885c-a4a671778fde"
      },
      "source": [
        "# create a Series of random values with the DatetimeIndex as the index\n",
        "ts = pd.Series(np.random.randn(len(rng)), index=rng)\n",
        "ts"
      ],
      "execution_count": 223,
      "outputs": [
        {
          "output_type": "execute_result",
          "data": {
            "text/plain": [
              "2012-01-31   -0.490336\n",
              "2012-02-29   -0.790218\n",
              "2012-03-31    0.311433\n",
              "2012-04-30    1.413854\n",
              "2012-05-31    1.588281\n",
              "Freq: M, dtype: float64"
            ]
          },
          "metadata": {
            "tags": []
          },
          "execution_count": 223
        }
      ]
    },
    {
      "cell_type": "code",
      "metadata": {
        "colab": {
          "base_uri": "https://localhost:8080/"
        },
        "id": "SReZxVneWEIF",
        "outputId": "8bf321f7-3f44-4aad-8276-989da1db6633"
      },
      "source": [
        "# convert the Series to months from dates\n",
        "ps = ts.to_period()\n",
        "ps"
      ],
      "execution_count": 228,
      "outputs": [
        {
          "output_type": "execute_result",
          "data": {
            "text/plain": [
              "2012-01   -0.490336\n",
              "2012-02   -0.790218\n",
              "2012-03    0.311433\n",
              "2012-04    1.413854\n",
              "2012-05    1.588281\n",
              "Freq: M, dtype: float64"
            ]
          },
          "metadata": {
            "tags": []
          },
          "execution_count": 228
        }
      ]
    },
    {
      "cell_type": "code",
      "metadata": {
        "colab": {
          "base_uri": "https://localhost:8080/"
        },
        "id": "jk6yIcY5WO38",
        "outputId": "685acced-f61f-4216-eb94-c9963d28db84"
      },
      "source": [
        "# convert the Series to days from months\n",
        "# TODO: not giving the result from the documentation\n",
        "ps.to_timestamp()\n",
        "ps"
      ],
      "execution_count": 229,
      "outputs": [
        {
          "output_type": "execute_result",
          "data": {
            "text/plain": [
              "2012-01   -0.490336\n",
              "2012-02   -0.790218\n",
              "2012-03    0.311433\n",
              "2012-04    1.413854\n",
              "2012-05    1.588281\n",
              "Freq: M, dtype: float64"
            ]
          },
          "metadata": {
            "tags": []
          },
          "execution_count": 229
        }
      ]
    },
    {
      "cell_type": "markdown",
      "metadata": {
        "id": "igof0NoaWsoU"
      },
      "source": [
        "Converting between period and timestamp enables some convenient arithmetic functions to be used. In the following example, we convert a quarterly frequency with year ending in November to 9am of the end of the month following the quarter end:"
      ]
    },
    {
      "cell_type": "code",
      "metadata": {
        "colab": {
          "base_uri": "https://localhost:8080/"
        },
        "id": "IDxiTyFaWxug",
        "outputId": "7bf166a5-ccf1-459d-e775-58599b9439c2"
      },
      "source": [
        "# create a PeriodIndex from the given range of quarters\n",
        "prng = pd.period_range(\"1990Q1\", \"2000Q4\", freq=\"Q-NOV\")\n",
        "prng"
      ],
      "execution_count": 231,
      "outputs": [
        {
          "output_type": "execute_result",
          "data": {
            "text/plain": [
              "PeriodIndex(['1990Q1', '1990Q2', '1990Q3', '1990Q4', '1991Q1', '1991Q2',\n",
              "             '1991Q3', '1991Q4', '1992Q1', '1992Q2', '1992Q3', '1992Q4',\n",
              "             '1993Q1', '1993Q2', '1993Q3', '1993Q4', '1994Q1', '1994Q2',\n",
              "             '1994Q3', '1994Q4', '1995Q1', '1995Q2', '1995Q3', '1995Q4',\n",
              "             '1996Q1', '1996Q2', '1996Q3', '1996Q4', '1997Q1', '1997Q2',\n",
              "             '1997Q3', '1997Q4', '1998Q1', '1998Q2', '1998Q3', '1998Q4',\n",
              "             '1999Q1', '1999Q2', '1999Q3', '1999Q4', '2000Q1', '2000Q2',\n",
              "             '2000Q3', '2000Q4'],\n",
              "            dtype='period[Q-NOV]', freq='Q-NOV')"
            ]
          },
          "metadata": {
            "tags": []
          },
          "execution_count": 231
        }
      ]
    },
    {
      "cell_type": "code",
      "metadata": {
        "colab": {
          "base_uri": "https://localhost:8080/"
        },
        "id": "RvzQ4clLW-e-",
        "outputId": "50b6624e-d181-4e86-c6c0-f67db500af1a"
      },
      "source": [
        "# create a Series of random data with the PeriodIndex as the index\n",
        "ts = pd.Series(np.random.randn(len(prng)), prng)\n",
        "ts"
      ],
      "execution_count": 232,
      "outputs": [
        {
          "output_type": "execute_result",
          "data": {
            "text/plain": [
              "1990Q1   -1.079328\n",
              "1990Q2    1.951036\n",
              "1990Q3    1.298596\n",
              "1990Q4   -1.050439\n",
              "1991Q1    0.312097\n",
              "1991Q2   -0.679072\n",
              "1991Q3   -0.110646\n",
              "1991Q4   -0.670647\n",
              "1992Q1    0.267638\n",
              "1992Q2    1.875817\n",
              "1992Q3   -1.281341\n",
              "1992Q4   -1.719830\n",
              "1993Q1   -0.692198\n",
              "1993Q2   -1.872325\n",
              "1993Q3   -0.207793\n",
              "1993Q4    0.300637\n",
              "1994Q1   -2.309340\n",
              "1994Q2    0.221004\n",
              "1994Q3   -1.260541\n",
              "1994Q4   -0.082894\n",
              "1995Q1   -1.366443\n",
              "1995Q2    0.752522\n",
              "1995Q3   -0.754443\n",
              "1995Q4    0.166479\n",
              "1996Q1   -0.753776\n",
              "1996Q2    1.758064\n",
              "1996Q3    0.868540\n",
              "1996Q4    1.231772\n",
              "1997Q1    1.018567\n",
              "1997Q2    0.673819\n",
              "1997Q3   -0.387091\n",
              "1997Q4   -1.699708\n",
              "1998Q1    0.504487\n",
              "1998Q2   -1.163307\n",
              "1998Q3    0.188924\n",
              "1998Q4    1.355545\n",
              "1999Q1    1.776468\n",
              "1999Q2    0.857537\n",
              "1999Q3   -0.039196\n",
              "1999Q4    0.487159\n",
              "2000Q1   -0.403916\n",
              "2000Q2    0.912760\n",
              "2000Q3   -0.783964\n",
              "2000Q4    1.165090\n",
              "Freq: Q-NOV, dtype: float64"
            ]
          },
          "metadata": {
            "tags": []
          },
          "execution_count": 232
        }
      ]
    },
    {
      "cell_type": "code",
      "metadata": {
        "colab": {
          "base_uri": "https://localhost:8080/"
        },
        "id": "vAa1roGNXJ6C",
        "outputId": "3254f4bc-8c2b-4cfd-f0e5-5165611c0cca"
      },
      "source": [
        "# convert the PeriodIndex index to have date and time instead\n",
        "ts.index = (prng.asfreq(\"M\", \"e\") + 1).asfreq(\"H\", \"s\") + 9\n",
        "ts.head()"
      ],
      "execution_count": 239,
      "outputs": [
        {
          "output_type": "execute_result",
          "data": {
            "text/plain": [
              "1990-03-01 09:00   -1.079328\n",
              "1990-06-01 09:00    1.951036\n",
              "1990-09-01 09:00    1.298596\n",
              "1990-12-01 09:00   -1.050439\n",
              "1991-03-01 09:00    0.312097\n",
              "Freq: H, dtype: float64"
            ]
          },
          "metadata": {
            "tags": []
          },
          "execution_count": 239
        }
      ]
    },
    {
      "cell_type": "markdown",
      "metadata": {
        "id": "OV0NRSTRQXdX"
      },
      "source": [
        "## Categoricals\n",
        "\n",
        "pandas can include categorical data in a `DataFrame`.\n",
        "\n",
        "For full docs, see the [categorical introduction](https://pandas.pydata.org/pandas-docs/stable/user_guide/categorical.html#categorical) and the [API documentation](https://pandas.pydata.org/pandas-docs/stable/reference/arrays.html#api-arrays-categorical).\n"
      ]
    },
    {
      "cell_type": "code",
      "metadata": {
        "colab": {
          "base_uri": "https://localhost:8080/",
          "height": 235
        },
        "id": "WTm9vtxZQZHE",
        "outputId": "632f6e48-c555-45c2-a6bc-c429349f747d"
      },
      "source": [
        "df = pd.DataFrame(\n",
        "        {\"id\": [1, 2, 3, 4, 5, 6], \"raw_grade\": [\"a\", \"b\", \"b\", \"a\", \"a\", \"e\"]}\n",
        "    )\n",
        "df"
      ],
      "execution_count": 240,
      "outputs": [
        {
          "output_type": "execute_result",
          "data": {
            "text/html": [
              "<div>\n",
              "<style scoped>\n",
              "    .dataframe tbody tr th:only-of-type {\n",
              "        vertical-align: middle;\n",
              "    }\n",
              "\n",
              "    .dataframe tbody tr th {\n",
              "        vertical-align: top;\n",
              "    }\n",
              "\n",
              "    .dataframe thead th {\n",
              "        text-align: right;\n",
              "    }\n",
              "</style>\n",
              "<table border=\"1\" class=\"dataframe\">\n",
              "  <thead>\n",
              "    <tr style=\"text-align: right;\">\n",
              "      <th></th>\n",
              "      <th>id</th>\n",
              "      <th>raw_grade</th>\n",
              "    </tr>\n",
              "  </thead>\n",
              "  <tbody>\n",
              "    <tr>\n",
              "      <th>0</th>\n",
              "      <td>1</td>\n",
              "      <td>a</td>\n",
              "    </tr>\n",
              "    <tr>\n",
              "      <th>1</th>\n",
              "      <td>2</td>\n",
              "      <td>b</td>\n",
              "    </tr>\n",
              "    <tr>\n",
              "      <th>2</th>\n",
              "      <td>3</td>\n",
              "      <td>b</td>\n",
              "    </tr>\n",
              "    <tr>\n",
              "      <th>3</th>\n",
              "      <td>4</td>\n",
              "      <td>a</td>\n",
              "    </tr>\n",
              "    <tr>\n",
              "      <th>4</th>\n",
              "      <td>5</td>\n",
              "      <td>a</td>\n",
              "    </tr>\n",
              "    <tr>\n",
              "      <th>5</th>\n",
              "      <td>6</td>\n",
              "      <td>e</td>\n",
              "    </tr>\n",
              "  </tbody>\n",
              "</table>\n",
              "</div>"
            ],
            "text/plain": [
              "   id raw_grade\n",
              "0   1         a\n",
              "1   2         b\n",
              "2   3         b\n",
              "3   4         a\n",
              "4   5         a\n",
              "5   6         e"
            ]
          },
          "metadata": {
            "tags": []
          },
          "execution_count": 240
        }
      ]
    },
    {
      "cell_type": "markdown",
      "metadata": {
        "id": "6wepshGKXstm"
      },
      "source": [
        "Convert the raw grades to a categorical data type."
      ]
    },
    {
      "cell_type": "code",
      "metadata": {
        "colab": {
          "base_uri": "https://localhost:8080/",
          "height": 235
        },
        "id": "sH3M7Y15Xrzn",
        "outputId": "85ed5362-8571-4803-afa1-96b99c764735"
      },
      "source": [
        "# convert the raw grades to a categorical data type assigned to the grade column\n",
        "df[\"grade\"] = df[\"raw_grade\"].astype(\"category\")\n",
        "df"
      ],
      "execution_count": 242,
      "outputs": [
        {
          "output_type": "execute_result",
          "data": {
            "text/html": [
              "<div>\n",
              "<style scoped>\n",
              "    .dataframe tbody tr th:only-of-type {\n",
              "        vertical-align: middle;\n",
              "    }\n",
              "\n",
              "    .dataframe tbody tr th {\n",
              "        vertical-align: top;\n",
              "    }\n",
              "\n",
              "    .dataframe thead th {\n",
              "        text-align: right;\n",
              "    }\n",
              "</style>\n",
              "<table border=\"1\" class=\"dataframe\">\n",
              "  <thead>\n",
              "    <tr style=\"text-align: right;\">\n",
              "      <th></th>\n",
              "      <th>id</th>\n",
              "      <th>raw_grade</th>\n",
              "      <th>grade</th>\n",
              "    </tr>\n",
              "  </thead>\n",
              "  <tbody>\n",
              "    <tr>\n",
              "      <th>0</th>\n",
              "      <td>1</td>\n",
              "      <td>a</td>\n",
              "      <td>a</td>\n",
              "    </tr>\n",
              "    <tr>\n",
              "      <th>1</th>\n",
              "      <td>2</td>\n",
              "      <td>b</td>\n",
              "      <td>b</td>\n",
              "    </tr>\n",
              "    <tr>\n",
              "      <th>2</th>\n",
              "      <td>3</td>\n",
              "      <td>b</td>\n",
              "      <td>b</td>\n",
              "    </tr>\n",
              "    <tr>\n",
              "      <th>3</th>\n",
              "      <td>4</td>\n",
              "      <td>a</td>\n",
              "      <td>a</td>\n",
              "    </tr>\n",
              "    <tr>\n",
              "      <th>4</th>\n",
              "      <td>5</td>\n",
              "      <td>a</td>\n",
              "      <td>a</td>\n",
              "    </tr>\n",
              "    <tr>\n",
              "      <th>5</th>\n",
              "      <td>6</td>\n",
              "      <td>e</td>\n",
              "      <td>e</td>\n",
              "    </tr>\n",
              "  </tbody>\n",
              "</table>\n",
              "</div>"
            ],
            "text/plain": [
              "   id raw_grade grade\n",
              "0   1         a     a\n",
              "1   2         b     b\n",
              "2   3         b     b\n",
              "3   4         a     a\n",
              "4   5         a     a\n",
              "5   6         e     e"
            ]
          },
          "metadata": {
            "tags": []
          },
          "execution_count": 242
        }
      ]
    },
    {
      "cell_type": "code",
      "metadata": {
        "colab": {
          "base_uri": "https://localhost:8080/"
        },
        "id": "bg1XSppsX8M5",
        "outputId": "e219b925-0cbb-499d-b95c-dc7d0edde78e"
      },
      "source": [
        "# note the dtype of category\n",
        "df[\"grade\"]"
      ],
      "execution_count": 243,
      "outputs": [
        {
          "output_type": "execute_result",
          "data": {
            "text/plain": [
              "0    a\n",
              "1    b\n",
              "2    b\n",
              "3    a\n",
              "4    a\n",
              "5    e\n",
              "Name: grade, dtype: category\n",
              "Categories (3, object): ['a', 'b', 'e']"
            ]
          },
          "metadata": {
            "tags": []
          },
          "execution_count": 243
        }
      ]
    },
    {
      "cell_type": "markdown",
      "metadata": {
        "id": "8XvjXQAIYDIt"
      },
      "source": [
        "Rename the categories to more meaningful names (assigning to `Series.cat`.`categories()` is in place!)."
      ]
    },
    {
      "cell_type": "code",
      "metadata": {
        "colab": {
          "base_uri": "https://localhost:8080/",
          "height": 235
        },
        "id": "lGDrSAImYCHV",
        "outputId": "35d3fa60-4c3e-43ae-c366-275eba60c08e"
      },
      "source": [
        "df[\"grade\"].cat.categories = [\"very good\", \"good\", \"very bad\"]\n",
        "df"
      ],
      "execution_count": 244,
      "outputs": [
        {
          "output_type": "execute_result",
          "data": {
            "text/html": [
              "<div>\n",
              "<style scoped>\n",
              "    .dataframe tbody tr th:only-of-type {\n",
              "        vertical-align: middle;\n",
              "    }\n",
              "\n",
              "    .dataframe tbody tr th {\n",
              "        vertical-align: top;\n",
              "    }\n",
              "\n",
              "    .dataframe thead th {\n",
              "        text-align: right;\n",
              "    }\n",
              "</style>\n",
              "<table border=\"1\" class=\"dataframe\">\n",
              "  <thead>\n",
              "    <tr style=\"text-align: right;\">\n",
              "      <th></th>\n",
              "      <th>id</th>\n",
              "      <th>raw_grade</th>\n",
              "      <th>grade</th>\n",
              "    </tr>\n",
              "  </thead>\n",
              "  <tbody>\n",
              "    <tr>\n",
              "      <th>0</th>\n",
              "      <td>1</td>\n",
              "      <td>a</td>\n",
              "      <td>very good</td>\n",
              "    </tr>\n",
              "    <tr>\n",
              "      <th>1</th>\n",
              "      <td>2</td>\n",
              "      <td>b</td>\n",
              "      <td>good</td>\n",
              "    </tr>\n",
              "    <tr>\n",
              "      <th>2</th>\n",
              "      <td>3</td>\n",
              "      <td>b</td>\n",
              "      <td>good</td>\n",
              "    </tr>\n",
              "    <tr>\n",
              "      <th>3</th>\n",
              "      <td>4</td>\n",
              "      <td>a</td>\n",
              "      <td>very good</td>\n",
              "    </tr>\n",
              "    <tr>\n",
              "      <th>4</th>\n",
              "      <td>5</td>\n",
              "      <td>a</td>\n",
              "      <td>very good</td>\n",
              "    </tr>\n",
              "    <tr>\n",
              "      <th>5</th>\n",
              "      <td>6</td>\n",
              "      <td>e</td>\n",
              "      <td>very bad</td>\n",
              "    </tr>\n",
              "  </tbody>\n",
              "</table>\n",
              "</div>"
            ],
            "text/plain": [
              "   id raw_grade      grade\n",
              "0   1         a  very good\n",
              "1   2         b       good\n",
              "2   3         b       good\n",
              "3   4         a  very good\n",
              "4   5         a  very good\n",
              "5   6         e   very bad"
            ]
          },
          "metadata": {
            "tags": []
          },
          "execution_count": 244
        }
      ]
    },
    {
      "cell_type": "markdown",
      "metadata": {
        "id": "f6zQRpIUYNLT"
      },
      "source": [
        "Reorder the categories and simultaneously add the missing categories (methods under `Series.cat()` return a new `Series` by default)."
      ]
    },
    {
      "cell_type": "code",
      "metadata": {
        "colab": {
          "base_uri": "https://localhost:8080/",
          "height": 235
        },
        "id": "RV8gTHioYTAs",
        "outputId": "bc93b1a7-0e18-4f06-e748-6ddf741bc7a1"
      },
      "source": [
        "df[\"grade\"] = df[\"grade\"].cat.set_categories(\n",
        "        [\"very bad\", \"bad\", \"medium\", \"good\", \"very good\"]\n",
        "    )\n",
        "df"
      ],
      "execution_count": 246,
      "outputs": [
        {
          "output_type": "execute_result",
          "data": {
            "text/html": [
              "<div>\n",
              "<style scoped>\n",
              "    .dataframe tbody tr th:only-of-type {\n",
              "        vertical-align: middle;\n",
              "    }\n",
              "\n",
              "    .dataframe tbody tr th {\n",
              "        vertical-align: top;\n",
              "    }\n",
              "\n",
              "    .dataframe thead th {\n",
              "        text-align: right;\n",
              "    }\n",
              "</style>\n",
              "<table border=\"1\" class=\"dataframe\">\n",
              "  <thead>\n",
              "    <tr style=\"text-align: right;\">\n",
              "      <th></th>\n",
              "      <th>id</th>\n",
              "      <th>raw_grade</th>\n",
              "      <th>grade</th>\n",
              "    </tr>\n",
              "  </thead>\n",
              "  <tbody>\n",
              "    <tr>\n",
              "      <th>0</th>\n",
              "      <td>1</td>\n",
              "      <td>a</td>\n",
              "      <td>very good</td>\n",
              "    </tr>\n",
              "    <tr>\n",
              "      <th>1</th>\n",
              "      <td>2</td>\n",
              "      <td>b</td>\n",
              "      <td>good</td>\n",
              "    </tr>\n",
              "    <tr>\n",
              "      <th>2</th>\n",
              "      <td>3</td>\n",
              "      <td>b</td>\n",
              "      <td>good</td>\n",
              "    </tr>\n",
              "    <tr>\n",
              "      <th>3</th>\n",
              "      <td>4</td>\n",
              "      <td>a</td>\n",
              "      <td>very good</td>\n",
              "    </tr>\n",
              "    <tr>\n",
              "      <th>4</th>\n",
              "      <td>5</td>\n",
              "      <td>a</td>\n",
              "      <td>very good</td>\n",
              "    </tr>\n",
              "    <tr>\n",
              "      <th>5</th>\n",
              "      <td>6</td>\n",
              "      <td>e</td>\n",
              "      <td>very bad</td>\n",
              "    </tr>\n",
              "  </tbody>\n",
              "</table>\n",
              "</div>"
            ],
            "text/plain": [
              "   id raw_grade      grade\n",
              "0   1         a  very good\n",
              "1   2         b       good\n",
              "2   3         b       good\n",
              "3   4         a  very good\n",
              "4   5         a  very good\n",
              "5   6         e   very bad"
            ]
          },
          "metadata": {
            "tags": []
          },
          "execution_count": 246
        }
      ]
    },
    {
      "cell_type": "code",
      "metadata": {
        "colab": {
          "base_uri": "https://localhost:8080/"
        },
        "id": "xZUdtNzzYYJi",
        "outputId": "494928d7-2180-4f15-89c8-b4d478a35f00"
      },
      "source": [
        "df[\"grade\"]"
      ],
      "execution_count": 247,
      "outputs": [
        {
          "output_type": "execute_result",
          "data": {
            "text/plain": [
              "0    very good\n",
              "1         good\n",
              "2         good\n",
              "3    very good\n",
              "4    very good\n",
              "5     very bad\n",
              "Name: grade, dtype: category\n",
              "Categories (5, object): ['very bad', 'bad', 'medium', 'good', 'very good']"
            ]
          },
          "metadata": {
            "tags": []
          },
          "execution_count": 247
        }
      ]
    },
    {
      "cell_type": "markdown",
      "metadata": {
        "id": "I_n1qUtDYdbw"
      },
      "source": [
        "Sorting is per order in the categories, not lexical order."
      ]
    },
    {
      "cell_type": "code",
      "metadata": {
        "colab": {
          "base_uri": "https://localhost:8080/",
          "height": 235
        },
        "id": "f8zMDpxbYgFR",
        "outputId": "ee872271-2e6b-4b40-9545-8c73b0d4d4cd"
      },
      "source": [
        "df.sort_values(by=\"grade\")"
      ],
      "execution_count": 248,
      "outputs": [
        {
          "output_type": "execute_result",
          "data": {
            "text/html": [
              "<div>\n",
              "<style scoped>\n",
              "    .dataframe tbody tr th:only-of-type {\n",
              "        vertical-align: middle;\n",
              "    }\n",
              "\n",
              "    .dataframe tbody tr th {\n",
              "        vertical-align: top;\n",
              "    }\n",
              "\n",
              "    .dataframe thead th {\n",
              "        text-align: right;\n",
              "    }\n",
              "</style>\n",
              "<table border=\"1\" class=\"dataframe\">\n",
              "  <thead>\n",
              "    <tr style=\"text-align: right;\">\n",
              "      <th></th>\n",
              "      <th>id</th>\n",
              "      <th>raw_grade</th>\n",
              "      <th>grade</th>\n",
              "    </tr>\n",
              "  </thead>\n",
              "  <tbody>\n",
              "    <tr>\n",
              "      <th>5</th>\n",
              "      <td>6</td>\n",
              "      <td>e</td>\n",
              "      <td>very bad</td>\n",
              "    </tr>\n",
              "    <tr>\n",
              "      <th>1</th>\n",
              "      <td>2</td>\n",
              "      <td>b</td>\n",
              "      <td>good</td>\n",
              "    </tr>\n",
              "    <tr>\n",
              "      <th>2</th>\n",
              "      <td>3</td>\n",
              "      <td>b</td>\n",
              "      <td>good</td>\n",
              "    </tr>\n",
              "    <tr>\n",
              "      <th>0</th>\n",
              "      <td>1</td>\n",
              "      <td>a</td>\n",
              "      <td>very good</td>\n",
              "    </tr>\n",
              "    <tr>\n",
              "      <th>3</th>\n",
              "      <td>4</td>\n",
              "      <td>a</td>\n",
              "      <td>very good</td>\n",
              "    </tr>\n",
              "    <tr>\n",
              "      <th>4</th>\n",
              "      <td>5</td>\n",
              "      <td>a</td>\n",
              "      <td>very good</td>\n",
              "    </tr>\n",
              "  </tbody>\n",
              "</table>\n",
              "</div>"
            ],
            "text/plain": [
              "   id raw_grade      grade\n",
              "5   6         e   very bad\n",
              "1   2         b       good\n",
              "2   3         b       good\n",
              "0   1         a  very good\n",
              "3   4         a  very good\n",
              "4   5         a  very good"
            ]
          },
          "metadata": {
            "tags": []
          },
          "execution_count": 248
        }
      ]
    },
    {
      "cell_type": "markdown",
      "metadata": {
        "id": "8uh9aBWWYV7F"
      },
      "source": [
        "Grouping by a categorical column also shows empty categories."
      ]
    },
    {
      "cell_type": "code",
      "metadata": {
        "colab": {
          "base_uri": "https://localhost:8080/"
        },
        "id": "eUiyI3hqYmmH",
        "outputId": "a70a98f0-dea7-4e55-e2fb-66ae87c3736f"
      },
      "source": [
        "# group by the given column and show a count\n",
        "df.groupby(\"grade\").size()"
      ],
      "execution_count": 251,
      "outputs": [
        {
          "output_type": "execute_result",
          "data": {
            "text/plain": [
              "grade\n",
              "very bad     1\n",
              "bad          0\n",
              "medium       0\n",
              "good         2\n",
              "very good    3\n",
              "dtype: int64"
            ]
          },
          "metadata": {
            "tags": []
          },
          "execution_count": 251
        }
      ]
    },
    {
      "cell_type": "markdown",
      "metadata": {
        "id": "eeK4LoXaQZQM"
      },
      "source": [
        "## Plotting\n",
        "\n",
        "We use the standard convention for referencing the `matplotlib` API.\n",
        "\n",
        "See the [Plotting](https://pandas.pydata.org/pandas-docs/stable/user_guide/visualization.html#visualization) docs.\n",
        "\n",
        "The `close()` method is used to close a figure window."
      ]
    },
    {
      "cell_type": "code",
      "metadata": {
        "id": "XFqNWIqPQafu"
      },
      "source": [
        "plt.close(\"all\")"
      ],
      "execution_count": 293,
      "outputs": []
    },
    {
      "cell_type": "code",
      "metadata": {
        "colab": {
          "base_uri": "https://localhost:8080/"
        },
        "id": "XyDTOlijZnPc",
        "outputId": "a7fe3109-6781-439b-faad-548e2e6db8a2"
      },
      "source": [
        "# create a Series of random numbres with 1000 DatetimeIndex values starting at 1/1/2000\n",
        "ts = pd.Series(np.random.randn(1000), index=pd.date_range(\"1/1/2000\", periods=1000))\n",
        "ts"
      ],
      "execution_count": 302,
      "outputs": [
        {
          "output_type": "execute_result",
          "data": {
            "text/plain": [
              "2000-01-01    1.065040\n",
              "2000-01-02   -0.422891\n",
              "2000-01-03    0.669497\n",
              "2000-01-04    2.282257\n",
              "2000-01-05    2.592965\n",
              "                ...   \n",
              "2002-09-22   -1.558724\n",
              "2002-09-23    0.513187\n",
              "2002-09-24   -0.215024\n",
              "2002-09-25    0.318410\n",
              "2002-09-26   -1.420014\n",
              "Freq: D, Length: 1000, dtype: float64"
            ]
          },
          "metadata": {
            "tags": []
          },
          "execution_count": 302
        }
      ]
    },
    {
      "cell_type": "code",
      "metadata": {
        "colab": {
          "base_uri": "https://localhost:8080/",
          "height": 277
        },
        "id": "d9XliePjaFMq",
        "outputId": "8ed7a057-c6e4-4444-b37b-605916506964"
      },
      "source": [
        "# render a chart\n",
        "ts.plot();"
      ],
      "execution_count": 307,
      "outputs": [
        {
          "output_type": "display_data",
          "data": {
            "image/png": "[encoded data removed]",
            "text/plain": [
              "<Figure size 432x288 with 1 Axes>"
            ]
          },
          "metadata": {
            "tags": [],
            "needs_background": "light"
          }
        }
      ]
    },
    {
      "cell_type": "code",
      "metadata": {
        "colab": {
          "base_uri": "https://localhost:8080/"
        },
        "id": "SX_BPLiYZ1Zk",
        "outputId": "6b54ab72-d601-4adf-eb02-e7eb7f29ffcd"
      },
      "source": [
        "# create a cummulative sum of the Series values\n",
        "ts = ts.cumsum()\n",
        "# create a chartts"
      ],
      "execution_count": 304,
      "outputs": [
        {
          "output_type": "execute_result",
          "data": {
            "text/plain": [
              "2000-01-01     1.065040\n",
              "2000-01-02     0.642149\n",
              "2000-01-03     1.311646\n",
              "2000-01-04     3.593903\n",
              "2000-01-05     6.186868\n",
              "                ...    \n",
              "2002-09-22   -10.776547\n",
              "2002-09-23   -10.263361\n",
              "2002-09-24   -10.478385\n",
              "2002-09-25   -10.159975\n",
              "2002-09-26   -11.579989\n",
              "Freq: D, Length: 1000, dtype: float64"
            ]
          },
          "metadata": {
            "tags": []
          },
          "execution_count": 304
        }
      ]
    },
    {
      "cell_type": "code",
      "metadata": {
        "colab": {
          "base_uri": "https://localhost:8080/",
          "height": 294
        },
        "id": "-BqOEmV8Z9yM",
        "outputId": "0d17778c-aacc-4f29-f5f8-451aa59c30ce"
      },
      "source": [
        "# render a chart\n",
        "ts.plot()"
      ],
      "execution_count": 306,
      "outputs": [
        {
          "output_type": "execute_result",
          "data": {
            "text/plain": [
              "<matplotlib.axes._subplots.AxesSubplot at 0x7f12aab23190>"
            ]
          },
          "metadata": {
            "tags": []
          },
          "execution_count": 306
        },
        {
          "output_type": "display_data",
          "data": {
            "image/png": "[encoded data removed]",
            "text/plain": [
              "<Figure size 432x288 with 1 Axes>"
            ]
          },
          "metadata": {
            "tags": [],
            "needs_background": "light"
          }
        }
      ]
    },
    {
      "cell_type": "markdown",
      "metadata": {
        "id": "Jr8mxeGXaRd5"
      },
      "source": [
        "On a `DataFrame`, the `plot()` method is a convenience to plot all of the columns with labels:"
      ]
    },
    {
      "cell_type": "code",
      "metadata": {
        "colab": {
          "base_uri": "https://localhost:8080/",
          "height": 419
        },
        "id": "0rgqMUAtaQ0i",
        "outputId": "f7a79d10-c9a7-4d70-e1a1-cc11e8e689d6"
      },
      "source": [
        "# create a DataFrame of random values with the DatetimeIndex as the row index and columns A-D\n",
        "df = pd.DataFrame(\n",
        "        np.random.randn(1000, 4), index=ts.index, columns=[\"A\", \"B\", \"C\", \"D\"]\n",
        "    )\n",
        "df"
      ],
      "execution_count": 312,
      "outputs": [
        {
          "output_type": "execute_result",
          "data": {
            "text/html": [
              "<div>\n",
              "<style scoped>\n",
              "    .dataframe tbody tr th:only-of-type {\n",
              "        vertical-align: middle;\n",
              "    }\n",
              "\n",
              "    .dataframe tbody tr th {\n",
              "        vertical-align: top;\n",
              "    }\n",
              "\n",
              "    .dataframe thead th {\n",
              "        text-align: right;\n",
              "    }\n",
              "</style>\n",
              "<table border=\"1\" class=\"dataframe\">\n",
              "  <thead>\n",
              "    <tr style=\"text-align: right;\">\n",
              "      <th></th>\n",
              "      <th>A</th>\n",
              "      <th>B</th>\n",
              "      <th>C</th>\n",
              "      <th>D</th>\n",
              "    </tr>\n",
              "  </thead>\n",
              "  <tbody>\n",
              "    <tr>\n",
              "      <th>2000-01-01</th>\n",
              "      <td>-0.402931</td>\n",
              "      <td>-0.278476</td>\n",
              "      <td>-0.497106</td>\n",
              "      <td>-0.446404</td>\n",
              "    </tr>\n",
              "    <tr>\n",
              "      <th>2000-01-02</th>\n",
              "      <td>-0.627336</td>\n",
              "      <td>0.445252</td>\n",
              "      <td>0.086686</td>\n",
              "      <td>0.886552</td>\n",
              "    </tr>\n",
              "    <tr>\n",
              "      <th>2000-01-03</th>\n",
              "      <td>2.382583</td>\n",
              "      <td>0.641223</td>\n",
              "      <td>-1.257617</td>\n",
              "      <td>0.417210</td>\n",
              "    </tr>\n",
              "    <tr>\n",
              "      <th>2000-01-04</th>\n",
              "      <td>0.685714</td>\n",
              "      <td>-1.460779</td>\n",
              "      <td>-0.491459</td>\n",
              "      <td>0.279658</td>\n",
              "    </tr>\n",
              "    <tr>\n",
              "      <th>2000-01-05</th>\n",
              "      <td>-0.727997</td>\n",
              "      <td>0.519142</td>\n",
              "      <td>-0.157718</td>\n",
              "      <td>0.128248</td>\n",
              "    </tr>\n",
              "    <tr>\n",
              "      <th>...</th>\n",
              "      <td>...</td>\n",
              "      <td>...</td>\n",
              "      <td>...</td>\n",
              "      <td>...</td>\n",
              "    </tr>\n",
              "    <tr>\n",
              "      <th>2002-09-22</th>\n",
              "      <td>0.036149</td>\n",
              "      <td>-0.355306</td>\n",
              "      <td>-0.017366</td>\n",
              "      <td>2.044274</td>\n",
              "    </tr>\n",
              "    <tr>\n",
              "      <th>2002-09-23</th>\n",
              "      <td>1.354387</td>\n",
              "      <td>-1.661807</td>\n",
              "      <td>-0.578193</td>\n",
              "      <td>-0.577015</td>\n",
              "    </tr>\n",
              "    <tr>\n",
              "      <th>2002-09-24</th>\n",
              "      <td>0.457906</td>\n",
              "      <td>-1.065217</td>\n",
              "      <td>1.106457</td>\n",
              "      <td>-0.760472</td>\n",
              "    </tr>\n",
              "    <tr>\n",
              "      <th>2002-09-25</th>\n",
              "      <td>-0.840551</td>\n",
              "      <td>0.038778</td>\n",
              "      <td>-1.561695</td>\n",
              "      <td>-1.476113</td>\n",
              "    </tr>\n",
              "    <tr>\n",
              "      <th>2002-09-26</th>\n",
              "      <td>-0.540941</td>\n",
              "      <td>-0.702143</td>\n",
              "      <td>-1.488540</td>\n",
              "      <td>0.275467</td>\n",
              "    </tr>\n",
              "  </tbody>\n",
              "</table>\n",
              "<p>1000 rows × 4 columns</p>\n",
              "</div>"
            ],
            "text/plain": [
              "                   A         B         C         D\n",
              "2000-01-01 -0.402931 -0.278476 -0.497106 -0.446404\n",
              "2000-01-02 -0.627336  0.445252  0.086686  0.886552\n",
              "2000-01-03  2.382583  0.641223 -1.257617  0.417210\n",
              "2000-01-04  0.685714 -1.460779 -0.491459  0.279658\n",
              "2000-01-05 -0.727997  0.519142 -0.157718  0.128248\n",
              "...              ...       ...       ...       ...\n",
              "2002-09-22  0.036149 -0.355306 -0.017366  2.044274\n",
              "2002-09-23  1.354387 -1.661807 -0.578193 -0.577015\n",
              "2002-09-24  0.457906 -1.065217  1.106457 -0.760472\n",
              "2002-09-25 -0.840551  0.038778 -1.561695 -1.476113\n",
              "2002-09-26 -0.540941 -0.702143 -1.488540  0.275467\n",
              "\n",
              "[1000 rows x 4 columns]"
            ]
          },
          "metadata": {
            "tags": []
          },
          "execution_count": 312
        }
      ]
    },
    {
      "cell_type": "code",
      "metadata": {
        "colab": {
          "base_uri": "https://localhost:8080/",
          "height": 419
        },
        "id": "BNEy0esqajlm",
        "outputId": "31a91876-9e91-4b36-e2ab-c94f2c648862"
      },
      "source": [
        "# create a cummulative sum of the column values\n",
        "df = df.cumsum()\n",
        "df"
      ],
      "execution_count": 313,
      "outputs": [
        {
          "output_type": "execute_result",
          "data": {
            "text/html": [
              "<div>\n",
              "<style scoped>\n",
              "    .dataframe tbody tr th:only-of-type {\n",
              "        vertical-align: middle;\n",
              "    }\n",
              "\n",
              "    .dataframe tbody tr th {\n",
              "        vertical-align: top;\n",
              "    }\n",
              "\n",
              "    .dataframe thead th {\n",
              "        text-align: right;\n",
              "    }\n",
              "</style>\n",
              "<table border=\"1\" class=\"dataframe\">\n",
              "  <thead>\n",
              "    <tr style=\"text-align: right;\">\n",
              "      <th></th>\n",
              "      <th>A</th>\n",
              "      <th>B</th>\n",
              "      <th>C</th>\n",
              "      <th>D</th>\n",
              "    </tr>\n",
              "  </thead>\n",
              "  <tbody>\n",
              "    <tr>\n",
              "      <th>2000-01-01</th>\n",
              "      <td>-0.402931</td>\n",
              "      <td>-0.278476</td>\n",
              "      <td>-0.497106</td>\n",
              "      <td>-0.446404</td>\n",
              "    </tr>\n",
              "    <tr>\n",
              "      <th>2000-01-02</th>\n",
              "      <td>-1.030267</td>\n",
              "      <td>0.166776</td>\n",
              "      <td>-0.410421</td>\n",
              "      <td>0.440148</td>\n",
              "    </tr>\n",
              "    <tr>\n",
              "      <th>2000-01-03</th>\n",
              "      <td>1.352316</td>\n",
              "      <td>0.807999</td>\n",
              "      <td>-1.668037</td>\n",
              "      <td>0.857359</td>\n",
              "    </tr>\n",
              "    <tr>\n",
              "      <th>2000-01-04</th>\n",
              "      <td>2.038029</td>\n",
              "      <td>-0.652780</td>\n",
              "      <td>-2.159497</td>\n",
              "      <td>1.137017</td>\n",
              "    </tr>\n",
              "    <tr>\n",
              "      <th>2000-01-05</th>\n",
              "      <td>1.310032</td>\n",
              "      <td>-0.133638</td>\n",
              "      <td>-2.317215</td>\n",
              "      <td>1.265265</td>\n",
              "    </tr>\n",
              "    <tr>\n",
              "      <th>...</th>\n",
              "      <td>...</td>\n",
              "      <td>...</td>\n",
              "      <td>...</td>\n",
              "      <td>...</td>\n",
              "    </tr>\n",
              "    <tr>\n",
              "      <th>2002-09-22</th>\n",
              "      <td>2.169587</td>\n",
              "      <td>-48.441599</td>\n",
              "      <td>-37.612219</td>\n",
              "      <td>33.666845</td>\n",
              "    </tr>\n",
              "    <tr>\n",
              "      <th>2002-09-23</th>\n",
              "      <td>3.523974</td>\n",
              "      <td>-50.103406</td>\n",
              "      <td>-38.190412</td>\n",
              "      <td>33.089829</td>\n",
              "    </tr>\n",
              "    <tr>\n",
              "      <th>2002-09-24</th>\n",
              "      <td>3.981880</td>\n",
              "      <td>-51.168623</td>\n",
              "      <td>-37.083955</td>\n",
              "      <td>32.329357</td>\n",
              "    </tr>\n",
              "    <tr>\n",
              "      <th>2002-09-25</th>\n",
              "      <td>3.141330</td>\n",
              "      <td>-51.129845</td>\n",
              "      <td>-38.645650</td>\n",
              "      <td>30.853244</td>\n",
              "    </tr>\n",
              "    <tr>\n",
              "      <th>2002-09-26</th>\n",
              "      <td>2.600389</td>\n",
              "      <td>-51.831988</td>\n",
              "      <td>-40.134190</td>\n",
              "      <td>31.128711</td>\n",
              "    </tr>\n",
              "  </tbody>\n",
              "</table>\n",
              "<p>1000 rows × 4 columns</p>\n",
              "</div>"
            ],
            "text/plain": [
              "                   A          B          C          D\n",
              "2000-01-01 -0.402931  -0.278476  -0.497106  -0.446404\n",
              "2000-01-02 -1.030267   0.166776  -0.410421   0.440148\n",
              "2000-01-03  1.352316   0.807999  -1.668037   0.857359\n",
              "2000-01-04  2.038029  -0.652780  -2.159497   1.137017\n",
              "2000-01-05  1.310032  -0.133638  -2.317215   1.265265\n",
              "...              ...        ...        ...        ...\n",
              "2002-09-22  2.169587 -48.441599 -37.612219  33.666845\n",
              "2002-09-23  3.523974 -50.103406 -38.190412  33.089829\n",
              "2002-09-24  3.981880 -51.168623 -37.083955  32.329357\n",
              "2002-09-25  3.141330 -51.129845 -38.645650  30.853244\n",
              "2002-09-26  2.600389 -51.831988 -40.134190  31.128711\n",
              "\n",
              "[1000 rows x 4 columns]"
            ]
          },
          "metadata": {
            "tags": []
          },
          "execution_count": 313
        }
      ]
    },
    {
      "cell_type": "code",
      "metadata": {
        "colab": {
          "base_uri": "https://localhost:8080/",
          "height": 294
        },
        "id": "PsO6b7Uzaq8y",
        "outputId": "bac57b9c-58cc-4693-e6cd-e919e9075e40"
      },
      "source": [
        "plt.figure();\n",
        "df.plot();\n",
        "plt.legend(loc='best');"
      ],
      "execution_count": 317,
      "outputs": [
        {
          "output_type": "display_data",
          "data": {
            "text/plain": [
              "<Figure size 432x288 with 0 Axes>"
            ]
          },
          "metadata": {
            "tags": []
          }
        },
        {
          "output_type": "display_data",
          "data": {
            "image/png": "[encoded data removed]",
            "text/plain": [
              "<Figure size 432x288 with 1 Axes>"
            ]
          },
          "metadata": {
            "tags": [],
            "needs_background": "light"
          }
        }
      ]
    },
    {
      "cell_type": "markdown",
      "metadata": {
        "id": "CniRdEg1Qa1v"
      },
      "source": [
        "## Getting data in/out"
      ]
    },
    {
      "cell_type": "markdown",
      "metadata": {
        "id": "rIvTF58KQwY_"
      },
      "source": [
        "### CSV\n",
        "\n",
        "Writing to a csv file."
      ]
    },
    {
      "cell_type": "code",
      "metadata": {
        "id": "97oy3SZfQbtE"
      },
      "source": [
        "df.to_csv(\"foo.csv\")"
      ],
      "execution_count": 318,
      "outputs": []
    },
    {
      "cell_type": "markdown",
      "metadata": {
        "id": "jMs7i6rPa70p"
      },
      "source": [
        "Reading from a csv file."
      ]
    },
    {
      "cell_type": "code",
      "metadata": {
        "colab": {
          "base_uri": "https://localhost:8080/",
          "height": 419
        },
        "id": "DGl_XY8ua-Bf",
        "outputId": "2e974f0a-b420-44cc-c8c3-684de4b4c454"
      },
      "source": [
        "pd.read_csv(\"foo.csv\")"
      ],
      "execution_count": 319,
      "outputs": [
        {
          "output_type": "execute_result",
          "data": {
            "text/html": [
              "<div>\n",
              "<style scoped>\n",
              "    .dataframe tbody tr th:only-of-type {\n",
              "        vertical-align: middle;\n",
              "    }\n",
              "\n",
              "    .dataframe tbody tr th {\n",
              "        vertical-align: top;\n",
              "    }\n",
              "\n",
              "    .dataframe thead th {\n",
              "        text-align: right;\n",
              "    }\n",
              "</style>\n",
              "<table border=\"1\" class=\"dataframe\">\n",
              "  <thead>\n",
              "    <tr style=\"text-align: right;\">\n",
              "      <th></th>\n",
              "      <th>Unnamed: 0</th>\n",
              "      <th>A</th>\n",
              "      <th>B</th>\n",
              "      <th>C</th>\n",
              "      <th>D</th>\n",
              "    </tr>\n",
              "  </thead>\n",
              "  <tbody>\n",
              "    <tr>\n",
              "      <th>0</th>\n",
              "      <td>2000-01-01</td>\n",
              "      <td>-0.402931</td>\n",
              "      <td>-0.278476</td>\n",
              "      <td>-0.497106</td>\n",
              "      <td>-0.446404</td>\n",
              "    </tr>\n",
              "    <tr>\n",
              "      <th>1</th>\n",
              "      <td>2000-01-02</td>\n",
              "      <td>-1.030267</td>\n",
              "      <td>0.166776</td>\n",
              "      <td>-0.410421</td>\n",
              "      <td>0.440148</td>\n",
              "    </tr>\n",
              "    <tr>\n",
              "      <th>2</th>\n",
              "      <td>2000-01-03</td>\n",
              "      <td>1.352316</td>\n",
              "      <td>0.807999</td>\n",
              "      <td>-1.668037</td>\n",
              "      <td>0.857359</td>\n",
              "    </tr>\n",
              "    <tr>\n",
              "      <th>3</th>\n",
              "      <td>2000-01-04</td>\n",
              "      <td>2.038029</td>\n",
              "      <td>-0.652780</td>\n",
              "      <td>-2.159497</td>\n",
              "      <td>1.137017</td>\n",
              "    </tr>\n",
              "    <tr>\n",
              "      <th>4</th>\n",
              "      <td>2000-01-05</td>\n",
              "      <td>1.310032</td>\n",
              "      <td>-0.133638</td>\n",
              "      <td>-2.317215</td>\n",
              "      <td>1.265265</td>\n",
              "    </tr>\n",
              "    <tr>\n",
              "      <th>...</th>\n",
              "      <td>...</td>\n",
              "      <td>...</td>\n",
              "      <td>...</td>\n",
              "      <td>...</td>\n",
              "      <td>...</td>\n",
              "    </tr>\n",
              "    <tr>\n",
              "      <th>995</th>\n",
              "      <td>2002-09-22</td>\n",
              "      <td>2.169587</td>\n",
              "      <td>-48.441599</td>\n",
              "      <td>-37.612219</td>\n",
              "      <td>33.666845</td>\n",
              "    </tr>\n",
              "    <tr>\n",
              "      <th>996</th>\n",
              "      <td>2002-09-23</td>\n",
              "      <td>3.523974</td>\n",
              "      <td>-50.103406</td>\n",
              "      <td>-38.190412</td>\n",
              "      <td>33.089829</td>\n",
              "    </tr>\n",
              "    <tr>\n",
              "      <th>997</th>\n",
              "      <td>2002-09-24</td>\n",
              "      <td>3.981880</td>\n",
              "      <td>-51.168623</td>\n",
              "      <td>-37.083955</td>\n",
              "      <td>32.329357</td>\n",
              "    </tr>\n",
              "    <tr>\n",
              "      <th>998</th>\n",
              "      <td>2002-09-25</td>\n",
              "      <td>3.141330</td>\n",
              "      <td>-51.129845</td>\n",
              "      <td>-38.645650</td>\n",
              "      <td>30.853244</td>\n",
              "    </tr>\n",
              "    <tr>\n",
              "      <th>999</th>\n",
              "      <td>2002-09-26</td>\n",
              "      <td>2.600389</td>\n",
              "      <td>-51.831988</td>\n",
              "      <td>-40.134190</td>\n",
              "      <td>31.128711</td>\n",
              "    </tr>\n",
              "  </tbody>\n",
              "</table>\n",
              "<p>1000 rows × 5 columns</p>\n",
              "</div>"
            ],
            "text/plain": [
              "     Unnamed: 0         A          B          C          D\n",
              "0    2000-01-01 -0.402931  -0.278476  -0.497106  -0.446404\n",
              "1    2000-01-02 -1.030267   0.166776  -0.410421   0.440148\n",
              "2    2000-01-03  1.352316   0.807999  -1.668037   0.857359\n",
              "3    2000-01-04  2.038029  -0.652780  -2.159497   1.137017\n",
              "4    2000-01-05  1.310032  -0.133638  -2.317215   1.265265\n",
              "..          ...       ...        ...        ...        ...\n",
              "995  2002-09-22  2.169587 -48.441599 -37.612219  33.666845\n",
              "996  2002-09-23  3.523974 -50.103406 -38.190412  33.089829\n",
              "997  2002-09-24  3.981880 -51.168623 -37.083955  32.329357\n",
              "998  2002-09-25  3.141330 -51.129845 -38.645650  30.853244\n",
              "999  2002-09-26  2.600389 -51.831988 -40.134190  31.128711\n",
              "\n",
              "[1000 rows x 5 columns]"
            ]
          },
          "metadata": {
            "tags": []
          },
          "execution_count": 319
        }
      ]
    },
    {
      "cell_type": "markdown",
      "metadata": {
        "id": "ynRw3NbXQxtD"
      },
      "source": [
        "### HDFS\n",
        "\n",
        "Writing to a HDF5 Store."
      ]
    },
    {
      "cell_type": "code",
      "metadata": {
        "id": "UZtig67CQzru"
      },
      "source": [
        "df.to_hdf(\"foo.h5\", \"df\")"
      ],
      "execution_count": 320,
      "outputs": []
    },
    {
      "cell_type": "markdown",
      "metadata": {
        "id": "fq5CS_JQbI6J"
      },
      "source": [
        "Reading from a HDF5 Store."
      ]
    },
    {
      "cell_type": "code",
      "metadata": {
        "colab": {
          "base_uri": "https://localhost:8080/",
          "height": 419
        },
        "id": "N4_b34orbKvj",
        "outputId": "4371c650-f6ce-43bd-b8d1-55859d3cc2e8"
      },
      "source": [
        "pd.read_hdf(\"foo.h5\", \"df\")"
      ],
      "execution_count": 321,
      "outputs": [
        {
          "output_type": "execute_result",
          "data": {
            "text/html": [
              "<div>\n",
              "<style scoped>\n",
              "    .dataframe tbody tr th:only-of-type {\n",
              "        vertical-align: middle;\n",
              "    }\n",
              "\n",
              "    .dataframe tbody tr th {\n",
              "        vertical-align: top;\n",
              "    }\n",
              "\n",
              "    .dataframe thead th {\n",
              "        text-align: right;\n",
              "    }\n",
              "</style>\n",
              "<table border=\"1\" class=\"dataframe\">\n",
              "  <thead>\n",
              "    <tr style=\"text-align: right;\">\n",
              "      <th></th>\n",
              "      <th>A</th>\n",
              "      <th>B</th>\n",
              "      <th>C</th>\n",
              "      <th>D</th>\n",
              "    </tr>\n",
              "  </thead>\n",
              "  <tbody>\n",
              "    <tr>\n",
              "      <th>2000-01-01</th>\n",
              "      <td>-0.402931</td>\n",
              "      <td>-0.278476</td>\n",
              "      <td>-0.497106</td>\n",
              "      <td>-0.446404</td>\n",
              "    </tr>\n",
              "    <tr>\n",
              "      <th>2000-01-02</th>\n",
              "      <td>-1.030267</td>\n",
              "      <td>0.166776</td>\n",
              "      <td>-0.410421</td>\n",
              "      <td>0.440148</td>\n",
              "    </tr>\n",
              "    <tr>\n",
              "      <th>2000-01-03</th>\n",
              "      <td>1.352316</td>\n",
              "      <td>0.807999</td>\n",
              "      <td>-1.668037</td>\n",
              "      <td>0.857359</td>\n",
              "    </tr>\n",
              "    <tr>\n",
              "      <th>2000-01-04</th>\n",
              "      <td>2.038029</td>\n",
              "      <td>-0.652780</td>\n",
              "      <td>-2.159497</td>\n",
              "      <td>1.137017</td>\n",
              "    </tr>\n",
              "    <tr>\n",
              "      <th>2000-01-05</th>\n",
              "      <td>1.310032</td>\n",
              "      <td>-0.133638</td>\n",
              "      <td>-2.317215</td>\n",
              "      <td>1.265265</td>\n",
              "    </tr>\n",
              "    <tr>\n",
              "      <th>...</th>\n",
              "      <td>...</td>\n",
              "      <td>...</td>\n",
              "      <td>...</td>\n",
              "      <td>...</td>\n",
              "    </tr>\n",
              "    <tr>\n",
              "      <th>2002-09-22</th>\n",
              "      <td>2.169587</td>\n",
              "      <td>-48.441599</td>\n",
              "      <td>-37.612219</td>\n",
              "      <td>33.666845</td>\n",
              "    </tr>\n",
              "    <tr>\n",
              "      <th>2002-09-23</th>\n",
              "      <td>3.523974</td>\n",
              "      <td>-50.103406</td>\n",
              "      <td>-38.190412</td>\n",
              "      <td>33.089829</td>\n",
              "    </tr>\n",
              "    <tr>\n",
              "      <th>2002-09-24</th>\n",
              "      <td>3.981880</td>\n",
              "      <td>-51.168623</td>\n",
              "      <td>-37.083955</td>\n",
              "      <td>32.329357</td>\n",
              "    </tr>\n",
              "    <tr>\n",
              "      <th>2002-09-25</th>\n",
              "      <td>3.141330</td>\n",
              "      <td>-51.129845</td>\n",
              "      <td>-38.645650</td>\n",
              "      <td>30.853244</td>\n",
              "    </tr>\n",
              "    <tr>\n",
              "      <th>2002-09-26</th>\n",
              "      <td>2.600389</td>\n",
              "      <td>-51.831988</td>\n",
              "      <td>-40.134190</td>\n",
              "      <td>31.128711</td>\n",
              "    </tr>\n",
              "  </tbody>\n",
              "</table>\n",
              "<p>1000 rows × 4 columns</p>\n",
              "</div>"
            ],
            "text/plain": [
              "                   A          B          C          D\n",
              "2000-01-01 -0.402931  -0.278476  -0.497106  -0.446404\n",
              "2000-01-02 -1.030267   0.166776  -0.410421   0.440148\n",
              "2000-01-03  1.352316   0.807999  -1.668037   0.857359\n",
              "2000-01-04  2.038029  -0.652780  -2.159497   1.137017\n",
              "2000-01-05  1.310032  -0.133638  -2.317215   1.265265\n",
              "...              ...        ...        ...        ...\n",
              "2002-09-22  2.169587 -48.441599 -37.612219  33.666845\n",
              "2002-09-23  3.523974 -50.103406 -38.190412  33.089829\n",
              "2002-09-24  3.981880 -51.168623 -37.083955  32.329357\n",
              "2002-09-25  3.141330 -51.129845 -38.645650  30.853244\n",
              "2002-09-26  2.600389 -51.831988 -40.134190  31.128711\n",
              "\n",
              "[1000 rows x 4 columns]"
            ]
          },
          "metadata": {
            "tags": []
          },
          "execution_count": 321
        }
      ]
    },
    {
      "cell_type": "markdown",
      "metadata": {
        "id": "pZxjN_ETQzzb"
      },
      "source": [
        "### Excel\n",
        "\n",
        "Writing to an excel file."
      ]
    },
    {
      "cell_type": "code",
      "metadata": {
        "id": "W2sJGIyyQ07Z"
      },
      "source": [
        "df.to_excel(\"foo.xlsx\", sheet_name=\"Sheet1\")"
      ],
      "execution_count": 323,
      "outputs": []
    },
    {
      "cell_type": "markdown",
      "metadata": {
        "id": "fnLwG2SpbP1z"
      },
      "source": [
        "Reading from an excel file."
      ]
    },
    {
      "cell_type": "code",
      "metadata": {
        "colab": {
          "base_uri": "https://localhost:8080/",
          "height": 419
        },
        "id": "hcEyMqfubP9A",
        "outputId": "6e5f578b-9b2b-4108-8c5a-3a6a89504a1d"
      },
      "source": [
        "pd.read_excel(\"foo.xlsx\", \"Sheet1\", index_col=None, na_values=[\"NA\"])"
      ],
      "execution_count": 324,
      "outputs": [
        {
          "output_type": "execute_result",
          "data": {
            "text/html": [
              "<div>\n",
              "<style scoped>\n",
              "    .dataframe tbody tr th:only-of-type {\n",
              "        vertical-align: middle;\n",
              "    }\n",
              "\n",
              "    .dataframe tbody tr th {\n",
              "        vertical-align: top;\n",
              "    }\n",
              "\n",
              "    .dataframe thead th {\n",
              "        text-align: right;\n",
              "    }\n",
              "</style>\n",
              "<table border=\"1\" class=\"dataframe\">\n",
              "  <thead>\n",
              "    <tr style=\"text-align: right;\">\n",
              "      <th></th>\n",
              "      <th>Unnamed: 0</th>\n",
              "      <th>A</th>\n",
              "      <th>B</th>\n",
              "      <th>C</th>\n",
              "      <th>D</th>\n",
              "    </tr>\n",
              "  </thead>\n",
              "  <tbody>\n",
              "    <tr>\n",
              "      <th>0</th>\n",
              "      <td>2000-01-01</td>\n",
              "      <td>-0.402931</td>\n",
              "      <td>-0.278476</td>\n",
              "      <td>-0.497106</td>\n",
              "      <td>-0.446404</td>\n",
              "    </tr>\n",
              "    <tr>\n",
              "      <th>1</th>\n",
              "      <td>2000-01-02</td>\n",
              "      <td>-1.030267</td>\n",
              "      <td>0.166776</td>\n",
              "      <td>-0.410421</td>\n",
              "      <td>0.440148</td>\n",
              "    </tr>\n",
              "    <tr>\n",
              "      <th>2</th>\n",
              "      <td>2000-01-03</td>\n",
              "      <td>1.352316</td>\n",
              "      <td>0.807999</td>\n",
              "      <td>-1.668037</td>\n",
              "      <td>0.857359</td>\n",
              "    </tr>\n",
              "    <tr>\n",
              "      <th>3</th>\n",
              "      <td>2000-01-04</td>\n",
              "      <td>2.038029</td>\n",
              "      <td>-0.652780</td>\n",
              "      <td>-2.159497</td>\n",
              "      <td>1.137017</td>\n",
              "    </tr>\n",
              "    <tr>\n",
              "      <th>4</th>\n",
              "      <td>2000-01-05</td>\n",
              "      <td>1.310032</td>\n",
              "      <td>-0.133638</td>\n",
              "      <td>-2.317215</td>\n",
              "      <td>1.265265</td>\n",
              "    </tr>\n",
              "    <tr>\n",
              "      <th>...</th>\n",
              "      <td>...</td>\n",
              "      <td>...</td>\n",
              "      <td>...</td>\n",
              "      <td>...</td>\n",
              "      <td>...</td>\n",
              "    </tr>\n",
              "    <tr>\n",
              "      <th>995</th>\n",
              "      <td>2002-09-22</td>\n",
              "      <td>2.169587</td>\n",
              "      <td>-48.441599</td>\n",
              "      <td>-37.612219</td>\n",
              "      <td>33.666845</td>\n",
              "    </tr>\n",
              "    <tr>\n",
              "      <th>996</th>\n",
              "      <td>2002-09-23</td>\n",
              "      <td>3.523974</td>\n",
              "      <td>-50.103406</td>\n",
              "      <td>-38.190412</td>\n",
              "      <td>33.089829</td>\n",
              "    </tr>\n",
              "    <tr>\n",
              "      <th>997</th>\n",
              "      <td>2002-09-24</td>\n",
              "      <td>3.981880</td>\n",
              "      <td>-51.168623</td>\n",
              "      <td>-37.083955</td>\n",
              "      <td>32.329357</td>\n",
              "    </tr>\n",
              "    <tr>\n",
              "      <th>998</th>\n",
              "      <td>2002-09-25</td>\n",
              "      <td>3.141330</td>\n",
              "      <td>-51.129845</td>\n",
              "      <td>-38.645650</td>\n",
              "      <td>30.853244</td>\n",
              "    </tr>\n",
              "    <tr>\n",
              "      <th>999</th>\n",
              "      <td>2002-09-26</td>\n",
              "      <td>2.600389</td>\n",
              "      <td>-51.831988</td>\n",
              "      <td>-40.134190</td>\n",
              "      <td>31.128711</td>\n",
              "    </tr>\n",
              "  </tbody>\n",
              "</table>\n",
              "<p>1000 rows × 5 columns</p>\n",
              "</div>"
            ],
            "text/plain": [
              "    Unnamed: 0         A          B          C          D\n",
              "0   2000-01-01 -0.402931  -0.278476  -0.497106  -0.446404\n",
              "1   2000-01-02 -1.030267   0.166776  -0.410421   0.440148\n",
              "2   2000-01-03  1.352316   0.807999  -1.668037   0.857359\n",
              "3   2000-01-04  2.038029  -0.652780  -2.159497   1.137017\n",
              "4   2000-01-05  1.310032  -0.133638  -2.317215   1.265265\n",
              "..         ...       ...        ...        ...        ...\n",
              "995 2002-09-22  2.169587 -48.441599 -37.612219  33.666845\n",
              "996 2002-09-23  3.523974 -50.103406 -38.190412  33.089829\n",
              "997 2002-09-24  3.981880 -51.168623 -37.083955  32.329357\n",
              "998 2002-09-25  3.141330 -51.129845 -38.645650  30.853244\n",
              "999 2002-09-26  2.600389 -51.831988 -40.134190  31.128711\n",
              "\n",
              "[1000 rows x 5 columns]"
            ]
          },
          "metadata": {
            "tags": []
          },
          "execution_count": 324
        }
      ]
    },
    {
      "cell_type": "markdown",
      "metadata": {
        "id": "xsQNZdt8Qbym"
      },
      "source": [
        "## Gotchas\n",
        "\n",
        "If you are attempting to perform an operation you might see an exception like:"
      ]
    },
    {
      "cell_type": "code",
      "metadata": {
        "colab": {
          "base_uri": "https://localhost:8080/",
          "height": 299
        },
        "id": "UCwveNZsQcMW",
        "outputId": "f42b0a97-8989-4bf0-824e-70123483d268"
      },
      "source": [
        "if pd.Series([False, True, False]):\n",
        "  print(\"I was true\")"
      ],
      "execution_count": 325,
      "outputs": [
        {
          "output_type": "error",
          "ename": "ValueError",
          "evalue": "ignored",
          "traceback": [
            "\u001b[0;31m---------------------------------------------------------------------------\u001b[0m",
            "\u001b[0;31mValueError\u001b[0m                                Traceback (most recent call last)",
            "\u001b[0;32m<ipython-input-325-06fa23a4b3e2>\u001b[0m in \u001b[0;36m<module>\u001b[0;34m()\u001b[0m\n\u001b[0;32m----> 1\u001b[0;31m \u001b[0;32mif\u001b[0m \u001b[0mpd\u001b[0m\u001b[0;34m.\u001b[0m\u001b[0mSeries\u001b[0m\u001b[0;34m(\u001b[0m\u001b[0;34m[\u001b[0m\u001b[0;32mFalse\u001b[0m\u001b[0;34m,\u001b[0m \u001b[0;32mTrue\u001b[0m\u001b[0;34m,\u001b[0m \u001b[0;32mFalse\u001b[0m\u001b[0;34m]\u001b[0m\u001b[0;34m)\u001b[0m\u001b[0;34m:\u001b[0m\u001b[0;34m\u001b[0m\u001b[0;34m\u001b[0m\u001b[0m\n\u001b[0m\u001b[1;32m      2\u001b[0m   \u001b[0mprint\u001b[0m\u001b[0;34m(\u001b[0m\u001b[0;34m\"I was true\"\u001b[0m\u001b[0;34m)\u001b[0m\u001b[0;34m\u001b[0m\u001b[0;34m\u001b[0m\u001b[0m\n",
            "\u001b[0;32m/usr/local/lib/python3.7/dist-packages/pandas/core/generic.py\u001b[0m in \u001b[0;36m__nonzero__\u001b[0;34m(self)\u001b[0m\n\u001b[1;32m   1328\u001b[0m     \u001b[0;32mdef\u001b[0m \u001b[0m__nonzero__\u001b[0m\u001b[0;34m(\u001b[0m\u001b[0mself\u001b[0m\u001b[0;34m)\u001b[0m\u001b[0;34m:\u001b[0m\u001b[0;34m\u001b[0m\u001b[0;34m\u001b[0m\u001b[0m\n\u001b[1;32m   1329\u001b[0m         raise ValueError(\n\u001b[0;32m-> 1330\u001b[0;31m             \u001b[0;34mf\"The truth value of a {type(self).__name__} is ambiguous. \"\u001b[0m\u001b[0;34m\u001b[0m\u001b[0;34m\u001b[0m\u001b[0m\n\u001b[0m\u001b[1;32m   1331\u001b[0m             \u001b[0;34m\"Use a.empty, a.bool(), a.item(), a.any() or a.all().\"\u001b[0m\u001b[0;34m\u001b[0m\u001b[0;34m\u001b[0m\u001b[0m\n\u001b[1;32m   1332\u001b[0m         )\n",
            "\u001b[0;31mValueError\u001b[0m: The truth value of a Series is ambiguous. Use a.empty, a.bool(), a.item(), a.any() or a.all()."
          ]
        }
      ]
    },
    {
      "cell_type": "markdown",
      "metadata": {
        "id": "YlYq__RJeU6d"
      },
      "source": [
        "See [Comparisons](https://pandas.pydata.org/pandas-docs/stable/user_guide/basics.html#basics-compare) for an explanation and what to do.\n",
        "\n",
        "See [Gotchas](https://pandas.pydata.org/pandas-docs/stable/user_guide/gotchas.html#gotchas) as well."
      ]
    }
  ]
}